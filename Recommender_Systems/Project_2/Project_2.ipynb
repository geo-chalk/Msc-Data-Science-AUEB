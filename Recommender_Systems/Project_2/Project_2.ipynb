{
 "cells": [
  {
   "cell_type": "code",
   "execution_count": 1,
   "metadata": {
    "collapsed": true
   },
   "outputs": [],
   "source": [
    "import pandas as pd"
   ]
  },
  {
   "cell_type": "code",
   "execution_count": 2,
   "outputs": [
    {
     "data": {
      "text/plain": "   brewery_id  beer_id      username  rating  \\\n0          28       63         Qu3st    4.08   \n1          28       63         BJB13    3.96   \n2          28       63      Mr_Brown    4.10   \n3          28       63  DumbRunner26    3.95   \n4          28       63      lagrluvr    4.23   \n\n                                                text            brewery_name  \\\n0  L: Molten amber mixed with a noon day. S: A co...  Anchor Brewing Company   \n1  12 ounce can poured into a tumbler pint glass....  Anchor Brewing Company   \n2  FtB. Amber/caramel colour, clean. Foam drops q...  Anchor Brewing Company   \n3  Gorgeous amber color with a sticky white head....  Anchor Brewing Company   \n4  Pours a rich amber with a thick, tall beige /t...  Anchor Brewing Company   \n\n                     Country                           Style  Score  \n0  California, United States  California Common / Steam Beer     87  \n1  California, United States  California Common / Steam Beer     87  \n2  California, United States  California Common / Steam Beer     87  \n3  California, United States  California Common / Steam Beer     87  \n4  California, United States  California Common / Steam Beer     87  ",
      "text/html": "<div>\n<style scoped>\n    .dataframe tbody tr th:only-of-type {\n        vertical-align: middle;\n    }\n\n    .dataframe tbody tr th {\n        vertical-align: top;\n    }\n\n    .dataframe thead th {\n        text-align: right;\n    }\n</style>\n<table border=\"1\" class=\"dataframe\">\n  <thead>\n    <tr style=\"text-align: right;\">\n      <th></th>\n      <th>brewery_id</th>\n      <th>beer_id</th>\n      <th>username</th>\n      <th>rating</th>\n      <th>text</th>\n      <th>brewery_name</th>\n      <th>Country</th>\n      <th>Style</th>\n      <th>Score</th>\n    </tr>\n  </thead>\n  <tbody>\n    <tr>\n      <th>0</th>\n      <td>28</td>\n      <td>63</td>\n      <td>Qu3st</td>\n      <td>4.08</td>\n      <td>L: Molten amber mixed with a noon day. S: A co...</td>\n      <td>Anchor Brewing Company</td>\n      <td>California, United States</td>\n      <td>California Common / Steam Beer</td>\n      <td>87</td>\n    </tr>\n    <tr>\n      <th>1</th>\n      <td>28</td>\n      <td>63</td>\n      <td>BJB13</td>\n      <td>3.96</td>\n      <td>12 ounce can poured into a tumbler pint glass....</td>\n      <td>Anchor Brewing Company</td>\n      <td>California, United States</td>\n      <td>California Common / Steam Beer</td>\n      <td>87</td>\n    </tr>\n    <tr>\n      <th>2</th>\n      <td>28</td>\n      <td>63</td>\n      <td>Mr_Brown</td>\n      <td>4.10</td>\n      <td>FtB. Amber/caramel colour, clean. Foam drops q...</td>\n      <td>Anchor Brewing Company</td>\n      <td>California, United States</td>\n      <td>California Common / Steam Beer</td>\n      <td>87</td>\n    </tr>\n    <tr>\n      <th>3</th>\n      <td>28</td>\n      <td>63</td>\n      <td>DumbRunner26</td>\n      <td>3.95</td>\n      <td>Gorgeous amber color with a sticky white head....</td>\n      <td>Anchor Brewing Company</td>\n      <td>California, United States</td>\n      <td>California Common / Steam Beer</td>\n      <td>87</td>\n    </tr>\n    <tr>\n      <th>4</th>\n      <td>28</td>\n      <td>63</td>\n      <td>lagrluvr</td>\n      <td>4.23</td>\n      <td>Pours a rich amber with a thick, tall beige /t...</td>\n      <td>Anchor Brewing Company</td>\n      <td>California, United States</td>\n      <td>California Common / Steam Beer</td>\n      <td>87</td>\n    </tr>\n  </tbody>\n</table>\n</div>"
     },
     "execution_count": 2,
     "metadata": {},
     "output_type": "execute_result"
    }
   ],
   "source": [
    "df = pd.read_csv(r\".\\reviews\\28_63_reviews.csv\")\n",
    "df.head()"
   ],
   "metadata": {
    "collapsed": false
   }
  },
  {
   "cell_type": "code",
   "execution_count": null,
   "outputs": [],
   "source": [],
   "metadata": {
    "collapsed": false
   }
  }
 ],
 "metadata": {
  "kernelspec": {
   "display_name": "Python 3",
   "language": "python",
   "name": "python3"
  },
  "language_info": {
   "codemirror_mode": {
    "name": "ipython",
    "version": 2
   },
   "file_extension": ".py",
   "mimetype": "text/x-python",
   "name": "python",
   "nbconvert_exporter": "python",
   "pygments_lexer": "ipython2",
   "version": "2.7.6"
  }
 },
 "nbformat": 4,
 "nbformat_minor": 0
}
