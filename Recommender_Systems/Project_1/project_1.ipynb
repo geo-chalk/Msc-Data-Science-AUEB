{
 "cells": [
  {
   "cell_type": "markdown",
   "metadata": {},
   "source": []
  },
  {
   "cell_type": "markdown",
   "metadata": {},
   "source": [
    "> Chalkiopoulos Georgios, Electrical and Computer Engineer NTUA <br />\n",
    "> Data Science postgraduate Student <br />\n",
    "> gchalkiopoulos@aueb.gr"
   ]
  },
  {
   "cell_type": "markdown",
   "metadata": {},
   "source": [
    "# Import Libraries"
   ]
  },
  {
   "cell_type": "code",
   "execution_count": 45,
   "metadata": {},
   "outputs": [],
   "source": [
    "from logging import INFO, WARNING, DEBUG, ERROR\n",
    "import pandas as pd\n",
    "import numpy as np\n",
    "from scipy.sparse.linalg import svds\n",
    "\n",
    "# utils\n",
    "from utils import helper_functions\n",
    "from utils import lda\n",
    "from utils import reader\n",
    "from utils.Loggers import BaseLogger\n",
    "from utils import svd"
   ]
  },
  {
   "cell_type": "markdown",
   "source": [
    "# Set Logging level"
   ],
   "metadata": {
    "collapsed": false
   }
  },
  {
   "cell_type": "code",
   "execution_count": 2,
   "outputs": [],
   "source": [
    "BaseLogger.level = INFO"
   ],
   "metadata": {
    "collapsed": false
   }
  },
  {
   "cell_type": "markdown",
   "metadata": {},
   "source": [
    "# Read data"
   ]
  },
  {
   "cell_type": "code",
   "execution_count": 3,
   "metadata": {},
   "outputs": [
    {
     "name": "stderr",
     "output_type": "stream",
     "text": [
      "[2023-03-04 19:10:58,907] INFO [ReviewReader] - Loading beer_reviews.csv\n",
      "[2023-03-04 19:11:06,287] INFO [ReviewReader] - 300000 reviews loaded.\n",
      "[2023-03-04 19:11:12,490] INFO [ReviewReader] - 600000 reviews loaded.\n",
      "[2023-03-04 19:11:18,856] INFO [ReviewReader] - 900000 reviews loaded.\n",
      "[2023-03-04 19:11:25,028] INFO [ReviewReader] - 1200000 reviews loaded.\n",
      "[2023-03-04 19:11:31,426] INFO [ReviewReader] - 1500000 reviews loaded.\n",
      "[2023-03-04 19:11:33,258] INFO [ReviewReader] - All reviews loaded. Total reviews: 1586614\n"
     ]
    }
   ],
   "source": [
    "file_path: str = \"beer_reviews.csv\"\n",
    "reader = reader.ReviewReader(file_path=file_path)\n",
    "reviews: pd.DataFrame = reader.read_reviews()"
   ]
  },
  {
   "cell_type": "code",
   "execution_count": 4,
   "metadata": {
    "scrolled": true
   },
   "outputs": [
    {
     "name": "stdout",
     "output_type": "stream",
     "text": [
      "Shape:  (1399623, 12)\n"
     ]
    },
    {
     "data": {
      "text/plain": "    user_id    user_name  beer_id      beer_name   beer_style  review_overall  \\\n10        7      fodeeoz      436   Amstel Light  Light Lager             3.0   \n18       15       jdhilt      436   Amstel Light  Light Lager             2.5   \n19       16  UCLABrewN84    58046  Rauch Ür Bock    Rauchbier             4.5   \n20       17   zaphodchak    58046  Rauch Ür Bock    Rauchbier             4.0   \n21       18      Tilley4    58046  Rauch Ür Bock    Rauchbier             4.0   \n\n    review_aroma  review_appearance review_taste review_palate brewery_id  \\\n10           2.0                3.0          2.5           2.5        163   \n18           3.0                3.0          2.0           2.0        163   \n19           4.5                3.0          4.5           4.0       1075   \n20           4.0                4.0          4.0           3.0       1075   \n21           4.5                4.0          4.0           3.5       1075   \n\n   rating  \n10      A  \n18      A  \n19      P  \n20      P  \n21      P  ",
      "text/html": "<div>\n<style scoped>\n    .dataframe tbody tr th:only-of-type {\n        vertical-align: middle;\n    }\n\n    .dataframe tbody tr th {\n        vertical-align: top;\n    }\n\n    .dataframe thead th {\n        text-align: right;\n    }\n</style>\n<table border=\"1\" class=\"dataframe\">\n  <thead>\n    <tr style=\"text-align: right;\">\n      <th></th>\n      <th>user_id</th>\n      <th>user_name</th>\n      <th>beer_id</th>\n      <th>beer_name</th>\n      <th>beer_style</th>\n      <th>review_overall</th>\n      <th>review_aroma</th>\n      <th>review_appearance</th>\n      <th>review_taste</th>\n      <th>review_palate</th>\n      <th>brewery_id</th>\n      <th>rating</th>\n    </tr>\n  </thead>\n  <tbody>\n    <tr>\n      <th>10</th>\n      <td>7</td>\n      <td>fodeeoz</td>\n      <td>436</td>\n      <td>Amstel Light</td>\n      <td>Light Lager</td>\n      <td>3.0</td>\n      <td>2.0</td>\n      <td>3.0</td>\n      <td>2.5</td>\n      <td>2.5</td>\n      <td>163</td>\n      <td>A</td>\n    </tr>\n    <tr>\n      <th>18</th>\n      <td>15</td>\n      <td>jdhilt</td>\n      <td>436</td>\n      <td>Amstel Light</td>\n      <td>Light Lager</td>\n      <td>2.5</td>\n      <td>3.0</td>\n      <td>3.0</td>\n      <td>2.0</td>\n      <td>2.0</td>\n      <td>163</td>\n      <td>A</td>\n    </tr>\n    <tr>\n      <th>19</th>\n      <td>16</td>\n      <td>UCLABrewN84</td>\n      <td>58046</td>\n      <td>Rauch Ür Bock</td>\n      <td>Rauchbier</td>\n      <td>4.5</td>\n      <td>4.5</td>\n      <td>3.0</td>\n      <td>4.5</td>\n      <td>4.0</td>\n      <td>1075</td>\n      <td>P</td>\n    </tr>\n    <tr>\n      <th>20</th>\n      <td>17</td>\n      <td>zaphodchak</td>\n      <td>58046</td>\n      <td>Rauch Ür Bock</td>\n      <td>Rauchbier</td>\n      <td>4.0</td>\n      <td>4.0</td>\n      <td>4.0</td>\n      <td>4.0</td>\n      <td>3.0</td>\n      <td>1075</td>\n      <td>P</td>\n    </tr>\n    <tr>\n      <th>21</th>\n      <td>18</td>\n      <td>Tilley4</td>\n      <td>58046</td>\n      <td>Rauch Ür Bock</td>\n      <td>Rauchbier</td>\n      <td>4.0</td>\n      <td>4.5</td>\n      <td>4.0</td>\n      <td>4.0</td>\n      <td>3.5</td>\n      <td>1075</td>\n      <td>P</td>\n    </tr>\n  </tbody>\n</table>\n</div>"
     },
     "execution_count": 4,
     "metadata": {},
     "output_type": "execute_result"
    }
   ],
   "source": [
    "print(\"Shape: \", reviews.shape)\n",
    "reviews.head()"
   ]
  },
  {
   "cell_type": "markdown",
   "source": [
    "## Item-Based and User-Based Recommendations with Hashing\n",
    "\n",
    "* Due to the size of the data, we will use Hashing in order to be able to perform calculations"
   ],
   "metadata": {
    "collapsed": false
   }
  },
  {
   "cell_type": "code",
   "execution_count": 5,
   "outputs": [
    {
     "name": "stderr",
     "output_type": "stream",
     "text": [
      "[2023-03-04 19:12:21,536] INFO [BaseLogger] - Trying to load indexer_usr_subset_test.pkl file.\n",
      "[2023-03-04 19:12:21,537] WARNING [BaseLogger] - indexer_usr_subset_test.pkl file doesn't exist. Proceeding to calculate.\n"
     ]
    },
    {
     "name": "stdout",
     "output_type": "stream",
     "text": [
      "Data loaded\n",
      "Loading ratings: [████████████████████████████████████████████████████████████] 10596/10596\r\n",
      "\n",
      "user ratings processed\n",
      "10500 out of 10596 entities indexed.\r"
     ]
    },
    {
     "name": "stderr",
     "output_type": "stream",
     "text": [
      "[2023-03-04 19:15:17,755] INFO [BaseLogger] - Saving indexer_usr_subset_test.pkl file.\n"
     ]
    },
    {
     "name": "stdout",
     "output_type": "stream",
     "text": [
      "usr-based index created\n"
     ]
    },
    {
     "name": "stderr",
     "output_type": "stream",
     "text": [
      "[2023-03-04 19:15:22,077] INFO [BaseLogger] - indexer_usr_subset_test.pkl file saved.\n",
      "[2023-03-04 19:15:22,079] INFO [BaseLogger] - Trying to load indexer_beer_subset_test.pkl file.\n",
      "[2023-03-04 19:15:22,080] WARNING [BaseLogger] - indexer_beer_subset_test.pkl file doesn't exist. Proceeding to calculate.\n"
     ]
    },
    {
     "name": "stdout",
     "output_type": "stream",
     "text": [
      "Data loaded\n",
      "Loading ratings: [████████████████████████████████████████████████████████████] 3929/3929\r\n",
      "\n",
      "beer ratings processed\n",
      "3500 out of 3929 entities indexed.\r"
     ]
    },
    {
     "name": "stderr",
     "output_type": "stream",
     "text": [
      "[2023-03-04 19:16:32,459] INFO [BaseLogger] - Saving indexer_beer_subset_test.pkl file.\n"
     ]
    },
    {
     "name": "stdout",
     "output_type": "stream",
     "text": [
      "beer-based index created\n"
     ]
    },
    {
     "name": "stderr",
     "output_type": "stream",
     "text": [
      "[2023-03-04 19:16:34,865] INFO [BaseLogger] - indexer_beer_subset_test.pkl file saved.\n"
     ]
    }
   ],
   "source": [
    "indexer_user = helper_functions.load_indexer(focus=\"usr\",\n",
    "                             reviews=reader.train, beer_id_col='beer_id', user_id_col='user_id',\n",
    "                             beer_mapping=reader.beer_mapping, user_mapping=reader.user_mapping,\n",
    "                             indexer_path=\"indexer_usr_subset_test.pkl\"\n",
    "                            )\n",
    "\n",
    "indexer_beer = helper_functions.load_indexer(focus=\"beer\",\n",
    "                             reviews=reader.train, beer_id_col='beer_id', user_id_col='user_id',\n",
    "                             beer_mapping=reader.beer_mapping, user_mapping=reader.user_mapping,\n",
    "                             indexer_path=\"indexer_beer_subset_test.pkl\"\n",
    "                            )"
   ],
   "metadata": {
    "collapsed": false
   }
  },
  {
   "cell_type": "code",
   "execution_count": 10,
   "outputs": [
    {
     "name": "stdout",
     "output_type": "stream",
     "text": [
      "\n",
      "I suggest the following beers because they have received positive ratings\n",
      "from users who tend to like what you like:\n",
      "\n",
      "15881 Tröegs Nugget Nectar 27.07\n",
      "21822 Founders Imperial Stout 25.81\n",
      "33644 B.O.R.I.S. The Crusher Oatmeal-Imperial Stout 24.27\n",
      "5441 Founders Centennial IPA 23.89\n",
      "34146 Founders Double Trouble 20.92\n",
      "7348 Founders Porter 20.52\n",
      "6368 Masala Mama India Pale Ale 19.36\n",
      "30288 Double Simcoe IPA 18.86\n",
      "3635 La Terrible 18.78\n",
      "35036 Founders Backwoods Bastard 18.57\n",
      "\n",
      "\n",
      "Positive ratio: 73.21%\n",
      "Already Rated number of beers: 56\n"
     ]
    }
   ],
   "source": [
    "already_rated = helper_functions.recommend_ub(indexer_user, user=10, rec_num=10, verbose=1)\n",
    "\n",
    "print(\"\\n\\nPositive ratio:\", f'{list(already_rated.values()).count(\"P\")/len(already_rated.values())*100:.2f}%')\n",
    "print(\"Already Rated number of beers:\", f'{len(already_rated.values())}')"
   ],
   "metadata": {
    "collapsed": false
   }
  },
  {
   "cell_type": "code",
   "execution_count": 11,
   "outputs": [
    {
     "name": "stdout",
     "output_type": "stream",
     "text": [
      "\n",
      "I suggest the following beers because they are similar to the beers you already like:\n",
      "\n",
      "\n",
      " 21822 Founders Imperial Stout 10.09\n",
      "\n",
      " 5441 Founders Centennial IPA 9.82\n",
      "\n",
      " 33644 B.O.R.I.S. The Crusher Oatmeal-Imperial Stout 9.58\n",
      "\n",
      " 15881 Tröegs Nugget Nectar 9.12\n",
      "\n",
      " 30288 Double Simcoe IPA 8.01\n",
      "\n",
      " 7348 Founders Porter 7.92\n",
      "\n",
      " 8023 Siberian Night Imperial Stout 7.91\n",
      "\n",
      " 6368 Masala Mama India Pale Ale 7.82\n",
      "\n",
      " 34146 Founders Double Trouble 7.78\n",
      "\n",
      " 7463 Founders Dirty Bastard 7.24\n",
      "\n",
      "\n",
      "Positive ratio: 76.00%\n",
      "Already Rated number of beers: 50\n"
     ]
    }
   ],
   "source": [
    "already_rated = helper_functions.recommend_mb(indexer_beer, user=10, rec_num=10, verbose=1)\n",
    "\n",
    "print(\"\\n\\nPositive ratio:\", f'{list(already_rated.values()).count(\"P\")/len(already_rated.values())*100:.2f}%')\n",
    "print(\"Already Rated number of beers:\", f'{len(already_rated.values())}')"
   ],
   "metadata": {
    "collapsed": false
   }
  },
  {
   "cell_type": "markdown",
   "source": [
    "# LDA"
   ],
   "metadata": {
    "collapsed": false
   }
  },
  {
   "cell_type": "code",
   "execution_count": 12,
   "outputs": [
    {
     "name": "stderr",
     "output_type": "stream",
     "text": [
      "[2023-03-04 19:20:07,823] INFO [BaseLogger] - Creating list of reviews per user.\n",
      "[2023-03-04 19:20:17,154] INFO [BaseLogger] - Creating User docs.\n",
      "[2023-03-04 19:20:17,159] INFO [BaseLogger] - Docs created.\n"
     ]
    },
    {
     "name": "stdout",
     "output_type": "stream",
     "text": [
      "Number of users: 10707\n"
     ]
    }
   ],
   "source": [
    "\n",
    "\n",
    "# list of reviews (beer_id+rating) per user\n",
    "BaseLogger().logger.info(\"Creating list of reviews per user.\")\n",
    "reviews_user = reviews[[\"user_id\", \"beer_id\", \"rating\"]].groupby('user_id').apply(lambda x: list(x['beer_id'].astype(str).str.cat(x['rating'])))\n",
    "\n",
    "print(\"Number of users:\", reviews_user.shape[0])\n",
    "reviews_user.head()\n",
    "\n",
    "BaseLogger().logger.info(\"Creating User docs.\")\n",
    "docs: dict = dict(zip(reviews_user.index, reviews_user.values))\n",
    "BaseLogger().logger.info(\"Docs created.\")"
   ],
   "metadata": {
    "collapsed": false
   }
  },
  {
   "cell_type": "code",
   "execution_count": 14,
   "outputs": [
    {
     "name": "stderr",
     "output_type": "stream",
     "text": [
      "[2023-03-04 19:21:46,644] INFO [BaseLogger] - Iteration: 0\tLog-likelihood: -9.507766652569602\tk: 3\n",
      "[2023-03-04 19:21:47,175] INFO [BaseLogger] - Iteration: 20\tLog-likelihood: -9.42487249723757\tk: 3\n",
      "[2023-03-04 19:21:47,632] INFO [BaseLogger] - Iteration: 40\tLog-likelihood: -9.39951295040399\tk: 3\n",
      "[2023-03-04 19:21:48,073] INFO [BaseLogger] - Iteration: 60\tLog-likelihood: -9.388558425373347\tk: 3\n",
      "[2023-03-04 19:21:48,507] INFO [BaseLogger] - Iteration: 80\tLog-likelihood: -9.383892648196417\tk: 3\n",
      "[2023-03-04 19:21:48,930] INFO [BaseLogger] - Iteration: 100\tLog-likelihood: -9.381045812750724\tk: 3\n",
      "[2023-03-04 19:21:49,356] INFO [BaseLogger] - Iteration: 120\tLog-likelihood: -9.380649582809836\tk: 3\n",
      "[2023-03-04 19:21:49,781] INFO [BaseLogger] - Iteration: 140\tLog-likelihood: -9.380847096122544\tk: 3\n",
      "[2023-03-04 19:21:50,216] INFO [BaseLogger] - Iteration: 160\tLog-likelihood: -9.381494160803975\tk: 3\n",
      "[2023-03-04 19:21:50,631] INFO [BaseLogger] - Iteration: 180\tLog-likelihood: -9.381604493704442\tk: 3\n",
      "[2023-03-04 19:21:51,058] INFO [BaseLogger] - Iteration: 200\tLog-likelihood: -9.381674663408406\tk: 3\n",
      "[2023-03-04 19:21:51,488] INFO [BaseLogger] - Iteration: 220\tLog-likelihood: -9.382317381289068\tk: 3\n",
      "[2023-03-04 19:21:51,903] INFO [BaseLogger] - Iteration: 240\tLog-likelihood: -9.382839124622643\tk: 3\n",
      "[2023-03-04 19:21:52,315] INFO [BaseLogger] - Iteration: 260\tLog-likelihood: -9.383752493796926\tk: 3\n",
      "[2023-03-04 19:21:52,751] INFO [BaseLogger] - Iteration: 280\tLog-likelihood: -9.383828405904385\tk: 3\n",
      "[2023-03-04 19:21:53,179] INFO [BaseLogger] - Iteration: 300\tLog-likelihood: -9.384848664204279\tk: 3\n",
      "[2023-03-04 19:21:53,603] INFO [BaseLogger] - Iteration: 320\tLog-likelihood: -9.384478128054987\tk: 3\n",
      "[2023-03-04 19:21:54,022] INFO [BaseLogger] - Iteration: 340\tLog-likelihood: -9.38504387457773\tk: 3\n",
      "[2023-03-04 19:21:54,426] INFO [BaseLogger] - Iteration: 360\tLog-likelihood: -9.384077955780796\tk: 3\n",
      "[2023-03-04 19:21:54,851] INFO [BaseLogger] - Iteration: 380\tLog-likelihood: -9.38320093521279\tk: 3\n",
      "[2023-03-04 19:21:55,268] INFO [BaseLogger] - Iteration: 400\tLog-likelihood: -9.38540138593955\tk: 3\n",
      "[2023-03-04 19:21:55,675] INFO [BaseLogger] - Iteration: 420\tLog-likelihood: -9.38503355422212\tk: 3\n",
      "[2023-03-04 19:21:56,075] INFO [BaseLogger] - Iteration: 440\tLog-likelihood: -9.385205012755655\tk: 3\n",
      "[2023-03-04 19:21:56,469] INFO [BaseLogger] - Iteration: 460\tLog-likelihood: -9.386319565582506\tk: 3\n",
      "[2023-03-04 19:21:56,871] INFO [BaseLogger] - Iteration: 480\tLog-likelihood: -9.385544803362542\tk: 3\n",
      "[2023-03-04 19:21:57,925] INFO [BaseLogger] - Iteration: 0\tLog-likelihood: -9.665742633294883\tk: 5\n",
      "[2023-03-04 19:21:58,399] INFO [BaseLogger] - Iteration: 20\tLog-likelihood: -9.532099855408001\tk: 5\n",
      "[2023-03-04 19:21:58,879] INFO [BaseLogger] - Iteration: 40\tLog-likelihood: -9.487412134134283\tk: 5\n",
      "[2023-03-04 19:21:59,367] INFO [BaseLogger] - Iteration: 60\tLog-likelihood: -9.466059661676885\tk: 5\n",
      "[2023-03-04 19:21:59,857] INFO [BaseLogger] - Iteration: 80\tLog-likelihood: -9.457106689336324\tk: 5\n",
      "[2023-03-04 19:22:00,361] INFO [BaseLogger] - Iteration: 100\tLog-likelihood: -9.45188374354754\tk: 5\n",
      "[2023-03-04 19:22:00,846] INFO [BaseLogger] - Iteration: 120\tLog-likelihood: -9.448215683782344\tk: 5\n",
      "[2023-03-04 19:22:01,350] INFO [BaseLogger] - Iteration: 140\tLog-likelihood: -9.444428440681252\tk: 5\n",
      "[2023-03-04 19:22:01,841] INFO [BaseLogger] - Iteration: 160\tLog-likelihood: -9.442997476647182\tk: 5\n",
      "[2023-03-04 19:22:02,328] INFO [BaseLogger] - Iteration: 180\tLog-likelihood: -9.442971386087391\tk: 5\n",
      "[2023-03-04 19:22:02,822] INFO [BaseLogger] - Iteration: 200\tLog-likelihood: -9.442146271901525\tk: 5\n",
      "[2023-03-04 19:22:03,329] INFO [BaseLogger] - Iteration: 220\tLog-likelihood: -9.4405293794852\tk: 5\n",
      "[2023-03-04 19:22:03,831] INFO [BaseLogger] - Iteration: 240\tLog-likelihood: -9.439562770623404\tk: 5\n",
      "[2023-03-04 19:22:04,329] INFO [BaseLogger] - Iteration: 260\tLog-likelihood: -9.43649028415285\tk: 5\n",
      "[2023-03-04 19:22:04,839] INFO [BaseLogger] - Iteration: 280\tLog-likelihood: -9.434428390464937\tk: 5\n",
      "[2023-03-04 19:22:05,343] INFO [BaseLogger] - Iteration: 300\tLog-likelihood: -9.432584125246784\tk: 5\n",
      "[2023-03-04 19:22:05,845] INFO [BaseLogger] - Iteration: 320\tLog-likelihood: -9.429100754592127\tk: 5\n",
      "[2023-03-04 19:22:06,361] INFO [BaseLogger] - Iteration: 340\tLog-likelihood: -9.429129773148206\tk: 5\n",
      "[2023-03-04 19:22:06,877] INFO [BaseLogger] - Iteration: 360\tLog-likelihood: -9.426620623847985\tk: 5\n",
      "[2023-03-04 19:22:07,390] INFO [BaseLogger] - Iteration: 380\tLog-likelihood: -9.427155705787888\tk: 5\n",
      "[2023-03-04 19:22:07,906] INFO [BaseLogger] - Iteration: 400\tLog-likelihood: -9.426930676610631\tk: 5\n",
      "[2023-03-04 19:22:08,427] INFO [BaseLogger] - Iteration: 420\tLog-likelihood: -9.42722170799374\tk: 5\n",
      "[2023-03-04 19:22:08,944] INFO [BaseLogger] - Iteration: 440\tLog-likelihood: -9.425051123530757\tk: 5\n",
      "[2023-03-04 19:22:09,451] INFO [BaseLogger] - Iteration: 460\tLog-likelihood: -9.427447132687627\tk: 5\n",
      "[2023-03-04 19:22:09,956] INFO [BaseLogger] - Iteration: 480\tLog-likelihood: -9.424871322880408\tk: 5\n"
     ]
    },
    {
     "name": "stdout",
     "output_type": "stream",
     "text": [
      "Best Model: k=3, iterations=120, Log-likelihood=-9.38\n"
     ]
    }
   ],
   "source": [
    "groups = lda.setup_LDA(docs=docs, k_range=(3, 7), k_step=2,\n",
    "                   iteration_range=(0, 500), iterations_step=20,\n",
    "                   top_n=100, reviews=reviews, verbose=0)"
   ],
   "metadata": {
    "collapsed": false
   }
  },
  {
   "cell_type": "code",
   "execution_count": 17,
   "outputs": [
    {
     "name": "stdout",
     "output_type": "stream",
     "text": [
      "Group: 1\n",
      "Positive ratio: 50.00%\n",
      "Already Rated number of beers: 4\n",
      "\n",
      "Group: 2\n",
      "Positive ratio: 77.78%\n",
      "Already Rated number of beers: 9\n",
      "\n",
      "Group: 3\n",
      "Positive ratio: 100.00%\n",
      "Already Rated number of beers: 2\n",
      "\n",
      "Best Recommendations\n",
      "\n",
      "7971  : Pliny The Elder\n",
      "17112 : Bell's Hopslam Ale\n",
      "34483 : Ten FIDY\n",
      "34420 : The Abyss\n",
      "29619 : Sculpin India Pale Ale\n",
      "10672 : Bourbon County Brand Stout\n",
      "15881 : Tröegs Nugget Nectar\n",
      "35738 : Hop Stoopid\n",
      "28203 : Furious\n",
      "1093  : Two Hearted Ale\n"
     ]
    }
   ],
   "source": [
    "best_recommendations = lda.recommend_lda(groups=groups, user=10, rec_num=10, _user_ratings=indexer_user.user_ratings, _beer_mapping=reader.beer_mapping)\n",
    "\n",
    "print(\"Best Recommendations\\n\")\n",
    "for beer_id, beer in best_recommendations:\n",
    "    print(f\"{beer_id:<6}: {beer}\")"
   ],
   "metadata": {
    "collapsed": false
   }
  },
  {
   "cell_type": "markdown",
   "source": [
    "# Model Based"
   ],
   "metadata": {
    "collapsed": false
   }
  },
  {
   "cell_type": "code",
   "execution_count": 49,
   "outputs": [
    {
     "name": "stdout",
     "output_type": "stream",
     "text": [
      "1 0.5749482085053034\n",
      "51 0.5621308443837764\n",
      "101 0.5707728964123\n",
      "151 0.5783694398844864\n",
      "201 0.5857972296143055\n",
      "251 0.5863823845452202\n"
     ]
    },
    {
     "ename": "KeyboardInterrupt",
     "evalue": "",
     "output_type": "error",
     "traceback": [
      "\u001B[1;31m---------------------------------------------------------------------------\u001B[0m",
      "\u001B[1;31mKeyboardInterrupt\u001B[0m                         Traceback (most recent call last)",
      "\u001B[1;32mC:\\Users\\JOJOSH~1\\AppData\\Local\\Temp/ipykernel_4460/348490024.py\u001B[0m in \u001B[0;36m<module>\u001B[1;34m\u001B[0m\n\u001B[0;32m     19\u001B[0m \u001B[1;33m\u001B[0m\u001B[0m\n\u001B[0;32m     20\u001B[0m     \u001B[1;31m#perform svd with k singular values (features)\u001B[0m\u001B[1;33m\u001B[0m\u001B[1;33m\u001B[0m\u001B[1;33m\u001B[0m\u001B[0m\n\u001B[1;32m---> 21\u001B[1;33m     \u001B[0mU\u001B[0m\u001B[1;33m,\u001B[0m \u001B[0msigma\u001B[0m\u001B[1;33m,\u001B[0m \u001B[0mVt\u001B[0m \u001B[1;33m=\u001B[0m \u001B[0msvds\u001B[0m\u001B[1;33m(\u001B[0m\u001B[0mratings_np_centered\u001B[0m\u001B[1;33m,\u001B[0m \u001B[0mk\u001B[0m \u001B[1;33m=\u001B[0m \u001B[0mk\u001B[0m\u001B[1;33m)\u001B[0m\u001B[1;33m\u001B[0m\u001B[1;33m\u001B[0m\u001B[0m\n\u001B[0m\u001B[0;32m     22\u001B[0m     \u001B[0msigma\u001B[0m \u001B[1;33m=\u001B[0m \u001B[0mnp\u001B[0m\u001B[1;33m.\u001B[0m\u001B[0mdiag\u001B[0m\u001B[1;33m(\u001B[0m\u001B[0msigma\u001B[0m\u001B[1;33m)\u001B[0m\u001B[1;33m\u001B[0m\u001B[1;33m\u001B[0m\u001B[0m\n\u001B[0;32m     23\u001B[0m \u001B[1;33m\u001B[0m\u001B[0m\n",
      "\u001B[1;32m~\\AppData\\Roaming\\Python\\Python37\\site-packages\\scipy\\sparse\\linalg\\eigen\\arpack\\arpack.py\u001B[0m in \u001B[0;36msvds\u001B[1;34m(A, k, ncv, tol, which, v0, maxiter, return_singular_vectors, solver)\u001B[0m\n\u001B[0;32m   1865\u001B[0m     \u001B[1;32melif\u001B[0m \u001B[0msolver\u001B[0m \u001B[1;33m==\u001B[0m \u001B[1;34m'arpack'\u001B[0m \u001B[1;32mor\u001B[0m \u001B[0msolver\u001B[0m \u001B[1;32mis\u001B[0m \u001B[1;32mNone\u001B[0m\u001B[1;33m:\u001B[0m\u001B[1;33m\u001B[0m\u001B[1;33m\u001B[0m\u001B[0m\n\u001B[0;32m   1866\u001B[0m         eigvals, eigvec = eigsh(XH_X, k=k, tol=tol ** 2, maxiter=maxiter,\n\u001B[1;32m-> 1867\u001B[1;33m                                 ncv=ncv, which=which, v0=v0)\n\u001B[0m\u001B[0;32m   1868\u001B[0m \u001B[1;33m\u001B[0m\u001B[0m\n\u001B[0;32m   1869\u001B[0m     \u001B[1;32melse\u001B[0m\u001B[1;33m:\u001B[0m\u001B[1;33m\u001B[0m\u001B[1;33m\u001B[0m\u001B[0m\n",
      "\u001B[1;32m~\\AppData\\Roaming\\Python\\Python37\\site-packages\\scipy\\sparse\\linalg\\eigen\\arpack\\arpack.py\u001B[0m in \u001B[0;36meigsh\u001B[1;34m(A, k, M, sigma, which, v0, ncv, maxiter, tol, return_eigenvectors, Minv, OPinv, mode)\u001B[0m\n\u001B[0;32m   1685\u001B[0m     \u001B[1;32mwith\u001B[0m \u001B[0m_ARPACK_LOCK\u001B[0m\u001B[1;33m:\u001B[0m\u001B[1;33m\u001B[0m\u001B[1;33m\u001B[0m\u001B[0m\n\u001B[0;32m   1686\u001B[0m         \u001B[1;32mwhile\u001B[0m \u001B[1;32mnot\u001B[0m \u001B[0mparams\u001B[0m\u001B[1;33m.\u001B[0m\u001B[0mconverged\u001B[0m\u001B[1;33m:\u001B[0m\u001B[1;33m\u001B[0m\u001B[1;33m\u001B[0m\u001B[0m\n\u001B[1;32m-> 1687\u001B[1;33m             \u001B[0mparams\u001B[0m\u001B[1;33m.\u001B[0m\u001B[0miterate\u001B[0m\u001B[1;33m(\u001B[0m\u001B[1;33m)\u001B[0m\u001B[1;33m\u001B[0m\u001B[1;33m\u001B[0m\u001B[0m\n\u001B[0m\u001B[0;32m   1688\u001B[0m \u001B[1;33m\u001B[0m\u001B[0m\n\u001B[0;32m   1689\u001B[0m         \u001B[1;32mreturn\u001B[0m \u001B[0mparams\u001B[0m\u001B[1;33m.\u001B[0m\u001B[0mextract\u001B[0m\u001B[1;33m(\u001B[0m\u001B[0mreturn_eigenvectors\u001B[0m\u001B[1;33m)\u001B[0m\u001B[1;33m\u001B[0m\u001B[1;33m\u001B[0m\u001B[0m\n",
      "\u001B[1;32m~\\AppData\\Roaming\\Python\\Python37\\site-packages\\scipy\\sparse\\linalg\\eigen\\arpack\\arpack.py\u001B[0m in \u001B[0;36miterate\u001B[1;34m(self)\u001B[0m\n\u001B[0;32m    547\u001B[0m             \u001B[1;31m# compute y = Op*x\u001B[0m\u001B[1;33m\u001B[0m\u001B[1;33m\u001B[0m\u001B[1;33m\u001B[0m\u001B[0m\n\u001B[0;32m    548\u001B[0m             \u001B[1;32mif\u001B[0m \u001B[0mself\u001B[0m\u001B[1;33m.\u001B[0m\u001B[0mmode\u001B[0m \u001B[1;33m==\u001B[0m \u001B[1;36m1\u001B[0m\u001B[1;33m:\u001B[0m\u001B[1;33m\u001B[0m\u001B[1;33m\u001B[0m\u001B[0m\n\u001B[1;32m--> 549\u001B[1;33m                 \u001B[0mself\u001B[0m\u001B[1;33m.\u001B[0m\u001B[0mworkd\u001B[0m\u001B[1;33m[\u001B[0m\u001B[0myslice\u001B[0m\u001B[1;33m]\u001B[0m \u001B[1;33m=\u001B[0m \u001B[0mself\u001B[0m\u001B[1;33m.\u001B[0m\u001B[0mOP\u001B[0m\u001B[1;33m(\u001B[0m\u001B[0mself\u001B[0m\u001B[1;33m.\u001B[0m\u001B[0mworkd\u001B[0m\u001B[1;33m[\u001B[0m\u001B[0mxslice\u001B[0m\u001B[1;33m]\u001B[0m\u001B[1;33m)\u001B[0m\u001B[1;33m\u001B[0m\u001B[1;33m\u001B[0m\u001B[0m\n\u001B[0m\u001B[0;32m    550\u001B[0m             \u001B[1;32melif\u001B[0m \u001B[0mself\u001B[0m\u001B[1;33m.\u001B[0m\u001B[0mmode\u001B[0m \u001B[1;33m==\u001B[0m \u001B[1;36m2\u001B[0m\u001B[1;33m:\u001B[0m\u001B[1;33m\u001B[0m\u001B[1;33m\u001B[0m\u001B[0m\n\u001B[0;32m    551\u001B[0m                 \u001B[0mself\u001B[0m\u001B[1;33m.\u001B[0m\u001B[0mworkd\u001B[0m\u001B[1;33m[\u001B[0m\u001B[0mxslice\u001B[0m\u001B[1;33m]\u001B[0m \u001B[1;33m=\u001B[0m \u001B[0mself\u001B[0m\u001B[1;33m.\u001B[0m\u001B[0mOPb\u001B[0m\u001B[1;33m(\u001B[0m\u001B[0mself\u001B[0m\u001B[1;33m.\u001B[0m\u001B[0mworkd\u001B[0m\u001B[1;33m[\u001B[0m\u001B[0mxslice\u001B[0m\u001B[1;33m]\u001B[0m\u001B[1;33m)\u001B[0m\u001B[1;33m\u001B[0m\u001B[1;33m\u001B[0m\u001B[0m\n",
      "\u001B[1;32m~\\AppData\\Roaming\\Python\\Python37\\site-packages\\scipy\\sparse\\linalg\\interface.py\u001B[0m in \u001B[0;36mmatvec\u001B[1;34m(self, x)\u001B[0m\n\u001B[0;32m    230\u001B[0m             \u001B[1;32mraise\u001B[0m \u001B[0mValueError\u001B[0m\u001B[1;33m(\u001B[0m\u001B[1;34m'dimension mismatch'\u001B[0m\u001B[1;33m)\u001B[0m\u001B[1;33m\u001B[0m\u001B[1;33m\u001B[0m\u001B[0m\n\u001B[0;32m    231\u001B[0m \u001B[1;33m\u001B[0m\u001B[0m\n\u001B[1;32m--> 232\u001B[1;33m         \u001B[0my\u001B[0m \u001B[1;33m=\u001B[0m \u001B[0mself\u001B[0m\u001B[1;33m.\u001B[0m\u001B[0m_matvec\u001B[0m\u001B[1;33m(\u001B[0m\u001B[0mx\u001B[0m\u001B[1;33m)\u001B[0m\u001B[1;33m\u001B[0m\u001B[1;33m\u001B[0m\u001B[0m\n\u001B[0m\u001B[0;32m    233\u001B[0m \u001B[1;33m\u001B[0m\u001B[0m\n\u001B[0;32m    234\u001B[0m         \u001B[1;32mif\u001B[0m \u001B[0misinstance\u001B[0m\u001B[1;33m(\u001B[0m\u001B[0mx\u001B[0m\u001B[1;33m,\u001B[0m \u001B[0mnp\u001B[0m\u001B[1;33m.\u001B[0m\u001B[0mmatrix\u001B[0m\u001B[1;33m)\u001B[0m\u001B[1;33m:\u001B[0m\u001B[1;33m\u001B[0m\u001B[1;33m\u001B[0m\u001B[0m\n",
      "\u001B[1;32m~\\AppData\\Roaming\\Python\\Python37\\site-packages\\scipy\\sparse\\linalg\\interface.py\u001B[0m in \u001B[0;36m_matvec\u001B[1;34m(self, x)\u001B[0m\n\u001B[0;32m    528\u001B[0m \u001B[1;33m\u001B[0m\u001B[0m\n\u001B[0;32m    529\u001B[0m     \u001B[1;32mdef\u001B[0m \u001B[0m_matvec\u001B[0m\u001B[1;33m(\u001B[0m\u001B[0mself\u001B[0m\u001B[1;33m,\u001B[0m \u001B[0mx\u001B[0m\u001B[1;33m)\u001B[0m\u001B[1;33m:\u001B[0m\u001B[1;33m\u001B[0m\u001B[1;33m\u001B[0m\u001B[0m\n\u001B[1;32m--> 530\u001B[1;33m         \u001B[1;32mreturn\u001B[0m \u001B[0mself\u001B[0m\u001B[1;33m.\u001B[0m\u001B[0m__matvec_impl\u001B[0m\u001B[1;33m(\u001B[0m\u001B[0mx\u001B[0m\u001B[1;33m)\u001B[0m\u001B[1;33m\u001B[0m\u001B[1;33m\u001B[0m\u001B[0m\n\u001B[0m\u001B[0;32m    531\u001B[0m \u001B[1;33m\u001B[0m\u001B[0m\n\u001B[0;32m    532\u001B[0m     \u001B[1;32mdef\u001B[0m \u001B[0m_rmatvec\u001B[0m\u001B[1;33m(\u001B[0m\u001B[0mself\u001B[0m\u001B[1;33m,\u001B[0m \u001B[0mx\u001B[0m\u001B[1;33m)\u001B[0m\u001B[1;33m:\u001B[0m\u001B[1;33m\u001B[0m\u001B[1;33m\u001B[0m\u001B[0m\n",
      "\u001B[1;32m~\\AppData\\Roaming\\Python\\Python37\\site-packages\\scipy\\sparse\\linalg\\eigen\\arpack\\arpack.py\u001B[0m in \u001B[0;36mmatvec_XH_X\u001B[1;34m(x)\u001B[0m\n\u001B[0;32m   1842\u001B[0m \u001B[1;33m\u001B[0m\u001B[0m\n\u001B[0;32m   1843\u001B[0m     \u001B[1;32mdef\u001B[0m \u001B[0mmatvec_XH_X\u001B[0m\u001B[1;33m(\u001B[0m\u001B[0mx\u001B[0m\u001B[1;33m)\u001B[0m\u001B[1;33m:\u001B[0m\u001B[1;33m\u001B[0m\u001B[1;33m\u001B[0m\u001B[0m\n\u001B[1;32m-> 1844\u001B[1;33m         \u001B[1;32mreturn\u001B[0m \u001B[0mXH_dot\u001B[0m\u001B[1;33m(\u001B[0m\u001B[0mX_dot\u001B[0m\u001B[1;33m(\u001B[0m\u001B[0mx\u001B[0m\u001B[1;33m)\u001B[0m\u001B[1;33m)\u001B[0m\u001B[1;33m\u001B[0m\u001B[1;33m\u001B[0m\u001B[0m\n\u001B[0m\u001B[0;32m   1845\u001B[0m \u001B[1;33m\u001B[0m\u001B[0m\n\u001B[0;32m   1846\u001B[0m     \u001B[1;32mdef\u001B[0m \u001B[0mmatmat_XH_X\u001B[0m\u001B[1;33m(\u001B[0m\u001B[0mx\u001B[0m\u001B[1;33m)\u001B[0m\u001B[1;33m:\u001B[0m\u001B[1;33m\u001B[0m\u001B[1;33m\u001B[0m\u001B[0m\n",
      "\u001B[1;31mKeyboardInterrupt\u001B[0m: "
     ]
    }
   ],
   "source": [
    "for k in range(1, 302, 50):\n",
    "    # convert the ratings frame to a user X movies matrix\n",
    "    ratings_matrix = reviews.sort_values(by=[\"user_id\", \"beer_id\"])[[\"user_id\", \"beer_id\", \"review_overall\"]].drop_duplicates().pivot_table(index = 'user_id', columns ='beer_id', values = 'review_overall').fillna(reviews.review_overall.mean())\n",
    "\n",
    "    ratings_matrix.head()\n",
    "\n",
    "    #convert the matrix into an array\n",
    "    ratings_np = ratings_matrix.values\n",
    "    #compute the average rating per user\n",
    "    user_means=np.mean(ratings_np, axis = 1)\n",
    "    #subtract the mean from each rating\n",
    "    ratings_np_centered = ratings_np - user_means.reshape(-1, 1)\n",
    "\n",
    "\n",
    "    #unique user and movie num\n",
    "    user_num = reviews.user_id.unique().shape[0]\n",
    "    movie_num = reviews.beer_id.unique().shape[0]\n",
    "    sparsity = round(1.0 - len(reviews) / float(user_num * movie_num), 3)\n",
    "\n",
    "    #perform svd with k singular values (features)\n",
    "    U, sigma, Vt = svds(ratings_np_centered, k = k)\n",
    "    sigma = np.diag(sigma)\n",
    "\n",
    "    for user in [5, 10, 20, 30]:\n",
    "        try:\n",
    "            print(k, user, svd.validate(user, reviews, U, sigma, Vt, user_means, ratings_matrix))\n",
    "        except:\n",
    "            print(\"user not found\")"
   ],
   "metadata": {
    "collapsed": false
   }
  },
  {
   "cell_type": "code",
   "execution_count": 47,
   "outputs": [
    {
     "data": {
      "text/plain": "         beer_id                     beer_name                    beer_style  \\\n156621       689     Red Stripe Jamaican Lager        American Adjunct Lager   \n661937      2435                        Beck's               German Pilsener   \n1050868      630           Blue Heron Pale Ale       American Pale Ale (APA)   \n1246101      406      ACME California Pale Ale       American Pale Ale (APA)   \n1254548      403           ACME California IPA                  American IPA   \n1054684     4970       White Hawk Original IPA                  American IPA   \n1448674    33609    St. Peter's India Pale Ale  English India Pale Ale (IPA)   \n276553     27243         Atwater Salvation IPA                  American IPA   \n390113     26497  Fleur-de-lis Restoration Ale       American Pale Ale (APA)   \n1000753     1337       Berghoff Famous Red Ale      American Amber / Red Ale   \n\n         predicted_rating  \n156621           5.182655  \n661937           5.136614  \n1050868          5.135503  \n1246101          5.133698  \n1254548          5.131946  \n1054684          5.124118  \n1448674          5.117401  \n276553           5.110951  \n390113           5.107196  \n1000753          5.105890  ",
      "text/html": "<div>\n<style scoped>\n    .dataframe tbody tr th:only-of-type {\n        vertical-align: middle;\n    }\n\n    .dataframe tbody tr th {\n        vertical-align: top;\n    }\n\n    .dataframe thead th {\n        text-align: right;\n    }\n</style>\n<table border=\"1\" class=\"dataframe\">\n  <thead>\n    <tr style=\"text-align: right;\">\n      <th></th>\n      <th>beer_id</th>\n      <th>beer_name</th>\n      <th>beer_style</th>\n      <th>predicted_rating</th>\n    </tr>\n  </thead>\n  <tbody>\n    <tr>\n      <th>156621</th>\n      <td>689</td>\n      <td>Red Stripe Jamaican Lager</td>\n      <td>American Adjunct Lager</td>\n      <td>5.182655</td>\n    </tr>\n    <tr>\n      <th>661937</th>\n      <td>2435</td>\n      <td>Beck's</td>\n      <td>German Pilsener</td>\n      <td>5.136614</td>\n    </tr>\n    <tr>\n      <th>1050868</th>\n      <td>630</td>\n      <td>Blue Heron Pale Ale</td>\n      <td>American Pale Ale (APA)</td>\n      <td>5.135503</td>\n    </tr>\n    <tr>\n      <th>1246101</th>\n      <td>406</td>\n      <td>ACME California Pale Ale</td>\n      <td>American Pale Ale (APA)</td>\n      <td>5.133698</td>\n    </tr>\n    <tr>\n      <th>1254548</th>\n      <td>403</td>\n      <td>ACME California IPA</td>\n      <td>American IPA</td>\n      <td>5.131946</td>\n    </tr>\n    <tr>\n      <th>1054684</th>\n      <td>4970</td>\n      <td>White Hawk Original IPA</td>\n      <td>American IPA</td>\n      <td>5.124118</td>\n    </tr>\n    <tr>\n      <th>1448674</th>\n      <td>33609</td>\n      <td>St. Peter's India Pale Ale</td>\n      <td>English India Pale Ale (IPA)</td>\n      <td>5.117401</td>\n    </tr>\n    <tr>\n      <th>276553</th>\n      <td>27243</td>\n      <td>Atwater Salvation IPA</td>\n      <td>American IPA</td>\n      <td>5.110951</td>\n    </tr>\n    <tr>\n      <th>390113</th>\n      <td>26497</td>\n      <td>Fleur-de-lis Restoration Ale</td>\n      <td>American Pale Ale (APA)</td>\n      <td>5.107196</td>\n    </tr>\n    <tr>\n      <th>1000753</th>\n      <td>1337</td>\n      <td>Berghoff Famous Red Ale</td>\n      <td>American Amber / Red Ale</td>\n      <td>5.105890</td>\n    </tr>\n  </tbody>\n</table>\n</div>"
     },
     "execution_count": 47,
     "metadata": {},
     "output_type": "execute_result"
    }
   ],
   "source": [
    "svd.recommend(uid=5, reviews=reviews,U=U,sigma=sigma,Vt=Vt,user_means=user_means,rec_num=10, ratings_matrix=ratings_matrix)\n"
   ],
   "metadata": {
    "collapsed": false
   }
  },
  {
   "cell_type": "code",
   "execution_count": 48,
   "outputs": [
    {
     "data": {
      "text/plain": "0.9210697086963819"
     },
     "execution_count": 48,
     "metadata": {},
     "output_type": "execute_result"
    }
   ],
   "source": [],
   "metadata": {
    "collapsed": false
   }
  },
  {
   "cell_type": "code",
   "execution_count": 44,
   "outputs": [
    {
     "data": {
      "text/plain": "0.5621307685626032"
     },
     "execution_count": 44,
     "metadata": {},
     "output_type": "execute_result"
    }
   ],
   "source": [
    "svd.validate(5,reviews,U,sigma,Vt,user_means,ratings_matrix)"
   ],
   "metadata": {
    "collapsed": false
   }
  },
  {
   "cell_type": "code",
   "execution_count": null,
   "outputs": [],
   "source": [
    "\n",
    "\n",
    "# Import libraries from Surprise package\n",
    "from surprise import Reader, Dataset, SVD\n",
    "\n",
    "# Load Reader library\n",
    "reader = Reader(rating_scale=(0.5, 5))\n",
    "\n",
    "# Load ratings dataset with Dataset library\n",
    "data = Dataset.load_from_df(reviews[['user_id', 'beer_id', 'review_overall']].drop_duplicates(), reader)"
   ],
   "metadata": {
    "collapsed": false
   }
  },
  {
   "cell_type": "code",
   "execution_count": null,
   "outputs": [],
   "source": [
    "from surprise.model_selection.validation import cross_validate\n",
    "\n",
    "\n",
    "for factors in [10, 25, 50]:\n",
    "    print(factors)\n",
    "    # Use the SVD algorithm.\n",
    "    svd = SVD(n_factors=factors)\n",
    "\n",
    "    # Compute the RMSE of the SVD algorithm.\n",
    "    cross_validate(svd, data, measures=['RMSE'],cv=5,verbose=True)\n",
    "    print(\"done\")"
   ],
   "metadata": {
    "collapsed": false
   }
  },
  {
   "cell_type": "code",
   "execution_count": null,
   "outputs": [],
   "source": [
    "# create a training set\n",
    "trainset = data.build_full_trainset()\n",
    "\n",
    "svd.fit(trainset)# fit the svd"
   ],
   "metadata": {
    "collapsed": false
   }
  },
  {
   "cell_type": "code",
   "execution_count": null,
   "outputs": [],
   "source": [
    "def recommend_surprise(uid:int,\n",
    "              reviews:pd.core.frame.DataFrame,\n",
    "              model,\n",
    "              rec_num:int\n",
    "             ):\n",
    "\n",
    "    #get all the ratings by this user\n",
    "    my_ratings=reviews[[\"user_id\", \"beer_id\", \"review_overall\"]][reviews.user_id==uid]\n",
    "\n",
    "    # beers df\n",
    "    beers_df = reviews[[\"beer_id\", \"beer_name\", \"beer_style\"]].drop_duplicates()\n",
    "\n",
    "    #zip the ratings into a dict\n",
    "    already_rated=dict(zip(my_ratings.beer_id,my_ratings.review_overall))\n",
    "\n",
    "    pred_dict={}# store predicted ratings\n",
    "\n",
    "    for index,row in beers_df.iterrows(): # for every movie\n",
    "\n",
    "        pred_dict[row.beer_id]=model.predict(uid=uid,iid= row.beer_id).est# get the pred for this user\n",
    "\n",
    "    # sort the movies by predicted ratings\n",
    "    srt=sorted(pred_dict.items(),key=lambda x:x[1],reverse=True)\n",
    "\n",
    "    rec_set=set()# set of movie ids to be recommended\n",
    "\n",
    "    for mid,pred in srt: # for each movie id\n",
    "        if mid not in already_rated: # movie has not already been rated\n",
    "\n",
    "            rec_set.add(mid) # add to the set\n",
    "\n",
    "            if len(rec_set)==rec_num:break\n",
    "\n",
    "    # make a data frame with only the recommended movies\n",
    "    rec_df=pd.DataFrame(beers_df[beers_df.beer_id.isin(rec_set)])\n",
    "\n",
    "    #add the predicted rating as a new column\n",
    "    rec_df['predicted_rating']=rec_df['beer_id'].map(pred_dict)\n",
    "\n",
    "    #sort the df by the new col\n",
    "    rec_df=rec_df.sort_values(['predicted_rating'], ascending=False)\n",
    "\n",
    "    return rec_df"
   ],
   "metadata": {
    "collapsed": false
   }
  },
  {
   "cell_type": "code",
   "execution_count": null,
   "outputs": [],
   "source": [
    "recommend_surprise(5,\n",
    "              reviews,\n",
    "              svd,\n",
    "              20\n",
    "             )"
   ],
   "metadata": {
    "collapsed": false
   }
  },
  {
   "cell_type": "code",
   "execution_count": null,
   "outputs": [],
   "source": [
    "def validate(uid:int,\n",
    "              reviews:pd.core.frame.DataFrame,\n",
    "              model\n",
    "             ):\n",
    "\n",
    "    #get all the ratings by this user\n",
    "    my_ratings=reviews[[\"user_id\", \"beer_id\", \"review_overall\"]][reviews.user_id==uid]\n",
    "\n",
    "    # beers df\n",
    "    beers_df = reviews[[\"beer_id\", \"beer_name\", \"beer_style\"]].drop_duplicates()\n",
    "\n",
    "    #zip the ratings into a dict\n",
    "    already_rated=dict(zip(my_ratings.beer_id,my_ratings.review_overall))\n",
    "\n",
    "    pred_dict={}# store predicted ratings\n",
    "\n",
    "    for index,row in beers_df.iterrows(): # for every movie\n",
    "\n",
    "        pred_dict[row.beer_id]=model.predict(uid=uid,iid= row.beer_id).est# get the pred for this user\n",
    "\n",
    "    actual,pred=[],[]\n",
    "    for mid in already_rated: # for each movie id\n",
    "        actual.append(already_rated[mid])\n",
    "        pred.append(pred_dict[mid])\n",
    "\n",
    "    return mean_squared_error(actual,pred,squared=False)"
   ],
   "metadata": {
    "collapsed": false
   }
  },
  {
   "cell_type": "code",
   "execution_count": null,
   "outputs": [],
   "source": [
    "validate(5,\n",
    "          reviews,\n",
    "          svd\n",
    "         )"
   ],
   "metadata": {
    "collapsed": false
   }
  },
  {
   "cell_type": "code",
   "execution_count": null,
   "outputs": [],
   "source": [
    "from surprise.prediction_algorithms.knns import KNNBasic"
   ],
   "metadata": {
    "collapsed": false
   }
  },
  {
   "cell_type": "code",
   "execution_count": null,
   "outputs": [],
   "source": [
    "knn=KNNBasic(k=40, sim_options={'user_based':False,'min_support':5})\n",
    "knn.fit(trainset)# fit the svd"
   ],
   "metadata": {
    "collapsed": false
   }
  },
  {
   "cell_type": "code",
   "execution_count": null,
   "outputs": [],
   "source": [
    "# Compute the RMSE of the KNN algorithm.\n",
    "cross_validate(knn, data, measures=['RMSE'],cv=5,verbose=True)"
   ],
   "metadata": {
    "collapsed": false
   }
  },
  {
   "cell_type": "code",
   "execution_count": null,
   "outputs": [],
   "source": [
    "knn=KNNBasic(k=40, sim_options={'user_based':False,'min_support':5})\n",
    "knn.fit(trainset)# fit the svd"
   ],
   "metadata": {
    "collapsed": false
   }
  },
  {
   "cell_type": "code",
   "execution_count": null,
   "outputs": [],
   "source": [
    "# Compute the RMSE of the KNN algorithm.\n",
    "cross_validate(knn, data, measures=['RMSE'],cv=5,verbose=True)"
   ],
   "metadata": {
    "collapsed": false
   }
  },
  {
   "cell_type": "code",
   "execution_count": null,
   "outputs": [],
   "source": [
    "knn2=KNNBasic(k=40, sim_options={'item_based':False,'min_support':5})\n",
    "knn2.fit(trainset)# fit the svd"
   ],
   "metadata": {
    "collapsed": false
   }
  },
  {
   "cell_type": "code",
   "execution_count": null,
   "outputs": [],
   "source": [
    "# Compute the RMSE of the KNN algorithm.\n",
    "cross_validate(knn2, data, measures=['RMSE'],cv=5,verbose=True)"
   ],
   "metadata": {
    "collapsed": false
   }
  },
  {
   "cell_type": "code",
   "execution_count": null,
   "outputs": [],
   "source": [],
   "metadata": {
    "collapsed": false
   }
  }
 ],
 "metadata": {
  "kernelspec": {
   "display_name": "Python 3 (ipykernel)",
   "language": "python",
   "name": "python3"
  },
  "language_info": {
   "codemirror_mode": {
    "name": "ipython",
    "version": 3
   },
   "file_extension": ".py",
   "mimetype": "text/x-python",
   "name": "python",
   "nbconvert_exporter": "python",
   "pygments_lexer": "ipython3",
   "version": "3.7.16"
  },
  "toc": {
   "base_numbering": 1,
   "nav_menu": {},
   "number_sections": false,
   "sideBar": true,
   "skip_h1_title": true,
   "title_cell": "Table of Contents",
   "title_sidebar": "Contents",
   "toc_cell": false,
   "toc_position": {},
   "toc_section_display": true,
   "toc_window_display": false
  }
 },
 "nbformat": 4,
 "nbformat_minor": 1
}
