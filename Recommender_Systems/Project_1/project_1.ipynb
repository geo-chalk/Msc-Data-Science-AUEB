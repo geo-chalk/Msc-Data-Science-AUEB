{
 "cells": [
  {
   "cell_type": "markdown",
   "source": [],
   "metadata": {
    "collapsed": false
   }
  },
  {
   "cell_type": "markdown",
   "source": [
    "> Chalkiopoulos Georgios, Electrical and Computer Engineer NTUA <br />\n",
    "> Data Science postgraduate Student <br />\n",
    "> gchalkiopoulos@aueb.gr"
   ],
   "metadata": {
    "collapsed": false
   }
  },
  {
   "cell_type": "markdown",
   "source": [
    "# Import Libraries"
   ],
   "metadata": {
    "collapsed": false
   }
  },
  {
   "cell_type": "code",
   "execution_count": 50,
   "outputs": [],
   "source": [
    "import csv\n",
    "from pathlib import Path\n",
    "from dataclasses import dataclass\n",
    "from datetime import datetime\n",
    "\n",
    "from typing import List, Optional, Union, Set\n",
    "\n",
    "import logging"
   ],
   "metadata": {
    "collapsed": false
   }
  },
  {
   "cell_type": "markdown",
   "source": [
    "# Setup Logger"
   ],
   "metadata": {
    "collapsed": false
   }
  },
  {
   "cell_type": "code",
   "execution_count": 51,
   "outputs": [],
   "source": [
    "# Create a base Logger class\n",
    "class LoggingHandler:\n",
    "\n",
    "    def __init__(self, *args, **kwargs):\n",
    "        self.logger = self._setup_logger()\n",
    "\n",
    "    def _setup_logger(self):\n",
    "        \"\"\"Setup up logger\"\"\"\n",
    "\n",
    "        # Create logger\n",
    "        logger = logging.getLogger(self.__class__.__name__)\n",
    "        logger.setLevel(logging.INFO)\n",
    "\n",
    "        if not logger.handlers:\n",
    "            # Create console handler and set level to debug\n",
    "            ch = logging.StreamHandler()\n",
    "            ch.setLevel(logging.INFO)\n",
    "\n",
    "            # Create formatter\n",
    "            formatter = logging.Formatter('[%(asctime)s] %(levelname)s [%(name)s] - %(message)s')\n",
    "\n",
    "            # Add formatter to ch\n",
    "            ch.setFormatter(formatter)\n",
    "\n",
    "            # Add ch to logger\n",
    "            logger.addHandler(ch)\n",
    "\n",
    "        return logger"
   ],
   "metadata": {
    "collapsed": false
   }
  },
  {
   "cell_type": "markdown",
   "source": [
    "# Read data"
   ],
   "metadata": {
    "collapsed": false
   }
  },
  {
   "cell_type": "code",
   "execution_count": 43,
   "outputs": [],
   "source": [
    "@dataclass\n",
    "class BeerReview:\n",
    "    index: int\n",
    "    brewery_id: int\n",
    "    brewery_name: str\n",
    "    review_time: datetime.timestamp\n",
    "    review_overall: float\n",
    "    review_aroma: float\n",
    "    review_appearance: float\n",
    "    review_profilename: str\n",
    "    beer_style: str\n",
    "    review_palate: float\n",
    "    review_taste: float\n",
    "    beer_name: str\n",
    "    beer_abv: float\n",
    "    beer_beerid: int\n",
    "    user_id: Optional[Union[int, None]] = None"
   ],
   "metadata": {
    "collapsed": false
   }
  },
  {
   "cell_type": "code",
   "execution_count": 52,
   "outputs": [],
   "source": [
    "class ReviewReader(LoggingHandler):\n",
    "    \"\"\"Read reviews based on an input file\"\"\"\n",
    "    reviews: List[BeerReview] = []\n",
    "\n",
    "    def __init__(self, file_path: str, *args, **kwargs):\n",
    "        super().__init__(*args, **kwargs)\n",
    "        self.file_path = file_path\n",
    "\n",
    "    @property\n",
    "    def input_file(self) -> Path:\n",
    "        \"\"\"\n",
    "        Creates a Path object containing the input file.\n",
    "        Raises an exception if the file doesn't exist\n",
    "\n",
    "        Returns:\n",
    "            Path object\n",
    "        \"\"\"\n",
    "        input_file: Path = Path(self.file_path)\n",
    "        if not input_file.is_file():\n",
    "            self.logger.error(f\"{input_file.name} file doesn't exist.\")\n",
    "\n",
    "        return input_file\n",
    "\n",
    "    def read_reviews(self) -> List[BeerReview]:\n",
    "        \"\"\"Read the reviews based on the \"\"\"\n",
    "        with open(self.input_file, encoding=\"utf8\") as f:\n",
    "\n",
    "            self.logger.info(f\"Loading {self.input_file}\")\n",
    "            users: dict = {}\n",
    "            user_id: int = 0\n",
    "\n",
    "            for i, row in enumerate(csv.DictReader(f)):\n",
    "\n",
    "                if not users.get(row[\"review_profilename\"]):\n",
    "                    users[row[\"review_profilename\"]] = user_id\n",
    "                    user_id += 1\n",
    "\n",
    "\n",
    "                # create a review object\n",
    "                review: BeerReview = BeerReview(\n",
    "                    int(row[\"index\"]) if row[\"index\"].isnumeric() else None,\n",
    "                    int(row[\"brewery_id\"]) if row[\"brewery_id\"].isnumeric() else None,\n",
    "                    row[\"brewery_name\"].strip(),\n",
    "                    datetime.fromtimestamp(int(row[\"review_time\"])),\n",
    "                    float(row[\"review_overall\"]),\n",
    "                    float(row[\"review_aroma\"]),\n",
    "                    float(row[\"review_appearance\"]),\n",
    "                    row[\"review_profilename\"],\n",
    "                    row[\"beer_style\"].strip(),\n",
    "                    row[\"review_palate\"],\n",
    "                    row[\"review_taste\"],\n",
    "                    row[\"beer_name\"],\n",
    "                    row[\"beer_abv\"],\n",
    "                    row[\"beer_beerid\"],\n",
    "                    users[row[\"review_profilename\"]])\n",
    "\n",
    "                # add the review object to the total reviews\n",
    "                self.reviews.append(review)\n",
    "\n",
    "                # add username to set\n",
    "                users\n",
    "                if i % 300000 == 0 and i != 0:\n",
    "                    self.logger.info(f\"{i} reviews loaded.\")\n",
    "\n",
    "        self.logger.info(f\"All reviews loaded. Total reviews: {len(self.reviews)}\")\n",
    "        f.close()\n",
    "\n",
    "        return self.reviews"
   ],
   "metadata": {
    "collapsed": false
   }
  },
  {
   "cell_type": "code",
   "execution_count": 53,
   "outputs": [
    {
     "name": "stderr",
     "output_type": "stream",
     "text": [
      "[2023-02-24 00:52:15,435] INFO [ReviewReader] - Loading beer_reviews.csv\n",
      "[2023-02-24 00:52:20,662] INFO [ReviewReader] - 300000 reviews loaded.\n",
      "[2023-02-24 00:52:25,694] INFO [ReviewReader] - 600000 reviews loaded.\n",
      "[2023-02-24 00:52:32,105] INFO [ReviewReader] - 900000 reviews loaded.\n",
      "[2023-02-24 00:52:40,550] INFO [ReviewReader] - 1200000 reviews loaded.\n",
      "[2023-02-24 00:52:45,665] INFO [ReviewReader] - 1500000 reviews loaded.\n",
      "[2023-02-24 00:52:47,232] INFO [ReviewReader] - All reviews loaded. Total reviews: 1586614\n"
     ]
    }
   ],
   "source": [
    "file_path: str = \"beer_reviews.csv\"\n",
    "reviews: List[BeerReview] = ReviewReader(file_path=file_path).read_reviews()"
   ],
   "metadata": {
    "collapsed": false
   }
  },
  {
   "cell_type": "code",
   "execution_count": 57,
   "outputs": [
    {
     "data": {
      "text/plain": "BeerReview(index=4, brewery_id=1075, brewery_name='Caldera Brewing Company', review_time=datetime.datetime(2010, 12, 30, 20, 53, 26), review_overall=4.0, review_aroma=4.5, review_appearance=4.0, review_profilename='johnmichaelsen', beer_style='American Double / Imperial IPA', review_palate='4.0', review_taste='4.5', beer_name='Cauldron DIPA', beer_abv='7.7', beer_beerid='64883', user_id=2)"
     },
     "execution_count": 57,
     "metadata": {},
     "output_type": "execute_result"
    }
   ],
   "source": [
    "reviews[4]"
   ],
   "metadata": {
    "collapsed": false
   }
  },
  {
   "cell_type": "code",
   "execution_count": 14,
   "outputs": [
    {
     "name": "stderr",
     "output_type": "stream",
     "text": [
      "error from test class A\n",
      "error from test class B\n"
     ]
    }
   ],
   "source": [
    "import logging\n",
    "\n",
    "\n",
    "# Create a base class\n",
    "class LoggingHandler:\n",
    "    def __init__(self, *args, **kwargs):\n",
    "        self.log = logging.getLogger(self.__class__.__name__)\n",
    "\n",
    "\n",
    "# Create test class A that inherits the base class\n",
    "class testclassa(LoggingHandler):\n",
    "    def testmethod1(self):\n",
    "        # call self.log.<log level> instead of logging.log.<log level>\n",
    "        self.log.error(\"error from test class A\")\n",
    "\n",
    "\n",
    "# Create test class B that inherits the base class\n",
    "class testclassb(LoggingHandler):\n",
    "    def testmethod2(self):\n",
    "        # call self.log.<log level> instead of logging.log.<log level>\n",
    "        self.log.error(\"error from test class B\")\n",
    "\n",
    "\n",
    "testclassa().testmethod1()\n",
    "testclassb().testmethod2()"
   ],
   "metadata": {
    "collapsed": false
   }
  },
  {
   "cell_type": "code",
   "execution_count": null,
   "outputs": [],
   "source": [],
   "metadata": {
    "collapsed": false
   }
  }
 ],
 "metadata": {
  "kernelspec": {
   "display_name": "Python 3",
   "language": "python",
   "name": "python3"
  },
  "language_info": {
   "codemirror_mode": {
    "name": "ipython",
    "version": 2
   },
   "file_extension": ".py",
   "mimetype": "text/x-python",
   "name": "python",
   "nbconvert_exporter": "python",
   "pygments_lexer": "ipython2",
   "version": "2.7.6"
  }
 },
 "nbformat": 4,
 "nbformat_minor": 0
}
