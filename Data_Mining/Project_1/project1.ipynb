{
 "cells": [
  {
   "cell_type": "markdown",
   "source": [],
   "metadata": {
    "collapsed": false
   }
  },
  {
   "cell_type": "markdown",
   "source": [
    "# Data Mining – Assignment 1\n",
    "---\n",
    "> Chalkiopoulos Georgios, Electrical and Computer Engineer NTUA <br />\n",
    "> Data Science postgraduate Student <br />\n",
    "> gchalkiopoulos@aueb.gr"
   ],
   "metadata": {
    "collapsed": false
   }
  },
  {
   "cell_type": "markdown",
   "source": [
    "# Imports"
   ],
   "metadata": {
    "collapsed": false
   }
  },
  {
   "cell_type": "code",
   "execution_count": 1,
   "outputs": [],
   "source": [
    "import pandas as pd\n",
    "from pandas import DataFrame\n",
    "import numpy as np\n",
    "from pathlib import Path\n",
    "from pprint import pprint\n",
    "from typing import Dict\n",
    "from random import randint\n",
    "\n",
    "from helper_functions import compute_jaccard, primes, generate_hashing, compute_jaccard_hash"
   ],
   "metadata": {
    "collapsed": false
   }
  },
  {
   "cell_type": "markdown",
   "source": [
    "# 1) Import and pre-process the dataset with users\n",
    "\n",
    "There are 3 files for the dataset,\n",
    "* the users.txt file contains id, age, gender, occupation and postcode separated by |,\n",
    "* the movies.txt file contains id, title (with release year) and some other information not related with the assignment separated by |,\n",
    "* the ratings.txt file (tab separated) which contains userid, movieid, rating (1-5) and timestamp.\n",
    "\n",
    "For this assignment only the set of movies that a user has rated, and not the ratings, will be used. In your report you should describe in detail any processing and conversion you made to the original data and the reasons it was necessary."
   ],
   "metadata": {
    "collapsed": false
   }
  },
  {
   "cell_type": "markdown",
   "source": [],
   "metadata": {
    "collapsed": false
   }
  },
  {
   "cell_type": "code",
   "execution_count": 2,
   "outputs": [],
   "source": [
    "# Define phat\n",
    "path = Path.cwd() / \"MovieLensDataset\""
   ],
   "metadata": {
    "collapsed": false
   }
  },
  {
   "cell_type": "code",
   "execution_count": 3,
   "outputs": [
    {
     "data": {
      "text/plain": "   id  age gender  occupation postcode\n0   1   24      M  technician    85711\n1   2   53      F       other    94043\n2   3   23      M      writer    32067\n3   4   24      M  technician    43537\n4   5   33      F       other    15213",
      "text/html": "<div>\n<style scoped>\n    .dataframe tbody tr th:only-of-type {\n        vertical-align: middle;\n    }\n\n    .dataframe tbody tr th {\n        vertical-align: top;\n    }\n\n    .dataframe thead th {\n        text-align: right;\n    }\n</style>\n<table border=\"1\" class=\"dataframe\">\n  <thead>\n    <tr style=\"text-align: right;\">\n      <th></th>\n      <th>id</th>\n      <th>age</th>\n      <th>gender</th>\n      <th>occupation</th>\n      <th>postcode</th>\n    </tr>\n  </thead>\n  <tbody>\n    <tr>\n      <th>0</th>\n      <td>1</td>\n      <td>24</td>\n      <td>M</td>\n      <td>technician</td>\n      <td>85711</td>\n    </tr>\n    <tr>\n      <th>1</th>\n      <td>2</td>\n      <td>53</td>\n      <td>F</td>\n      <td>other</td>\n      <td>94043</td>\n    </tr>\n    <tr>\n      <th>2</th>\n      <td>3</td>\n      <td>23</td>\n      <td>M</td>\n      <td>writer</td>\n      <td>32067</td>\n    </tr>\n    <tr>\n      <th>3</th>\n      <td>4</td>\n      <td>24</td>\n      <td>M</td>\n      <td>technician</td>\n      <td>43537</td>\n    </tr>\n    <tr>\n      <th>4</th>\n      <td>5</td>\n      <td>33</td>\n      <td>F</td>\n      <td>other</td>\n      <td>15213</td>\n    </tr>\n  </tbody>\n</table>\n</div>"
     },
     "execution_count": 3,
     "metadata": {},
     "output_type": "execute_result"
    }
   ],
   "source": [
    "# Users\n",
    "users_col: list = [\"id\", \"age\", \"gender\", \"occupation\", \"postcode\"]\n",
    "users_df: DataFrame = pd.read_csv(path / \"users.txt\", delimiter=\"|\",names=users_col, header=None)\n",
    "users_df.head()"
   ],
   "metadata": {
    "collapsed": false
   }
  },
  {
   "cell_type": "code",
   "execution_count": 4,
   "outputs": [
    {
     "data": {
      "text/plain": "   id         title_year\n0   1   Toy Story (1995)\n1   2   GoldenEye (1995)\n2   3  Four Rooms (1995)\n3   4  Get Shorty (1995)\n4   5     Copycat (1995)",
      "text/html": "<div>\n<style scoped>\n    .dataframe tbody tr th:only-of-type {\n        vertical-align: middle;\n    }\n\n    .dataframe tbody tr th {\n        vertical-align: top;\n    }\n\n    .dataframe thead th {\n        text-align: right;\n    }\n</style>\n<table border=\"1\" class=\"dataframe\">\n  <thead>\n    <tr style=\"text-align: right;\">\n      <th></th>\n      <th>id</th>\n      <th>title_year</th>\n    </tr>\n  </thead>\n  <tbody>\n    <tr>\n      <th>0</th>\n      <td>1</td>\n      <td>Toy Story (1995)</td>\n    </tr>\n    <tr>\n      <th>1</th>\n      <td>2</td>\n      <td>GoldenEye (1995)</td>\n    </tr>\n    <tr>\n      <th>2</th>\n      <td>3</td>\n      <td>Four Rooms (1995)</td>\n    </tr>\n    <tr>\n      <th>3</th>\n      <td>4</td>\n      <td>Get Shorty (1995)</td>\n    </tr>\n    <tr>\n      <th>4</th>\n      <td>5</td>\n      <td>Copycat (1995)</td>\n    </tr>\n  </tbody>\n</table>\n</div>"
     },
     "execution_count": 4,
     "metadata": {},
     "output_type": "execute_result"
    }
   ],
   "source": [
    "# Movies df\n",
    "movies_col: list = [\"id\", \"title_year\"]\n",
    "movies_df: DataFrame = pd.read_csv(path / \"movies.txt\", delimiter=\"|\", encoding='latin-1', header=None, names=movies_col, usecols=movies_col)\n",
    "movies_df.head()"
   ],
   "metadata": {
    "collapsed": false
   }
  },
  {
   "cell_type": "code",
   "execution_count": 5,
   "outputs": [
    {
     "name": "stdout",
     "output_type": "stream",
     "text": [
      "Distinct users: 943\n",
      "Distinct Movies: 1682\n",
      "userid 1:\n"
     ]
    },
    {
     "data": {
      "text/plain": "       userid  movieid  rating  timestamp\n202         1       61       4  878542420\n305         1      189       3  888732928\n333         1       33       4  878542699\n334         1      160       4  875072547\n478         1       20       4  887431883\n...       ...      ...     ...        ...\n92049       1       28       4  875072173\n92487       1      172       5  874965478\n94019       1      122       3  875241498\n96699       1      152       5  878542589\n99073       1       94       2  875072956\n\n[272 rows x 4 columns]",
      "text/html": "<div>\n<style scoped>\n    .dataframe tbody tr th:only-of-type {\n        vertical-align: middle;\n    }\n\n    .dataframe tbody tr th {\n        vertical-align: top;\n    }\n\n    .dataframe thead th {\n        text-align: right;\n    }\n</style>\n<table border=\"1\" class=\"dataframe\">\n  <thead>\n    <tr style=\"text-align: right;\">\n      <th></th>\n      <th>userid</th>\n      <th>movieid</th>\n      <th>rating</th>\n      <th>timestamp</th>\n    </tr>\n  </thead>\n  <tbody>\n    <tr>\n      <th>202</th>\n      <td>1</td>\n      <td>61</td>\n      <td>4</td>\n      <td>878542420</td>\n    </tr>\n    <tr>\n      <th>305</th>\n      <td>1</td>\n      <td>189</td>\n      <td>3</td>\n      <td>888732928</td>\n    </tr>\n    <tr>\n      <th>333</th>\n      <td>1</td>\n      <td>33</td>\n      <td>4</td>\n      <td>878542699</td>\n    </tr>\n    <tr>\n      <th>334</th>\n      <td>1</td>\n      <td>160</td>\n      <td>4</td>\n      <td>875072547</td>\n    </tr>\n    <tr>\n      <th>478</th>\n      <td>1</td>\n      <td>20</td>\n      <td>4</td>\n      <td>887431883</td>\n    </tr>\n    <tr>\n      <th>...</th>\n      <td>...</td>\n      <td>...</td>\n      <td>...</td>\n      <td>...</td>\n    </tr>\n    <tr>\n      <th>92049</th>\n      <td>1</td>\n      <td>28</td>\n      <td>4</td>\n      <td>875072173</td>\n    </tr>\n    <tr>\n      <th>92487</th>\n      <td>1</td>\n      <td>172</td>\n      <td>5</td>\n      <td>874965478</td>\n    </tr>\n    <tr>\n      <th>94019</th>\n      <td>1</td>\n      <td>122</td>\n      <td>3</td>\n      <td>875241498</td>\n    </tr>\n    <tr>\n      <th>96699</th>\n      <td>1</td>\n      <td>152</td>\n      <td>5</td>\n      <td>878542589</td>\n    </tr>\n    <tr>\n      <th>99073</th>\n      <td>1</td>\n      <td>94</td>\n      <td>2</td>\n      <td>875072956</td>\n    </tr>\n  </tbody>\n</table>\n<p>272 rows × 4 columns</p>\n</div>"
     },
     "execution_count": 5,
     "metadata": {},
     "output_type": "execute_result"
    }
   ],
   "source": [
    "# Ratings df\n",
    "ratings_col: list = [\"userid\", \"movieid\", \"rating\", \"timestamp\"]\n",
    "ratings_df: DataFrame = pd.read_csv(path / \"ratings.txt\", delimiter=\"\\t\", header=None, names=ratings_col)\n",
    "\n",
    "print(f\"Distinct users: {ratings_df['userid'].unique().shape[0]}\")\n",
    "print(f\"Distinct Movies: {ratings_df['movieid'].unique().shape[0]}\")\n",
    "print(\"userid 1:\")\n",
    "ratings_df.loc[ratings_df.userid == 1]"
   ],
   "metadata": {
    "collapsed": false
   }
  },
  {
   "cell_type": "markdown",
   "source": [
    "# 2) Compute exact Jaccard similarity of users\n",
    "\n",
    "* As a first step we will create a set, for each user, containing the movies he has rated."
   ],
   "metadata": {
    "collapsed": false
   }
  },
  {
   "cell_type": "code",
   "execution_count": 6,
   "outputs": [
    {
     "data": {
      "text/plain": "userid\n1    {1, 2, 3, 4, 5, 6, 7, 8, 9, 10, 11, 12, 13, 14...\n2    {257, 258, 1, 10, 13, 14, 269, 272, 273, 274, ...\n3    {258, 260, 264, 268, 271, 272, 288, 294, 299, ...\n4    {258, 260, 264, 11, 271, 288, 294, 300, 301, 3...\n5    {1, 2, 17, 21, 24, 25, 29, 40, 42, 50, 62, 63,...\ndtype: object"
     },
     "execution_count": 6,
     "metadata": {},
     "output_type": "execute_result"
    }
   ],
   "source": [
    "# Create list of movies per user\n",
    "user_movies: DataFrame =  ratings_df[[\"userid\", \"movieid\"]].groupby('userid').apply(lambda x: set([i for i in x['movieid']]))\n",
    "user_movies.head()"
   ],
   "metadata": {
    "collapsed": false
   }
  },
  {
   "cell_type": "markdown",
   "source": [
    "Using this set, we will compute the jaccard scores between all possible pairs of users, and keep those whose similarity is above 50%."
   ],
   "metadata": {
    "collapsed": false
   }
  },
  {
   "cell_type": "code",
   "execution_count": 31,
   "outputs": [],
   "source": [
    "# compute jaccard scores\n",
    "jaccard_scores = compute_jaccard(data=user_movies)"
   ],
   "metadata": {
    "collapsed": false
   }
  },
  {
   "cell_type": "code",
   "execution_count": 48,
   "outputs": [
    {
     "name": "stdout",
     "output_type": "stream",
     "text": [
      "Similar Pairs: \n",
      "Pair: (408, 898) - Jaccard Score: 83.87%\n",
      "Pair: (328, 788) - Jaccard Score: 67.30%\n",
      "Pair: (489, 587) - Jaccard Score: 62.99%\n",
      "Pair: (600, 826) - Jaccard Score: 54.55%\n",
      "Pair: (451, 489) - Jaccard Score: 53.33%\n",
      "Pair: (674, 879) - Jaccard Score: 52.17%\n",
      "Pair: (554, 764) - Jaccard Score: 51.70%\n",
      "Pair: (197, 826) - Jaccard Score: 51.30%\n",
      "Pair: (197, 600) - Jaccard Score: 50.00%\n",
      "Pair: (800, 879) - Jaccard Score: 50.00%\n"
     ]
    }
   ],
   "source": [
    "print(\"Similar Pairs: \")\n",
    "similar_users = []\n",
    "for user1, sim_users in jaccard_scores.items():\n",
    "    for user_score in sim_users:\n",
    "        similar_users.append({user1, user_score[0]})\n",
    "        print(f\"Pair: ({user1}, {user_score[0]}) - Jaccard Score: {user_score[1]*100:.2f}%\")\n",
    "        jaccard_scores"
   ],
   "metadata": {
    "collapsed": false
   }
  },
  {
   "cell_type": "markdown",
   "source": [
    "### Output the movie titles that the most similar pair of users has seen.\n",
    "The most similar pair of users are 408 and 898 with a Jaccard score of 83.87. The movies that these users have seen is presented below:"
   ],
   "metadata": {
    "collapsed": false
   }
  },
  {
   "cell_type": "code",
   "execution_count": 51,
   "outputs": [
    {
     "name": "stdout",
     "output_type": "stream",
     "text": [
      "Movies seen by users 408 and/or 898: \n",
      "[408 898] Jackal, The (1997)\n",
      "[408 898] Rocket Man (1997)\n",
      "[408 898] Saint, The (1997)\n",
      "[408 898] Contact (1997)\n",
      "[408 898] Air Force One (1997)\n",
      "[408 898] Everyone Says I Love You (1996)\n",
      "[408 898] English Patient, The (1996)\n",
      "[408 898] Scream (1996)\n",
      "[408 898] Apt Pupil (1998)\n",
      "[408 898] Wag the Dog (1997)\n",
      "[408 898] Mouse Hunt (1997)\n",
      "[408 898] Spawn (1997)\n",
      "[408 898] Midnight in the Garden of Good and Evil (1997)\n",
      "[408 898] L.A. Confidential (1997)\n",
      "[408 898] Titanic (1997)\n",
      "[408 898] Lost Highway (1997)\n",
      "[408 898] Gattaca (1997)\n",
      "[408 898] Indian Summer (1996)\n",
      "[408 898] Conspiracy Theory (1997)\n",
      "[408] Liar Liar (1997)\n",
      "[408 898] Starship Troopers (1997)\n",
      "[408 898] Cop Land (1997)\n",
      "[898 408] Tomorrow Never Dies (1997)\n",
      "[898 408] Kolya (1996)\n",
      "[408 898] Good Will Hunting (1997)\n",
      "[408 898] U Turn (1997)\n",
      "[898] Jungle2Jungle (1997)\n",
      "[898] Alien: Resurrection (1997)\n",
      "[408 898] Rainmaker, The (1997)\n",
      "[898] As Good As It Gets (1997)\n",
      "[898] Deceiver (1997)\n"
     ]
    }
   ],
   "source": [
    "# join the ratings df with the movies to get the movie names per user id\n",
    "joined: DataFrame = ratings_df.loc[ratings_df.userid.isin([408, 898])].merge(movies_df, left_on=\"movieid\", right_on=\"id\")\n",
    "\n",
    "print(\"Movies seen by users 408 and/or 898: \")\n",
    "for movie in joined[\"title_year\"].unique():\n",
    "    print(joined.loc[joined.title_year == movie].userid.values, end=\" \")\n",
    "    print(movie)"
   ],
   "metadata": {
    "collapsed": false
   }
  },
  {
   "cell_type": "markdown",
   "source": [
    "# 3) Compute similarity using Min-hash signatures\n",
    "\n",
    "Description of hash functions: use the following family of hash functions: $h_{a,b}(x)=(ax+b) mod R$, with a,b random integers in the interval (0,R) and R a large enough prime number that you may want to finetune in your initial experimentation. Make sure that each hash function uses different values of a,b pairs.\n",
    "\n",
    "Evaluation of Min-hashing: Use 50, 100, and 200 hash functions. For each value, output the pair of users that have estimated similarity at least 0.5, and report the number of false positives and false negatives (against the exact Jaccard similarity) that you obtain. For the false positives and negatives, report the averages for 5 different runs using different functions. Comment on how the number of hash functions affects the false positive and negatives figures."
   ],
   "metadata": {
    "collapsed": false
   }
  },
  {
   "cell_type": "markdown",
   "source": [
    "### Create user matrices\n",
    "\n",
    "Before proceeding, we will create the \"Document\" of each user. This, in practice, is a list in which we assign the number 1 if the user has seen the movie with id i and 0 if he hasn't.\n",
    "\n",
    "* keep in mind that the movie id's start from one while python indices start from zero"
   ],
   "metadata": {
    "collapsed": false
   }
  },
  {
   "cell_type": "code",
   "execution_count": 10,
   "outputs": [
    {
     "data": {
      "text/plain": "userid\n1      [1, 1, 1, 1, 1, 1, 1, 1, 1, 1, 1, 1, 1, 1, 1, ...\n2      [1, 0, 0, 0, 0, 0, 0, 0, 0, 1, 0, 0, 1, 1, 0, ...\n3      [0, 0, 0, 0, 0, 0, 0, 0, 0, 0, 0, 0, 0, 0, 0, ...\n4      [0, 0, 0, 0, 0, 0, 0, 0, 0, 0, 1, 0, 0, 0, 0, ...\n5      [1, 1, 0, 0, 0, 0, 0, 0, 0, 0, 0, 0, 0, 0, 0, ...\n                             ...                        \n939    [0, 0, 0, 0, 0, 0, 0, 0, 1, 0, 0, 0, 0, 0, 1, ...\n940    [0, 0, 0, 1, 0, 0, 1, 1, 1, 0, 0, 1, 0, 1, 0, ...\n941    [1, 0, 0, 0, 0, 0, 1, 0, 0, 0, 0, 0, 0, 0, 1, ...\n942    [0, 0, 0, 0, 0, 0, 0, 0, 0, 0, 0, 0, 0, 0, 0, ...\n943    [0, 1, 0, 0, 0, 0, 0, 0, 1, 0, 1, 1, 0, 0, 0, ...\nLength: 943, dtype: object"
     },
     "execution_count": 10,
     "metadata": {},
     "output_type": "execute_result"
    }
   ],
   "source": [
    "# Create doc\n",
    "movies = user_movies.apply(lambda x: [1 if i+1 in x else 0 for i in range(ratings_df.movieid.max())])\n",
    "movies"
   ],
   "metadata": {
    "collapsed": false
   }
  },
  {
   "cell_type": "markdown",
   "source": [
    "* We need a large value of R which will make sure that we have at least 1682 different values (distinct movies). In this case we will avoid having two values for the same row (hash conflict), while hashing the rows movie ids."
   ],
   "metadata": {
    "collapsed": false
   }
  },
  {
   "cell_type": "code",
   "execution_count": 11,
   "outputs": [
    {
     "data": {
      "text/plain": "1682"
     },
     "execution_count": 11,
     "metadata": {},
     "output_type": "execute_result"
    }
   ],
   "source": [
    "# find the max value of the movieid\n",
    "number_of_movies: int = ratings_df.movieid.max()\n",
    "number_of_movies"
   ],
   "metadata": {
    "collapsed": false
   }
  },
  {
   "cell_type": "code",
   "execution_count": 12,
   "outputs": [
    {
     "name": "stdout",
     "output_type": "stream",
     "text": [
      "Optimal value for R is: 1693\n"
     ]
    }
   ],
   "source": [
    "rows: np.ndarray = np.array(range(1, len(movies[1])+1))\n",
    "\n",
    "for _prime in primes(100000):\n",
    "    a, b = randint(0, _prime), randint(0, _prime)\n",
    "    hashing = (a * rows + b) % _prime\n",
    "\n",
    "    # break if number of unique rows is equal to the number of rows\n",
    "    if len(np.unique(np.array(hashing))) >= number_of_movies:\n",
    "        R: int = _prime\n",
    "        break\n",
    "\n",
    "print(f\"Optimal value for R is: {_prime}\")"
   ],
   "metadata": {
    "collapsed": false
   }
  },
  {
   "cell_type": "code",
   "execution_count": 13,
   "outputs": [],
   "source": [
    "n = 50\n",
    "hash_functions = generate_hashing(n=50, rows=rows, R=_prime, iteration=6)\n",
    "signature = []\n",
    "\n",
    "for i in range(n):\n",
    "    hash_func = hash_functions[i]\n",
    "    s = movies.apply(lambda x: np.where(np.array(x) == 1,  hash_func, 9999).min())\n",
    "    signature.append(s)\n",
    "signature = np.array(signature)"
   ],
   "metadata": {
    "collapsed": false
   }
  },
  {
   "cell_type": "code",
   "execution_count": 14,
   "outputs": [
    {
     "data": {
      "text/plain": "      0   1   2   3    4   5   6    7    8    9   ...  40  41  42   43   44  \\\n1      2   3   5   4   12   1   1    9  298    5  ...   3   1  15    9    0   \n2     32  28  25  33   28   6   4   41  298   26  ...   3  21  14    6   30   \n3      0   5   1  26   44   6  18    9  298    0  ...  12   7  38   23   30   \n4     37  68  11  90  125  75  18    9  298  190  ...   2  88  13    9   35   \n5      2   4   8   4   11   0  15    8  298    9  ...  22   4  12    3    0   \n..   ...  ..  ..  ..  ...  ..  ..  ...  ...  ...  ...  ..  ..  ..  ...  ...   \n939    1  93  15  29   73  12  46  147  298   12  ...  27  43   1   29  102   \n940    7   4   1  26   30   7  11    9  298    9  ...   3  28  61   11    0   \n941  111  29  15  82   47  12  29   31  298   57  ...  26  78  54  113   53   \n942   96   4  28  13   12  40  11   60  298    9  ...   2  35  11    9   30   \n943    5   7   8   4   14  24   1   20  298    9  ...   5   2  10    3   17   \n\n     45  46  47  48   49  \n1     2   1   4   0    1  \n2    16   0  11  33   14  \n3     4   0  18   9  107  \n4    83   0  25  25    8  \n5     9   1   4   1    1  \n..   ..  ..  ..  ..  ...  \n939  14  14   0  32   12  \n940  25   0  18   9    1  \n941  14   0  65  88    8  \n942   4  43  17  26   14  \n943  18   1   4  16   11  \n\n[943 rows x 50 columns]",
      "text/html": "<div>\n<style scoped>\n    .dataframe tbody tr th:only-of-type {\n        vertical-align: middle;\n    }\n\n    .dataframe tbody tr th {\n        vertical-align: top;\n    }\n\n    .dataframe thead th {\n        text-align: right;\n    }\n</style>\n<table border=\"1\" class=\"dataframe\">\n  <thead>\n    <tr style=\"text-align: right;\">\n      <th></th>\n      <th>0</th>\n      <th>1</th>\n      <th>2</th>\n      <th>3</th>\n      <th>4</th>\n      <th>5</th>\n      <th>6</th>\n      <th>7</th>\n      <th>8</th>\n      <th>9</th>\n      <th>...</th>\n      <th>40</th>\n      <th>41</th>\n      <th>42</th>\n      <th>43</th>\n      <th>44</th>\n      <th>45</th>\n      <th>46</th>\n      <th>47</th>\n      <th>48</th>\n      <th>49</th>\n    </tr>\n  </thead>\n  <tbody>\n    <tr>\n      <th>1</th>\n      <td>2</td>\n      <td>3</td>\n      <td>5</td>\n      <td>4</td>\n      <td>12</td>\n      <td>1</td>\n      <td>1</td>\n      <td>9</td>\n      <td>298</td>\n      <td>5</td>\n      <td>...</td>\n      <td>3</td>\n      <td>1</td>\n      <td>15</td>\n      <td>9</td>\n      <td>0</td>\n      <td>2</td>\n      <td>1</td>\n      <td>4</td>\n      <td>0</td>\n      <td>1</td>\n    </tr>\n    <tr>\n      <th>2</th>\n      <td>32</td>\n      <td>28</td>\n      <td>25</td>\n      <td>33</td>\n      <td>28</td>\n      <td>6</td>\n      <td>4</td>\n      <td>41</td>\n      <td>298</td>\n      <td>26</td>\n      <td>...</td>\n      <td>3</td>\n      <td>21</td>\n      <td>14</td>\n      <td>6</td>\n      <td>30</td>\n      <td>16</td>\n      <td>0</td>\n      <td>11</td>\n      <td>33</td>\n      <td>14</td>\n    </tr>\n    <tr>\n      <th>3</th>\n      <td>0</td>\n      <td>5</td>\n      <td>1</td>\n      <td>26</td>\n      <td>44</td>\n      <td>6</td>\n      <td>18</td>\n      <td>9</td>\n      <td>298</td>\n      <td>0</td>\n      <td>...</td>\n      <td>12</td>\n      <td>7</td>\n      <td>38</td>\n      <td>23</td>\n      <td>30</td>\n      <td>4</td>\n      <td>0</td>\n      <td>18</td>\n      <td>9</td>\n      <td>107</td>\n    </tr>\n    <tr>\n      <th>4</th>\n      <td>37</td>\n      <td>68</td>\n      <td>11</td>\n      <td>90</td>\n      <td>125</td>\n      <td>75</td>\n      <td>18</td>\n      <td>9</td>\n      <td>298</td>\n      <td>190</td>\n      <td>...</td>\n      <td>2</td>\n      <td>88</td>\n      <td>13</td>\n      <td>9</td>\n      <td>35</td>\n      <td>83</td>\n      <td>0</td>\n      <td>25</td>\n      <td>25</td>\n      <td>8</td>\n    </tr>\n    <tr>\n      <th>5</th>\n      <td>2</td>\n      <td>4</td>\n      <td>8</td>\n      <td>4</td>\n      <td>11</td>\n      <td>0</td>\n      <td>15</td>\n      <td>8</td>\n      <td>298</td>\n      <td>9</td>\n      <td>...</td>\n      <td>22</td>\n      <td>4</td>\n      <td>12</td>\n      <td>3</td>\n      <td>0</td>\n      <td>9</td>\n      <td>1</td>\n      <td>4</td>\n      <td>1</td>\n      <td>1</td>\n    </tr>\n    <tr>\n      <th>...</th>\n      <td>...</td>\n      <td>...</td>\n      <td>...</td>\n      <td>...</td>\n      <td>...</td>\n      <td>...</td>\n      <td>...</td>\n      <td>...</td>\n      <td>...</td>\n      <td>...</td>\n      <td>...</td>\n      <td>...</td>\n      <td>...</td>\n      <td>...</td>\n      <td>...</td>\n      <td>...</td>\n      <td>...</td>\n      <td>...</td>\n      <td>...</td>\n      <td>...</td>\n      <td>...</td>\n    </tr>\n    <tr>\n      <th>939</th>\n      <td>1</td>\n      <td>93</td>\n      <td>15</td>\n      <td>29</td>\n      <td>73</td>\n      <td>12</td>\n      <td>46</td>\n      <td>147</td>\n      <td>298</td>\n      <td>12</td>\n      <td>...</td>\n      <td>27</td>\n      <td>43</td>\n      <td>1</td>\n      <td>29</td>\n      <td>102</td>\n      <td>14</td>\n      <td>14</td>\n      <td>0</td>\n      <td>32</td>\n      <td>12</td>\n    </tr>\n    <tr>\n      <th>940</th>\n      <td>7</td>\n      <td>4</td>\n      <td>1</td>\n      <td>26</td>\n      <td>30</td>\n      <td>7</td>\n      <td>11</td>\n      <td>9</td>\n      <td>298</td>\n      <td>9</td>\n      <td>...</td>\n      <td>3</td>\n      <td>28</td>\n      <td>61</td>\n      <td>11</td>\n      <td>0</td>\n      <td>25</td>\n      <td>0</td>\n      <td>18</td>\n      <td>9</td>\n      <td>1</td>\n    </tr>\n    <tr>\n      <th>941</th>\n      <td>111</td>\n      <td>29</td>\n      <td>15</td>\n      <td>82</td>\n      <td>47</td>\n      <td>12</td>\n      <td>29</td>\n      <td>31</td>\n      <td>298</td>\n      <td>57</td>\n      <td>...</td>\n      <td>26</td>\n      <td>78</td>\n      <td>54</td>\n      <td>113</td>\n      <td>53</td>\n      <td>14</td>\n      <td>0</td>\n      <td>65</td>\n      <td>88</td>\n      <td>8</td>\n    </tr>\n    <tr>\n      <th>942</th>\n      <td>96</td>\n      <td>4</td>\n      <td>28</td>\n      <td>13</td>\n      <td>12</td>\n      <td>40</td>\n      <td>11</td>\n      <td>60</td>\n      <td>298</td>\n      <td>9</td>\n      <td>...</td>\n      <td>2</td>\n      <td>35</td>\n      <td>11</td>\n      <td>9</td>\n      <td>30</td>\n      <td>4</td>\n      <td>43</td>\n      <td>17</td>\n      <td>26</td>\n      <td>14</td>\n    </tr>\n    <tr>\n      <th>943</th>\n      <td>5</td>\n      <td>7</td>\n      <td>8</td>\n      <td>4</td>\n      <td>14</td>\n      <td>24</td>\n      <td>1</td>\n      <td>20</td>\n      <td>298</td>\n      <td>9</td>\n      <td>...</td>\n      <td>5</td>\n      <td>2</td>\n      <td>10</td>\n      <td>3</td>\n      <td>17</td>\n      <td>18</td>\n      <td>1</td>\n      <td>4</td>\n      <td>16</td>\n      <td>11</td>\n    </tr>\n  </tbody>\n</table>\n<p>943 rows × 50 columns</p>\n</div>"
     },
     "execution_count": 14,
     "metadata": {},
     "output_type": "execute_result"
    }
   ],
   "source": [
    "min_hash = pd.DataFrame(signature.tolist()).T\n",
    "min_hash.index = np.arange(1, len(min_hash) + 1)\n",
    "min_hash"
   ],
   "metadata": {
    "collapsed": false
   }
  },
  {
   "cell_type": "code",
   "execution_count": 57,
   "outputs": [
    {
     "name": "stdout",
     "output_type": "stream",
     "text": [
      "Evaluated 0 pairs\n",
      "Evaluated 10000 pairs\n",
      "Evaluated 20000 pairs\n",
      "Evaluated 30000 pairs\n",
      "Evaluated 40000 pairs\n",
      "Evaluated 50000 pairs\n",
      "Evaluated 60000 pairs\n",
      "Evaluated 70000 pairs\n",
      "Evaluated 80000 pairs\n",
      "Evaluated 90000 pairs\n",
      "Evaluated 100000 pairs\n",
      "Evaluated 110000 pairs\n",
      "Evaluated 120000 pairs\n",
      "Evaluated 130000 pairs\n",
      "Evaluated 140000 pairs\n",
      "Evaluated 150000 pairs\n",
      "Evaluated 160000 pairs\n",
      "Evaluated 170000 pairs\n",
      "Evaluated 180000 pairs\n",
      "Evaluated 190000 pairs\n",
      "Evaluated 200000 pairs\n",
      "Evaluated 210000 pairs\n",
      "Evaluated 220000 pairs\n",
      "Evaluated 230000 pairs\n",
      "Evaluated 240000 pairs\n",
      "Evaluated 250000 pairs\n",
      "Evaluated 260000 pairs\n",
      "Evaluated 270000 pairs\n",
      "Evaluated 280000 pairs\n",
      "Evaluated 290000 pairs\n",
      "Evaluated 300000 pairs\n",
      "Evaluated 310000 pairs\n",
      "Evaluated 320000 pairs\n",
      "Evaluated 330000 pairs\n",
      "Evaluated 340000 pairs\n",
      "Evaluated 350000 pairs\n",
      "Evaluated 360000 pairs\n",
      "Evaluated 370000 pairs\n",
      "Evaluated 380000 pairs\n",
      "Evaluated 390000 pairs\n",
      "Evaluated 400000 pairs\n",
      "Evaluated 410000 pairs\n",
      "Evaluated 420000 pairs\n",
      "Evaluated 430000 pairs\n",
      "Evaluated 440000 pairs\n"
     ]
    }
   ],
   "source": [
    "from itertools import combinations\n",
    "from collections import defaultdict\n",
    "import pandas as pd\n",
    "from typing import Tuple, List\n",
    "from random import shuffle, Random\n",
    "import numpy as np\n",
    "\n",
    "# create pairs (user1, user2)\n",
    "pairs = list(combinations(list(min_hash.index), 2))\n",
    "usim = defaultdict(dict)\n",
    "\n",
    "doc_length = min_hash.shape[1]\n",
    "for i, (user_1, user_2) in enumerate(pairs):\n",
    "\n",
    "    s1: pd.Series = min_hash.loc[user_1]\n",
    "    s2: pd.Series = min_hash.loc[user_2]\n",
    "\n",
    "    common_movies = np.count_nonzero(s1 == s2)\n",
    "\n",
    "    jacc: float = common_movies/doc_length\n",
    "\n",
    "    if jacc >= 0.5 or {user_1, user_2} in similar_users:\n",
    "        usim[user_1][user_2]: float = jacc\n",
    "\n",
    "    if i % 50000 == 0 and i != 0:\n",
    "        print(f\"Evaluated {i}/{len(pairs)} pairs\")\n",
    "\n",
    "neighbors_u: dict = {user: sorted(usim[user].items(), key=lambda x: x[1], reverse=True) for user in usim}\n",
    "\n",
    "scores: dict = dict(sorted(neighbors_u.items(), key=lambda item: item[1][0][1], reverse=True))"
   ],
   "metadata": {
    "collapsed": false
   }
  },
  {
   "cell_type": "code",
   "execution_count": 15,
   "outputs": [
    {
     "ename": "IndexError",
     "evalue": "single positional indexer is out-of-bounds",
     "output_type": "error",
     "traceback": [
      "\u001B[1;31m---------------------------------------------------------------------------\u001B[0m",
      "\u001B[1;31mIndexError\u001B[0m                                Traceback (most recent call last)",
      "\u001B[1;32mC:\\Users\\JOJOSH~1\\AppData\\Local\\Temp/ipykernel_15744/689749969.py\u001B[0m in \u001B[0;36m<module>\u001B[1;34m\u001B[0m\n\u001B[0;32m      1\u001B[0m \u001B[1;31m# compute jaccard scores\u001B[0m\u001B[1;33m\u001B[0m\u001B[1;33m\u001B[0m\u001B[1;33m\u001B[0m\u001B[0m\n\u001B[1;32m----> 2\u001B[1;33m \u001B[0mjaccard_scores_hash\u001B[0m\u001B[1;33m:\u001B[0m \u001B[0mDict\u001B[0m\u001B[1;33m[\u001B[0m\u001B[0mint\u001B[0m\u001B[1;33m,\u001B[0m \u001B[0mlist\u001B[0m\u001B[1;33m]\u001B[0m \u001B[1;33m=\u001B[0m \u001B[0mcompute_jaccard_hash\u001B[0m\u001B[1;33m(\u001B[0m\u001B[0mdata\u001B[0m\u001B[1;33m=\u001B[0m\u001B[0mmin_hash\u001B[0m\u001B[1;33m)\u001B[0m\u001B[1;33m\u001B[0m\u001B[1;33m\u001B[0m\u001B[0m\n\u001B[0m\u001B[0;32m      3\u001B[0m \u001B[0mjaccard_scores_hash\u001B[0m\u001B[1;33m\u001B[0m\u001B[1;33m\u001B[0m\u001B[0m\n",
      "\u001B[1;32m~\\PycharmProjects\\MscDataScience\\Data_Mining\\Project_1\\helper_functions.py\u001B[0m in \u001B[0;36mcompute_jaccard_hash\u001B[1;34m(data)\u001B[0m\n\u001B[0;32m     56\u001B[0m     \u001B[1;32mfor\u001B[0m \u001B[0muser_1\u001B[0m\u001B[1;33m,\u001B[0m \u001B[0muser_2\u001B[0m \u001B[1;32min\u001B[0m \u001B[0mpairs\u001B[0m\u001B[1;33m:\u001B[0m\u001B[1;33m\u001B[0m\u001B[1;33m\u001B[0m\u001B[0m\n\u001B[0;32m     57\u001B[0m         \u001B[0ms1\u001B[0m\u001B[1;33m:\u001B[0m \u001B[0mpd\u001B[0m\u001B[1;33m.\u001B[0m\u001B[0mSeries\u001B[0m \u001B[1;33m=\u001B[0m \u001B[0mdata\u001B[0m\u001B[1;33m.\u001B[0m\u001B[0miloc\u001B[0m\u001B[1;33m[\u001B[0m\u001B[0muser_1\u001B[0m\u001B[1;33m]\u001B[0m\u001B[1;33m\u001B[0m\u001B[1;33m\u001B[0m\u001B[0m\n\u001B[1;32m---> 58\u001B[1;33m         \u001B[0ms2\u001B[0m\u001B[1;33m:\u001B[0m \u001B[0mpd\u001B[0m\u001B[1;33m.\u001B[0m\u001B[0mSeries\u001B[0m \u001B[1;33m=\u001B[0m \u001B[0mdata\u001B[0m\u001B[1;33m.\u001B[0m\u001B[0miloc\u001B[0m\u001B[1;33m[\u001B[0m\u001B[0muser_2\u001B[0m\u001B[1;33m]\u001B[0m\u001B[1;33m\u001B[0m\u001B[1;33m\u001B[0m\u001B[0m\n\u001B[0m\u001B[0;32m     59\u001B[0m \u001B[1;33m\u001B[0m\u001B[0m\n\u001B[0;32m     60\u001B[0m         \u001B[0mcommon_movies\u001B[0m \u001B[1;33m=\u001B[0m \u001B[0mnp\u001B[0m\u001B[1;33m.\u001B[0m\u001B[0mcount_nonzero\u001B[0m\u001B[1;33m(\u001B[0m\u001B[0ms1\u001B[0m \u001B[1;33m==\u001B[0m \u001B[0ms2\u001B[0m\u001B[1;33m)\u001B[0m\u001B[1;33m\u001B[0m\u001B[1;33m\u001B[0m\u001B[0m\n",
      "\u001B[1;32m~\\AppData\\Roaming\\Python\\Python37\\site-packages\\pandas\\core\\indexing.py\u001B[0m in \u001B[0;36m__getitem__\u001B[1;34m(self, key)\u001B[0m\n\u001B[0;32m    929\u001B[0m \u001B[1;33m\u001B[0m\u001B[0m\n\u001B[0;32m    930\u001B[0m             \u001B[0mmaybe_callable\u001B[0m \u001B[1;33m=\u001B[0m \u001B[0mcom\u001B[0m\u001B[1;33m.\u001B[0m\u001B[0mapply_if_callable\u001B[0m\u001B[1;33m(\u001B[0m\u001B[0mkey\u001B[0m\u001B[1;33m,\u001B[0m \u001B[0mself\u001B[0m\u001B[1;33m.\u001B[0m\u001B[0mobj\u001B[0m\u001B[1;33m)\u001B[0m\u001B[1;33m\u001B[0m\u001B[1;33m\u001B[0m\u001B[0m\n\u001B[1;32m--> 931\u001B[1;33m             \u001B[1;32mreturn\u001B[0m \u001B[0mself\u001B[0m\u001B[1;33m.\u001B[0m\u001B[0m_getitem_axis\u001B[0m\u001B[1;33m(\u001B[0m\u001B[0mmaybe_callable\u001B[0m\u001B[1;33m,\u001B[0m \u001B[0maxis\u001B[0m\u001B[1;33m=\u001B[0m\u001B[0maxis\u001B[0m\u001B[1;33m)\u001B[0m\u001B[1;33m\u001B[0m\u001B[1;33m\u001B[0m\u001B[0m\n\u001B[0m\u001B[0;32m    932\u001B[0m \u001B[1;33m\u001B[0m\u001B[0m\n\u001B[0;32m    933\u001B[0m     \u001B[1;32mdef\u001B[0m \u001B[0m_is_scalar_access\u001B[0m\u001B[1;33m(\u001B[0m\u001B[0mself\u001B[0m\u001B[1;33m,\u001B[0m \u001B[0mkey\u001B[0m\u001B[1;33m:\u001B[0m \u001B[0mtuple\u001B[0m\u001B[1;33m)\u001B[0m\u001B[1;33m:\u001B[0m\u001B[1;33m\u001B[0m\u001B[1;33m\u001B[0m\u001B[0m\n",
      "\u001B[1;32m~\\AppData\\Roaming\\Python\\Python37\\site-packages\\pandas\\core\\indexing.py\u001B[0m in \u001B[0;36m_getitem_axis\u001B[1;34m(self, key, axis)\u001B[0m\n\u001B[0;32m   1564\u001B[0m \u001B[1;33m\u001B[0m\u001B[0m\n\u001B[0;32m   1565\u001B[0m             \u001B[1;31m# validate the location\u001B[0m\u001B[1;33m\u001B[0m\u001B[1;33m\u001B[0m\u001B[1;33m\u001B[0m\u001B[0m\n\u001B[1;32m-> 1566\u001B[1;33m             \u001B[0mself\u001B[0m\u001B[1;33m.\u001B[0m\u001B[0m_validate_integer\u001B[0m\u001B[1;33m(\u001B[0m\u001B[0mkey\u001B[0m\u001B[1;33m,\u001B[0m \u001B[0maxis\u001B[0m\u001B[1;33m)\u001B[0m\u001B[1;33m\u001B[0m\u001B[1;33m\u001B[0m\u001B[0m\n\u001B[0m\u001B[0;32m   1567\u001B[0m \u001B[1;33m\u001B[0m\u001B[0m\n\u001B[0;32m   1568\u001B[0m             \u001B[1;32mreturn\u001B[0m \u001B[0mself\u001B[0m\u001B[1;33m.\u001B[0m\u001B[0mobj\u001B[0m\u001B[1;33m.\u001B[0m\u001B[0m_ixs\u001B[0m\u001B[1;33m(\u001B[0m\u001B[0mkey\u001B[0m\u001B[1;33m,\u001B[0m \u001B[0maxis\u001B[0m\u001B[1;33m=\u001B[0m\u001B[0maxis\u001B[0m\u001B[1;33m)\u001B[0m\u001B[1;33m\u001B[0m\u001B[1;33m\u001B[0m\u001B[0m\n",
      "\u001B[1;32m~\\AppData\\Roaming\\Python\\Python37\\site-packages\\pandas\\core\\indexing.py\u001B[0m in \u001B[0;36m_validate_integer\u001B[1;34m(self, key, axis)\u001B[0m\n\u001B[0;32m   1498\u001B[0m         \u001B[0mlen_axis\u001B[0m \u001B[1;33m=\u001B[0m \u001B[0mlen\u001B[0m\u001B[1;33m(\u001B[0m\u001B[0mself\u001B[0m\u001B[1;33m.\u001B[0m\u001B[0mobj\u001B[0m\u001B[1;33m.\u001B[0m\u001B[0m_get_axis\u001B[0m\u001B[1;33m(\u001B[0m\u001B[0maxis\u001B[0m\u001B[1;33m)\u001B[0m\u001B[1;33m)\u001B[0m\u001B[1;33m\u001B[0m\u001B[1;33m\u001B[0m\u001B[0m\n\u001B[0;32m   1499\u001B[0m         \u001B[1;32mif\u001B[0m \u001B[0mkey\u001B[0m \u001B[1;33m>=\u001B[0m \u001B[0mlen_axis\u001B[0m \u001B[1;32mor\u001B[0m \u001B[0mkey\u001B[0m \u001B[1;33m<\u001B[0m \u001B[1;33m-\u001B[0m\u001B[0mlen_axis\u001B[0m\u001B[1;33m:\u001B[0m\u001B[1;33m\u001B[0m\u001B[1;33m\u001B[0m\u001B[0m\n\u001B[1;32m-> 1500\u001B[1;33m             \u001B[1;32mraise\u001B[0m \u001B[0mIndexError\u001B[0m\u001B[1;33m(\u001B[0m\u001B[1;34m\"single positional indexer is out-of-bounds\"\u001B[0m\u001B[1;33m)\u001B[0m\u001B[1;33m\u001B[0m\u001B[1;33m\u001B[0m\u001B[0m\n\u001B[0m\u001B[0;32m   1501\u001B[0m \u001B[1;33m\u001B[0m\u001B[0m\n\u001B[0;32m   1502\u001B[0m     \u001B[1;31m# -------------------------------------------------------------------\u001B[0m\u001B[1;33m\u001B[0m\u001B[1;33m\u001B[0m\u001B[1;33m\u001B[0m\u001B[0m\n",
      "\u001B[1;31mIndexError\u001B[0m: single positional indexer is out-of-bounds"
     ]
    }
   ],
   "source": [
    "# compute jaccard scores\n",
    "jaccard_scores_hash: Dict[int, list] = compute_jaccard_hash(data=min_hash)\n",
    "jaccard_scores_hash"
   ],
   "metadata": {
    "collapsed": false
   }
  },
  {
   "cell_type": "code",
   "execution_count": 63,
   "outputs": [
    {
     "name": "stdout",
     "output_type": "stream",
     "text": [
      "True Positive: (408, 898)\n",
      "True Positive: (197, 826)\n",
      "True Positive: (197, 600)\n",
      "False Positive: (258, 856)\n",
      "False Positive: (258, 589)\n",
      "False Positive: (100, 752)\n",
      "True Positive: (600, 826)\n",
      "False Positive: (111, 171)\n",
      "False Positive: (111, 673)\n",
      "False Positive: (111, 866)\n",
      "True Positive: (328, 788)\n",
      "True Positive: (489, 587)\n",
      "False Positive: (356, 856)\n",
      "False Positive: (474, 537)\n",
      "False Positive: (474, 716)\n",
      "False Positive: (13, 450)\n",
      "False Positive: (37, 746)\n",
      "False Positive: (37, 217)\n",
      "False Positive: (70, 307)\n",
      "False Positive: (70, 275)\n",
      "False Positive: (70, 536)\n",
      "False Positive: (284, 574)\n",
      "False Positive: (313, 716)\n",
      "False Positive: (359, 386)\n",
      "False Positive: (379, 650)\n",
      "False Positive: (429, 896)\n",
      "True Positive: (554, 764)\n",
      "False Positive: (18, 305)\n",
      "False Positive: (217, 619)\n",
      "False Positive: (406, 537)\n",
      "False Positive: (406, 747)\n",
      "False Positive: (673, 784)\n",
      "True Positive: (674, 879)\n",
      "True Positive: (800, 879)\n",
      "False Positive: (804, 881)\n",
      "False Positive: (85, 474)\n",
      "False Positive: (120, 935)\n",
      "False Positive: (143, 856)\n",
      "False Positive: (234, 537)\n",
      "False Positive: (417, 864)\n",
      "False Positive: (586, 627)\n",
      "False Positive: (846, 896)\n",
      "False Negative: (451, 489)\n"
     ]
    }
   ],
   "source": [
    "for user_1, sim_users in scores.items():\n",
    "    for (user_2, users_scores) in sim_users:\n",
    "        if {user_1, user_2} in similar_users:\n",
    "            if users_scores >= 0.5:\n",
    "                print(f\"True Positive: ({user_1}, {user_2})\")\n",
    "            if users_scores < 0.5:\n",
    "                print(f\"False Negative: ({user_1}, {user_2})\")\n",
    "        else:\n",
    "            print(f\"False Positive: ({user_1}, {user_2})\")"
   ],
   "metadata": {
    "collapsed": false
   }
  },
  {
   "cell_type": "code",
   "execution_count": null,
   "outputs": [],
   "source": [],
   "metadata": {
    "collapsed": false
   }
  }
 ],
 "metadata": {
  "kernelspec": {
   "display_name": "Python 3",
   "language": "python",
   "name": "python3"
  },
  "language_info": {
   "codemirror_mode": {
    "name": "ipython",
    "version": 2
   },
   "file_extension": ".py",
   "mimetype": "text/x-python",
   "name": "python",
   "nbconvert_exporter": "python",
   "pygments_lexer": "ipython2",
   "version": "2.7.6"
  }
 },
 "nbformat": 4,
 "nbformat_minor": 0
}
