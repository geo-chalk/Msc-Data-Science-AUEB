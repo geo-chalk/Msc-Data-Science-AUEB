{
 "cells": [
  {
   "cell_type": "markdown",
   "metadata": {},
   "source": [
    "# Computer Assigment 5 - PageRank\n",
    "\n"
   ]
  },
  {
   "cell_type": "markdown",
   "metadata": {},
   "source": [
    "* The goal of this project is to explore PageRank following the methods presented in the `Deeper Inside PageRank` Paper (Amy N. Langville and Carl D. Meyer, October 20, 2004). \n",
    "\n",
    "*\"The original Brin and Page model for PageRank uses the hyperlink structure of the Web to build a Markov chain with a primitive1 transition probability matrix $\\bm{P}$. The irreducibility of the chain guarantees that the long-run stationary vector $\\bm{\\pi}^T$, known as the PageRank vector, exists.\"*"
   ]
  },
  {
   "cell_type": "markdown",
   "metadata": {},
   "source": [
    "## Imports"
   ]
  },
  {
   "cell_type": "code",
   "execution_count": 13,
   "metadata": {},
   "outputs": [],
   "source": [
    "import numpy as np\n",
    "import pandas as pd\n",
    "import matplotlib.pyplot as plt\n",
    "\n",
    "\n",
    "from sklearn.preprocessing import MinMaxScaler\n",
    "\n",
    "# scipy\n",
    "from scipy import sparse\n",
    "from scipy.sparse import csr_matrix, csc_matrix\n",
    "from scipy.sparse.linalg import splu\n",
    "import time\n",
    "\n",
    "\n",
    "%matplotlib inline\n",
    "plt.rcParams.update(plt.rcParamsDefault)"
   ]
  },
  {
   "cell_type": "markdown",
   "metadata": {},
   "source": [
    "## Read Data"
   ]
  },
  {
   "cell_type": "markdown",
   "metadata": {},
   "source": [
    "* In the file `Stanweb.dat`, you will find in compressed form the connectivity matrix for the webpages of Stanford University. Speciffically in the first column are contained the nodes while in the second the node with which is connected.\n",
    "\n",
    "Our first goal is to read the data and build the Markov model square matrix $\\bm{P}$ *\"whose element $p_{ij}$ is the probability of moving from state $i$ (page $i$) to state $j$ (page $j$) in one time step.*\n",
    "\n",
    "Due to the volume of the data, we need to use libraries that support sparse matrices. We decided to use scipy's [sparse.csr_matrix](https://docs.scipy.org/doc/scipy/reference/generated/scipy.sparse.csr_matrix.html) which is one of the most common libraries.\n",
    "\n",
    "After loading the data we took the necessary steps and created $\\bm{P}$ matrix. "
   ]
  },
  {
   "cell_type": "code",
   "execution_count": 14,
   "metadata": {},
   "outputs": [],
   "source": [
    "#load df and create sparse matrix P\n",
    "data = pd.read_csv('stanweb.dat', names = ['Node', 'Link', 'Prob'], sep='\\t', header=None)\n"
   ]
  },
  {
   "cell_type": "code",
   "execution_count": 15,
   "metadata": {},
   "outputs": [
    {
     "data": {
      "text/plain": [
       "<281903x281903 sparse matrix of type '<class 'numpy.float64'>'\n",
       "\twith 2312497 stored elements in Compressed Sparse Row format>"
      ]
     },
     "execution_count": 15,
     "metadata": {},
     "output_type": "execute_result"
    }
   ],
   "source": [
    "# Define variables for the csr_matrix\n",
    "n = data.Node.max()\n",
    "\n",
    "# Python starts counting from zero we will correct that\n",
    "row = data.Node - 1\n",
    "column = data.Link - 1\n",
    "propabilities = data.Prob\n",
    "\n",
    "# define P matrix\n",
    "P = csr_matrix((propabilities, (row, column)), shape=(n, n))\n",
    "P"
   ]
  },
  {
   "cell_type": "markdown",
   "metadata": {},
   "source": [
    "# Part 1"
   ]
  },
  {
   "cell_type": "markdown",
   "metadata": {},
   "source": [
    "## a) Find the vector $\\pi$ "
   ]
  },
  {
   "cell_type": "markdown",
   "metadata": {},
   "source": [
    "\n",
    "* Find the vector $\\pi$ as they described in paragraph 5.1 and 5.2 of the tutorial. For both methods consider as  $\\alpha$ = 0.85 and stopping criterion $\\tau$ = $10^{-8}$ and the vector $\\alpha$ having 1 if it is corresponds to a node with no out links and 0 otherwise. \\\n",
    "* Are the results the same for both methods? \n",
    "* Which method seems to be faster? \n",
    "\n",
    "Use Gauss Seidel method for the iterative solution of the system."
   ]
  },
  {
   "cell_type": "markdown",
   "metadata": {},
   "source": [
    "### i) Power method"
   ]
  },
  {
   "cell_type": "markdown",
   "metadata": {},
   "source": [
    "* Before proceeding with the calculation, some matrices need to be presented, which will later be calculated. Those are presented in the paper, thus, for the sake of simplicity, will not be explained in detail in this project.\n",
    "\n",
    "$\\textbf{a}$: vector which Element $a_i$ = 1 if row i of $\\bm{P}$ corresponds to a dangling node, and 0, otherwise. \\\n",
    "$\\textbf{v}^T$: uniform vectoe $\\dfrac{1}{n}\\textbf{e}^T$ \\\n",
    "$\\textbf{x}^{(0)T}$: starting vector \\\n",
    "$\\textbf{x}^{(k)T}$: probability vector\\\n",
    "\n",
    "where: \n",
    "$\\textbf{x}^{(k)T} = \\alpha \\textbf{x}^{(k-1)T} \\bm{P} + (\\alpha \\textbf{x}^{(k-1)T} \\textbf{a} + (1 - \\alpha)) \\textbf{v}^T$ \\\\\n",
    "\n",
    "A rough estimate of the number of iterations needed to converge to a tolerance level $\\tau$  (measured by the\n",
    "residual, $\\textbf{x}^{(k)T} \\bar{\\bar{\\bm{P}}} − \\textbf{x}^{(k)T} = \\textbf{x}^{(k+1)T} − \\textbf{x}^{(k)T}$) is $\\dfrac{log_{10} \\tau}{log_{10} \\alpha}$."
   ]
  },
  {
   "cell_type": "code",
   "execution_count": 16,
   "metadata": {},
   "outputs": [],
   "source": [
    "def power_method(P, a , t, save_x = True):\n",
    "    \"\"\"\"\n",
    "    Function that implements the power method as described in chapter 5.1 of the corresponding paper\n",
    "    Input: P -> Markov model square matrix, a -> float, t -> tolerance level\n",
    "    Output: -> ranking vector\n",
    "    \"\"\"\n",
    "    # Find rows with all zeros\n",
    "    (n,d)=P.shape \n",
    "    zero_rows = P.sum(axis=1)==0\n",
    "    index = np.argwhere(zero_rows)\n",
    "\n",
    "    # create vector a\n",
    "    a_v = np.zeros(n)\n",
    "    a_v[index[:,0]] = 1 \n",
    "    \n",
    "    # Define v^T\n",
    "    vT = np.ones(d) / n \n",
    "    \n",
    "    # define x(0)T\n",
    "    x = np.ones(d) /  n \n",
    "    \n",
    "\n",
    "    error_list, top, bottom = [], [(np.argsort(x.flatten())+1)[::-1][:50]], [(np.argsort(x.flatten())+1)[::-1][-50:]]\n",
    "    \n",
    "    # set iterations to 1500 in case the mothod doesn't converge\n",
    "    for i in range(1500):  \n",
    "        \n",
    "        # Calculate X(k) given x(k-1). Since we are using sparse P we can use multiplication notation\n",
    "        x_new = a * x * P + (a * x * a_v + (1 - a)) * vT\n",
    "\n",
    "        if save_x:\n",
    "            top.append((np.argsort(x_new.flatten())+1)[::-1][:50])\n",
    "            bottom.append((np.argsort(x_new.flatten())+1)[::-1][-50:])   \n",
    "\n",
    "        # error\n",
    "        error = np.linalg.norm(x-x_new, ord=1)\n",
    "        error_list.append(error)\n",
    "        x = x_new\n",
    "        if error < t:\n",
    "            print(f\"Method converged after {i} iterations for a={a}\")\n",
    "\n",
    "            x_new = x_new.reshape(n,1) \n",
    "            return x_new, i, error_list, np.array(top, dtype=object), np.array(bottom, dtype=object)\n",
    "\n",
    "    print(f\"Method did not converge for a={a}.\")\n",
    "    x_new = x_new.reshape(n,1)       \n",
    "    return x_new, i, error_list, np.array(top, dtype=object), np.array(bottom, dtype=object)"
   ]
  },
  {
   "cell_type": "markdown",
   "metadata": {},
   "source": [
    "* In order to have a fair representation of the actual time, we will run the method for a number tests and calculate the average time."
   ]
  },
  {
   "cell_type": "code",
   "execution_count": 17,
   "metadata": {},
   "outputs": [
    {
     "name": "stdout",
     "output_type": "stream",
     "text": [
      "Test # 1: Method converged after 90 iterations for a=0.85\n",
      "Test # 2: Method converged after 90 iterations for a=0.85\n",
      "Test # 3: Method converged after 90 iterations for a=0.85\n",
      "Test # 4: Method converged after 90 iterations for a=0.85\n",
      "Test # 5: Method converged after 90 iterations for a=0.85\n",
      "\n",
      "The average Total time for Power Method with a=0.85 is: 7.59s.\n"
     ]
    }
   ],
   "source": [
    "runtime_pm = 0\n",
    "tests = 5\n",
    "\n",
    "for i in range(tests):\n",
    "\n",
    "    print(f\"Test # {i+1}: \", end='')\n",
    "    start_pm = time.time()\n",
    "    x_pm, iter_pm, error_pm, top_pm, bottom_pm = power_method(P , 0.85, np.power(10.0, -8))\n",
    "    end_pm = time.time()\n",
    "    runtime_pm += end_pm-start_pm\n",
    "\n",
    "print()\n",
    "print(f\"The average Total time for Power Method with a={0.85} is: {runtime_pm/tests:.2f}s.\")"
   ]
  },
  {
   "cell_type": "markdown",
   "metadata": {},
   "source": [
    "* We will save and print the Top 50 nodes."
   ]
  },
  {
   "cell_type": "code",
   "execution_count": 18,
   "metadata": {},
   "outputs": [],
   "source": [
    "def sort_top_50(x, display=True):\n",
    "    \"\"\"\n",
    "    Function that prints and returns the ranking of the 50 first nodes given a vector.\n",
    "    \"\"\"\n",
    "    top = (np.argsort(x.flatten())+1)[::-1][:50]\n",
    "    if display:\n",
    "        print(top)\n",
    "    return top"
   ]
  },
  {
   "cell_type": "code",
   "execution_count": 19,
   "metadata": {},
   "outputs": [
    {
     "name": "stdout",
     "output_type": "stream",
     "text": [
      "[ 89073 226411 241454 262860 134832 234704 136821  68889 105607  69358\n",
      "  67756 225872 186750 251796 272442  95163 119479 231363  55788 167295\n",
      " 179645  38342 117152 198090  60210 235496 132695 181701 247241 259455\n",
      " 120708  62478 161890 176790 137632 221087 183004  77999  17781  96745\n",
      " 112742 145892 151428  81435  60440 208542     91 214128 258348 222873]\n"
     ]
    }
   ],
   "source": [
    "top50_pm = sort_top_50(x_pm)"
   ]
  },
  {
   "cell_type": "markdown",
   "metadata": {},
   "source": [
    "### ii) Solving the corresponding system"
   ]
  },
  {
   "cell_type": "markdown",
   "metadata": {},
   "source": [
    "As described in 5.2 the linear system formulation is given by:\n",
    "$$\\bm{\\pi}^T (\\bm{I} - \\alpha \\bm{P}) = \\mathbf{v}^T $$\n",
    "\n",
    "As we have explored in class there are multiple methods to solve systems like this one. One of the most popular ones (which is supported by spicy's documentation) is the [Gauss-Siedel](https://en.wikipedia.org/wiki/Gauss%E2%80%93Seidel_method) method, which in this case can be implemented using [`tril`](https://docs.scipy.org/doc/scipy/reference/generated/scipy.sparse.tril.html) and [`triu`](https://docs.scipy.org/doc/scipy/reference/generated/scipy.sparse.triu.html).\n",
    "\n",
    "Using [handout-page_rank.pdf](http://snap.stanford.edu/class/cs224w-2017/slides/handout-page_rank.pdf) and [PageRank Tutorial](https://www.youtube.com/watch?v=KX1dMAb6LaU) we concluded that the linear system can be nailed down to a system of the form $\\mathbf{A} \\mathbf{x} = \\mathbf{b}$ where $\\mathbf{A} = \\bm{I} - \\alpha \\bm{P}$ and $\\mathbf{b}$ is the ranking vector."
   ]
  },
  {
   "cell_type": "code",
   "execution_count": 20,
   "metadata": {},
   "outputs": [],
   "source": [
    "def system_solver(P, a, t, save_x = True):\n",
    "    \"\"\"\"\n",
    "    Function that takes a matrix P as an input and solves the linear system using LU decomposition and the Gauss siedel method.\n",
    "    Input: P -> Markov model square matrix, a -> float, t -> tolerance level\n",
    "    Output: x(k)T -> ranking vector\n",
    "    \"\"\"\n",
    "\n",
    "    # define identiry matrix\n",
    "    (n,d) = P.shape\n",
    "    I = sparse.identity(n,  format = 'csc')\n",
    "\n",
    "    # define A matrix\n",
    "    A = (I - a * P).T\n",
    "\n",
    "    # define LU\n",
    "    L = splu(sparse.tril(A, 0,  format = 'csc'))\n",
    "    U = sparse.triu(A, 1,  format = 'csc') \n",
    "\n",
    "    # Define b and x\n",
    "    b =  np.ones(d) / n \n",
    "    x =  np.ones(d) / n\n",
    "\n",
    "    error_list, top, bottom = [], [(np.argsort(x.flatten())+1)[::-1][:50]], [(np.argsort(x.flatten())+1)[::-1][-50:]]\n",
    "    # set iterations to 1000 in case the mothod doesn't converge\n",
    "    for i in range(1000): \n",
    "\n",
    "        # Calculate X(k) given x(k-1). Since we are using sparse P we can use multiplication notation\n",
    "        x_new = L.solve(b - U*x)\n",
    "\n",
    "        if save_x:\n",
    "            top.append((np.argsort(x_new.flatten())+1)[::-1][:50])\n",
    "            bottom.append((np.argsort(x_new.flatten())+1)[::-1][-50:])\n",
    "\n",
    "        # error\n",
    "        error = np.linalg.norm(x-x_new, ord=1)\n",
    "        error_list.append(error)\n",
    "        x = x_new    \n",
    " \n",
    "        if error < t:\n",
    "\n",
    "            print(f\"Method converged after {i} iterations for a={a}\")\n",
    "\n",
    "            x_new = x_new.reshape(n,1) \n",
    "            return x_new / np.sum(x_new), i, error_list, np.array(top, dtype=object), np.array(bottom, dtype=object)\n",
    "    \n",
    "    print(f\"Method did not converge for a={a}.\")\n",
    "    x_new = x_new.reshape(n,1) \n",
    "    return x_new/np.sum(x_new), i, np.array(top, dtype=object), np.array(bottom, dtype=object)"
   ]
  },
  {
   "cell_type": "code",
   "execution_count": 21,
   "metadata": {},
   "outputs": [
    {
     "name": "stdout",
     "output_type": "stream",
     "text": [
      "Test # 1: Method converged after 61 iterations for a=0.85\n",
      "Test # 2: Method converged after 61 iterations for a=0.85\n",
      "Test # 3: Method converged after 61 iterations for a=0.85\n",
      "Test # 4: Method converged after 61 iterations for a=0.85\n",
      "Test # 5: Method converged after 61 iterations for a=0.85\n",
      "\n",
      "The average Total time for Power Method with a=0.85 is: 8.07s.\n"
     ]
    }
   ],
   "source": [
    "runtime_ls = 0\n",
    "tests = 5\n",
    "\n",
    "for i in range(tests):\n",
    "\n",
    "    print(f\"Test # {i+1}: \", end='')\n",
    "    start_ls = time.time()\n",
    "    x_ls, iter_ls, error_ls, top_ls, bottom_ls = system_solver(P , 0.85, np.power(10.0, -8))\n",
    "    end_ls = time.time()\n",
    "    runtime_ls += end_ls-start_ls\n",
    "\n",
    "print()\n",
    "print(f\"The average Total time for Power Method with a={0.85} is: {runtime_ls/tests:.2f}s.\")"
   ]
  },
  {
   "cell_type": "markdown",
   "metadata": {},
   "source": [
    "* Similar to the power method, will save and print the first 50 nodes."
   ]
  },
  {
   "cell_type": "code",
   "execution_count": 22,
   "metadata": {},
   "outputs": [
    {
     "name": "stdout",
     "output_type": "stream",
     "text": [
      "[ 89073 226411 241454 262860 134832 234704 136821  68889 105607  69358\n",
      "  67756 225872 186750 272442 251796  95163 119479 231363  55788 167295\n",
      " 179645  38342 117152 198090  60210 235496 132695 181701 259455 247241\n",
      " 120708  62478 161890 221087 183004 176790 137632  77999  17781  96745\n",
      " 112742 145892 151428  81435  60440 208542     91 214128 258348 222873]\n"
     ]
    }
   ],
   "source": [
    "top50_ls = sort_top_50(x_ls)"
   ]
  },
  {
   "cell_type": "markdown",
   "metadata": {},
   "source": [
    "### Comments on Part 1.a"
   ]
  },
  {
   "cell_type": "markdown",
   "metadata": {},
   "source": [
    "#### Are the results the same for both methods? \n",
    "\n",
    "As shown below the two methods have similar results. The ranking probabilities of the top pages are similar, and in the top 50 pages, 8 indexes don't match. By further investigating that, we can see that the order has slightly changed, since there are no pages present in the power method and not in the linear, for the top 50 ranked pages."
   ]
  },
  {
   "cell_type": "code",
   "execution_count": 23,
   "metadata": {},
   "outputs": [
    {
     "data": {
      "text/html": [
       "<div>\n",
       "<style scoped>\n",
       "    .dataframe tbody tr th:only-of-type {\n",
       "        vertical-align: middle;\n",
       "    }\n",
       "\n",
       "    .dataframe tbody tr th {\n",
       "        vertical-align: top;\n",
       "    }\n",
       "\n",
       "    .dataframe thead th {\n",
       "        text-align: right;\n",
       "    }\n",
       "</style>\n",
       "<table border=\"1\" class=\"dataframe\">\n",
       "  <thead>\n",
       "    <tr style=\"text-align: right;\">\n",
       "      <th></th>\n",
       "      <th>Power Method Prob</th>\n",
       "      <th>Gauss Seidel Prob</th>\n",
       "    </tr>\n",
       "  </thead>\n",
       "  <tbody>\n",
       "    <tr>\n",
       "      <th>89073</th>\n",
       "      <td>0.011276</td>\n",
       "      <td>0.011303</td>\n",
       "    </tr>\n",
       "    <tr>\n",
       "      <th>226411</th>\n",
       "      <td>0.009266</td>\n",
       "      <td>0.009288</td>\n",
       "    </tr>\n",
       "    <tr>\n",
       "      <th>241454</th>\n",
       "      <td>0.008278</td>\n",
       "      <td>0.008297</td>\n",
       "    </tr>\n",
       "    <tr>\n",
       "      <th>262860</th>\n",
       "      <td>0.003016</td>\n",
       "      <td>0.003023</td>\n",
       "    </tr>\n",
       "    <tr>\n",
       "      <th>134832</th>\n",
       "      <td>0.002994</td>\n",
       "      <td>0.003001</td>\n",
       "    </tr>\n",
       "  </tbody>\n",
       "</table>\n",
       "</div>"
      ],
      "text/plain": [
       "        Power Method Prob  Gauss Seidel Prob\n",
       "89073            0.011276           0.011303\n",
       "226411           0.009266           0.009288\n",
       "241454           0.008278           0.008297\n",
       "262860           0.003016           0.003023\n",
       "134832           0.002994           0.003001"
      ]
     },
     "execution_count": 23,
     "metadata": {},
     "output_type": "execute_result"
    }
   ],
   "source": [
    "df = pd.DataFrame({'Power Method Prob':x_pm[:,0],'Gauss Seidel Prob':x_ls[:,0]})\n",
    "df=df.sort_values(by=['Power Method Prob'], ascending = False)\n",
    "df.index = df.index + 1\n",
    "df.head()"
   ]
  },
  {
   "cell_type": "code",
   "execution_count": 24,
   "metadata": {},
   "outputs": [
    {
     "name": "stdout",
     "output_type": "stream",
     "text": [
      "Total number of indexes where the ranking is different at the 50 first pages:\n",
      "8\n"
     ]
    }
   ],
   "source": [
    "print(f\"Total number of indexes where the ranking is different at the 50 first pages:\")\n",
    "print(np.where(top50_pm != top50_ls)[0].shape[0])"
   ]
  },
  {
   "cell_type": "code",
   "execution_count": 25,
   "metadata": {},
   "outputs": [
    {
     "data": {
      "text/plain": [
       "[]"
      ]
     },
     "execution_count": 25,
     "metadata": {},
     "output_type": "execute_result"
    }
   ],
   "source": [
    "# Pages in top 50 of power method but not in linear system method\n",
    "[i for i in top50_ls if i not in top50_pm]"
   ]
  },
  {
   "cell_type": "markdown",
   "metadata": {},
   "source": [
    "#### Which method seems to be faster? \n",
    "\n",
    "As seen from the corresponding times, the power method converges slower compared to the linear system (90 vs 61 iterations). That said, the power method has better performance in terms of time, which could be a result of the specific implementation. Moreover, as the paper suggests, there are improvements that can be applied on $\\bm{P}$, which improve performance. \n",
    "\n",
    "In the graph below a comparison of the two error rates is displayed."
   ]
  },
  {
   "cell_type": "code",
   "execution_count": 26,
   "metadata": {},
   "outputs": [
    {
     "data": {
      "image/png": "[encoded data removed]",
      "text/plain": [
       "<Figure size 640x480 with 1 Axes>"
      ]
     },
     "metadata": {},
     "output_type": "display_data"
    }
   ],
   "source": [
    "plt.plot(error_pm, label = 'Power Method')\n",
    "plt.plot(error_ls, label = 'Gauss-Siedel method')\n",
    "\n",
    "\n",
    "plt.title('Error vs iterations for the two methods for $\\\\alpha = 0.85$.')\n",
    "plt.legend()\n",
    "plt.show()"
   ]
  },
  {
   "cell_type": "markdown",
   "metadata": {},
   "source": [
    "## b) Do the previous task with $\\alpha$ = 0.99. "
   ]
  },
  {
   "cell_type": "markdown",
   "metadata": {},
   "source": [
    "* We will perform the same calculations, but using one test, since we expect the time to be much higher."
   ]
  },
  {
   "cell_type": "code",
   "execution_count": 27,
   "metadata": {},
   "outputs": [
    {
     "name": "stdout",
     "output_type": "stream",
     "text": [
      "Method converged after 1391 iterations for a=0.99\n",
      "\n",
      "The average Total time for Power Method with a=0.99 is: 31.09s.\n"
     ]
    }
   ],
   "source": [
    "### Power method\n",
    "start_pm99 = time.time()\n",
    "x_pm99, iter_pm99, error_pm99, _, _ = power_method(P , 0.99, np.power(10.0, -8), False)\n",
    "end_pm99 = time.time()\n",
    "runtime_pm99 = end_pm99-start_pm99\n",
    "\n",
    "print()\n",
    "print(f\"The average Total time for Power Method with a={0.99} is: {runtime_pm99:.2f}s.\")\n"
   ]
  },
  {
   "cell_type": "code",
   "execution_count": 28,
   "metadata": {},
   "outputs": [
    {
     "name": "stdout",
     "output_type": "stream",
     "text": [
      "Method converged after 967 iterations for a=0.99\n",
      "\n",
      "The average Total time for Power Method with a=0.99 is: 42.08s.\n"
     ]
    }
   ],
   "source": [
    "### Power method\n",
    "start_ls99 = time.time()\n",
    "x_ls99, iter_ls99, error_ls99, _, _ = system_solver(P , 0.99, np.power(10.0, -8), False)\n",
    "end_ls99 = time.time()\n",
    "runtime_ls99 = end_ls99-start_ls99\n",
    "\n",
    "print()\n",
    "print(f\"The average Total time for Power Method with a={0.99} is: {runtime_ls99:.2f}s.\")\n"
   ]
  },
  {
   "cell_type": "code",
   "execution_count": 29,
   "metadata": {},
   "outputs": [
    {
     "data": {
      "image/png": "[encoded data removed]",
      "text/plain": [
       "<Figure size 640x480 with 1 Axes>"
      ]
     },
     "metadata": {},
     "output_type": "display_data"
    }
   ],
   "source": [
    "plt.plot(error_pm99, label = 'Power Method')\n",
    "plt.plot(error_ls99, label = 'Gauss-Siedel method')\n",
    "\n",
    "\n",
    "plt.title('Error vs iterations for the two methods for $\\\\alpha = 0.99$.')\n",
    "plt.legend()\n",
    "plt.show()"
   ]
  },
  {
   "cell_type": "markdown",
   "metadata": {},
   "source": [
    "### Your remarks on the convergence speed. "
   ]
  },
  {
   "cell_type": "markdown",
   "metadata": {},
   "source": [
    "As expected the convergence speed decreased for both methods, using a higher $\\alpha$. As mentioned in Chapter 6 of the paper, *\"Whereas $\\alpha$ = .99, not only slows convergence of the power method, but also places much greater emphasis on the hyperlink structure of the Web and much less on the teleportation tendencies of surfers.\"*\n",
    "\n",
    "While *\"The PageRank vector derived from $\\alpha$ = .99 [...] gives a “truer” PageRanking.\"* the user would, at some point, move to another website by typing it in the explorer. \n",
    "\n",
    "More info on the selection of $\\alpha$ can be found in Chapter 7."
   ]
  },
  {
   "cell_type": "markdown",
   "metadata": {},
   "source": [
    "### Did the ranking of the frst 50 nodes changed?"
   ]
  },
  {
   "cell_type": "markdown",
   "metadata": {},
   "source": [
    "We will compare the ranking of the top 15 pages, for the 4 methods. As expected, for the same values of $\\alpha$ the two methods have similar results, but the results are vastly different for the two values of $\\alpha$."
   ]
  },
  {
   "cell_type": "code",
   "execution_count": 30,
   "metadata": {},
   "outputs": [],
   "source": [
    "top50_pm99 = sort_top_50(x_pm99, False)\n",
    "top50_ls99 = sort_top_50(x_ls99, False)"
   ]
  },
  {
   "cell_type": "code",
   "execution_count": 31,
   "metadata": {},
   "outputs": [
    {
     "data": {
      "text/html": [
       "<div>\n",
       "<style scoped>\n",
       "    .dataframe tbody tr th:only-of-type {\n",
       "        vertical-align: middle;\n",
       "    }\n",
       "\n",
       "    .dataframe tbody tr th {\n",
       "        vertical-align: top;\n",
       "    }\n",
       "\n",
       "    .dataframe thead th {\n",
       "        text-align: right;\n",
       "    }\n",
       "</style>\n",
       "<table border=\"1\" class=\"dataframe\">\n",
       "  <thead>\n",
       "    <tr style=\"text-align: right;\">\n",
       "      <th></th>\n",
       "      <th>Power Method .85</th>\n",
       "      <th>Gauss Seidel .85</th>\n",
       "      <th>Power Method .99</th>\n",
       "      <th>Gauss Seidel .99</th>\n",
       "    </tr>\n",
       "  </thead>\n",
       "  <tbody>\n",
       "    <tr>\n",
       "      <th>1</th>\n",
       "      <td>89073</td>\n",
       "      <td>89073</td>\n",
       "      <td>89073</td>\n",
       "      <td>89073</td>\n",
       "    </tr>\n",
       "    <tr>\n",
       "      <th>2</th>\n",
       "      <td>226411</td>\n",
       "      <td>226411</td>\n",
       "      <td>281772</td>\n",
       "      <td>281772</td>\n",
       "    </tr>\n",
       "    <tr>\n",
       "      <th>3</th>\n",
       "      <td>241454</td>\n",
       "      <td>241454</td>\n",
       "      <td>174665</td>\n",
       "      <td>174665</td>\n",
       "    </tr>\n",
       "    <tr>\n",
       "      <th>4</th>\n",
       "      <td>262860</td>\n",
       "      <td>262860</td>\n",
       "      <td>226411</td>\n",
       "      <td>226411</td>\n",
       "    </tr>\n",
       "    <tr>\n",
       "      <th>5</th>\n",
       "      <td>134832</td>\n",
       "      <td>134832</td>\n",
       "      <td>179645</td>\n",
       "      <td>179645</td>\n",
       "    </tr>\n",
       "    <tr>\n",
       "      <th>6</th>\n",
       "      <td>234704</td>\n",
       "      <td>234704</td>\n",
       "      <td>271409</td>\n",
       "      <td>271409</td>\n",
       "    </tr>\n",
       "    <tr>\n",
       "      <th>7</th>\n",
       "      <td>136821</td>\n",
       "      <td>136821</td>\n",
       "      <td>262860</td>\n",
       "      <td>262860</td>\n",
       "    </tr>\n",
       "    <tr>\n",
       "      <th>8</th>\n",
       "      <td>68889</td>\n",
       "      <td>68889</td>\n",
       "      <td>136821</td>\n",
       "      <td>136821</td>\n",
       "    </tr>\n",
       "    <tr>\n",
       "      <th>9</th>\n",
       "      <td>105607</td>\n",
       "      <td>105607</td>\n",
       "      <td>68889</td>\n",
       "      <td>68889</td>\n",
       "    </tr>\n",
       "    <tr>\n",
       "      <th>10</th>\n",
       "      <td>69358</td>\n",
       "      <td>69358</td>\n",
       "      <td>77988</td>\n",
       "      <td>77988</td>\n",
       "    </tr>\n",
       "    <tr>\n",
       "      <th>11</th>\n",
       "      <td>67756</td>\n",
       "      <td>67756</td>\n",
       "      <td>116530</td>\n",
       "      <td>116530</td>\n",
       "    </tr>\n",
       "    <tr>\n",
       "      <th>12</th>\n",
       "      <td>225872</td>\n",
       "      <td>225872</td>\n",
       "      <td>272442</td>\n",
       "      <td>272442</td>\n",
       "    </tr>\n",
       "    <tr>\n",
       "      <th>13</th>\n",
       "      <td>186750</td>\n",
       "      <td>186750</td>\n",
       "      <td>95163</td>\n",
       "      <td>251796</td>\n",
       "    </tr>\n",
       "    <tr>\n",
       "      <th>14</th>\n",
       "      <td>251796</td>\n",
       "      <td>272442</td>\n",
       "      <td>251796</td>\n",
       "      <td>95163</td>\n",
       "    </tr>\n",
       "    <tr>\n",
       "      <th>15</th>\n",
       "      <td>272442</td>\n",
       "      <td>251796</td>\n",
       "      <td>65580</td>\n",
       "      <td>65580</td>\n",
       "    </tr>\n",
       "  </tbody>\n",
       "</table>\n",
       "</div>"
      ],
      "text/plain": [
       "    Power Method .85  Gauss Seidel .85  Power Method .99  Gauss Seidel .99\n",
       "1              89073             89073             89073             89073\n",
       "2             226411            226411            281772            281772\n",
       "3             241454            241454            174665            174665\n",
       "4             262860            262860            226411            226411\n",
       "5             134832            134832            179645            179645\n",
       "6             234704            234704            271409            271409\n",
       "7             136821            136821            262860            262860\n",
       "8              68889             68889            136821            136821\n",
       "9             105607            105607             68889             68889\n",
       "10             69358             69358             77988             77988\n",
       "11             67756             67756            116530            116530\n",
       "12            225872            225872            272442            272442\n",
       "13            186750            186750             95163            251796\n",
       "14            251796            272442            251796             95163\n",
       "15            272442            251796             65580             65580"
      ]
     },
     "execution_count": 31,
     "metadata": {},
     "output_type": "execute_result"
    }
   ],
   "source": [
    "df = pd.DataFrame({'Power Method .85':top50_pm,'Gauss Seidel .85':top50_ls, \n",
    "                'Power Method .99':top50_pm99,'Gauss Seidel .99':top50_ls99,})\n",
    "df.index += 1\n",
    "df.head(15)"
   ]
  },
  {
   "cell_type": "markdown",
   "metadata": {},
   "source": [
    "## c) When we use the power method do all the cmponents of $\\pi$ converge at the same speed to their limits? \n"
   ]
  },
  {
   "cell_type": "markdown",
   "metadata": {},
   "source": [
    "\n",
    "* If not which of the converge faster: those that correspond to important nodes or to non important ? Do you observe the same behavior when you find $\\pi$ through the solution of the linear system?\n",
    "\n",
    "In order to display how various pages converge, we kept the Top and Bottom 50 pages when running the two methods. In order for the method to converge (meaning that the error is below the threshold we specified), the fluctuation of the change in pages should be low.\n",
    "\n",
    "We approached the issue as follows. For the Top and Bottom 50 pages, of which the index has been kept for all iterations, we will calculate the average value. That value doesn't have a physical meaning, but will show if for various iteration the pages change. \n",
    "\n",
    "This will be performed for both methods.\n",
    "\n",
    "As seen from the results, in Both methods, the top pages converge quite fast, while the bottom pages are fluctuating. What is worth noting, is that the bottom 50 pages, which are displayed in the graph, converge at around the same time of iterations for both methods. This indicates that the reason for the rest of the iterations, lies in the \"middle\" pages."
   ]
  },
  {
   "cell_type": "code",
   "execution_count": 32,
   "metadata": {},
   "outputs": [
    {
     "data": {
      "image/png": "[encoded data removed]",
      "text/plain": [
       "<Figure size 1000x700 with 2 Axes>"
      ]
     },
     "metadata": {},
     "output_type": "display_data"
    }
   ],
   "source": [
    "scaler = MinMaxScaler()\n",
    "\n",
    "fig, ax = plt.subplots(2, 1, figsize=(10,7))\n",
    "\n",
    "# power method\n",
    "top_1 = scaler.fit_transform(top_pm.mean(axis=1).reshape(-1,1))\n",
    "bottom_1 = scaler.fit_transform(bottom_pm.mean(axis=1).reshape(-1,1))\n",
    "ax[0].plot(top_1, c='C0', label='Top Ranked Pages')\n",
    "ax[0].plot(bottom_1, c='r', label='Bottom Ranked Pages')\n",
    "ax[0].set_title('Power Method')\n",
    "ax[0].legend()\n",
    "\n",
    "# linear system method\n",
    "top_2 = scaler.fit_transform(top_ls.mean(axis=1).reshape(-1,1))\n",
    "bottom_2 = scaler.fit_transform(bottom_ls.mean(axis=1).reshape(-1,1))\n",
    "ax[1].plot(top_2, c='C0', label='Top Ranked Pages')\n",
    "ax[1].plot(bottom_2, c='r', label='Bottom Ranked Pages')\n",
    "ax[1].set_title('Linear System Method ')\n",
    "ax[1].set_xlabel('# of iterations')\n",
    "ax[1].set_xlim(0, top_1.shape[0])\n",
    "ax[1].legend()\n",
    "\n",
    "fig.suptitle(\"Convergence rate of Top vs Bottom ranked pages for $\\\\alpha$ = 0.85\", fontsize=18, y=1.0)\n",
    "plt.show()"
   ]
  },
  {
   "cell_type": "markdown",
   "metadata": {},
   "source": [
    "# Part 2"
   ]
  },
  {
   "cell_type": "markdown",
   "metadata": {},
   "source": [
    "A typical way to raise the PageRank of a page is to use *link farms*, i.e., a collection of *fake* pages that point to yours in order to improve its PageRank. Our goal in this problem is to do a little analysis of the design of link farms, and how their structure affects the PageRank calculations. Consider the web graph. It contains n pages, labeled 1 through n: Of course, n is very large. As mentioned in, we use the notation $G = \\alpha P + \\dfrac{1- \\alpha}{n} I$  for the transition matrix. Let $\\pi_i$ denote the PageRank of page $i$ and $\\pi = (\\pi_1, \\pi_2, \\dots , \\pi_n)$ denote the vector of PageRanks of all pages. \n",
    "\n",
    "Note:\n",
    "For a page that has $k$ outgoing links, we put 1 = $k$ for the corresponding entries of\n",
    "$P$: However, when a webpage has no outgoing links, we add a 1 as the corresponding\n",
    "diagonal element of $P$ for making its row-sum one. Note that this makes $G$ a valid\n",
    "transition probability matrix."
   ]
  },
  {
   "cell_type": "markdown",
   "metadata": {},
   "source": [
    "## a) Create new page $X$\n"
   ]
  },
  {
   "cell_type": "markdown",
   "metadata": {},
   "source": [
    "You now create a new web page $X$ (thus adding a node to the web graph). $X$ has neither in-links, nor out-links. Let $\\tilde{\\pi} = (\\tilde{\\pi_{1}}, \\tilde{\\pi_{2}}, \\cdots , \\tilde{\\pi_{n}})$ denote the vector of new PageRanks of the $n$ old web pages, and $x$ denote the new PageRank of page $X$: In other words, $(\\tilde{\\pi_{1}}, \\tilde{\\pi_{2}}, \\cdots , \\tilde{\\pi_{n}}, x)$ is the PageRank vector of the new web graph. \n",
    "\n",
    "* Write $\\tilde{\\pi}$ and $x$ in terms of $\\pi$: Comment on how the PageRanks of the older pages changed due to the addition of the new page (remember $n$ is a very large number). \n",
    "\n",
    "Hint: Use the stationary equations to calculate PageRank, not the iterative approach."
   ]
  },
  {
   "cell_type": "markdown",
   "metadata": {},
   "source": [
    "* Since $X$ will have no outgoing links it will have 1 in the corresponding diagonal element. We use the original dataframe, and add the $X$ page at the bottom."
   ]
  },
  {
   "cell_type": "code",
   "execution_count": 33,
   "metadata": {},
   "outputs": [],
   "source": [
    "def create_matrix(df):\n",
    "    \"\"\"\n",
    "    Function that created the P matrix given a dataframe\n",
    "    Input: pd.DataFrame\n",
    "    Output: csr_matrix\n",
    "    \"\"\"\n",
    "    df['Node'] = df['Node'].astype(int)\n",
    "    df['Link'] = df['Link'].astype(int)\n",
    "\n",
    "    # Define variables for the csr_matrix\n",
    "    n = df.Node.max()\n",
    "\n",
    "    # Python starts counting from zero we will correct that\n",
    "    row = df.Node - 1\n",
    "    column = df.Link - 1\n",
    "    propabilities = df.Prob\n",
    "\n",
    "    # define P matrix\n",
    "    P = csr_matrix((propabilities, (row, column)), shape=(n, n))\n",
    "    return P"
   ]
  },
  {
   "cell_type": "code",
   "execution_count": 34,
   "metadata": {},
   "outputs": [
    {
     "data": {
      "text/plain": [
       "<281904x281904 sparse matrix of type '<class 'numpy.float64'>'\n",
       "\twith 2312498 stored elements in Compressed Sparse Row format>"
      ]
     },
     "execution_count": 34,
     "metadata": {},
     "output_type": "execute_result"
    }
   ],
   "source": [
    "# Copy data and add X\n",
    "data_new = data.copy()\n",
    "X_index = int(data_new.Node.max()+1)\n",
    "data_new.loc[len(data_new.index)] = [X_index, X_index, 1.0]\n",
    "\n",
    "# define new P\n",
    "P_new = create_matrix(data_new)\n",
    "P_new"
   ]
  },
  {
   "cell_type": "markdown",
   "metadata": {},
   "source": [
    "* We will use the power method with $\\alpha = 0.85$ to fetch the rank."
   ]
  },
  {
   "cell_type": "code",
   "execution_count": 35,
   "metadata": {},
   "outputs": [
    {
     "name": "stdout",
     "output_type": "stream",
     "text": [
      "Method converged after 90 iterations for a=0.85\n"
     ]
    }
   ],
   "source": [
    "x_2, iter_2, error_2, _, _ = power_method(P_new , 0.85, np.power(10.0, -8), False)"
   ]
  },
  {
   "cell_type": "markdown",
   "metadata": {},
   "source": [
    "* The Rank of the new page is 47896, which is relatively low."
   ]
  },
  {
   "cell_type": "code",
   "execution_count": 36,
   "metadata": {},
   "outputs": [
    {
     "name": "stdout",
     "output_type": "stream",
     "text": [
      "47896\n"
     ]
    }
   ],
   "source": [
    "top = (np.argsort(x_2.flatten())+1)[::-1]\n",
    "print(np.where(top == X_index)[0][0])"
   ]
  },
  {
   "cell_type": "markdown",
   "metadata": {},
   "source": [
    "* With the addition of $X$, some pages, in the top 50 PageRanks, changed. As we can see from the pages below, the pages in positions 14 and 15 have been reversed."
   ]
  },
  {
   "cell_type": "code",
   "execution_count": 37,
   "metadata": {},
   "outputs": [
    {
     "name": "stdout",
     "output_type": "stream",
     "text": [
      "Old top 50 PageRanks:\n",
      "[ 89073 226411 241454 262860 134832 234704 136821  68889 105607  69358\n",
      "  67756 225872 186750 272442 251796  95163 119479 231363  55788 167295\n",
      " 179645  38342 117152 198090  60210 235496 132695 181701 259455 247241\n",
      "  62478 120708 161890  17781  77999 183004 221087 137632 176790  96745\n",
      " 112742 145892 151428  81435  60440 208542     91 214128 258348 222873]\n",
      "\n",
      "\n",
      "New top 50 PageRanks:\n",
      "[ 89073 226411 241454 262860 134832 234704 136821  68889 105607  69358\n",
      "  67756 225872 186750 251796 272442  95163 119479 231363  55788 167295\n",
      " 179645  38342 117152 198090  60210 235496 132695 181701 247241 259455\n",
      " 120708  62478 161890 176790 137632 221087 183004  77999  17781  96745\n",
      " 112742 145892 151428  81435  60440 208542     91 214128 258348 222873]\n"
     ]
    }
   ],
   "source": [
    "print(\"Old top 50 PageRanks:\")\n",
    "_ = sort_top_50(x_2)\n",
    "\n",
    "print(\"\\n\\nNew top 50 PageRanks:\")\n",
    "print(top50_pm)"
   ]
  },
  {
   "cell_type": "markdown",
   "metadata": {},
   "source": [
    "* Let's count the number of differences."
   ]
  },
  {
   "cell_type": "code",
   "execution_count": 38,
   "metadata": {},
   "outputs": [
    {
     "name": "stdout",
     "output_type": "stream",
     "text": [
      "Differences in PageRank with and without X: 56852\n"
     ]
    }
   ],
   "source": [
    "old, new = (np.argsort(x_pm.flatten())+1)[::-1], (np.argsort(x_2[:-1,:].flatten())+1)[::-1]\n",
    "print(f\"Differences in PageRank with and without X: {np.where(new != old)[0].shape[0]}\")"
   ]
  },
  {
   "cell_type": "markdown",
   "metadata": {},
   "source": [
    "* Write $\\hat{\\pi}$ and $x$ in terms of $\\pi$.\n",
    "\n",
    "We can find the indexes, in which pages have changed in $\\hat{\\pi}$ compared to $\\hat{\\pi}$ and locate the index of the old page in $\\hat{\\pi}$. We will make a small demonstration for the first 100 pages. \n",
    "\n",
    "With the addition of $X$ and due to the existance of $\\alpha$ we can see that even the top PageRanks changed, even if $X$ has no outlinks. This is explained by the \"random\" factor that $\\alpha$ adds to the problem."
   ]
  },
  {
   "cell_type": "code",
   "execution_count": 39,
   "metadata": {},
   "outputs": [
    {
     "name": "stdout",
     "output_type": "stream",
     "text": [
      "New index: 13, New Rank 272442, Old index 14\n",
      "New index: 14, New Rank 251796, Old index 13\n",
      "New index: 30, New Rank  62478, Old index 31\n",
      "New index: 31, New Rank 120708, Old index 30\n",
      "New index: 33, New Rank  17781, Old index 38\n",
      "New index: 34, New Rank  77999, Old index 37\n",
      "New index: 35, New Rank 176790, Old index 33\n",
      "New index: 36, New Rank 221087, Old index 35\n",
      "New index: 37, New Rank 183004, Old index 36\n",
      "New index: 38, New Rank 137632, Old index 34\n"
     ]
    }
   ],
   "source": [
    "for i, rank in enumerate(new):\n",
    "    if i != np.where(old == rank)[0][0]:\n",
    "        print(f\"New index: {i:>2}, New Rank {rank:>6}, Old index {np.where(old == rank)[0][0]:>2}\")\n",
    "    if i == 100:\n",
    "        break"
   ]
  },
  {
   "cell_type": "markdown",
   "metadata": {},
   "source": [
    "## b) Create another page $Y$\n"
   ]
  },
  {
   "cell_type": "markdown",
   "metadata": {},
   "source": [
    "Unsatisfied with the PageRank of your page $X$; you create another page $Y$ (with no in-links) that links to $X$: \n",
    "\n",
    "* What are the PageRanks of all the $n + 2$ pages now? \n",
    "* Does the PageRank of $X$ improve?"
   ]
  },
  {
   "cell_type": "markdown",
   "metadata": {},
   "source": [
    "We follow the same steps as before to add page $Y$. "
   ]
  },
  {
   "cell_type": "code",
   "execution_count": 40,
   "metadata": {},
   "outputs": [
    {
     "data": {
      "text/plain": [
       "<281905x281905 sparse matrix of type '<class 'numpy.float64'>'\n",
       "\twith 2312499 stored elements in Compressed Sparse Row format>"
      ]
     },
     "execution_count": 40,
     "metadata": {},
     "output_type": "execute_result"
    }
   ],
   "source": [
    "Y_index = int(data_new.Node.max()+1)\n",
    "data_new.loc[len(data_new.index)] = [Y_index, X_index, 1.0]\n",
    "\n",
    "# define new P\n",
    "P_new = create_matrix(data_new)\n",
    "P_new"
   ]
  },
  {
   "cell_type": "code",
   "execution_count": 41,
   "metadata": {},
   "outputs": [
    {
     "name": "stdout",
     "output_type": "stream",
     "text": [
      "Method converged after 90 iterations for a=0.85\n"
     ]
    }
   ],
   "source": [
    "x_2, iter_2, error_2, _, _ = power_method(P_new , 0.85, np.power(10.0, -8), False)\n",
    "top = (np.argsort(x_2.flatten())+1)[::-1]"
   ]
  },
  {
   "cell_type": "markdown",
   "metadata": {},
   "source": [
    "* As we can see with only 1 page ($Y$) pointing at $X$ the Rank of $X$ greatly improved. On The other hand, the Rank of $Y$ is lower than the previous rank of $X$. \n",
    "\n",
    "Intuatively, we might assume that pages with outlinks have lower rank that pages without links."
   ]
  },
  {
   "cell_type": "code",
   "execution_count": 42,
   "metadata": {},
   "outputs": [
    {
     "name": "stdout",
     "output_type": "stream",
     "text": [
      "Pagerank of X:  16180.\n",
      "Pagerank of Y: 262924.\n"
     ]
    }
   ],
   "source": [
    "print(f\"Pagerank of X: {np.where(top == X_index)[0][0]:>6}.\") \n",
    "print(f\"Pagerank of Y: {np.where(top == Y_index)[0][0]:>6}.\")"
   ]
  },
  {
   "cell_type": "markdown",
   "metadata": {},
   "source": [
    "## c) Create another third page $Z$"
   ]
  },
  {
   "cell_type": "markdown",
   "metadata": {},
   "source": [
    "Still unsatisfied, you create a third page $Z$: \n",
    "\n",
    "* How should you set up the links on your three pages so as to maximize the PageRank of $X$?"
   ]
  },
  {
   "cell_type": "markdown",
   "metadata": {},
   "source": [
    "As we saw, having $X$ as an outlink of $Y$ increased its PageRank. We can create a new page $Z$ which will contain $X$ an outlink. That said, in order to maximize the PageRank of $X$ we do not want $Y$ and $Z$ to point at each other, since this would lower the probablility from $Y$ and $Z$ torwards $X$ and, in consequence, lower $X$'s PageRank.\n",
    "\n",
    "After experimenting and trying the above, we create new $\\bm{P}$ table and get the Ranks of our $n +3$ new pages. $X$'s PageRank has, once again, improved."
   ]
  },
  {
   "cell_type": "code",
   "execution_count": 43,
   "metadata": {},
   "outputs": [],
   "source": [
    "def run_pagerank(df, X_index, Y_index, Z_index):\n",
    "    \"\"\"\n",
    "    Function that runs the PowerMethod and prints pagerank of given nodes\n",
    "    Input: pd.DataFrame, index, index, index\n",
    "    Output: None\n",
    "    \"\"\"\n",
    "    \n",
    "    # define new P\n",
    "    P_new = create_matrix(data_new)\n",
    "\n",
    "    x_2, iter_2, error_2, _, _ = power_method(P_new , 0.85, np.power(10.0, -8), False)\n",
    "    top = (np.argsort(x_2.flatten())+1)[::-1]\n",
    "\n",
    "    print(f\"\\nPagerank of X: {np.where(top == X_index)[0][0]:>6}.\") \n",
    "    print(f\"Pagerank of Y: {np.where(top == Y_index)[0][0]:>6}.\")\n",
    "    print(f\"Pagerank of Z: {np.where(top == Z_index)[0][0]:>6}.\")"
   ]
  },
  {
   "cell_type": "code",
   "execution_count": 44,
   "metadata": {},
   "outputs": [
    {
     "name": "stdout",
     "output_type": "stream",
     "text": [
      "Method converged after 90 iterations for a=0.85\n",
      "\n",
      "Pagerank of X:  11114.\n",
      "Pagerank of Y: 279491.\n",
      "Pagerank of Z: 262924.\n"
     ]
    }
   ],
   "source": [
    "# Copy data and add X\n",
    "data_new = data.copy()\n",
    "X_index = int(data_new.Node.max()+1)\n",
    "Y_index = int(data_new.Node.max()+2)\n",
    "Z_index = int(data_new.Node.max()+3)\n",
    "\n",
    "data_new.loc[len(data_new.index)] = [X_index, X_index, 1]\n",
    "data_new.loc[len(data_new.index)] = [Y_index, X_index, 1]\n",
    "data_new.loc[len(data_new.index)] = [Z_index, X_index, 1]\n",
    "\n",
    "run_pagerank(data_new, X_index, Y_index, Z_index)"
   ]
  },
  {
   "cell_type": "markdown",
   "metadata": {},
   "source": [
    "## d) Add links from $X$ to popular pages"
   ]
  },
  {
   "cell_type": "markdown",
   "metadata": {},
   "source": [
    "You have one last idea, you add links from your page $X$ to older, popular pages (e.g.: you add a list of *Useful links* on your page). \n",
    "\n",
    "* Does this improve the PageRank of $X$? \n",
    "* Does the answer change if you add links from $Y$ or $Z$ to older, popular pages?"
   ]
  },
  {
   "cell_type": "markdown",
   "metadata": {},
   "source": [
    "We will add the top 10 ranked pages as outlinks from $X$. As we can see the PageRank in now much lower. This is expected, since a page containing multiple links to popular pages is penalized."
   ]
  },
  {
   "cell_type": "code",
   "execution_count": 45,
   "metadata": {},
   "outputs": [
    {
     "name": "stdout",
     "output_type": "stream",
     "text": [
      "Method converged after 90 iterations for a=0.85\n",
      "\n",
      "Pagerank of X: 109089.\n",
      "Pagerank of Y: 279491.\n",
      "Pagerank of Z: 262924.\n"
     ]
    }
   ],
   "source": [
    "# delete existing X node\n",
    "data_new.drop(data_new.loc[data_new.Node == X_index].index, inplace=True)\n",
    "data_new.reset_index(inplace=True, drop=True)\n",
    "\n",
    "# Add 10 top pages for X\n",
    "for i in top[:10]:\n",
    "    data_new.loc[len(data_new.index)] = [X_index, i, 1/10]\n",
    "\n",
    "run_pagerank(data_new, X_index, Y_index, Z_index)"
   ]
  },
  {
   "cell_type": "markdown",
   "metadata": {},
   "source": [
    "* By adding the top 10 pages to $Y$ and $Z$, the score of $X$ is lower, compared to when $Y$ and $Z$ only pointed to $X$."
   ]
  },
  {
   "cell_type": "code",
   "execution_count": 46,
   "metadata": {},
   "outputs": [
    {
     "name": "stdout",
     "output_type": "stream",
     "text": [
      "Method converged after 90 iterations for a=0.85\n",
      "\n",
      "Pagerank of X:  27084.\n",
      "Pagerank of Y: 279491.\n",
      "Pagerank of Z: 262924.\n"
     ]
    }
   ],
   "source": [
    "# delete existing X, Y, Z node\n",
    "data_new.drop(data_new.loc[(data_new.Node == X_index) | (data_new.Node == Y_index) | (data_new.Node == Z_index)].index, inplace=True)\n",
    "data_new.reset_index(inplace=True, drop=True)\n",
    "\n",
    "# Add X link\n",
    "data_new.loc[len(data_new.index)] = [X_index, X_index, 1]\n",
    "\n",
    "# Add X and top 10 pages to Y and Z\n",
    "data_new.loc[len(data_new.index)] = [Y_index, X_index, 1/11]\n",
    "data_new.loc[len(data_new.index)] = [Z_index, X_index, 1/11]\n",
    "\n",
    "# Add 10 top pages for X\n",
    "for i in top[:10]:\n",
    "    data_new.loc[len(data_new.index)] = [Y_index, i, 1/11]\n",
    "    data_new.loc[len(data_new.index)] = [Z_index, i, 1/11]\n",
    "\n",
    "run_pagerank(data_new, X_index, Y_index, Z_index)"
   ]
  },
  {
   "cell_type": "markdown",
   "metadata": {},
   "source": [
    "## e) Raise the PageRank of $X$"
   ]
  },
  {
   "cell_type": "markdown",
   "metadata": {},
   "source": [
    "Describe what steps you might take to raise the PageRank of $X$ further. You do not need to prove anything here, just summarize your thoughts based on the previous parts. For extra credit though, you can prove what the structure for a link farm with $m$ nodes should be to optimize the PageRank of $X$."
   ]
  },
  {
   "cell_type": "markdown",
   "metadata": {},
   "source": [
    "As described in the video [PageRank Explained](https://www.youtube.com/watch?v=MG0fIXfrT9A), a page's rank will greatly increase if a highly ranked page is pointing at it as shown in the figure below.\n",
    "\n",
    "<img src=\"pagerank_explained.png\" width=\"600\" height=\"400\">\n",
    "\n",
    "Thus, we would have to add $X$ as an outlink to some important pages. Alternatively, $X$ should be an outlink to many pages, which, as we confirmed with $Y$ and $Z$, increased the PageRank. The second method (Link farming) was largely used in the past, in order to increase the PageRank, but since 2011 Google used the Panda algorithm (and many other since) to deal with link farming exploitation.  \n",
    "\n",
    "We will test the first hypothesis, by adding $X$ as an outlink to the top ranked page. "
   ]
  },
  {
   "cell_type": "code",
   "execution_count": 47,
   "metadata": {},
   "outputs": [],
   "source": [
    "# Add X to top page\n",
    "data_new.loc[len(data_new.index)] = [top[0], X_index, 1]\n",
    "count_top = data_new.loc[(data_new.Node == top[0])].shape[0]\n",
    "\n",
    "# readjust probs\n",
    "df.value1 = data_new.loc[(data_new.Node == top[0]), 'Prob'] = 1/count_top"
   ]
  },
  {
   "cell_type": "markdown",
   "metadata": {},
   "source": [
    "* As we can see, the fact that the top ranked page points to $X$ has greatly increased the rank of $X$. "
   ]
  },
  {
   "cell_type": "code",
   "execution_count": 48,
   "metadata": {},
   "outputs": [
    {
     "name": "stdout",
     "output_type": "stream",
     "text": [
      "Method converged after 90 iterations for a=0.85\n",
      "\n",
      "Pagerank of X:    129.\n",
      "Pagerank of Y: 279491.\n",
      "Pagerank of Z: 262924.\n"
     ]
    }
   ],
   "source": [
    "run_pagerank(data_new, X_index, Y_index, Z_index)"
   ]
  }
 ],
 "metadata": {
  "interpreter": {
   "hash": "1944f5e43e668c86f8f1880481e883b3156249857d159c26e5f0d2425a1923ff"
  },
  "kernelspec": {
   "display_name": "Python 3.9.7 ('base')",
   "language": "python",
   "name": "python3"
  },
  "language_info": {
   "codemirror_mode": {
    "name": "ipython",
    "version": 3
   },
   "file_extension": ".py",
   "mimetype": "text/x-python",
   "name": "python",
   "nbconvert_exporter": "python",
   "pygments_lexer": "ipython3",
   "version": "3.9.7"
  },
  "orig_nbformat": 4
 },
 "nbformat": 4,
 "nbformat_minor": 2
}
