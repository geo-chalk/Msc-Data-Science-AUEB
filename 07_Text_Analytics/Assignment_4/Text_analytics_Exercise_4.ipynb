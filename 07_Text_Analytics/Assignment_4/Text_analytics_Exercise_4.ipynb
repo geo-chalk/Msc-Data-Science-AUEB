{
 "nbformat": 4,
 "nbformat_minor": 0,
 "metadata": {
  "colab": {
   "name": "Text_analytics_Exercise_4.ipynb",
   "provenance": [],
   "collapsed_sections": []
  },
  "kernelspec": {
   "name": "python3",
   "display_name": "Python 3"
  },
  "language_info": {
   "name": "python"
  },
  "accelerator": "GPU",
  "gpuClass": "standard"
 },
 "cells": [
  {
   "cell_type": "markdown",
   "metadata": {
    "id": "sGPfEQfURug-"
   },
   "source": [
    "# Develop a sentiment classifier for a kind of texts of your choice "
   ]
  },
  {
   "cell_type": "markdown",
   "metadata": {
    "id": "649oJlqxguYe"
   },
   "source": [
    "# Install packages\n",
    "\n"
   ]
  },
  {
   "cell_type": "code",
   "execution_count": null,
   "metadata": {
    "colab": {
     "base_uri": "https://localhost:8080/"
    },
    "id": "-G0YSBCt0tsn",
    "outputId": "c0cc157f-e33e-4e6c-936c-6a899cb24c02"
   },
   "outputs": [
    {
     "output_type": "stream",
     "name": "stdout",
     "text": [
      "Looking in indexes: https://pypi.org/simple, https://us-python.pkg.dev/colab-wheels/public/simple/\n",
      "Requirement already satisfied: kaggle in /usr/local/lib/python3.7/dist-packages (1.5.12)\n",
      "Requirement already satisfied: tqdm in /usr/local/lib/python3.7/dist-packages (from kaggle) (4.64.0)\n",
      "Requirement already satisfied: six>=1.10 in /usr/local/lib/python3.7/dist-packages (from kaggle) (1.15.0)\n",
      "Requirement already satisfied: python-slugify in /usr/local/lib/python3.7/dist-packages (from kaggle) (6.1.2)\n",
      "Requirement already satisfied: urllib3 in /usr/local/lib/python3.7/dist-packages (from kaggle) (1.24.3)\n",
      "Requirement already satisfied: certifi in /usr/local/lib/python3.7/dist-packages (from kaggle) (2022.6.15)\n",
      "Requirement already satisfied: python-dateutil in /usr/local/lib/python3.7/dist-packages (from kaggle) (2.8.2)\n",
      "Requirement already satisfied: requests in /usr/local/lib/python3.7/dist-packages (from kaggle) (2.23.0)\n",
      "Requirement already satisfied: text-unidecode>=1.3 in /usr/local/lib/python3.7/dist-packages (from python-slugify->kaggle) (1.3)\n",
      "Requirement already satisfied: chardet<4,>=3.0.2 in /usr/local/lib/python3.7/dist-packages (from requests->kaggle) (3.0.4)\n",
      "Requirement already satisfied: idna<3,>=2.5 in /usr/local/lib/python3.7/dist-packages (from requests->kaggle) (2.10)\n",
      "Looking in indexes: https://pypi.org/simple, https://us-python.pkg.dev/colab-wheels/public/simple/\n",
      "Requirement already satisfied: tensorflow in /usr/local/lib/python3.7/dist-packages (2.8.2+zzzcolab20220527125636)\n",
      "Collecting tensorflow\n",
      "  Downloading tensorflow-2.9.1-cp37-cp37m-manylinux_2_17_x86_64.manylinux2014_x86_64.whl (511.7 MB)\n",
      "\u001B[K     |████████████████████████████████| 511.7 MB 6.7 kB/s \n",
      "\u001B[?25hCollecting flatbuffers<2,>=1.12\n",
      "  Downloading flatbuffers-1.12-py2.py3-none-any.whl (15 kB)\n",
      "Requirement already satisfied: astunparse>=1.6.0 in /usr/local/lib/python3.7/dist-packages (from tensorflow) (1.6.3)\n",
      "Collecting keras<2.10.0,>=2.9.0rc0\n",
      "  Downloading keras-2.9.0-py2.py3-none-any.whl (1.6 MB)\n",
      "\u001B[K     |████████████████████████████████| 1.6 MB 48.9 MB/s \n",
      "\u001B[?25hRequirement already satisfied: six>=1.12.0 in /usr/local/lib/python3.7/dist-packages (from tensorflow) (1.15.0)\n",
      "Requirement already satisfied: setuptools in /usr/local/lib/python3.7/dist-packages (from tensorflow) (57.4.0)\n",
      "Requirement already satisfied: libclang>=13.0.0 in /usr/local/lib/python3.7/dist-packages (from tensorflow) (14.0.1)\n",
      "Requirement already satisfied: packaging in /usr/local/lib/python3.7/dist-packages (from tensorflow) (21.3)\n",
      "Requirement already satisfied: h5py>=2.9.0 in /usr/local/lib/python3.7/dist-packages (from tensorflow) (3.1.0)\n",
      "Requirement already satisfied: google-pasta>=0.1.1 in /usr/local/lib/python3.7/dist-packages (from tensorflow) (0.2.0)\n",
      "Requirement already satisfied: numpy>=1.20 in /usr/local/lib/python3.7/dist-packages (from tensorflow) (1.21.6)\n",
      "Requirement already satisfied: tensorflow-io-gcs-filesystem>=0.23.1 in /usr/local/lib/python3.7/dist-packages (from tensorflow) (0.26.0)\n",
      "Requirement already satisfied: typing-extensions>=3.6.6 in /usr/local/lib/python3.7/dist-packages (from tensorflow) (4.1.1)\n",
      "Requirement already satisfied: grpcio<2.0,>=1.24.3 in /usr/local/lib/python3.7/dist-packages (from tensorflow) (1.46.3)\n",
      "Requirement already satisfied: opt-einsum>=2.3.2 in /usr/local/lib/python3.7/dist-packages (from tensorflow) (3.3.0)\n",
      "Collecting gast<=0.4.0,>=0.2.1\n",
      "  Downloading gast-0.4.0-py3-none-any.whl (9.8 kB)\n",
      "Requirement already satisfied: protobuf<3.20,>=3.9.2 in /usr/local/lib/python3.7/dist-packages (from tensorflow) (3.17.3)\n",
      "Requirement already satisfied: wrapt>=1.11.0 in /usr/local/lib/python3.7/dist-packages (from tensorflow) (1.14.1)\n",
      "Collecting tensorboard<2.10,>=2.9\n",
      "  Downloading tensorboard-2.9.1-py3-none-any.whl (5.8 MB)\n",
      "\u001B[K     |████████████████████████████████| 5.8 MB 51.3 MB/s \n",
      "\u001B[?25hCollecting tensorflow-estimator<2.10.0,>=2.9.0rc0\n",
      "  Downloading tensorflow_estimator-2.9.0-py2.py3-none-any.whl (438 kB)\n",
      "\u001B[K     |████████████████████████████████| 438 kB 69.5 MB/s \n",
      "\u001B[?25hRequirement already satisfied: keras-preprocessing>=1.1.1 in /usr/local/lib/python3.7/dist-packages (from tensorflow) (1.1.2)\n",
      "Requirement already satisfied: absl-py>=1.0.0 in /usr/local/lib/python3.7/dist-packages (from tensorflow) (1.1.0)\n",
      "Requirement already satisfied: termcolor>=1.1.0 in /usr/local/lib/python3.7/dist-packages (from tensorflow) (1.1.0)\n",
      "Requirement already satisfied: wheel<1.0,>=0.23.0 in /usr/local/lib/python3.7/dist-packages (from astunparse>=1.6.0->tensorflow) (0.37.1)\n",
      "Requirement already satisfied: cached-property in /usr/local/lib/python3.7/dist-packages (from h5py>=2.9.0->tensorflow) (1.5.2)\n",
      "Requirement already satisfied: tensorboard-plugin-wit>=1.6.0 in /usr/local/lib/python3.7/dist-packages (from tensorboard<2.10,>=2.9->tensorflow) (1.8.1)\n",
      "Requirement already satisfied: google-auth-oauthlib<0.5,>=0.4.1 in /usr/local/lib/python3.7/dist-packages (from tensorboard<2.10,>=2.9->tensorflow) (0.4.6)\n",
      "Requirement already satisfied: google-auth<3,>=1.6.3 in /usr/local/lib/python3.7/dist-packages (from tensorboard<2.10,>=2.9->tensorflow) (1.35.0)\n",
      "Requirement already satisfied: requests<3,>=2.21.0 in /usr/local/lib/python3.7/dist-packages (from tensorboard<2.10,>=2.9->tensorflow) (2.23.0)\n",
      "Requirement already satisfied: tensorboard-data-server<0.7.0,>=0.6.0 in /usr/local/lib/python3.7/dist-packages (from tensorboard<2.10,>=2.9->tensorflow) (0.6.1)\n",
      "Requirement already satisfied: werkzeug>=1.0.1 in /usr/local/lib/python3.7/dist-packages (from tensorboard<2.10,>=2.9->tensorflow) (1.0.1)\n",
      "Requirement already satisfied: markdown>=2.6.8 in /usr/local/lib/python3.7/dist-packages (from tensorboard<2.10,>=2.9->tensorflow) (3.3.7)\n",
      "Requirement already satisfied: cachetools<5.0,>=2.0.0 in /usr/local/lib/python3.7/dist-packages (from google-auth<3,>=1.6.3->tensorboard<2.10,>=2.9->tensorflow) (4.2.4)\n",
      "Requirement already satisfied: rsa<5,>=3.1.4 in /usr/local/lib/python3.7/dist-packages (from google-auth<3,>=1.6.3->tensorboard<2.10,>=2.9->tensorflow) (4.8)\n",
      "Requirement already satisfied: pyasn1-modules>=0.2.1 in /usr/local/lib/python3.7/dist-packages (from google-auth<3,>=1.6.3->tensorboard<2.10,>=2.9->tensorflow) (0.2.8)\n",
      "Requirement already satisfied: requests-oauthlib>=0.7.0 in /usr/local/lib/python3.7/dist-packages (from google-auth-oauthlib<0.5,>=0.4.1->tensorboard<2.10,>=2.9->tensorflow) (1.3.1)\n",
      "Requirement already satisfied: importlib-metadata>=4.4 in /usr/local/lib/python3.7/dist-packages (from markdown>=2.6.8->tensorboard<2.10,>=2.9->tensorflow) (4.11.4)\n",
      "Requirement already satisfied: zipp>=0.5 in /usr/local/lib/python3.7/dist-packages (from importlib-metadata>=4.4->markdown>=2.6.8->tensorboard<2.10,>=2.9->tensorflow) (3.8.0)\n",
      "Requirement already satisfied: pyasn1<0.5.0,>=0.4.6 in /usr/local/lib/python3.7/dist-packages (from pyasn1-modules>=0.2.1->google-auth<3,>=1.6.3->tensorboard<2.10,>=2.9->tensorflow) (0.4.8)\n",
      "Requirement already satisfied: urllib3!=1.25.0,!=1.25.1,<1.26,>=1.21.1 in /usr/local/lib/python3.7/dist-packages (from requests<3,>=2.21.0->tensorboard<2.10,>=2.9->tensorflow) (1.24.3)\n",
      "Requirement already satisfied: certifi>=2017.4.17 in /usr/local/lib/python3.7/dist-packages (from requests<3,>=2.21.0->tensorboard<2.10,>=2.9->tensorflow) (2022.6.15)\n",
      "Requirement already satisfied: idna<3,>=2.5 in /usr/local/lib/python3.7/dist-packages (from requests<3,>=2.21.0->tensorboard<2.10,>=2.9->tensorflow) (2.10)\n",
      "Requirement already satisfied: chardet<4,>=3.0.2 in /usr/local/lib/python3.7/dist-packages (from requests<3,>=2.21.0->tensorboard<2.10,>=2.9->tensorflow) (3.0.4)\n",
      "Requirement already satisfied: oauthlib>=3.0.0 in /usr/local/lib/python3.7/dist-packages (from requests-oauthlib>=0.7.0->google-auth-oauthlib<0.5,>=0.4.1->tensorboard<2.10,>=2.9->tensorflow) (3.2.0)\n",
      "Requirement already satisfied: pyparsing!=3.0.5,>=2.0.2 in /usr/local/lib/python3.7/dist-packages (from packaging->tensorflow) (3.0.9)\n",
      "Installing collected packages: tensorflow-estimator, tensorboard, keras, gast, flatbuffers, tensorflow\n",
      "  Attempting uninstall: tensorflow-estimator\n",
      "    Found existing installation: tensorflow-estimator 2.8.0\n",
      "    Uninstalling tensorflow-estimator-2.8.0:\n",
      "      Successfully uninstalled tensorflow-estimator-2.8.0\n",
      "  Attempting uninstall: tensorboard\n",
      "    Found existing installation: tensorboard 2.8.0\n",
      "    Uninstalling tensorboard-2.8.0:\n",
      "      Successfully uninstalled tensorboard-2.8.0\n",
      "  Attempting uninstall: keras\n",
      "    Found existing installation: keras 2.8.0\n",
      "    Uninstalling keras-2.8.0:\n",
      "      Successfully uninstalled keras-2.8.0\n",
      "  Attempting uninstall: gast\n",
      "    Found existing installation: gast 0.5.3\n",
      "    Uninstalling gast-0.5.3:\n",
      "      Successfully uninstalled gast-0.5.3\n",
      "  Attempting uninstall: flatbuffers\n",
      "    Found existing installation: flatbuffers 2.0\n",
      "    Uninstalling flatbuffers-2.0:\n",
      "      Successfully uninstalled flatbuffers-2.0\n",
      "  Attempting uninstall: tensorflow\n",
      "    Found existing installation: tensorflow 2.8.2+zzzcolab20220527125636\n",
      "    Uninstalling tensorflow-2.8.2+zzzcolab20220527125636:\n",
      "      Successfully uninstalled tensorflow-2.8.2+zzzcolab20220527125636\n",
      "Successfully installed flatbuffers-1.12 gast-0.4.0 keras-2.9.0 tensorboard-2.9.1 tensorflow-2.9.1 tensorflow-estimator-2.9.0\n",
      "Looking in indexes: https://pypi.org/simple, https://us-python.pkg.dev/colab-wheels/public/simple/\n",
      "Collecting keras-self-attention\n",
      "  Downloading keras-self-attention-0.51.0.tar.gz (11 kB)\n",
      "Requirement already satisfied: numpy in /usr/local/lib/python3.7/dist-packages (from keras-self-attention) (1.21.6)\n",
      "Building wheels for collected packages: keras-self-attention\n",
      "  Building wheel for keras-self-attention (setup.py) ... \u001B[?25l\u001B[?25hdone\n",
      "  Created wheel for keras-self-attention: filename=keras_self_attention-0.51.0-py3-none-any.whl size=18912 sha256=e37b9a45d5fd2315abe01d59fc6eb2f48eb5c1d0c96de86ab37eb275b9d97b92\n",
      "  Stored in directory: /root/.cache/pip/wheels/95/b1/a8/5ee00cc137940b2f6fa198212e8f45d813d0e0d9c3a04035a3\n",
      "Successfully built keras-self-attention\n",
      "Installing collected packages: keras-self-attention\n",
      "Successfully installed keras-self-attention-0.51.0\n"
     ]
    }
   ],
   "source": [
    "!pip install kaggle --upgrade\n",
    "!pip install --upgrade tensorflow\n",
    "!pip install keras-self-attention"
   ]
  },
  {
   "cell_type": "markdown",
   "metadata": {
    "id": "9ea1d812-8e93-44a2-9807-bf564e6689ed"
   },
   "source": [
    "# Imports"
   ]
  },
  {
   "cell_type": "code",
   "execution_count": null,
   "metadata": {
    "id": "c26137ed-9534-4d53-b63c-d57bf3a0ce71"
   },
   "outputs": [],
   "source": [
    "# numpy stack\n",
    "import numpy as np\n",
    "import pandas as pd\n",
    "import matplotlib.pyplot as plt\n",
    "import seaborn as sns\n",
    "\n",
    "# general\n",
    "import re\n",
    "import os\n",
    "from string import digits\n",
    "import time\n",
    "\n",
    "# nltk\n",
    "import nltk\n",
    "from nltk.util import ngrams\n",
    "from nltk.tokenize import TweetTokenizer\n",
    "from nltk.stem import WordNetLemmatizer\n",
    "from nltk.corpus import stopwords\n",
    "\n",
    "# Sklearn\n",
    "from sklearn.model_selection import train_test_split, learning_curve\n",
    "from sklearn.feature_extraction.text import TfidfVectorizer\n",
    "from sklearn.metrics import accuracy_score, ConfusionMatrixDisplay, auc, precision_recall_curve, f1_score, classification_report, accuracy_score, confusion_matrix, roc_auc_score\n",
    "from sklearn.dummy import DummyClassifier\n",
    "from sklearn.feature_extraction.text import CountVectorizer \n",
    "from sklearn.linear_model import LogisticRegression\n",
    "from sklearn.impute import SimpleImputer\n",
    "from sklearn.decomposition import TruncatedSVD\n",
    "from sklearn.model_selection import RandomizedSearchCV, cross_validate\n",
    "\n",
    "\n",
    "# scipy\n",
    "from scipy import sparse\n",
    "\n",
    "#  word embeddings\n",
    "import gensim.downloader as GensimDownloader\n",
    "from gensim.models import Word2Vec, KeyedVectors\n",
    "\n",
    "# plt.style\n",
    "plt.style.use('default')\n",
    "\n",
    "# inline to include plots\n",
    "%matplotlib inline\n"
   ]
  },
  {
   "cell_type": "markdown",
   "metadata": {
    "id": "nepugBzm3aRN"
   },
   "source": [
    "# Kaggle"
   ]
  },
  {
   "cell_type": "code",
   "execution_count": null,
   "metadata": {
    "colab": {
     "base_uri": "https://localhost:8080/"
    },
    "id": "0uy4n81l3d1O",
    "outputId": "eed08276-ef02-4523-8456-e5e1d3dbbbcb"
   },
   "outputs": [
    {
     "output_type": "stream",
     "name": "stdout",
     "text": [
      "Downloading twitter-sentiment-analysis2.zip to /content\n",
      " 62% 9.00M/14.6M [00:01<00:00, 5.99MB/s]\n",
      "100% 14.6M/14.6M [00:01<00:00, 10.3MB/s]\n",
      "Archive:  twitter-sentiment-analysis2.zip\n",
      "  inflating: twitter/test.csv        \n",
      "  inflating: twitter/train.csv       \n"
     ]
    }
   ],
   "source": [
    "os.environ['KAGGLE_USERNAME'] = 'giannislakkas'\n",
    "os.environ['KAGGLE_KEY'] = '9181860ede8d79ed87da011b601b71aa'\n",
    "\n",
    "# Kaggle\n",
    "from kaggle.api.kaggle_api_extended import KaggleApi\n",
    "\n",
    "def load_dataset():\n",
    "  api = KaggleApi()\n",
    "  api.authenticate()\n",
    "  !kaggle competitions download -c twitter-sentiment-analysis2\n",
    "  !mkdir twitter\n",
    "  !unzip twitter-sentiment-analysis2.zip -d twitter  \n",
    "\n",
    "try:\n",
    "  if os.path.exists('twitter/test.csv'):\n",
    "    print('files exists, proceeding')\n",
    "  else:\n",
    "    load_dataset()\n",
    "except:\n",
    "  load_dataset()"
   ]
  },
  {
   "cell_type": "markdown",
   "metadata": {
    "id": "dFcDIl_3gzHU"
   },
   "source": [
    "# Downloads"
   ]
  },
  {
   "cell_type": "code",
   "execution_count": null,
   "metadata": {
    "colab": {
     "base_uri": "https://localhost:8080/"
    },
    "id": "xaYqNG_Ng147",
    "outputId": "a4fafea2-c796-4082-e61f-15b4ed01cea7"
   },
   "outputs": [
    {
     "output_type": "stream",
     "name": "stderr",
     "text": [
      "[nltk_data] Downloading package wordnet to /root/nltk_data...\n",
      "[nltk_data]   Unzipping corpora/wordnet.zip.\n",
      "[nltk_data] Downloading package stopwords to /root/nltk_data...\n",
      "[nltk_data]   Unzipping corpora/stopwords.zip.\n"
     ]
    },
    {
     "output_type": "execute_result",
     "data": {
      "text/plain": [
       "True"
      ]
     },
     "metadata": {},
     "execution_count": 4
    }
   ],
   "source": [
    "nltk.download('wordnet')\n",
    "nltk.download('stopwords')"
   ]
  },
  {
   "cell_type": "markdown",
   "metadata": {
    "id": "0cYw9vaUhCqj"
   },
   "source": [
    "# Download Dataset"
   ]
  },
  {
   "cell_type": "markdown",
   "metadata": {
    "id": "g6jYSaRAhG3i"
   },
   "source": [
    "* We opted for the [Twitter Sentiment Analysis Dataset](https://www.kaggle.com/c/twitter-sentiment-analysis2/data). In order to load the file, the kaggle.json file need to be uploaded when prompted.\n",
    "\n",
    "* The dataset consists of a train and test set, which will be added to a `./twitter` folder."
   ]
  },
  {
   "cell_type": "markdown",
   "metadata": {
    "id": "pt5S76_yhkKm"
   },
   "source": [
    "# Load files"
   ]
  },
  {
   "cell_type": "markdown",
   "metadata": {
    "id": "UeQbhCH5hmad"
   },
   "source": [
    "* For this exercise and due to RAM constrains in Google Colab we used the `train.csv` and loaded the file into a DataFrame, which will be later be used for the train/dev/test split. "
   ]
  },
  {
   "cell_type": "code",
   "execution_count": null,
   "metadata": {
    "colab": {
     "base_uri": "https://localhost:8080/"
    },
    "id": "2s3MVgOP5YDQ",
    "outputId": "0989ba83-c3ba-425b-913c-8f500ab20eb0"
   },
   "outputs": [
    {
     "output_type": "execute_result",
     "data": {
      "text/plain": [
       "(99989, 2)"
      ]
     },
     "metadata": {},
     "execution_count": 5
    }
   ],
   "source": [
    "data = pd.read_csv('./twitter/train.csv', delimiter=',',  encoding=\"latin-1\")\n",
    "\n",
    "data.drop(columns='ItemID', inplace=True)\n",
    "data.shape"
   ]
  },
  {
   "cell_type": "code",
   "execution_count": null,
   "metadata": {
    "colab": {
     "base_uri": "https://localhost:8080/",
     "height": 206
    },
    "id": "uwRToE6fvdal",
    "outputId": "e01c2399-b3e0-4b5f-afc7-505a136c1eb3"
   },
   "outputs": [
    {
     "output_type": "execute_result",
     "data": {
      "text/plain": [
       "   Sentiment                                      SentimentText\n",
       "0          0                       is so sad for my APL frie...\n",
       "1          0                     I missed the New Moon trail...\n",
       "2          1                            omg its already 7:30 :O\n",
       "3          0            .. Omgaga. Im sooo  im gunna CRy. I'...\n",
       "4          0           i think mi bf is cheating on me!!!   ..."
      ],
      "text/html": [
       "\n",
       "  <div id=\"df-b3bc21a7-3564-43df-9432-9afa5deff0c1\">\n",
       "    <div class=\"colab-df-container\">\n",
       "      <div>\n",
       "<style scoped>\n",
       "    .dataframe tbody tr th:only-of-type {\n",
       "        vertical-align: middle;\n",
       "    }\n",
       "\n",
       "    .dataframe tbody tr th {\n",
       "        vertical-align: top;\n",
       "    }\n",
       "\n",
       "    .dataframe thead th {\n",
       "        text-align: right;\n",
       "    }\n",
       "</style>\n",
       "<table border=\"1\" class=\"dataframe\">\n",
       "  <thead>\n",
       "    <tr style=\"text-align: right;\">\n",
       "      <th></th>\n",
       "      <th>Sentiment</th>\n",
       "      <th>SentimentText</th>\n",
       "    </tr>\n",
       "  </thead>\n",
       "  <tbody>\n",
       "    <tr>\n",
       "      <th>0</th>\n",
       "      <td>0</td>\n",
       "      <td>is so sad for my APL frie...</td>\n",
       "    </tr>\n",
       "    <tr>\n",
       "      <th>1</th>\n",
       "      <td>0</td>\n",
       "      <td>I missed the New Moon trail...</td>\n",
       "    </tr>\n",
       "    <tr>\n",
       "      <th>2</th>\n",
       "      <td>1</td>\n",
       "      <td>omg its already 7:30 :O</td>\n",
       "    </tr>\n",
       "    <tr>\n",
       "      <th>3</th>\n",
       "      <td>0</td>\n",
       "      <td>.. Omgaga. Im sooo  im gunna CRy. I'...</td>\n",
       "    </tr>\n",
       "    <tr>\n",
       "      <th>4</th>\n",
       "      <td>0</td>\n",
       "      <td>i think mi bf is cheating on me!!!   ...</td>\n",
       "    </tr>\n",
       "  </tbody>\n",
       "</table>\n",
       "</div>\n",
       "      <button class=\"colab-df-convert\" onclick=\"convertToInteractive('df-b3bc21a7-3564-43df-9432-9afa5deff0c1')\"\n",
       "              title=\"Convert this dataframe to an interactive table.\"\n",
       "              style=\"display:none;\">\n",
       "        \n",
       "  <svg xmlns=\"http://www.w3.org/2000/svg\" height=\"24px\"viewBox=\"0 0 24 24\"\n",
       "       width=\"24px\">\n",
       "    <path d=\"M0 0h24v24H0V0z\" fill=\"none\"/>\n",
       "    <path d=\"M18.56 5.44l.94 2.06.94-2.06 2.06-.94-2.06-.94-.94-2.06-.94 2.06-2.06.94zm-11 1L8.5 8.5l.94-2.06 2.06-.94-2.06-.94L8.5 2.5l-.94 2.06-2.06.94zm10 10l.94 2.06.94-2.06 2.06-.94-2.06-.94-.94-2.06-.94 2.06-2.06.94z\"/><path d=\"M17.41 7.96l-1.37-1.37c-.4-.4-.92-.59-1.43-.59-.52 0-1.04.2-1.43.59L10.3 9.45l-7.72 7.72c-.78.78-.78 2.05 0 2.83L4 21.41c.39.39.9.59 1.41.59.51 0 1.02-.2 1.41-.59l7.78-7.78 2.81-2.81c.8-.78.8-2.07 0-2.86zM5.41 20L4 18.59l7.72-7.72 1.47 1.35L5.41 20z\"/>\n",
       "  </svg>\n",
       "      </button>\n",
       "      \n",
       "  <style>\n",
       "    .colab-df-container {\n",
       "      display:flex;\n",
       "      flex-wrap:wrap;\n",
       "      gap: 12px;\n",
       "    }\n",
       "\n",
       "    .colab-df-convert {\n",
       "      background-color: #E8F0FE;\n",
       "      border: none;\n",
       "      border-radius: 50%;\n",
       "      cursor: pointer;\n",
       "      display: none;\n",
       "      fill: #1967D2;\n",
       "      height: 32px;\n",
       "      padding: 0 0 0 0;\n",
       "      width: 32px;\n",
       "    }\n",
       "\n",
       "    .colab-df-convert:hover {\n",
       "      background-color: #E2EBFA;\n",
       "      box-shadow: 0px 1px 2px rgba(60, 64, 67, 0.3), 0px 1px 3px 1px rgba(60, 64, 67, 0.15);\n",
       "      fill: #174EA6;\n",
       "    }\n",
       "\n",
       "    [theme=dark] .colab-df-convert {\n",
       "      background-color: #3B4455;\n",
       "      fill: #D2E3FC;\n",
       "    }\n",
       "\n",
       "    [theme=dark] .colab-df-convert:hover {\n",
       "      background-color: #434B5C;\n",
       "      box-shadow: 0px 1px 3px 1px rgba(0, 0, 0, 0.15);\n",
       "      filter: drop-shadow(0px 1px 2px rgba(0, 0, 0, 0.3));\n",
       "      fill: #FFFFFF;\n",
       "    }\n",
       "  </style>\n",
       "\n",
       "      <script>\n",
       "        const buttonEl =\n",
       "          document.querySelector('#df-b3bc21a7-3564-43df-9432-9afa5deff0c1 button.colab-df-convert');\n",
       "        buttonEl.style.display =\n",
       "          google.colab.kernel.accessAllowed ? 'block' : 'none';\n",
       "\n",
       "        async function convertToInteractive(key) {\n",
       "          const element = document.querySelector('#df-b3bc21a7-3564-43df-9432-9afa5deff0c1');\n",
       "          const dataTable =\n",
       "            await google.colab.kernel.invokeFunction('convertToInteractive',\n",
       "                                                     [key], {});\n",
       "          if (!dataTable) return;\n",
       "\n",
       "          const docLinkHtml = 'Like what you see? Visit the ' +\n",
       "            '<a target=\"_blank\" href=https://colab.research.google.com/notebooks/data_table.ipynb>data table notebook</a>'\n",
       "            + ' to learn more about interactive tables.';\n",
       "          element.innerHTML = '';\n",
       "          dataTable['output_type'] = 'display_data';\n",
       "          await google.colab.output.renderOutput(dataTable, element);\n",
       "          const docLink = document.createElement('div');\n",
       "          docLink.innerHTML = docLinkHtml;\n",
       "          element.appendChild(docLink);\n",
       "        }\n",
       "      </script>\n",
       "    </div>\n",
       "  </div>\n",
       "  "
      ]
     },
     "metadata": {},
     "execution_count": 6
    }
   ],
   "source": [
    "data.head()"
   ]
  },
  {
   "cell_type": "markdown",
   "metadata": {
    "id": "lkorTLWLvl_N"
   },
   "source": [
    "* Let's see how balanced the targets are:"
   ]
  },
  {
   "cell_type": "code",
   "execution_count": null,
   "metadata": {
    "colab": {
     "base_uri": "https://localhost:8080/",
     "height": 369
    },
    "id": "TOyRKrdsvqPP",
    "outputId": "e3d96637-d683-4a33-d755-b7ad239b9b66"
   },
   "outputs": [
    {
     "output_type": "display_data",
     "data": {
      "text/plain": [
       "<Figure size 540x360 with 1 Axes>"
      ],
      "image/png": "[encoded data removed]"
     },
     "metadata": {
      "needs_background": "light"
     }
    }
   ],
   "source": [
    "_ = sns.catplot(x='Sentiment',data=data,kind='count',height=5,aspect=1.5)"
   ]
  },
  {
   "cell_type": "markdown",
   "metadata": {
    "id": "zUFW1qzJwZX5"
   },
   "source": [
    "# Pre-processing"
   ]
  },
  {
   "cell_type": "markdown",
   "metadata": {
    "id": "K7-Qr2k7wcJw"
   },
   "source": [
    "* Having downloaded our data, we will perform a set of pre-processing steps, in order to bring the text to a \"clean\" format. More details, regarding the steps, are added as comments in the function `preprocess`."
   ]
  },
  {
   "cell_type": "code",
   "execution_count": null,
   "metadata": {
    "id": "DRvGvFryxbRz"
   },
   "outputs": [],
   "source": [
    "# initialize lemmatizer\n",
    "stemmer = WordNetLemmatizer()\n",
    "\n",
    "# define trans for digits\n",
    "remove_digits = str.maketrans('', '', digits)"
   ]
  },
  {
   "cell_type": "markdown",
   "metadata": {
    "id": "jSzZ11EdyjFo"
   },
   "source": [
    "Below are some examples of some additional cases that need to be included since we are working with tweets: \n",
    "1. Twitter usernames (@user)\n",
    "2. Websites (Http)"
   ]
  },
  {
   "cell_type": "code",
   "execution_count": null,
   "metadata": {
    "colab": {
     "base_uri": "https://localhost:8080/"
    },
    "id": "9ySehEAEy8al",
    "outputId": "0265f4e9-9c93-41b1-c833-764cb3484d05"
   },
   "outputs": [
    {
     "output_type": "stream",
     "name": "stdout",
     "text": [
      "Tweet with user tag:\t       hmmmm.... i wonder how she my number @-)\n",
      "Tweet with website:\t     awhhe man.... I'm completely useless rt now. Funny, all I can do is twitter. http://myloc.me/27HX\n"
     ]
    }
   ],
   "source": [
    "print(\"Tweet with user tag:\\t\", data[data['SentimentText'].str.contains(\"@\")==True].SentimentText.iloc[0])\n",
    "print(\"Tweet with website:\\t\", data[data['SentimentText'].str.contains(\"http\")==True].SentimentText.iloc[0])"
   ]
  },
  {
   "cell_type": "code",
   "execution_count": null,
   "metadata": {
    "id": "u63ZcoZnfdbC"
   },
   "outputs": [],
   "source": [
    "def preprocess(sentence):\n",
    "    \"\"\"\n",
    "    Function to process a given sentence.\n",
    "    INPUT: raw string (tweet)\n",
    "    OUTPUT: processed string \n",
    "    \"\"\"\n",
    "    #convert the sentence to lower\n",
    "    sentence = sentence.lower()\n",
    "    \n",
    "    # Remove underscores \n",
    "    sentence = re.sub(r'[-_]', '', sentence)\n",
    "    sentence = re.sub(r'_[A-Za-z0-9]+', ' ', sentence)\n",
    "    sentence = re.sub(r'^ _\\s+', ' ', sentence)\n",
    "\n",
    "    # Remove twitter usernames\n",
    "    sentence = re.sub(r'@\\w+', ' ', sentence)\n",
    "\n",
    "    # Remove websites\n",
    "    sentence = re.sub('https?://[A-Za-z0-9./]+', ' ', sentence)\n",
    "\n",
    "    #remove all non words\n",
    "    sentence = re.sub(r'\\W', ' ', sentence)\n",
    "\n",
    "    #remove all single characters\n",
    "    sentence = re.sub(r'\\b\\w\\b', ' ', sentence)\n",
    "\n",
    "    # Remove numbers\n",
    "    sentence = re.sub(r'[0-9]', ' ', sentence)\n",
    "    sentence = sentence.translate(remove_digits)\n",
    "\n",
    "    #remove multiple whitespaces\n",
    "    sentence = re.sub(' +', ' ', sentence)\n",
    "\n",
    "    # Split the sentence based on whitespaces (--> List of words)\n",
    "    sentence = sentence.split()\n",
    "    \n",
    "    # Lemmatization\n",
    "    sentence = [stemmer.lemmatize(word) for word in sentence]\n",
    "    \n",
    "    # Reconstruct the sentence by joining the words on each whitespace\n",
    "    sentence = ' '.join(sentence)\n",
    "    return sentence"
   ]
  },
  {
   "cell_type": "code",
   "source": [
    "nltk.download('omw-1.4')"
   ],
   "metadata": {
    "colab": {
     "base_uri": "https://localhost:8080/"
    },
    "id": "IFGV01FkFu13",
    "outputId": "70c7ade1-1ec9-4698-b71c-3f7b35ebccc6"
   },
   "execution_count": null,
   "outputs": [
    {
     "output_type": "stream",
     "name": "stderr",
     "text": [
      "[nltk_data] Downloading package omw-1.4 to /root/nltk_data...\n",
      "[nltk_data]   Unzipping corpora/omw-1.4.zip.\n"
     ]
    },
    {
     "output_type": "execute_result",
     "data": {
      "text/plain": [
       "True"
      ]
     },
     "metadata": {},
     "execution_count": 11
    }
   ]
  },
  {
   "cell_type": "markdown",
   "metadata": {
    "id": "1hjhzHo40Npw"
   },
   "source": [
    "* We will apply the `preprocess` function to the dataset and keep the results in a new column to have an overview of the results."
   ]
  },
  {
   "cell_type": "code",
   "execution_count": null,
   "metadata": {
    "id": "ujhPPuR55KLq",
    "colab": {
     "base_uri": "https://localhost:8080/",
     "height": 206
    },
    "outputId": "d202a6a1-5081-4c44-c5a8-c7bd9fca3697"
   },
   "outputs": [
    {
     "output_type": "execute_result",
     "data": {
      "text/plain": [
       "   Sentiment                                      SentimentText  \\\n",
       "0          0                       is so sad for my APL frie...   \n",
       "1          0                     I missed the New Moon trail...   \n",
       "2          1                            omg its already 7:30 :O   \n",
       "3          0            .. Omgaga. Im sooo  im gunna CRy. I'...   \n",
       "4          0           i think mi bf is cheating on me!!!   ...   \n",
       "\n",
       "                                                text  \n",
       "0                        is so sad for my apl friend  \n",
       "1                        missed the new moon trailer  \n",
       "2                                     omg it already  \n",
       "3  omgaga im sooo im gunna cry ve been at this de...  \n",
       "4                   think mi bf is cheating on me tt  "
      ],
      "text/html": [
       "\n",
       "  <div id=\"df-8593af83-6413-443c-9729-8bde5a190191\">\n",
       "    <div class=\"colab-df-container\">\n",
       "      <div>\n",
       "<style scoped>\n",
       "    .dataframe tbody tr th:only-of-type {\n",
       "        vertical-align: middle;\n",
       "    }\n",
       "\n",
       "    .dataframe tbody tr th {\n",
       "        vertical-align: top;\n",
       "    }\n",
       "\n",
       "    .dataframe thead th {\n",
       "        text-align: right;\n",
       "    }\n",
       "</style>\n",
       "<table border=\"1\" class=\"dataframe\">\n",
       "  <thead>\n",
       "    <tr style=\"text-align: right;\">\n",
       "      <th></th>\n",
       "      <th>Sentiment</th>\n",
       "      <th>SentimentText</th>\n",
       "      <th>text</th>\n",
       "    </tr>\n",
       "  </thead>\n",
       "  <tbody>\n",
       "    <tr>\n",
       "      <th>0</th>\n",
       "      <td>0</td>\n",
       "      <td>is so sad for my APL frie...</td>\n",
       "      <td>is so sad for my apl friend</td>\n",
       "    </tr>\n",
       "    <tr>\n",
       "      <th>1</th>\n",
       "      <td>0</td>\n",
       "      <td>I missed the New Moon trail...</td>\n",
       "      <td>missed the new moon trailer</td>\n",
       "    </tr>\n",
       "    <tr>\n",
       "      <th>2</th>\n",
       "      <td>1</td>\n",
       "      <td>omg its already 7:30 :O</td>\n",
       "      <td>omg it already</td>\n",
       "    </tr>\n",
       "    <tr>\n",
       "      <th>3</th>\n",
       "      <td>0</td>\n",
       "      <td>.. Omgaga. Im sooo  im gunna CRy. I'...</td>\n",
       "      <td>omgaga im sooo im gunna cry ve been at this de...</td>\n",
       "    </tr>\n",
       "    <tr>\n",
       "      <th>4</th>\n",
       "      <td>0</td>\n",
       "      <td>i think mi bf is cheating on me!!!   ...</td>\n",
       "      <td>think mi bf is cheating on me tt</td>\n",
       "    </tr>\n",
       "  </tbody>\n",
       "</table>\n",
       "</div>\n",
       "      <button class=\"colab-df-convert\" onclick=\"convertToInteractive('df-8593af83-6413-443c-9729-8bde5a190191')\"\n",
       "              title=\"Convert this dataframe to an interactive table.\"\n",
       "              style=\"display:none;\">\n",
       "        \n",
       "  <svg xmlns=\"http://www.w3.org/2000/svg\" height=\"24px\"viewBox=\"0 0 24 24\"\n",
       "       width=\"24px\">\n",
       "    <path d=\"M0 0h24v24H0V0z\" fill=\"none\"/>\n",
       "    <path d=\"M18.56 5.44l.94 2.06.94-2.06 2.06-.94-2.06-.94-.94-2.06-.94 2.06-2.06.94zm-11 1L8.5 8.5l.94-2.06 2.06-.94-2.06-.94L8.5 2.5l-.94 2.06-2.06.94zm10 10l.94 2.06.94-2.06 2.06-.94-2.06-.94-.94-2.06-.94 2.06-2.06.94z\"/><path d=\"M17.41 7.96l-1.37-1.37c-.4-.4-.92-.59-1.43-.59-.52 0-1.04.2-1.43.59L10.3 9.45l-7.72 7.72c-.78.78-.78 2.05 0 2.83L4 21.41c.39.39.9.59 1.41.59.51 0 1.02-.2 1.41-.59l7.78-7.78 2.81-2.81c.8-.78.8-2.07 0-2.86zM5.41 20L4 18.59l7.72-7.72 1.47 1.35L5.41 20z\"/>\n",
       "  </svg>\n",
       "      </button>\n",
       "      \n",
       "  <style>\n",
       "    .colab-df-container {\n",
       "      display:flex;\n",
       "      flex-wrap:wrap;\n",
       "      gap: 12px;\n",
       "    }\n",
       "\n",
       "    .colab-df-convert {\n",
       "      background-color: #E8F0FE;\n",
       "      border: none;\n",
       "      border-radius: 50%;\n",
       "      cursor: pointer;\n",
       "      display: none;\n",
       "      fill: #1967D2;\n",
       "      height: 32px;\n",
       "      padding: 0 0 0 0;\n",
       "      width: 32px;\n",
       "    }\n",
       "\n",
       "    .colab-df-convert:hover {\n",
       "      background-color: #E2EBFA;\n",
       "      box-shadow: 0px 1px 2px rgba(60, 64, 67, 0.3), 0px 1px 3px 1px rgba(60, 64, 67, 0.15);\n",
       "      fill: #174EA6;\n",
       "    }\n",
       "\n",
       "    [theme=dark] .colab-df-convert {\n",
       "      background-color: #3B4455;\n",
       "      fill: #D2E3FC;\n",
       "    }\n",
       "\n",
       "    [theme=dark] .colab-df-convert:hover {\n",
       "      background-color: #434B5C;\n",
       "      box-shadow: 0px 1px 3px 1px rgba(0, 0, 0, 0.15);\n",
       "      filter: drop-shadow(0px 1px 2px rgba(0, 0, 0, 0.3));\n",
       "      fill: #FFFFFF;\n",
       "    }\n",
       "  </style>\n",
       "\n",
       "      <script>\n",
       "        const buttonEl =\n",
       "          document.querySelector('#df-8593af83-6413-443c-9729-8bde5a190191 button.colab-df-convert');\n",
       "        buttonEl.style.display =\n",
       "          google.colab.kernel.accessAllowed ? 'block' : 'none';\n",
       "\n",
       "        async function convertToInteractive(key) {\n",
       "          const element = document.querySelector('#df-8593af83-6413-443c-9729-8bde5a190191');\n",
       "          const dataTable =\n",
       "            await google.colab.kernel.invokeFunction('convertToInteractive',\n",
       "                                                     [key], {});\n",
       "          if (!dataTable) return;\n",
       "\n",
       "          const docLinkHtml = 'Like what you see? Visit the ' +\n",
       "            '<a target=\"_blank\" href=https://colab.research.google.com/notebooks/data_table.ipynb>data table notebook</a>'\n",
       "            + ' to learn more about interactive tables.';\n",
       "          element.innerHTML = '';\n",
       "          dataTable['output_type'] = 'display_data';\n",
       "          await google.colab.output.renderOutput(dataTable, element);\n",
       "          const docLink = document.createElement('div');\n",
       "          docLink.innerHTML = docLinkHtml;\n",
       "          element.appendChild(docLink);\n",
       "        }\n",
       "      </script>\n",
       "    </div>\n",
       "  </div>\n",
       "  "
      ]
     },
     "metadata": {},
     "execution_count": 12
    }
   ],
   "source": [
    "data['text']= data['SentimentText'].apply(lambda row: preprocess(row))\n",
    "data.head()"
   ]
  },
  {
   "cell_type": "markdown",
   "metadata": {
    "id": "LFo3Y7Cx0bLa"
   },
   "source": [
    "# Train/Dev/Test split"
   ]
  },
  {
   "cell_type": "markdown",
   "metadata": {
    "id": "vOLgkTa90eyE"
   },
   "source": [
    "* Now that the the dataset has been pre-processed we can split the data into a Train, Dev and Test set. We followed the following strategy:\n",
    "* A train/test split of 0.7/0.3 ratio, respectively, will initially take place. The output will be saved in the following variables:\n",
    "`X_train_total` & `X_test`.\n",
    "* Given that we will use NNs we need a development set thus will split the `X_train_total` variable into two other variables, `X_train` & `X_dev` with a 70/30 split. \n",
    "* The `X_train_total` variable will be used to train the model using cross-validation later on."
   ]
  },
  {
   "cell_type": "code",
   "execution_count": null,
   "metadata": {
    "id": "f-g5HGURfk-J"
   },
   "outputs": [],
   "source": [
    "# Define X, y\n",
    "X, y  = data['text'], data['Sentiment']\n",
    "\n",
    "# Define Train/Dev/Test split\n",
    "X_train_total, X_test, y_train_total, y_test = train_test_split(X, y, test_size=0.3, stratify=y, shuffle=True, random_state=42)\n",
    "\n",
    "# Extract a part of the train set as dev set\n",
    "X_train, X_dev, y_train, y_dev = train_test_split(X_train_total, y_train_total, test_size=0.3, stratify=y_train_total, shuffle=True, random_state=42)"
   ]
  },
  {
   "cell_type": "code",
   "execution_count": null,
   "metadata": {
    "id": "9AxNyrOf1wQ-",
    "colab": {
     "base_uri": "https://localhost:8080/"
    },
    "outputId": "6f5467a4-f5de-4b86-fc87-8ecb267ec471"
   },
   "outputs": [
    {
     "output_type": "stream",
     "name": "stdout",
     "text": [
      "Train size:   48994\n",
      "Dev size:     20998\n",
      "Test size:    29997\n"
     ]
    }
   ],
   "source": [
    "print(f\"\"\"{'Train size:':<12} {X_train.shape[0]:>6}\n",
    "{'Dev size:':<12} {X_dev.shape[0]:>6}\n",
    "{'Test size:':<12} {X_test.shape[0]:>6}\"\"\")"
   ]
  },
  {
   "cell_type": "markdown",
   "metadata": {
    "id": "XXMtSzKU2_2u"
   },
   "source": [
    "# Classification"
   ]
  },
  {
   "cell_type": "markdown",
   "metadata": {
    "id": "HN7X-eB43GhS"
   },
   "source": [
    "* The following part demonstrates our solution for the classification task. Instead of using various features, we used the TF-IDF features and experimented with various NN models. There are three pillar to the analysis:\n",
    "1. `DummyClassifier`: A classifier that assigns the most frequent class of the training data. The results obtained from the next methods will be compared to this one.\n",
    "2. `LogisticRegression`: Two-class logistic regression classifier, using sklearn. Given that we used a slightly different dataset we will re-train the model.\n",
    "3. `Neural networks`: We will build various NNs, with a variety of hidden layers.\n",
    "4. `RNN`: We will build two RNNs, with a variety of attention score layers.\n",
    "\n",
    "The first 3 were implemented in exercise 3."
   ]
  },
  {
   "cell_type": "markdown",
   "source": [
    "## RNN Neural Network"
   ],
   "metadata": {
    "id": "4zg1e70sqvVm"
   }
  },
  {
   "cell_type": "markdown",
   "source": [
    "### Imports"
   ],
   "metadata": {
    "id": "MQ8sD_CfoqVx"
   }
  },
  {
   "cell_type": "markdown",
   "source": [
    "* In this part of the assignment we built various networks, starting from simple ones, to more complex, in order to see how the change of the NN's compoment affects the results."
   ],
   "metadata": {
    "id": "ZA0Nzncn6zAA"
   }
  },
  {
   "cell_type": "code",
   "execution_count": null,
   "metadata": {
    "id": "-woKSdsjdKpl"
   },
   "outputs": [],
   "source": [
    "import warnings\n",
    "import sklearn.exceptions\n",
    "warnings.filterwarnings(\"ignore\", category = sklearn.exceptions.UndefinedMetricWarning)\n",
    "warnings.simplefilter(action = 'ignore', category = FutureWarning)\n",
    "\n",
    "from keras.models import Sequential\n",
    "from keras.layers.core import Dense, Dropout\n",
    "from tensorflow.keras.optimizers import Adam\n",
    "from tensorflow.keras import optimizers\n",
    "from keras import backend as K\n",
    "from keras.regularizers import l1, l2"
   ]
  },
  {
   "cell_type": "markdown",
   "source": [
    "### Functions"
   ],
   "metadata": {
    "id": "L-FmxmODolOP"
   }
  },
  {
   "cell_type": "markdown",
   "source": [
    "* Before proceeding with the models, we will define functions that are going to be needed in the following parts."
   ],
   "metadata": {
    "id": "2eG2dYzA7lk3"
   }
  },
  {
   "cell_type": "code",
   "source": [
    "def evaluate(clf, X_train, y_train, X_test, y_test):\n",
    "  # Evaluate\n",
    "  predictions = clf.predict(X_train)\n",
    "  score = accuracy_score(y_train, predictions)\n",
    "  print(\"Train accuracy: {:.2f}%\".format(score*100))\n",
    "\n",
    "  predictions_test = clf.predict(X_test)\n",
    "  score = accuracy_score(y_test, predictions_test)\n",
    "  print(\"Test accuracy: {:.2f}% \\n\".format(score*100))\n",
    "\n",
    "  print('#Class 0 in Train dataset:', np.where(y_train == 0)[0].shape)\n",
    "  print('#Class 1 in Train dataset:', np.where(y_train == 1)[0].shape)\n",
    "\n",
    "  cm_test = confusion_matrix(y_test, predictions_test, normalize='pred')\n",
    "\n",
    "  print(\"\\nConfusion Matrix for test data:\")\n",
    "  disp = ConfusionMatrixDisplay(cm_test)\n",
    "  _ = disp.plot()"
   ],
   "metadata": {
    "id": "gHTHxojEIccg"
   },
   "execution_count": null,
   "outputs": []
  },
  {
   "cell_type": "code",
   "execution_count": null,
   "metadata": {
    "id": "JutHWXsJdKjQ"
   },
   "outputs": [],
   "source": [
    "# Function for accuracy, loss (i.e. binary cross-entropy) and f1 score\n",
    "def plot_history(history):\n",
    "    fig = plt.figure(figsize = (20, 5))\n",
    "    ax1 = fig.add_subplot(1, 3, 1)\n",
    "    # Summarize history for accuracy\n",
    "    ax1.plot(history.history['accuracy'])\n",
    "    ax1.plot(history.history['val_accuracy'])\n",
    "    ax1.set_title('model accuracy')\n",
    "    ax1.set_ylabel('accuracy')\n",
    "    ax1.set_xlabel('epoch')\n",
    "    ax1.legend(['train', 'dev'], loc = 'upper left')\n",
    "\n",
    "    ax2 = fig.add_subplot(1, 3, 2)\n",
    "    # Summarize history for loss\n",
    "    ax2.plot(history.history['loss'])\n",
    "    ax2.plot(history.history['val_loss'])\n",
    "    ax2.set_title('model loss')\n",
    "    ax2.set_ylabel('loss')\n",
    "    ax2.set_xlabel('epoch')\n",
    "    ax2.legend(['train', 'devv'], loc = 'upper left')\n",
    "\n",
    "    ax3 = fig.add_subplot(1, 3, 3)\n",
    "    # Summarize history for loss\n",
    "    ax3.plot(history.history['f1'])\n",
    "    ax3.plot(history.history['val_f1'])\n",
    "    ax3.set_title('model f1')\n",
    "    ax3.set_ylabel('f1')\n",
    "    ax3.set_xlabel('epoch')\n",
    "    ax3.legend(['train', 'dev'], loc = 'upper left')\n",
    "\n",
    "# Function for predicting the output and then returning the computed metric values\n",
    "def print_evaluation(model, x_test, y_test):\n",
    "    score = model.evaluate(x_test, y_test, verbose = 1, batch_size = 100)\n",
    "\n",
    "    print('\\nTest Binary_cross_entropy: %.4f' %  (score[0]))\n",
    "    print('\\nTest precision: %.4f' %  (score[1]))\n",
    "    print('\\nTest recall: %.4f' %  (score[2]))\n",
    "    print('\\nTest f1: %.4f' % (score[3]))\n",
    "    print('\\nTest accuracy: %.4f'% (score[4]))\n",
    "\n",
    "# Function for calculating the recall   \n",
    "def recall(y_true, y_pred):\n",
    "    \n",
    "    \"\"\"\n",
    "    Recall metric.\n",
    "    Only computes a batch-wise average of recall.\n",
    "    Computes the recall, a metric for multi-label classification of\n",
    "    how many relevant items are selected.\n",
    "    \"\"\"\n",
    "    true_positives = K.sum(K.round(K.clip(y_true * y_pred, 0, 1)))\n",
    "    possible_positives = K.sum(K.round(K.clip(y_true, 0, 1)))\n",
    "    recall = true_positives / (possible_positives + K.epsilon())\n",
    "    return recall\n",
    "\n",
    "# Function for calculating the precision \n",
    "def precision(y_true, y_pred):\n",
    "    \n",
    "    \"\"\"\n",
    "    Precision metric.\n",
    "    Only computes a batch-wise average of precision.\n",
    "    Computes the precision, a metric for multi-label classification of\n",
    "    how many selected items are relevant.\n",
    "    Source\n",
    "    ------\n",
    "    https://github.com/fchollet/keras/issues/5400#issuecomment-314747992\n",
    "    \"\"\"\n",
    "    true_positives = K.sum(K.round(K.clip(y_true * y_pred, 0, 1)))\n",
    "    predicted_positives = K.sum(K.round(K.clip(y_pred, 0, 1)))\n",
    "    precision = true_positives / (predicted_positives + K.epsilon())\n",
    "    return precision\n",
    "\n",
    "# Function for calculating the f1-score based on the above functions for recall and precision \n",
    "def f1(y_true, y_pred):\n",
    "    \n",
    "    \"\"\"Calculate the F1 score.\"\"\"\n",
    "    p = precision(y_true, y_pred)\n",
    "    r = recall(y_true, y_pred)\n",
    "    return 2 * ((p * r) / (p + r))\n",
    "\n",
    "# Function for calculating the accuracy\n",
    "def accuracy(y_true, y_pred):\n",
    "    return K.mean(K.equal(y_true, K.round(y_pred)), axis=1)"
   ]
  },
  {
   "cell_type": "code",
   "source": [
    "from sklearn.metrics import precision_score\n",
    "from sklearn.metrics import recall_score\n",
    "from sklearn.metrics import f1_score\n",
    "from sklearn.metrics import roc_auc_score\n",
    "from sklearn.preprocessing import OneHotEncoder\n",
    "\n",
    "def all_scores(opt_model, x, y, which_set):\n",
    "\n",
    "  y_pred = np.round(opt_model.predict(x))\n",
    "  # For each class\n",
    "  print(\"Scores for each class\")\n",
    "  print(\"Precision score for class 0:\", round(precision_score(y, y_pred, average=\"binary\", pos_label=0),4),\"& Precision score for class 1:\", round(precision_score(y, y_pred, average=\"binary\", pos_label=1),4))\n",
    "  print(\"Recall score for class 0:\", round(recall_score(y, y_pred, average=\"binary\", pos_label=0),4), \"& Recall score for class 1:\", round(recall_score(y, y_pred, average=\"binary\", pos_label=1),4))\n",
    "  print(\"F1 score for class 0:\", round(f1_score(y, y_pred, average=\"binary\", pos_label=0),4), \"& F1 score for class 1:\", round(f1_score(y, y_pred, average=\"binary\", pos_label=1),4))\n",
    "  print(\"AUC score for each class\", round(roc_auc_score(y, y_pred, average=None),4))\n",
    "\n",
    "  # Macro-averaged for all classes\n",
    "  print(\"---------------------\")\n",
    "  print(\"Macro-averaged scores\")\n",
    "  print(\"Precision score:\", round(precision_score(y, y_pred, average=\"macro\"),4))\n",
    "  print(\"Recall score:\", round(recall_score(y, y_pred, average=\"macro\"),4))\n",
    "  print(\"F1 score:\", round(f1_score(y, y_pred, average=\"macro\"),4))\n",
    "  print(\"AUC score:\", round(roc_auc_score(y, y_pred, average=\"macro\"),4))\n",
    "\n",
    "\n",
    "  print(classification_report(y, y_pred))\n",
    "\n",
    "  cm_test = confusion_matrix(y, y_pred)\n",
    "  disp = ConfusionMatrixDisplay(cm_test)\n",
    "  disp.plot()\n",
    "  disp.ax_.set_title(which_set)\n",
    "\n",
    "  print()"
   ],
   "metadata": {
    "id": "o4EuxeDw6cBJ"
   },
   "execution_count": null,
   "outputs": []
  },
  {
   "cell_type": "markdown",
   "source": [
    "* For the reporting we have set the verbose to 0 for all functions in order to make this notebook more presentable. \n",
    "* If needed the various verbose parts can be changed to 1 in order to see more details."
   ],
   "metadata": {
    "id": "eYnb96ZbCvMy"
   }
  },
  {
   "cell_type": "code",
   "execution_count": null,
   "metadata": {
    "id": "KX6x7EZ-dKgq"
   },
   "outputs": [],
   "source": [
    "#from keras_tqdm import TQDMNotebookCallback\n",
    "from keras.callbacks import ModelCheckpoint, EarlyStopping\n",
    "import tensorflow as tf\n",
    "\n",
    "es = EarlyStopping(\n",
    "    monitor = 'val_loss', \n",
    "    mode = 'min',\n",
    "    patience = 5,\n",
    "    verbose = 0\n",
    ")"
   ]
  },
  {
   "cell_type": "markdown",
   "source": [
    "## bi-directional stacked RNN (with GRU or LSTM cells)"
   ],
   "metadata": {
    "id": "nq56ynZnMigl"
   }
  },
  {
   "cell_type": "markdown",
   "metadata": {
    "id": "LMiXrWM5g1uX"
   },
   "source": [
    "**Download, unzip & load fasttext word embeddings**"
   ]
  },
  {
   "cell_type": "code",
   "metadata": {
    "colab": {
     "base_uri": "https://localhost:8080/"
    },
    "id": "XYc43EKwgwJD",
    "outputId": "feae7b43-e875-444e-ef9e-5a4b2a8c485b"
   },
   "source": [
    "!wget https://dl.fbaipublicfiles.com/fasttext/vectors-crawl/cc.en.300.vec.gz\n",
    "!gzip -d cc.en.300.vec.gz"
   ],
   "execution_count": null,
   "outputs": [
    {
     "output_type": "stream",
     "name": "stdout",
     "text": [
      "--2022-06-18 17:31:36--  https://dl.fbaipublicfiles.com/fasttext/vectors-crawl/cc.en.300.vec.gz\n",
      "Resolving dl.fbaipublicfiles.com (dl.fbaipublicfiles.com)... 104.22.75.142, 172.67.9.4, 104.22.74.142, ...\n",
      "Connecting to dl.fbaipublicfiles.com (dl.fbaipublicfiles.com)|104.22.75.142|:443... connected.\n",
      "HTTP request sent, awaiting response... 200 OK\n",
      "Length: 1325960915 (1.2G) [binary/octet-stream]\n",
      "Saving to: ‘cc.en.300.vec.gz’\n",
      "\n",
      "cc.en.300.vec.gz    100%[===================>]   1.23G  13.5MB/s    in 1m 41s  \n",
      "\n",
      "2022-06-18 17:33:18 (12.5 MB/s) - ‘cc.en.300.vec.gz’ saved [1325960915/1325960915]\n",
      "\n"
     ]
    }
   ]
  },
  {
   "cell_type": "markdown",
   "metadata": {
    "id": "0BN3vt2Ls6Gb"
   },
   "source": [
    "**Mount gdrive to colab**"
   ]
  },
  {
   "cell_type": "code",
   "metadata": {
    "colab": {
     "base_uri": "https://localhost:8080/"
    },
    "id": "fu-MfTFAsatz",
    "outputId": "ea12152e-acbd-4e5d-da3e-40606bda378b"
   },
   "source": [
    "from google.colab import drive\n",
    "drive.mount('/content/gdrive')"
   ],
   "execution_count": null,
   "outputs": [
    {
     "output_type": "stream",
     "name": "stdout",
     "text": [
      "Mounted at /content/gdrive\n"
     ]
    }
   ]
  },
  {
   "cell_type": "markdown",
   "source": [
    "## FEATURES"
   ],
   "metadata": {
    "id": "Saiw2aSiadOF"
   }
  },
  {
   "cell_type": "markdown",
   "metadata": {
    "id": "lXYe641ahLpL"
   },
   "source": [
    "**Load fasttext embeddings**\n",
    "\n",
    "To load fasttext pre-trained embeddings more efficiently, we can read only once the embeddings file and save:\n",
    "\n",
    "1. A 2D np-array for the embedding vectors\n",
    "2. A dictionary that maps each word to the row index of its embedding on the 2D np-array"
   ]
  },
  {
   "cell_type": "code",
   "metadata": {
    "id": "ZRyjUOlTg9Sq",
    "colab": {
     "base_uri": "https://localhost:8080/"
    },
    "outputId": "e652b96a-30af-496e-ce4f-951efa72c212"
   },
   "source": [
    "import pickle\n",
    "import numpy as np\n",
    "\n",
    "idx = 0\n",
    "vocab = {}\n",
    "with open(\"cc.en.300.vec\", 'r', encoding=\"utf-8\", newline='\\n',errors='ignore') as f:\n",
    "    for l in f:\n",
    "        line = l.rstrip().split(' ')\n",
    "        if idx == 0:\n",
    "            vocab_size = int(line[0]) + 2\n",
    "            dim = int(line[1])\n",
    "            vecs = np.zeros(vocab_size*dim).reshape(vocab_size,dim)\n",
    "            vocab[\"__PADDING__\"] = 0\n",
    "            vocab[\"__UNK__\"] = 1\n",
    "            idx = 2\n",
    "        else:\n",
    "            vocab[line[0]] = idx\n",
    "            emb = np.array(line[1:]).astype(np.float64)\n",
    "            if (emb.shape[0] == dim):\n",
    "                vecs[idx,:] = emb\n",
    "                idx+=1\n",
    "            else:\n",
    "                continue\n",
    "\n",
    "    pickle.dump(vocab,open(\"/content/gdrive/My Drive/fasttext_voc.pkl\" ,'wb'))\n",
    "    np.save(\"/content/gdrive/My Drive/fasttext.npy\",vecs)\n",
    "    # Free ram\n",
    "    vecs = None\n",
    "    vocab = None\n",
    "    emb = None"
   ],
   "execution_count": null,
   "outputs": [
    {
     "output_type": "stream",
     "name": "stderr",
     "text": [
      "/usr/local/lib/python3.7/dist-packages/ipykernel_launcher.py:18: DeprecationWarning: `np.float` is a deprecated alias for the builtin `float`. To silence this warning, use `float` by itself. Doing this will not modify any behavior and is safe. If you specifically wanted the numpy scalar type, use `np.float64` here.\n",
      "Deprecated in NumPy 1.20; for more details and guidance: https://numpy.org/devdocs/release/1.20.0-notes.html#deprecations\n"
     ]
    }
   ]
  },
  {
   "cell_type": "markdown",
   "metadata": {
    "id": "KdMKt82jhdxs"
   },
   "source": [
    "**Load embeddings np-array and mapping dictionary**\n",
    "\n"
   ]
  },
  {
   "cell_type": "code",
   "metadata": {
    "id": "SW46UronhjTX"
   },
   "source": [
    "import pickle\n",
    "import numpy as np\n",
    "\n",
    "fasttext_embed = np.load(\"/content/gdrive/My Drive/fasttext.npy\")\n",
    "fasttext_word_to_index = pickle.load(open(\"/content/gdrive/My Drive/fasttext_voc.pkl\", 'rb'))"
   ],
   "execution_count": null,
   "outputs": []
  },
  {
   "cell_type": "code",
   "source": [
    "import gc\n",
    "\n",
    "gc.collect()"
   ],
   "metadata": {
    "colab": {
     "base_uri": "https://localhost:8080/"
    },
    "id": "3uAP6fB3ahbE",
    "outputId": "8b5b8fd4-138c-4e7f-8844-2fa8d33fd667"
   },
   "execution_count": null,
   "outputs": [
    {
     "output_type": "execute_result",
     "data": {
      "text/plain": [
       "130"
      ]
     },
     "metadata": {},
     "execution_count": 24
    }
   ]
  },
  {
   "cell_type": "code",
   "source": [
    "X_train.reset_index(inplace=True, drop=True)\n",
    "X_test.reset_index(inplace=True, drop=True)\n",
    "X_dev.reset_index(inplace=True, drop=True)\n",
    "X_train"
   ],
   "metadata": {
    "colab": {
     "base_uri": "https://localhost:8080/"
    },
    "id": "VfEN5usVpukS",
    "outputId": "63f34834-9f5f-4af6-d268-e0edcf7e050c"
   },
   "execution_count": null,
   "outputs": [
    {
     "output_type": "execute_result",
     "data": {
      "text/plain": [
       "0             had load of fun and officially love my dress\n",
       "1        yer know when woke up wa like noo it wa dream ...\n",
       "2        how is it not the same note stupid composer ru...\n",
       "3        oh read twilight in day and started new moon y...\n",
       "4        that what you get for thinking but hey keep pr...\n",
       "                               ...                        \n",
       "48989    ha ha have to rush work tonight unfortunately ...\n",
       "48990                  did you install fring in your sleep\n",
       "48991    yes part of the evil master plan busy night bu...\n",
       "48992               buy zopiclone on line get decent sleep\n",
       "48993    don know don have any more fact you shot me do...\n",
       "Name: text, Length: 48994, dtype: object"
      ]
     },
     "metadata": {},
     "execution_count": 25
    }
   ]
  },
  {
   "cell_type": "markdown",
   "metadata": {
    "id": "-dnDmeZYhz_Y"
   },
   "source": [
    "#### **Use spacy for sentence splitting & tokenization**"
   ]
  },
  {
   "cell_type": "code",
   "metadata": {
    "id": "VC7COExxguYC",
    "colab": {
     "base_uri": "https://localhost:8080/"
    },
    "outputId": "93d2c715-64dd-403b-c6fc-ae5f2093be6d"
   },
   "source": [
    "import spacy\n",
    "nlp = spacy.load('en_core_web_sm',disable=[\"tagger\", \"parser\",\"ner\"])\n",
    "from spacy.lang.en.stop_words import STOP_WORDS\n",
    "nlp.add_pipe('sentencizer') \n",
    "\n",
    "X_train_tokenized = []\n",
    "for idx in range(len(X_train)):\n",
    "  doc = nlp(X_train[idx])\n",
    "  tokens = []\n",
    "  for sent in doc.sents:\n",
    "    for tok in sent:\n",
    "      if '\\n' in tok.text or \"\\t\" in tok.text or \"--\" in tok.text or \"*\" in tok.text or tok.text.lower() in STOP_WORDS:\n",
    "        continue\n",
    "      if tok.text.strip():  \n",
    "        tokens.append(tok.text.replace('\"',\"'\").strip())\n",
    "  X_train_tokenized.append(tokens)\n",
    "\n",
    "X_test_tokenized = []\n",
    "for idx in range(len(X_test)):\n",
    "  doc = nlp(X_test[idx])\n",
    "  tokens = []\n",
    "  for sent in doc.sents:\n",
    "    for tok in sent:\n",
    "\n",
    "      if '\\n' in tok.text or \"\\t\" in tok.text or \"--\" in tok.text or \"*\" in tok.text or tok.text.lower() in STOP_WORDS:\n",
    "        continue\n",
    "      if tok.text.strip():\n",
    "        tokens.append(tok.text.replace('\"',\"'\").strip())\n",
    "  X_test_tokenized.append(tokens)\n",
    "\n",
    "X_dev_tokenized = []\n",
    "for idx in range(len(X_dev)):\n",
    "  doc = nlp(X_dev[idx])\n",
    "  tokens = []\n",
    "  for sent in doc.sents:\n",
    "    for tok in sent:\n",
    "\n",
    "      if '\\n' in tok.text or \"\\t\" in tok.text or \"--\" in tok.text or \"*\" in tok.text or tok.text.lower() in STOP_WORDS:\n",
    "        continue\n",
    "      if tok.text.strip():\n",
    "        tokens.append(tok.text.replace('\"',\"'\").strip())\n",
    "  X_dev_tokenized.append(tokens)"
   ],
   "execution_count": null,
   "outputs": [
    {
     "output_type": "stream",
     "name": "stderr",
     "text": [
      "/usr/local/lib/python3.7/dist-packages/spacy/pipeline/lemmatizer.py:211: UserWarning: [W108] The rule-based lemmatizer did not find POS annotation for one or more tokens. Check that your pipeline includes components that assign token.pos, typically 'tagger'+'attribute_ruler' or 'morphologizer'.\n",
      "  warnings.warn(Warnings.W108)\n"
     ]
    }
   ]
  },
  {
   "cell_type": "code",
   "source": [
    "import tensorflow as tf\n",
    "from tensorflow.keras.preprocessing.text import Tokenizer\n",
    "from tensorflow.keras.preprocessing.sequence import pad_sequences\n",
    "\n",
    "MAX_WORDS = 100000\n",
    "MAX_SEQUENCE_LENGTH = 256\n",
    "EMBEDDING_DIM = fasttext_embed.shape[1]\n",
    "\n",
    "# Keras tokenizer uses \\s for separating tokens\n",
    "tokenizer = Tokenizer(num_words=MAX_WORDS,oov_token='__UNK__')\n",
    "tokenizer.fit_on_texts([\" \".join(x) for x in X_train_tokenized])\n",
    "train_seqs = tokenizer.texts_to_sequences([\" \".join(x) for x in X_train_tokenized])\n",
    "test_seqs = tokenizer.texts_to_sequences([\" \".join(x) for x in X_test_tokenized])\n",
    "dev_seqs = tokenizer.texts_to_sequences([\" \".join(x) for x in X_dev_tokenized])\n",
    "train_data = pad_sequences(train_seqs, maxlen=MAX_SEQUENCE_LENGTH,padding='post')\n",
    "test_data = pad_sequences(test_seqs, maxlen=MAX_SEQUENCE_LENGTH, padding='post')\n",
    "dev_data = pad_sequences(dev_seqs, maxlen=MAX_SEQUENCE_LENGTH, padding='post')"
   ],
   "metadata": {
    "id": "ZkFGcdrprs8i"
   },
   "execution_count": null,
   "outputs": []
  },
  {
   "cell_type": "code",
   "source": [
    "print(train_data[349])"
   ],
   "metadata": {
    "id": "fBg5_BncsJ3j",
    "colab": {
     "base_uri": "https://localhost:8080/"
    },
    "outputId": "73ea3a20-4eae-46cb-889a-bbb686857042"
   },
   "execution_count": null,
   "outputs": [
    {
     "output_type": "stream",
     "name": "stdout",
     "text": [
      "[   4 1039  820    0    0    0    0    0    0    0    0    0    0    0\n",
      "    0    0    0    0    0    0    0    0    0    0    0    0    0    0\n",
      "    0    0    0    0    0    0    0    0    0    0    0    0    0    0\n",
      "    0    0    0    0    0    0    0    0    0    0    0    0    0    0\n",
      "    0    0    0    0    0    0    0    0    0    0    0    0    0    0\n",
      "    0    0    0    0    0    0    0    0    0    0    0    0    0    0\n",
      "    0    0    0    0    0    0    0    0    0    0    0    0    0    0\n",
      "    0    0    0    0    0    0    0    0    0    0    0    0    0    0\n",
      "    0    0    0    0    0    0    0    0    0    0    0    0    0    0\n",
      "    0    0    0    0    0    0    0    0    0    0    0    0    0    0\n",
      "    0    0    0    0    0    0    0    0    0    0    0    0    0    0\n",
      "    0    0    0    0    0    0    0    0    0    0    0    0    0    0\n",
      "    0    0    0    0    0    0    0    0    0    0    0    0    0    0\n",
      "    0    0    0    0    0    0    0    0    0    0    0    0    0    0\n",
      "    0    0    0    0    0    0    0    0    0    0    0    0    0    0\n",
      "    0    0    0    0    0    0    0    0    0    0    0    0    0    0\n",
      "    0    0    0    0    0    0    0    0    0    0    0    0    0    0\n",
      "    0    0    0    0    0    0    0    0    0    0    0    0    0    0\n",
      "    0    0    0    0]\n"
     ]
    }
   ]
  },
  {
   "cell_type": "code",
   "source": [
    "word_index = tokenizer.word_index\n",
    "print('Found %s unique tokens.' % len(word_index))"
   ],
   "metadata": {
    "id": "CUbsqE8vsO9j",
    "colab": {
     "base_uri": "https://localhost:8080/"
    },
    "outputId": "60a781d8-9bdc-4284-a29b-d4ed94f0399f"
   },
   "execution_count": null,
   "outputs": [
    {
     "output_type": "stream",
     "name": "stdout",
     "text": [
      "Found 31131 unique tokens.\n"
     ]
    }
   ]
  },
  {
   "cell_type": "code",
   "source": [
    "embedding_matrix = np.zeros((MAX_WORDS+2, EMBEDDING_DIM))\n",
    "for word, i in word_index.items():\n",
    "    if i > MAX_WORDS:\n",
    "            continue\n",
    "    try:\n",
    "        embedding_vector = fasttext_embed[fasttext_word_to_index[word],:]\n",
    "        embedding_matrix[i] = embedding_vector\n",
    "    except:\n",
    "        pass"
   ],
   "metadata": {
    "id": "bBz-c9rEsh4T"
   },
   "execution_count": null,
   "outputs": []
  },
  {
   "cell_type": "markdown",
   "source": [
    "#### Tune the hyper-parameters \n",
    "(e.g., number of stacked RNNs, number of hidden layers in the self-attention MLP, dropout probability) on the development subset of your dataset."
   ],
   "metadata": {
    "id": "LDNuCvIzM1bG"
   }
  },
  {
   "cell_type": "markdown",
   "source": [
    "**Create and train a BiLSTM + MLP model**"
   ],
   "metadata": {
    "id": "-3IidzBhaxWV"
   }
  },
  {
   "cell_type": "code",
   "source": [
    "import os\n",
    "os.environ['TF_CPP_MIN_LOG_LEVEL'] = '3'\n",
    "import tensorflow as tf\n",
    "from tensorflow.keras.callbacks import ModelCheckpoint\n",
    "from tensorflow.keras.models import Sequential\n",
    "from tensorflow.keras.layers import Dense, Dropout, Bidirectional, GRU, Embedding\n",
    "from tensorflow.keras.optimizers import Adam\n",
    "from keras_self_attention import SeqWeightedAttention\n",
    "\n",
    "\n",
    "GRU_SIZE = 300\n",
    "DENSE = 1000\n",
    "\n",
    "with tf.device('/device:GPU:0'):\n",
    "\n",
    "  # create empty sequential model\n",
    "  model1 = Sequential()\n",
    "  # add an embedding layer\n",
    "  model1.add(Embedding(MAX_WORDS+2, EMBEDDING_DIM, weights=[embedding_matrix], \n",
    "                      input_length=MAX_SEQUENCE_LENGTH,mask_zero=True, trainable=False))\n",
    "  # Use 0.33 dropout probabillity\n",
    "  model1.add(Dropout(0.20))\n",
    "  # add a bidirectional gru layer with 0.33 variational (recurrent) dropout \n",
    "  model1.add(Bidirectional(GRU(GRU_SIZE, recurrent_dropout = 0.20)))\n",
    "  # dropout layer\n",
    "  model1.add(Dropout(0.20))\n",
    "  # add a hidden MLP layer\n",
    "  model1.add(Dense(DENSE, activation='relu' ))\n",
    "  # dropout layer\n",
    "  model1.add(Dropout(0.20))\n",
    "  # add the output MLP layer\n",
    "  model1.add(Dense(1,  activation = 'sigmoid'))\n",
    "\n",
    "  model1.compile(\n",
    "   # Loss function to minimize\n",
    "     loss = 'binary_crossentropy',\n",
    "     optimizer = Adam(learning_rate = 0.001),\n",
    "   # List of metrics to monitor\n",
    "     metrics = [precision, recall, f1, accuracy]\n",
    "  )\n",
    "\n",
    "  RNN_model = model1.fit(\n",
    "      train_data, \n",
    "      y_train.to_numpy(),\n",
    "      batch_size = 1000,\n",
    "      epochs = 50,\n",
    "      verbose = 0,\n",
    "      callbacks = [es], shuffle = True, validation_data=(dev_data, y_dev.to_numpy()))\n",
    "\n",
    "  plot_history(RNN_model)"
   ],
   "metadata": {
    "id": "opvmm-Moa0v_",
    "colab": {
     "base_uri": "https://localhost:8080/",
     "height": 361
    },
    "outputId": "c7710e0e-4e3b-4808-ad34-7a1c1597b8de"
   },
   "execution_count": null,
   "outputs": [
    {
     "output_type": "stream",
     "name": "stdout",
     "text": [
      "WARNING:tensorflow:Layer gru will not use cuDNN kernels since it doesn't meet the criteria. It will use a generic GPU kernel as fallback when running on GPU.\n",
      "WARNING:tensorflow:Layer gru will not use cuDNN kernels since it doesn't meet the criteria. It will use a generic GPU kernel as fallback when running on GPU.\n",
      "WARNING:tensorflow:Layer gru will not use cuDNN kernels since it doesn't meet the criteria. It will use a generic GPU kernel as fallback when running on GPU.\n"
     ]
    },
    {
     "output_type": "display_data",
     "data": {
      "text/plain": [
       "<Figure size 1440x360 with 3 Axes>"
      ],
      "image/png": "[encoded data removed]"
     },
     "metadata": {
      "needs_background": "light"
     }
    }
   ]
  },
  {
   "cell_type": "markdown",
   "metadata": {
    "id": "kLVjl_HpmVlr"
   },
   "source": [
    "**Create and train a BiLSTM + linear self-attention + MLP model**"
   ]
  },
  {
   "cell_type": "code",
   "source": [
    "import os\n",
    "os.environ['TF_CPP_MIN_LOG_LEVEL'] = '3'\n",
    "import tensorflow as tf\n",
    "from tensorflow.keras.callbacks import ModelCheckpoint\n",
    "from tensorflow.keras.models import Sequential\n",
    "from tensorflow.keras.layers import Dense, Dropout, Bidirectional, GRU, Embedding\n",
    "from tensorflow.keras.optimizers import Adam\n",
    "from keras_self_attention import SeqWeightedAttention\n",
    "\n",
    "\n",
    "GRU_SIZE = 300\n",
    "DENSE = 1000\n",
    "\n",
    "with tf.device('/device:GPU:0'):\n",
    "\n",
    "  # create empty sequential model\n",
    "  model2 = Sequential()\n",
    "  # add an embedding layer\n",
    "  model2.add(Embedding(MAX_WORDS+2, EMBEDDING_DIM, weights=[embedding_matrix], \n",
    "                      input_length=MAX_SEQUENCE_LENGTH,mask_zero=True, trainable=False))\n",
    "  # Use 0.33 dropout probabillity\n",
    "  model2.add(Dropout(0.33))\n",
    "  # add a bidirectional gru layer with 0.33 variational (recurrent) dropout \n",
    "  model2.add(Bidirectional(GRU(GRU_SIZE, return_sequences=True, recurrent_dropout = 0.33)))\n",
    "  # dropout layer\n",
    "  model2.add(Dropout(0.33))\n",
    "  # Add linear self-attention layer\n",
    "  model2.add(SeqWeightedAttention())  # sum(softmax(XW + b) * X)\n",
    "  # add a hidden MLP layer\n",
    "  model2.add(Dense(DENSE, activation='relu' ))\n",
    "  # dropout layer\n",
    "  model2.add(Dropout(0.33))\n",
    "  # add the output MLP layer\n",
    "  model2.add(Dense(1,  activation = 'sigmoid'))\n",
    "\n",
    "  model2.compile(\n",
    "   # Loss function to minimize\n",
    "     loss = 'binary_crossentropy',\n",
    "     optimizer = Adam(learning_rate = 0.001),\n",
    "   # List of metrics to monitor\n",
    "     metrics = [precision, recall, f1, accuracy]\n",
    "  )\n",
    "\n",
    "  RNN_model = model2.fit(\n",
    "      train_data, \n",
    "      y_train.to_numpy(),\n",
    "      batch_size = 1000,\n",
    "      epochs = 50,\n",
    "      verbose = 0,\n",
    "      callbacks = [es], shuffle = True, validation_data=(dev_data, y_dev.to_numpy()))\n",
    "\n",
    "  plot_history(RNN_model)"
   ],
   "metadata": {
    "id": "8rtkuslzkF9R",
    "colab": {
     "base_uri": "https://localhost:8080/",
     "height": 360
    },
    "outputId": "2a4cf595-497b-4828-c7c9-268ae99bc68d"
   },
   "execution_count": null,
   "outputs": [
    {
     "output_type": "stream",
     "name": "stdout",
     "text": [
      "WARNING:tensorflow:Layer gru_1 will not use cuDNN kernels since it doesn't meet the criteria. It will use a generic GPU kernel as fallback when running on GPU.\n",
      "WARNING:tensorflow:Layer gru_1 will not use cuDNN kernels since it doesn't meet the criteria. It will use a generic GPU kernel as fallback when running on GPU.\n",
      "WARNING:tensorflow:Layer gru_1 will not use cuDNN kernels since it doesn't meet the criteria. It will use a generic GPU kernel as fallback when running on GPU.\n"
     ]
    },
    {
     "output_type": "display_data",
     "data": {
      "text/plain": [
       "<Figure size 1440x360 with 3 Axes>"
      ],
      "image/png": "[encoded data removed]"
     },
     "metadata": {
      "needs_background": "light"
     }
    }
   ]
  },
  {
   "cell_type": "markdown",
   "source": [
    "**Evaluate BiLSTM + linear self-attention + MLP model**"
   ],
   "metadata": {
    "id": "ytVijIW7tSTU"
   }
  },
  {
   "cell_type": "code",
   "source": [
    "print_evaluation(model1, test_data, y_test.to_numpy())\n",
    "\n",
    "print_evaluation(model2, test_data, y_test.to_numpy())"
   ],
   "metadata": {
    "id": "U04fB3wwcisl",
    "colab": {
     "base_uri": "https://localhost:8080/"
    },
    "outputId": "1aaeb1c2-db74-4af9-8658-07c1092eb997"
   },
   "execution_count": null,
   "outputs": [
    {
     "output_type": "stream",
     "name": "stdout",
     "text": [
      "300/300 [==============================] - 65s 217ms/step - loss: 0.5268 - precision: 0.7631 - recall: 0.7757 - f1: 0.7677 - accuracy: 0.7371\n",
      "\n",
      "Test Binary_cross_entropy: 0.5268\n",
      "\n",
      "Test precision: 0.7631\n",
      "\n",
      "Test recall: 0.7757\n",
      "\n",
      "Test f1: 0.7677\n",
      "\n",
      "Test accuracy: 0.7371\n",
      "300/300 [==============================] - 65s 217ms/step - loss: 0.5158 - precision: 0.7532 - recall: 0.8106 - f1: 0.7793 - accuracy: 0.7428\n",
      "\n",
      "Test Binary_cross_entropy: 0.5158\n",
      "\n",
      "Test precision: 0.7532\n",
      "\n",
      "Test recall: 0.8106\n",
      "\n",
      "Test f1: 0.7793\n",
      "\n",
      "Test accuracy: 0.7428\n"
     ]
    }
   ]
  },
  {
   "cell_type": "code",
   "source": [
    "from keras.utils.vis_utils import plot_model\n",
    "from IPython.display import Image\n",
    "\n",
    "plot_model(model2, show_shapes = True, show_layer_names = True, to_file = 'model.png')\n",
    "\n",
    "Image(retina = True, filename = 'model.png')"
   ],
   "metadata": {
    "id": "jo7_1tF7csel",
    "colab": {
     "base_uri": "https://localhost:8080/",
     "height": 496
    },
    "outputId": "9dcb9c54-bd5b-4257-ce96-ae73d889f2eb"
   },
   "execution_count": null,
   "outputs": [
    {
     "output_type": "execute_result",
     "data": {
      "text/plain": [
       "<IPython.core.display.Image object>"
      ],
      "image/png": "[encoded data removed]"
     },
     "metadata": {
      "image/png": {
       "width": 223,
       "height": 479
      }
     },
     "execution_count": 35
    }
   ]
  },
  {
   "cell_type": "markdown",
   "source": [
    "### Run predictions and generate plots/metrics using the best model"
   ],
   "metadata": {
    "id": "xUnF-HrdVyGM"
   }
  },
  {
   "cell_type": "code",
   "source": [
    "all_scores(model2, train_data, y_train.to_numpy(), \"TRAIN SET\")\n",
    "all_scores(model2, dev_data, y_dev.to_numpy(), \"DEV SET\")\n",
    "all_scores(model2, test_data, y_test.to_numpy(), \"TEST SET\")"
   ],
   "metadata": {
    "id": "ShRUIR2koV8H",
    "colab": {
     "base_uri": "https://localhost:8080/",
     "height": 1000
    },
    "outputId": "62ed0901-594b-425d-c712-b9e513a2be49"
   },
   "execution_count": null,
   "outputs": [
    {
     "output_type": "stream",
     "name": "stdout",
     "text": [
      "1532/1532 [==============================] - 372s 241ms/step\n",
      "Scores for each class\n",
      "Precision score for class 0: 0.8139 & Precision score for class 1: 0.8206\n",
      "Recall score for class 0: 0.7541 & Recall score for class 1: 0.8671\n",
      "F1 score for class 0: 0.7829 & F1 score for class 1: 0.8432\n",
      "AUC score for each class 0.8106\n",
      "---------------------\n",
      "Macro-averaged scores\n",
      "Precision score: 0.8173\n",
      "Recall score: 0.8106\n",
      "F1 score: 0.813\n",
      "AUC score: 0.8106\n",
      "              precision    recall  f1-score   support\n",
      "\n",
      "           0       0.81      0.75      0.78     21330\n",
      "           1       0.82      0.87      0.84     27664\n",
      "\n",
      "    accuracy                           0.82     48994\n",
      "   macro avg       0.82      0.81      0.81     48994\n",
      "weighted avg       0.82      0.82      0.82     48994\n",
      "\n",
      "\n",
      "657/657 [==============================] - 154s 234ms/step\n",
      "Scores for each class\n",
      "Precision score for class 0: 0.7263 & Precision score for class 1: 0.7567\n",
      "Recall score for class 0: 0.6633 & Recall score for class 1: 0.8073\n",
      "F1 score for class 0: 0.6934 & F1 score for class 1: 0.7811\n",
      "AUC score for each class 0.7353\n",
      "---------------------\n",
      "Macro-averaged scores\n",
      "Precision score: 0.7415\n",
      "Recall score: 0.7353\n",
      "F1 score: 0.7373\n",
      "AUC score: 0.7353\n",
      "              precision    recall  f1-score   support\n",
      "\n",
      "           0       0.73      0.66      0.69      9142\n",
      "           1       0.76      0.81      0.78     11856\n",
      "\n",
      "    accuracy                           0.74     20998\n",
      "   macro avg       0.74      0.74      0.74     20998\n",
      "weighted avg       0.74      0.74      0.74     20998\n",
      "\n",
      "\n",
      "938/938 [==============================] - 218s 233ms/step\n",
      "Scores for each class\n",
      "Precision score for class 0: 0.7272 & Precision score for class 1: 0.7529\n",
      "Recall score for class 0: 0.6551 & Recall score for class 1: 0.8105\n",
      "F1 score for class 0: 0.6893 & F1 score for class 1: 0.7807\n",
      "AUC score for each class 0.7328\n",
      "---------------------\n",
      "Macro-averaged scores\n",
      "Precision score: 0.7401\n",
      "Recall score: 0.7328\n",
      "F1 score: 0.735\n",
      "AUC score: 0.7328\n",
      "              precision    recall  f1-score   support\n",
      "\n",
      "           0       0.73      0.66      0.69     13060\n",
      "           1       0.75      0.81      0.78     16937\n",
      "\n",
      "    accuracy                           0.74     29997\n",
      "   macro avg       0.74      0.73      0.73     29997\n",
      "weighted avg       0.74      0.74      0.74     29997\n",
      "\n",
      "\n"
     ]
    },
    {
     "output_type": "display_data",
     "data": {
      "text/plain": [
       "<Figure size 432x288 with 2 Axes>"
      ],
      "image/png": "[encoded data removed]"
     },
     "metadata": {
      "needs_background": "light"
     }
    },
    {
     "output_type": "display_data",
     "data": {
      "text/plain": [
       "<Figure size 432x288 with 2 Axes>"
      ],
      "image/png": "[encoded data removed]"
     },
     "metadata": {
      "needs_background": "light"
     }
    },
    {
     "output_type": "display_data",
     "data": {
      "text/plain": [
       "<Figure size 432x288 with 2 Axes>"
      ],
      "image/png": "[encoded data removed]"
     },
     "metadata": {
      "needs_background": "light"
     }
    }
   ]
  },
  {
   "cell_type": "code",
   "source": [],
   "metadata": {
    "id": "IHGRBilcTzlu"
   },
   "execution_count": null,
   "outputs": []
  }
 ]
}
