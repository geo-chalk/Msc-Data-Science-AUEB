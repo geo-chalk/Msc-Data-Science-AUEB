{
 "metadata": {
  "kernelspec": {
   "language": "python",
   "display_name": "Python 3",
   "name": "python3"
  },
  "language_info": {
   "name": "python",
   "version": "3.7.12",
   "mimetype": "text/x-python",
   "codemirror_mode": {
    "name": "ipython",
    "version": 3
   },
   "pygments_lexer": "ipython3",
   "nbconvert_exporter": "python",
   "file_extension": ".py"
  }
 },
 "nbformat_minor": 4,
 "nbformat": 4,
 "cells": [
  {
   "cell_type": "markdown",
   "source": [
    "# Imports"
   ],
   "metadata": {}
  },
  {
   "cell_type": "code",
   "source": [
    "import gc\n",
    "import re\n",
    "import os\n",
    "\n",
    "import numpy as np\n",
    "import matplotlib.pyplot as plt\n",
    "from sklearn.metrics import confusion_matrix\n",
    "import pandas as pd\n",
    "pd.set_option('display.max_columns', None)\n",
    "import cv2\n",
    "\n",
    "import tensorflow as tf\n",
    "from tensorflow.keras.datasets import fashion_mnist\n",
    "from tensorflow.keras.utils import to_categorical\n",
    "from tensorflow.keras.layers import Input, Conv2D, Dense, Dropout, Flatten, MaxPool2D, BatchNormalization # Layers to be used for building our model\n",
    "from tensorflow.keras.models import Model # The class used to create a model\n",
    "from tensorflow.keras.optimizers import SGD, Adam\n",
    "from tensorflow.keras import backend as K\n",
    "from tensorflow.random import set_seed\n",
    "from tensorflow.keras.callbacks import EarlyStopping, ReduceLROnPlateau\n",
    "from tensorflow.keras.preprocessing.image import ImageDataGenerator\n",
    "\n",
    "from typing import List, Dict, Optional, Tuple, Any, Union\n",
    "\n",
    "import wandb\n",
    "from wandb.keras import WandbCallback"
   ],
   "metadata": {
    "_uuid": "8f2839f25d086af736a60e9eeb907d3b93b6e0e5",
    "_cell_guid": "b1076dfc-b9ad-4769-8c92-a6c4dae69d19",
    "execution": {
     "iopub.status.busy": "2023-03-24T23:39:31.135482Z",
     "iopub.execute_input": "2023-03-24T23:39:31.135910Z",
     "iopub.status.idle": "2023-03-24T23:39:31.150919Z",
     "shell.execute_reply.started": "2023-03-24T23:39:31.135873Z",
     "shell.execute_reply": "2023-03-24T23:39:31.148277Z"
    },
    "trusted": true
   },
   "execution_count": 20,
   "outputs": []
  },
  {
   "cell_type": "code",
   "source": [
    "# NEW on TPU in TensorFlow 24: shorter cross-compatible TPU/GPU/multi-GPU/cluster-GPU detection code\n",
    "\n",
    "try: # detect TPUs\n",
    "    tpu = tf.distribute.cluster_resolver.TPUClusterResolver.connect() # TPU detection\n",
    "    strategy = tf.distribute.TPUStrategy(tpu)\n",
    "except ValueError: # detect GPUs\n",
    "    strategy = tf.distribute.MirroredStrategy() # for GPU or multi-GPU machines\n",
    "    print(\"Num GPUs Available: \", len(tf.config.list_physical_devices('GPU')))\n",
    "    #strategy = tf.distribute.get_strategy() # default strategy that works on CPU and single GPU\n",
    "    #strategy = tf.distribute.experimental.MultiWorkerMirroredStrategy() # for clusters of multi-GPU machines\n",
    "\n",
    "print(\"Number of accelerators: \", strategy.num_replicas_in_sync)"
   ],
   "metadata": {
    "execution": {
     "iopub.status.busy": "2023-03-24T23:39:35.040932Z",
     "iopub.execute_input": "2023-03-24T23:39:35.042162Z",
     "iopub.status.idle": "2023-03-24T23:39:35.073841Z",
     "shell.execute_reply.started": "2023-03-24T23:39:35.042117Z",
     "shell.execute_reply": "2023-03-24T23:39:35.071606Z"
    },
    "trusted": true
   },
   "execution_count": 21,
   "outputs": [
    {
     "name": "stdout",
     "text": "Num GPUs Available:  2\nNumber of accelerators:  2\n",
     "output_type": "stream"
    }
   ]
  },
  {
   "cell_type": "markdown",
   "source": [
    "# Globals"
   ],
   "metadata": {
    "execution": {
     "iopub.status.busy": "2023-03-23T20:53:30.840859Z",
     "iopub.execute_input": "2023-03-23T20:53:30.841911Z",
     "iopub.status.idle": "2023-03-23T20:53:30.847193Z",
     "shell.execute_reply.started": "2023-03-23T20:53:30.841859Z",
     "shell.execute_reply": "2023-03-23T20:53:30.845886Z"
    }
   }
  },
  {
   "cell_type": "code",
   "source": [
    "# define path under which MURA-v1.1/ is located:\n",
    "root_path: str = \"/kaggle/input/mura-x-ray-dataset/\"\n",
    "os.chdir(root_path)\n",
    "os.getcwd()"
   ],
   "metadata": {
    "execution": {
     "iopub.status.busy": "2023-03-24T23:39:37.746975Z",
     "iopub.execute_input": "2023-03-24T23:39:37.747451Z",
     "iopub.status.idle": "2023-03-24T23:39:37.772085Z",
     "shell.execute_reply.started": "2023-03-24T23:39:37.747413Z",
     "shell.execute_reply": "2023-03-24T23:39:37.770423Z"
    },
    "trusted": true
   },
   "execution_count": 22,
   "outputs": [
    {
     "execution_count": 22,
     "output_type": "execute_result",
     "data": {
      "text/plain": "'/kaggle/input/mura-x-ray-dataset'"
     },
     "metadata": {}
    }
   ]
  },
  {
   "cell_type": "markdown",
   "source": [
    "# Weights & Biases\n",
    "\n",
    "In order to make experiment tracking easier we will use [Weights & Biases](wandb.ai/home), which offers a free lisence for academic purposes. For the sake of this assignment a team has been created:https://wandb.ai/aueb. Access can be granted by contacting the authors.\n",
    "\n",
    "* Note that this code assumes that you have already set up a Wandb account and API key. If you haven't done so yet, you will need to sign up for a free account at https://wandb.ai/ and follow the instructions there to obtain your API key.\n",
    "\n"
   ],
   "metadata": {}
  },
  {
   "cell_type": "code",
   "source": [
    "wandb.login()"
   ],
   "metadata": {
    "execution": {
     "iopub.status.busy": "2023-03-24T23:39:45.703481Z",
     "iopub.execute_input": "2023-03-24T23:39:45.704194Z",
     "iopub.status.idle": "2023-03-24T23:39:45.728208Z",
     "shell.execute_reply.started": "2023-03-24T23:39:45.704152Z",
     "shell.execute_reply": "2023-03-24T23:39:45.726802Z"
    },
    "trusted": true
   },
   "execution_count": 24,
   "outputs": [
    {
     "name": "stderr",
     "text": "\u001B[34m\u001B[1mwandb\u001B[0m: \u001B[33mWARNING\u001B[0m Calling wandb.login() after wandb.init() has no effect.\n",
     "output_type": "stream"
    },
    {
     "execution_count": 24,
     "output_type": "execute_result",
     "data": {
      "text/plain": "True"
     },
     "metadata": {}
    }
   ]
  },
  {
   "cell_type": "markdown",
   "source": [
    "# Load Data\n",
    "\n",
    "Data has the following structure:\n",
    "\n",
    "```\n",
    "├──MURA\n",
    "  ├──train_image_paths.csv\n",
    "  ├──train_labeled_studies.csv\n",
    "  ├──valid_image_paths.csv\n",
    "  ├──valid_labeled_studies.csv\n",
    "  ├──train\n",
    "  │   └─ BODY PART\n",
    "  │       └─ patientxxx\n",
    "  │          .\n",
    "  │          .\n",
    "  │          .\n",
    "  │    .\n",
    "  │    .\n",
    "  │    .\n",
    "  └──test\n",
    "      └─ BODY PART\n",
    "          └─ patientxxx\n",
    "             .\n",
    "             .\n",
    "             .\n",
    "       .\n",
    "       .\n",
    "       .  \n",
    "```\n",
    "\n",
    "We will create a dataframe that uses these paths as rows and extract any information needed."
   ],
   "metadata": {}
  },
  {
   "cell_type": "code",
   "source": [
    "def extract_set_category(string: str) -> dict:\n",
    "    \"\"\"\n",
    "    Extracts the 'set_type' and 'category' from a given string using regular expressions.\n",
    "\n",
    "    Parameters:\n",
    "        string (str): A string containing the 'set' and 'category' information.\n",
    "\n",
    "    Returns:\n",
    "        dict: A dictionary containing the 'set' and 'category' information.\n",
    "    \"\"\"\n",
    "\n",
    "    pattern = r\".*(?P<set_type>train|valid)/(?P<category>XR_[A-Z]+)/(?P<patient_id>patient\\d+)/study.*\"\n",
    "    match = re.match(pattern, string)\n",
    "    if match:\n",
    "        return {'set_type': match.group('set_type'), 'category': match.group('category'), 'patient_id': match.group('patient_id')}\n",
    "    else:\n",
    "        return None\n",
    "    \n",
    "def generate_path_df(dataset_type: str, dataset_path: str = \"/kaggle/input/mura-x-ray-dataset/\") -> pd.DataFrame:\n",
    "    \"\"\"\n",
    "    Reads in the image paths and labels for a given dataset type (train or valid) from the MURA dataset.\n",
    "    Returns a pandas DataFrame containing the image paths, labels, and the dataset type.\n",
    "    \n",
    "    Parameters:\n",
    "        dataset_type (str): The type of dataset to read in (train or valid)\n",
    "        dataset_path (str): The path to the MURA dataset folder (default: '/kaggle/input/mura-x-ray-dataset/')\n",
    "    \n",
    "    Returns:\n",
    "        pd.DataFrame: A pandas DataFrame containing the image paths, labels, and dataset type.\n",
    "    \"\"\"\n",
    "        \n",
    "    # Read in the image paths csv file and assign the column name 'image_path'\n",
    "    train_label_paths = pd.read_csv(f\"{dataset_path}/MURA-v1.1/{dataset_type}_image_paths.csv\", header=None, names=['image_path'])\n",
    "    \n",
    "    # Extract the path to the folder containing the image file and create a new column 'path'\n",
    "    train_label_paths[\"path\"] = train_label_paths.apply(lambda x: \"/\".join(x['image_path'].split(\"/\")[:-1]) + \"/\", axis=1)\n",
    "    \n",
    "    # Read in the labeled studies csv file and assign column names 'path' and 'label'\n",
    "    train_labels = pd.read_csv(f\"{dataset_path}/MURA-v1.1/{dataset_type}_labeled_studies.csv\", header=None, names=['path', 'label'])\n",
    "    \n",
    "    # Merge the two DataFrames on the 'path' column and create a new column 'image_type'\n",
    "    _df = train_labels.merge(train_label_paths, on='path', how='left')\n",
    "    \n",
    "    # Check that the length of the two DataFrames match\n",
    "    assert len(train_label_paths) == len(_df)\n",
    "    \n",
    "    return _df\n",
    "\n",
    "def generate_dataframes(dataset_path: str = \"/kaggle/input/mura-x-ray-dataset/\") -> pd.DataFrame:\n",
    "    \"\"\"Perfoms actions needed to load the dataset with image paths and additional info\"\"\"\n",
    "    \n",
    "    # read train test_dataframe\n",
    "    train: pd.DataFrame = generate_path_df(dataset_type=\"train\")\n",
    "    test: pd.DataFrame = generate_path_df(dataset_type=\"valid\")\n",
    "\n",
    "    # join dataframes\n",
    "    _df = pd.concat([train, test]).reset_index()\n",
    "\n",
    "    # Apply the extract_set_category function to each row of the DataFrame.\n",
    "    _df = pd.concat([_df, pd.DataFrame(_df['path'].apply(lambda x: extract_set_category(x)).tolist())], axis=1)\n",
    "    mapping: dict = {1: \"abnormal\", 0: \"normal\"}\n",
    "    _df['label_type'] = _df['label'].apply(lambda x: mapping[x])\n",
    "    \n",
    "    \n",
    "    # re-order columns\n",
    "    cols = list(_df.columns)\n",
    "    cols.remove(\"label\")\n",
    "    cols.append(\"label\")\n",
    "    _df = _df[cols]\n",
    "    \n",
    "    _df.drop([\"index\"], axis=1, inplace=True)\n",
    "    \n",
    "    return _df"
   ],
   "metadata": {
    "execution": {
     "iopub.status.busy": "2023-03-24T23:39:53.012817Z",
     "iopub.execute_input": "2023-03-24T23:39:53.013211Z",
     "iopub.status.idle": "2023-03-24T23:39:53.031842Z",
     "shell.execute_reply.started": "2023-03-24T23:39:53.013176Z",
     "shell.execute_reply": "2023-03-24T23:39:53.030079Z"
    },
    "trusted": true
   },
   "execution_count": 25,
   "outputs": []
  },
  {
   "cell_type": "code",
   "source": [
    "data = generate_dataframes()\n",
    "data.head()"
   ],
   "metadata": {
    "execution": {
     "iopub.status.busy": "2023-03-24T23:39:55.725055Z",
     "iopub.execute_input": "2023-03-24T23:39:55.725889Z",
     "iopub.status.idle": "2023-03-24T23:39:56.476465Z",
     "shell.execute_reply.started": "2023-03-24T23:39:55.725843Z",
     "shell.execute_reply": "2023-03-24T23:39:56.475179Z"
    },
    "trusted": true
   },
   "execution_count": 26,
   "outputs": [
    {
     "execution_count": 26,
     "output_type": "execute_result",
     "data": {
      "text/plain": "                                                path  \\\n0  MURA-v1.1/train/XR_SHOULDER/patient00001/study...   \n1  MURA-v1.1/train/XR_SHOULDER/patient00001/study...   \n2  MURA-v1.1/train/XR_SHOULDER/patient00001/study...   \n3  MURA-v1.1/train/XR_SHOULDER/patient00002/study...   \n4  MURA-v1.1/train/XR_SHOULDER/patient00002/study...   \n\n                                          image_path set_type     category  \\\n0  MURA-v1.1/train/XR_SHOULDER/patient00001/study...    train  XR_SHOULDER   \n1  MURA-v1.1/train/XR_SHOULDER/patient00001/study...    train  XR_SHOULDER   \n2  MURA-v1.1/train/XR_SHOULDER/patient00001/study...    train  XR_SHOULDER   \n3  MURA-v1.1/train/XR_SHOULDER/patient00002/study...    train  XR_SHOULDER   \n4  MURA-v1.1/train/XR_SHOULDER/patient00002/study...    train  XR_SHOULDER   \n\n     patient_id label_type  label  \n0  patient00001   abnormal      1  \n1  patient00001   abnormal      1  \n2  patient00001   abnormal      1  \n3  patient00002   abnormal      1  \n4  patient00002   abnormal      1  ",
      "text/html": "<div>\n<style scoped>\n    .dataframe tbody tr th:only-of-type {\n        vertical-align: middle;\n    }\n\n    .dataframe tbody tr th {\n        vertical-align: top;\n    }\n\n    .dataframe thead th {\n        text-align: right;\n    }\n</style>\n<table border=\"1\" class=\"dataframe\">\n  <thead>\n    <tr style=\"text-align: right;\">\n      <th></th>\n      <th>path</th>\n      <th>image_path</th>\n      <th>set_type</th>\n      <th>category</th>\n      <th>patient_id</th>\n      <th>label_type</th>\n      <th>label</th>\n    </tr>\n  </thead>\n  <tbody>\n    <tr>\n      <th>0</th>\n      <td>MURA-v1.1/train/XR_SHOULDER/patient00001/study...</td>\n      <td>MURA-v1.1/train/XR_SHOULDER/patient00001/study...</td>\n      <td>train</td>\n      <td>XR_SHOULDER</td>\n      <td>patient00001</td>\n      <td>abnormal</td>\n      <td>1</td>\n    </tr>\n    <tr>\n      <th>1</th>\n      <td>MURA-v1.1/train/XR_SHOULDER/patient00001/study...</td>\n      <td>MURA-v1.1/train/XR_SHOULDER/patient00001/study...</td>\n      <td>train</td>\n      <td>XR_SHOULDER</td>\n      <td>patient00001</td>\n      <td>abnormal</td>\n      <td>1</td>\n    </tr>\n    <tr>\n      <th>2</th>\n      <td>MURA-v1.1/train/XR_SHOULDER/patient00001/study...</td>\n      <td>MURA-v1.1/train/XR_SHOULDER/patient00001/study...</td>\n      <td>train</td>\n      <td>XR_SHOULDER</td>\n      <td>patient00001</td>\n      <td>abnormal</td>\n      <td>1</td>\n    </tr>\n    <tr>\n      <th>3</th>\n      <td>MURA-v1.1/train/XR_SHOULDER/patient00002/study...</td>\n      <td>MURA-v1.1/train/XR_SHOULDER/patient00002/study...</td>\n      <td>train</td>\n      <td>XR_SHOULDER</td>\n      <td>patient00002</td>\n      <td>abnormal</td>\n      <td>1</td>\n    </tr>\n    <tr>\n      <th>4</th>\n      <td>MURA-v1.1/train/XR_SHOULDER/patient00002/study...</td>\n      <td>MURA-v1.1/train/XR_SHOULDER/patient00002/study...</td>\n      <td>train</td>\n      <td>XR_SHOULDER</td>\n      <td>patient00002</td>\n      <td>abnormal</td>\n      <td>1</td>\n    </tr>\n  </tbody>\n</table>\n</div>"
     },
     "metadata": {}
    }
   ]
  },
  {
   "cell_type": "markdown",
   "source": [
    "# Train Dev Test (valid) split\n",
    "\n",
    "* in order not to have any dependencies on the order of the data, we will shuffle the data. Moreover, 10% of the input data will be used as validation and 10% as test.\n",
    "\n",
    "As described in the Paper we will make sure not to have overlap between patients in the various sets. We shuffle the patients, and then split the dataset  "
   ],
   "metadata": {}
  },
  {
   "cell_type": "code",
   "source": [
    "# take unique patient_ids and shuffle\n",
    "patients = data.patient_id.unique()\n",
    "np.random.seed(41)\n",
    "np.random.shuffle(patients)\n",
    "\n",
    "# split three list of patient_ids\n",
    "length_80 = patients[:int(len(patients)*0.85)]\n",
    "length_80_90 = patients[int(len(patients)*0.85):int(len(patients)*0.9)]\n",
    "length_90_100 = patients[int(len(patients)*0.9):]\n",
    "\n",
    "# sanity check\n",
    "data.loc[data.patient_id.isin(length_80)].describe()\\\n",
    ".join(data.loc[data.patient_id.isin(length_80_90)].describe(),rsuffix=\"_Validation\")\\\n",
    ".join(data.loc[data.patient_id.isin(length_90_100)].describe(), rsuffix=\"_Test\")"
   ],
   "metadata": {
    "execution": {
     "iopub.status.busy": "2023-03-24T23:40:12.854985Z",
     "iopub.execute_input": "2023-03-24T23:40:12.855399Z",
     "iopub.status.idle": "2023-03-24T23:40:12.932554Z",
     "shell.execute_reply.started": "2023-03-24T23:40:12.855360Z",
     "shell.execute_reply": "2023-03-24T23:40:12.931071Z"
    },
    "trusted": true
   },
   "execution_count": 31,
   "outputs": [
    {
     "execution_count": 31,
     "output_type": "execute_result",
     "data": {
      "text/plain": "              label  label_Validation   label_Test\ncount  34067.000000       1957.000000  3981.000000\nmean       0.412041          0.375575     0.409696\nstd        0.492210          0.484395     0.491839\nmin        0.000000          0.000000     0.000000\n25%        0.000000          0.000000     0.000000\n50%        0.000000          0.000000     0.000000\n75%        1.000000          1.000000     1.000000\nmax        1.000000          1.000000     1.000000",
      "text/html": "<div>\n<style scoped>\n    .dataframe tbody tr th:only-of-type {\n        vertical-align: middle;\n    }\n\n    .dataframe tbody tr th {\n        vertical-align: top;\n    }\n\n    .dataframe thead th {\n        text-align: right;\n    }\n</style>\n<table border=\"1\" class=\"dataframe\">\n  <thead>\n    <tr style=\"text-align: right;\">\n      <th></th>\n      <th>label</th>\n      <th>label_Validation</th>\n      <th>label_Test</th>\n    </tr>\n  </thead>\n  <tbody>\n    <tr>\n      <th>count</th>\n      <td>34067.000000</td>\n      <td>1957.000000</td>\n      <td>3981.000000</td>\n    </tr>\n    <tr>\n      <th>mean</th>\n      <td>0.412041</td>\n      <td>0.375575</td>\n      <td>0.409696</td>\n    </tr>\n    <tr>\n      <th>std</th>\n      <td>0.492210</td>\n      <td>0.484395</td>\n      <td>0.491839</td>\n    </tr>\n    <tr>\n      <th>min</th>\n      <td>0.000000</td>\n      <td>0.000000</td>\n      <td>0.000000</td>\n    </tr>\n    <tr>\n      <th>25%</th>\n      <td>0.000000</td>\n      <td>0.000000</td>\n      <td>0.000000</td>\n    </tr>\n    <tr>\n      <th>50%</th>\n      <td>0.000000</td>\n      <td>0.000000</td>\n      <td>0.000000</td>\n    </tr>\n    <tr>\n      <th>75%</th>\n      <td>1.000000</td>\n      <td>1.000000</td>\n      <td>1.000000</td>\n    </tr>\n    <tr>\n      <th>max</th>\n      <td>1.000000</td>\n      <td>1.000000</td>\n      <td>1.000000</td>\n    </tr>\n  </tbody>\n</table>\n</div>"
     },
     "metadata": {}
    }
   ]
  },
  {
   "cell_type": "markdown",
   "source": [
    "* Update the labels for each set & save dataframes to variables"
   ],
   "metadata": {}
  },
  {
   "cell_type": "code",
   "source": [
    "# update labels\n",
    "data.loc[data.patient_id.isin(length_80), \"set_type\"] = \"train\"\n",
    "data.loc[data.patient_id.isin(length_80_90), \"set_type\"] = \"validation\"\n",
    "data.loc[data.patient_id.isin(length_90_100), \"set_type\"] = \"test\"\n",
    "\n",
    "train: pd.DataFrame = data.loc[data.set_type == 'train']\n",
    "valid: pd.DataFrame = data.loc[data.set_type == 'validation']\n",
    "test: pd.DataFrame = data.loc[data.set_type == 'test']"
   ],
   "metadata": {
    "execution": {
     "iopub.status.busy": "2023-03-24T23:40:16.263322Z",
     "iopub.execute_input": "2023-03-24T23:40:16.264591Z",
     "iopub.status.idle": "2023-03-24T23:40:16.323118Z",
     "shell.execute_reply.started": "2023-03-24T23:40:16.264539Z",
     "shell.execute_reply": "2023-03-24T23:40:16.320796Z"
    },
    "trusted": true
   },
   "execution_count": 32,
   "outputs": []
  },
  {
   "cell_type": "markdown",
   "source": [
    "* visualize new class distribution. It seems that the selected seed provides a balanced set to train."
   ],
   "metadata": {}
  },
  {
   "cell_type": "code",
   "source": [
    "plot_label_counts(data)"
   ],
   "metadata": {
    "execution": {
     "iopub.status.busy": "2023-03-24T23:40:18.733999Z",
     "iopub.execute_input": "2023-03-24T23:40:18.734398Z",
     "iopub.status.idle": "2023-03-24T23:40:20.042276Z",
     "shell.execute_reply.started": "2023-03-24T23:40:18.734363Z",
     "shell.execute_reply": "2023-03-24T23:40:20.040106Z"
    },
    "trusted": true
   },
   "execution_count": 33,
   "outputs": [
    {
     "output_type": "display_data",
     "data": {
      "text/plain": "<Figure size 2000x1000 with 8 Axes>",
      "image/png": "[encoded data removed]"
     },
     "metadata": {}
    }
   ]
  },
  {
   "cell_type": "markdown",
   "source": [
    "# Data Augmentation\n",
    "\n",
    "* As mentioned in the introductions, some pre-processing steps will take place, similar to the ones used in the paper."
   ],
   "metadata": {}
  },
  {
   "cell_type": "code",
   "source": [
    "from PIL import ImageEnhance, Image\n",
    "# Define the preprocessing function\n",
    "def normalize(x):\n",
    "    x /= 255.0  # Scale pixel values to [0, 1]\n",
    "\n",
    "    # normalize to imagenet mean and std\n",
    "    x -= [0.485, 0.456, 0.406]\n",
    "    x /= [0.229, 0.224, 0.225]\n",
    "\n",
    "    return x\n",
    "\n",
    "def augment_image(image):\n",
    "    image = Image.fromarray(np.uint8(image))\n",
    "    image = ImageEnhance.Brightness(image).enhance(np.random.uniform(0.8, 1.2))\n",
    "    image = ImageEnhance.Contrast(image).enhance(np.random.uniform(0.8, 1.2))\n",
    "    image = np.array(image)/255.0  # normalize\n",
    "    return image"
   ],
   "metadata": {
    "execution": {
     "iopub.status.busy": "2023-03-24T23:40:21.365701Z",
     "iopub.execute_input": "2023-03-24T23:40:21.366481Z",
     "iopub.status.idle": "2023-03-24T23:40:21.375072Z",
     "shell.execute_reply.started": "2023-03-24T23:40:21.366441Z",
     "shell.execute_reply": "2023-03-24T23:40:21.373395Z"
    },
    "trusted": true
   },
   "execution_count": 34,
   "outputs": []
  },
  {
   "cell_type": "code",
   "source": [
    "x_col='image_path'\n",
    "y_col='label_type'\n",
    "batch_size=64\n",
    "seed=42\n",
    "shuffle=True\n",
    "class_mode='binary'\n",
    "target_size=(320,320)\n",
    "\n",
    "# create Data generators\n",
    "train_datagen = ImageDataGenerator(\n",
    "    rotation_range=30,\n",
    "    horizontal_flip=True,\n",
    "    preprocessing_function=augment_image\n",
    ")\n",
    "\n",
    "\n",
    "valid_test_datagen = ImageDataGenerator(\n",
    "    rescale=1.0/255.0\n",
    ")\n",
    "\n",
    "\n",
    "# prepare iterators\n",
    "train_iterator = train_datagen.flow_from_dataframe(\n",
    "    dataframe=train,\n",
    "    x_col=x_col,\n",
    "    y_col=y_col,\n",
    "    batch_size=batch_size,\n",
    "    seed=seed,\n",
    "    shuffle=shuffle,\n",
    "    class_mode='binary',\n",
    "    target_size=target_size\n",
    ")\n",
    "\n",
    "valid_iterator = valid_test_datagen.flow_from_dataframe(\n",
    "    dataframe=valid,\n",
    "    x_col=x_col,\n",
    "    y_col=y_col,\n",
    "    batch_size=batch_size,\n",
    "    seed=42,\n",
    "    shuffle=True,\n",
    "    class_mode='binary',\n",
    "    target_size=target_size\n",
    ")\n",
    "\n",
    "test_iterator = valid_test_datagen.flow_from_dataframe(\n",
    "    dataframe=test,\n",
    "    x_col=x_col,\n",
    "    y_col=y_col,\n",
    "    batch_size=batch_size,\n",
    "    seed=42,\n",
    "    shuffle=False,\n",
    "    class_mode='binary',\n",
    "    target_size=target_size\n",
    ")"
   ],
   "metadata": {
    "execution": {
     "iopub.status.busy": "2023-03-24T23:40:23.414344Z",
     "iopub.execute_input": "2023-03-24T23:40:23.414772Z",
     "iopub.status.idle": "2023-03-24T23:41:28.122113Z",
     "shell.execute_reply.started": "2023-03-24T23:40:23.414710Z",
     "shell.execute_reply": "2023-03-24T23:41:28.118799Z"
    },
    "trusted": true
   },
   "execution_count": 35,
   "outputs": [
    {
     "name": "stdout",
     "text": "Found 34067 validated image filenames belonging to 2 classes.\nFound 1957 validated image filenames belonging to 2 classes.\nFound 1957 validated image filenames belonging to 2 classes.\n",
     "output_type": "stream"
    }
   ]
  },
  {
   "cell_type": "code",
   "source": [
    "import tensorflow_addons as tfa\n",
    "def opt_es(learning_rate=0.0001, monitor='val_accuracy', patience=2) -> tuple:\n",
    "    \"\"\"return the Adam optimizer and the readly stopping\"\"\"\n",
    "    optimizer = Adam(learning_rate=learning_rate)\n",
    "    early_stopping = EarlyStopping(\n",
    "            monitor=monitor,\n",
    "            patience=patience,\n",
    "            verbose=1,\n",
    "            restore_best_weights=True\n",
    "        )\n",
    "    reduceLR = ReduceLROnPlateau(monitor='val_loss', factor=0.1, patience=5, min_lr=1e-6)\n",
    "    return optimizer, early_stopping, reduceLR\n",
    "\n",
    "def clean_up(model):\n",
    "    K.clear_session()\n",
    "    del model\n",
    "    gc.collect()\n",
    "\n",
    "def print_eval(hs, _eval) -> None:\n",
    "    \"\"\"Prints Train, validation and test metrics for an input hs object\"\"\"\n",
    "\n",
    "    print(\"Train Loss     : {0:.5f}\".format(hs.history['loss'][-1]))\n",
    "    print(\"Validation Loss: {0:.5f}\".format(hs.history['val_loss'][-1]))\n",
    "    print(\"Test Loss      : {0:.5f}\".format(_eval[0]))\n",
    "    print(\"---\")\n",
    "    print(\"Train Accuracy     : {0:.5f}\".format(hs.history['accuracy'][-1]))\n",
    "    print(\"Validation Accuracy: {0:.5f}\".format(hs.history['val_accuracy'][-1]))\n",
    "    print(\"Test Accuracy      : {0:.5f}\".format(_eval[2]))"
   ],
   "metadata": {
    "execution": {
     "iopub.status.busy": "2023-03-24T23:41:48.350178Z",
     "iopub.execute_input": "2023-03-24T23:41:48.350546Z",
     "iopub.status.idle": "2023-03-24T23:41:48.359569Z",
     "shell.execute_reply.started": "2023-03-24T23:41:48.350513Z",
     "shell.execute_reply": "2023-03-24T23:41:48.358167Z"
    },
    "trusted": true
   },
   "execution_count": 36,
   "outputs": []
  },
  {
   "cell_type": "code",
   "source": [
    "def train_model(\n",
    "        train_iterator,\n",
    "        valid_iterator,\n",
    "        optimizer: tf.keras.optimizers,\n",
    "        filter_size: List[int],\n",
    "        kernel_size: List[int],\n",
    "        batch_norm: List[bool],\n",
    "        max_pooling_size: List[int],\n",
    "        metrics: List[Any],\n",
    "        dropout: List[Optional[float]],\n",
    "        conv_activation: str = 'relu',\n",
    "        output_activation: str = 'sigmoid',\n",
    "        callbacks: Optional[List[Any]] = None, \n",
    "        verbose: int = 0,\n",
    "        epochs: int = 50) -> tuple:\n",
    "    \n",
    "    \n",
    "    assert len(filter_size) == len(kernel_size) == len(batch_norm) == len(max_pooling_size) == len(dropout)\n",
    "    \n",
    "    np.random.seed(42) # Define the seed for numpy to have reproducible experiments.\n",
    "    set_seed(42) # Define the seed for Tensorflow to have reproducible experiments.\n",
    "    \n",
    "    # Define the input layer.\n",
    "    _input = Input(\n",
    "        shape=(320, 320, 3),\n",
    "        name='Input'\n",
    "    )\n",
    "\n",
    "    x = _input\n",
    "     # Define the convolutional layers.\n",
    "    for i, filters in enumerate(filter_size):\n",
    "        x = Conv2D(\n",
    "            filters=filters,\n",
    "            kernel_size=(kernel_size[i], kernel_size[i]),\n",
    "            strides=(1, 1),\n",
    "            padding='same',\n",
    "            dilation_rate=(1, 1),\n",
    "            activation=conv_activation,\n",
    "            name='Conv2D-{0:d}'.format(i + 1)\n",
    "        )(x)\n",
    "        \n",
    "        if batch_norm[i]:\n",
    "            x = BatchNormalization(\n",
    "                name='BatchNormalization-{0:d}'.format(i + 1)\n",
    "            )(x)\n",
    "\n",
    "        if dropout[i]:\n",
    "            x = Dropout(\n",
    "                rate=dropout[i],\n",
    "                name='Dropout-{0:d}'.format(i + 1)\n",
    "            )(x)\n",
    "            \n",
    "        if max_pooling_size[i]:\n",
    "            x = MaxPool2D(\n",
    "                pool_size=(max_pooling_size[i], max_pooling_size[i]),\n",
    "                strides=(2, 2),\n",
    "                padding='same',\n",
    "                name='MaxPool2D-{0:d}'.format(i + 1)\n",
    "            )(x)\n",
    "            \n",
    "    # Flatten the convolved images so as to input them to a Dense Layer\n",
    "    x = Flatten(name='Flatten')(x)\n",
    "    \n",
    "    # Define the output layer.\n",
    "    output = Dense(\n",
    "        units=1,\n",
    "        activation=output_activation,\n",
    "        name='Output'\n",
    "    )(x)\n",
    "\n",
    "    # Define the model and train it.\n",
    "    model = Model(inputs=_input, outputs=output)\n",
    "    model.compile(optimizer=optimizer, loss='binary_crossentropy', metrics=metrics)\n",
    "    hs = model.fit(\n",
    "        train_iterator,\n",
    "        validation_data=valid_iterator,\n",
    "        epochs=epochs,\n",
    "        verbose=verbose,\n",
    "        callbacks=callbacks,\n",
    "        shuffle=True\n",
    "    )\n",
    "    print('Finished training.')\n",
    "    print('------------------')\n",
    "    model.summary() # Print a description of the model.\n",
    "    return model, hs"
   ],
   "metadata": {
    "execution": {
     "iopub.status.busy": "2023-03-24T23:41:50.940196Z",
     "iopub.execute_input": "2023-03-24T23:41:50.940706Z",
     "iopub.status.idle": "2023-03-24T23:41:50.963802Z",
     "shell.execute_reply.started": "2023-03-24T23:41:50.940652Z",
     "shell.execute_reply": "2023-03-24T23:41:50.960285Z"
    },
    "trusted": true
   },
   "execution_count": 37,
   "outputs": []
  },
  {
   "cell_type": "code",
   "source": [
    "\n",
    "# Define parameters\n",
    "cnn_params = {\n",
    "        'filter_size': [128, 64, 64, 32],\n",
    "        'kernel_size':[5, 3, 7, 5],\n",
    "        'batch_norm': [False, False, True, False],\n",
    "        'max_pooling_size': [4, 0, 2, 0],\n",
    "        'dropout': [0.0, 0.0, 0.0, 0.6],\n",
    "        'learning_rate': [0.0001],\n",
    "        'epochs': 10\n",
    "    }\n",
    "\n",
    "# init wandb\n",
    "wandb.init(project=\"Deep_Learning_2\", \n",
    "           name=\"CNN_baseline_test\")\n",
    "\n",
    "\n",
    "# Metrics and optimizer\n",
    "metrics = [tfa.metrics.CohenKappa(name=\"cohen_kappa\", num_classes=2),\n",
    "           'accuracy']\n",
    "optimizer, early_stopping, reduceLR = opt_es()\n",
    "\n",
    "# train model\n",
    "model, hs = train_model(\n",
    "    train_iterator=train_iterator,\n",
    "    valid_iterator=valid_iterator,\n",
    "    optimizer=optimizer,\n",
    "    epochs=cnn_params['epochs'],\n",
    "    filter_size=cnn_params['filter_size'],\n",
    "    kernel_size=cnn_params['kernel_size'],\n",
    "    batch_norm=cnn_params['batch_norm'],\n",
    "    max_pooling_size=cnn_params['max_pooling_size'],\n",
    "    dropout=cnn_params['dropout'],\n",
    "    conv_activation='relu',\n",
    "    output_activation='softmax',\n",
    "    callbacks=[WandbCallback(), early_stopping, reduceLR],\n",
    "    metrics=metrics,\n",
    "    verbose=1\n",
    "\n",
    ")\n",
    "\n",
    "# evaluate\n",
    "# Evaluate on test data and show all the results.\n",
    "_eval = model.evaluate(X_test, Y_test, verbose=1)\n",
    "print_eval(hs, _eval)\n",
    "clean_up(model=model)\n",
    "wandb.finish()\n"
   ],
   "metadata": {
    "execution": {
     "iopub.status.busy": "2023-03-24T23:41:55.773073Z",
     "iopub.execute_input": "2023-03-24T23:41:55.773429Z",
     "iopub.status.idle": "2023-03-25T00:39:48.611227Z",
     "shell.execute_reply.started": "2023-03-24T23:41:55.773399Z",
     "shell.execute_reply": "2023-03-25T00:39:48.609507Z"
    },
    "trusted": true
   },
   "execution_count": 38,
   "outputs": [
    {
     "output_type": "display_data",
     "data": {
      "text/plain": "<IPython.core.display.HTML object>",
      "text/html": "Finishing last run (ID:e815fxxd) before initializing another..."
     },
     "metadata": {}
    },
    {
     "output_type": "display_data",
     "data": {
      "text/plain": "<IPython.core.display.HTML object>",
      "text/html": "Waiting for W&B process to finish... <strong style=\"color:green\">(success).</strong>"
     },
     "metadata": {}
    },
    {
     "output_type": "display_data",
     "data": {
      "text/plain": "VBox(children=(Label(value='12.677 MB of 12.677 MB uploaded (0.000 MB deduped)\\r'), FloatProgress(value=1.0, m…",
      "application/vnd.jupyter.widget-view+json": {
       "version_major": 2,
       "version_minor": 0,
       "model_id": "b5f0fdf6d34042e6a516e8682c9d4015"
      }
     },
     "metadata": {}
    },
    {
     "output_type": "display_data",
     "data": {
      "text/plain": "<IPython.core.display.HTML object>",
      "text/html": "<style>\n    table.wandb td:nth-child(1) { padding: 0 10px; text-align: left ; width: auto;} td:nth-child(2) {text-align: left ; width: 100%}\n    .wandb-row { display: flex; flex-direction: row; flex-wrap: wrap; justify-content: flex-start; width: 100% }\n    .wandb-col { display: flex; flex-direction: column; flex-basis: 100%; flex: 1; padding: 10px; }\n    </style>\n<div class=\"wandb-row\"><div class=\"wandb-col\"><h3>Run history:</h3><br/><table class=\"wandb\"><tr><td>accuracy</td><td>▁▁▁</td></tr><tr><td>cohen_kappa</td><td>▁▁▁</td></tr><tr><td>epoch</td><td>▁▅█</td></tr><tr><td>loss</td><td>█▄▁</td></tr><tr><td>val_accuracy</td><td>▁▁▁</td></tr><tr><td>val_cohen_kappa</td><td>▁▁▁</td></tr><tr><td>val_loss</td><td>▁█▆</td></tr></table><br/></div><div class=\"wandb-col\"><h3>Run summary:</h3><br/><table class=\"wandb\"><tr><td>accuracy</td><td>0.58796</td></tr><tr><td>best_epoch</td><td>0</td></tr><tr><td>best_val_loss</td><td>0.63541</td></tr><tr><td>cohen_kappa</td><td>0.0</td></tr><tr><td>epoch</td><td>2</td></tr><tr><td>loss</td><td>0.64843</td></tr><tr><td>val_accuracy</td><td>0.62443</td></tr><tr><td>val_cohen_kappa</td><td>0.0</td></tr><tr><td>val_loss</td><td>0.69417</td></tr></table><br/></div></div>"
     },
     "metadata": {}
    },
    {
     "output_type": "display_data",
     "data": {
      "text/plain": "<IPython.core.display.HTML object>",
      "text/html": " View run <strong style=\"color:#cdcd00\">CNN_baseline_test</strong> at: <a href='https://wandb.ai/aueb/Deep_Learning_2/runs/e815fxxd' target=\"_blank\">https://wandb.ai/aueb/Deep_Learning_2/runs/e815fxxd</a><br/>Synced 6 W&B file(s), 1 media file(s), 5 artifact file(s) and 1 other file(s)"
     },
     "metadata": {}
    },
    {
     "output_type": "display_data",
     "data": {
      "text/plain": "<IPython.core.display.HTML object>",
      "text/html": "Find logs at: <code>/tmp/wandb/run-20230324_212224-e815fxxd/logs</code>"
     },
     "metadata": {}
    },
    {
     "output_type": "display_data",
     "data": {
      "text/plain": "<IPython.core.display.HTML object>",
      "text/html": "Successfully finished last run (ID:e815fxxd). Initializing new run:<br/>"
     },
     "metadata": {}
    },
    {
     "output_type": "display_data",
     "data": {
      "text/plain": "<IPython.core.display.HTML object>",
      "text/html": "wandb version 0.14.0 is available!  To upgrade, please run:\n $ pip install wandb --upgrade"
     },
     "metadata": {}
    },
    {
     "output_type": "display_data",
     "data": {
      "text/plain": "<IPython.core.display.HTML object>",
      "text/html": "Tracking run with wandb version 0.13.10"
     },
     "metadata": {}
    },
    {
     "output_type": "display_data",
     "data": {
      "text/plain": "<IPython.core.display.HTML object>",
      "text/html": "Run data is saved locally in <code>/tmp/wandb/run-20230324_234155-7xikdzjy</code>"
     },
     "metadata": {}
    },
    {
     "output_type": "display_data",
     "data": {
      "text/plain": "<IPython.core.display.HTML object>",
      "text/html": "Syncing run <strong><a href='https://wandb.ai/aueb/Deep_Learning_2/runs/7xikdzjy' target=\"_blank\">CNN_baseline_test</a></strong> to <a href='https://wandb.ai/aueb/Deep_Learning_2' target=\"_blank\">Weights & Biases</a> (<a href='https://wandb.me/run' target=\"_blank\">docs</a>)<br/>"
     },
     "metadata": {}
    },
    {
     "output_type": "display_data",
     "data": {
      "text/plain": "<IPython.core.display.HTML object>",
      "text/html": " View project at <a href='https://wandb.ai/aueb/Deep_Learning_2' target=\"_blank\">https://wandb.ai/aueb/Deep_Learning_2</a>"
     },
     "metadata": {}
    },
    {
     "output_type": "display_data",
     "data": {
      "text/plain": "<IPython.core.display.HTML object>",
      "text/html": " View run at <a href='https://wandb.ai/aueb/Deep_Learning_2/runs/7xikdzjy' target=\"_blank\">https://wandb.ai/aueb/Deep_Learning_2/runs/7xikdzjy</a>"
     },
     "metadata": {}
    },
    {
     "name": "stdout",
     "text": "Epoch 1/10\n",
     "output_type": "stream"
    },
    {
     "name": "stderr",
     "text": "2023-03-24 23:42:39.069539: E tensorflow/core/grappler/optimizers/meta_optimizer.cc:954] layout failed: INVALID_ARGUMENT: Size of values 0 does not match size of permutation 4 @ fanin shape inmodel_1/Dropout-4/dropout/SelectV2-2-TransposeNHWCToNCHW-LayoutOptimizer\n",
     "output_type": "stream"
    },
    {
     "name": "stdout",
     "text": "533/533 [==============================] - ETA: 0s - loss: 0.6874 - cohen_kappa: 5.9605e-08 - accuracy: 0.5880",
     "output_type": "stream"
    },
    {
     "name": "stderr",
     "text": "\u001B[34m\u001B[1mwandb\u001B[0m: Adding directory to artifact (/tmp/wandb/run-20230324_234155-7xikdzjy/files/model-best)... Done. 0.1s\n",
     "output_type": "stream"
    },
    {
     "name": "stdout",
     "text": "533/533 [==============================] - 1216s 2s/step - loss: 0.6874 - cohen_kappa: 5.9605e-08 - accuracy: 0.5880 - val_loss: 0.6809 - val_cohen_kappa: 0.0000e+00 - val_accuracy: 0.6244 - lr: 1.0000e-04\nEpoch 2/10\n533/533 [==============================] - ETA: 0s - loss: 0.6603 - cohen_kappa: 5.9605e-08 - accuracy: 0.5880",
     "output_type": "stream"
    },
    {
     "name": "stderr",
     "text": "\u001B[34m\u001B[1mwandb\u001B[0m: Adding directory to artifact (/tmp/wandb/run-20230324_234155-7xikdzjy/files/model-best)... Done. 0.1s\n",
     "output_type": "stream"
    },
    {
     "name": "stdout",
     "text": "533/533 [==============================] - 1131s 2s/step - loss: 0.6603 - cohen_kappa: 5.9605e-08 - accuracy: 0.5880 - val_loss: 0.6448 - val_cohen_kappa: 0.0000e+00 - val_accuracy: 0.6244 - lr: 1.0000e-04\nEpoch 3/10\n533/533 [==============================] - ETA: 0s - loss: 0.6505 - cohen_kappa: 5.9605e-08 - accuracy: 0.5880Restoring model weights from the end of the best epoch: 1.\n533/533 [==============================] - 1083s 2s/step - loss: 0.6505 - cohen_kappa: 5.9605e-08 - accuracy: 0.5880 - val_loss: 0.7004 - val_cohen_kappa: 0.0000e+00 - val_accuracy: 0.6244 - lr: 1.0000e-04\nEpoch 3: early stopping\nFinished training.\n------------------\nModel: \"model_1\"\n_________________________________________________________________\n Layer (type)                Output Shape              Param #   \n=================================================================\n Input (InputLayer)          [(None, 320, 320, 3)]     0         \n                                                                 \n Conv2D-1 (Conv2D)           (None, 320, 320, 128)     9728      \n                                                                 \n MaxPool2D-1 (MaxPooling2D)  (None, 160, 160, 128)     0         \n                                                                 \n Conv2D-2 (Conv2D)           (None, 160, 160, 64)      73792     \n                                                                 \n Conv2D-3 (Conv2D)           (None, 160, 160, 64)      200768    \n                                                                 \n BatchNormalization-3 (Batch  (None, 160, 160, 64)     256       \n Normalization)                                                  \n                                                                 \n MaxPool2D-3 (MaxPooling2D)  (None, 80, 80, 64)        0         \n                                                                 \n Conv2D-4 (Conv2D)           (None, 80, 80, 32)        51232     \n                                                                 \n Dropout-4 (Dropout)         (None, 80, 80, 32)        0         \n                                                                 \n Flatten (Flatten)           (None, 204800)            0         \n                                                                 \n Output (Dense)              (None, 1)                 204801    \n                                                                 \n=================================================================\nTotal params: 540,577\nTrainable params: 540,449\nNon-trainable params: 128\n_________________________________________________________________\n",
     "output_type": "stream"
    },
    {
     "traceback": [
      "\u001B[0;31m---------------------------------------------------------------------------\u001B[0m",
      "\u001B[0;31mTypeError\u001B[0m                                 Traceback (most recent call last)",
      "\u001B[0;32m/tmp/ipykernel_23/1337272069.py\u001B[0m in \u001B[0;36m<module>\u001B[0;34m\u001B[0m\n\u001B[1;32m     35\u001B[0m     \u001B[0mcallbacks\u001B[0m\u001B[0;34m=\u001B[0m\u001B[0;34m[\u001B[0m\u001B[0mWandbCallback\u001B[0m\u001B[0;34m(\u001B[0m\u001B[0;34m)\u001B[0m\u001B[0;34m,\u001B[0m \u001B[0mearly_stopping\u001B[0m\u001B[0;34m,\u001B[0m \u001B[0mreduceLR\u001B[0m\u001B[0;34m]\u001B[0m\u001B[0;34m,\u001B[0m\u001B[0;34m\u001B[0m\u001B[0;34m\u001B[0m\u001B[0m\n\u001B[1;32m     36\u001B[0m     \u001B[0mmetrics\u001B[0m\u001B[0;34m=\u001B[0m\u001B[0mmetrics\u001B[0m\u001B[0;34m,\u001B[0m\u001B[0;34m\u001B[0m\u001B[0;34m\u001B[0m\u001B[0m\n\u001B[0;32m---> 37\u001B[0;31m     \u001B[0mverbose\u001B[0m\u001B[0;34m=\u001B[0m\u001B[0;36m1\u001B[0m\u001B[0;34m\u001B[0m\u001B[0;34m\u001B[0m\u001B[0m\n\u001B[0m\u001B[1;32m     38\u001B[0m \u001B[0;34m\u001B[0m\u001B[0m\n\u001B[1;32m     39\u001B[0m )\n",
      "\u001B[0;31mTypeError\u001B[0m: cannot unpack non-iterable Functional object"
     ],
     "ename": "TypeError",
     "evalue": "cannot unpack non-iterable Functional object",
     "output_type": "error"
    }
   ]
  },
  {
   "cell_type": "code",
   "source": [],
   "metadata": {},
   "execution_count": null,
   "outputs": []
  }
 ]
}
