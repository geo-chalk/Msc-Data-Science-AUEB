{
 "metadata": {
  "kernelspec": {
   "language": "python",
   "display_name": "Python 3",
   "name": "python3"
  },
  "language_info": {
   "name": "python",
   "version": "3.7.12",
   "mimetype": "text/x-python",
   "codemirror_mode": {
    "name": "ipython",
    "version": 3
   },
   "pygments_lexer": "ipython3",
   "nbconvert_exporter": "python",
   "file_extension": ".py"
  },
  "colab": {
   "provenance": []
  },
  "gpuClass": "standard",
  "accelerator": "GPU",
  "widgets": {
   "application/vnd.jupyter.widget-state+json": {
    "d04787a20e0d4571b10fe1397bfb1a3a": {
     "model_module": "@jupyter-widgets/controls",
     "model_name": "VBoxModel",
     "model_module_version": "1.5.0",
     "state": {
      "_dom_classes": [],
      "_model_module": "@jupyter-widgets/controls",
      "_model_module_version": "1.5.0",
      "_model_name": "VBoxModel",
      "_view_count": null,
      "_view_module": "@jupyter-widgets/controls",
      "_view_module_version": "1.5.0",
      "_view_name": "VBoxView",
      "box_style": "",
      "children": [
       "IPY_MODEL_cd312787a0aa410a86db559c1ddb1f05",
       "IPY_MODEL_0324aa6901be4edeaca1dd635a96fac5"
      ],
      "layout": "IPY_MODEL_b06042cac0954e0d9d75c9a590b23d46"
     }
    },
    "cd312787a0aa410a86db559c1ddb1f05": {
     "model_module": "@jupyter-widgets/controls",
     "model_name": "LabelModel",
     "model_module_version": "1.5.0",
     "state": {
      "_dom_classes": [],
      "_model_module": "@jupyter-widgets/controls",
      "_model_module_version": "1.5.0",
      "_model_name": "LabelModel",
      "_view_count": null,
      "_view_module": "@jupyter-widgets/controls",
      "_view_module_version": "1.5.0",
      "_view_name": "LabelView",
      "description": "",
      "description_tooltip": null,
      "layout": "IPY_MODEL_e68e7f0f22b34ea8ab2fc7d50a0a7062",
      "placeholder": "​",
      "style": "IPY_MODEL_29f0d2c92b414a4499868c4487812455",
      "value": "1160.103 MB of 1224.493 MB uploaded (30.095 MB deduped)\r"
     }
    },
    "0324aa6901be4edeaca1dd635a96fac5": {
     "model_module": "@jupyter-widgets/controls",
     "model_name": "FloatProgressModel",
     "model_module_version": "1.5.0",
     "state": {
      "_dom_classes": [],
      "_model_module": "@jupyter-widgets/controls",
      "_model_module_version": "1.5.0",
      "_model_name": "FloatProgressModel",
      "_view_count": null,
      "_view_module": "@jupyter-widgets/controls",
      "_view_module_version": "1.5.0",
      "_view_name": "ProgressView",
      "bar_style": "",
      "description": "",
      "description_tooltip": null,
      "layout": "IPY_MODEL_252a235b0c6943ebab21c7cb0fa722fd",
      "max": 1,
      "min": 0,
      "orientation": "horizontal",
      "style": "IPY_MODEL_e5e5e87b1d9f4e72882e9338d7540f6f",
      "value": 0.9474150452321021
     }
    },
    "b06042cac0954e0d9d75c9a590b23d46": {
     "model_module": "@jupyter-widgets/base",
     "model_name": "LayoutModel",
     "model_module_version": "1.2.0",
     "state": {
      "_model_module": "@jupyter-widgets/base",
      "_model_module_version": "1.2.0",
      "_model_name": "LayoutModel",
      "_view_count": null,
      "_view_module": "@jupyter-widgets/base",
      "_view_module_version": "1.2.0",
      "_view_name": "LayoutView",
      "align_content": null,
      "align_items": null,
      "align_self": null,
      "border": null,
      "bottom": null,
      "display": null,
      "flex": null,
      "flex_flow": null,
      "grid_area": null,
      "grid_auto_columns": null,
      "grid_auto_flow": null,
      "grid_auto_rows": null,
      "grid_column": null,
      "grid_gap": null,
      "grid_row": null,
      "grid_template_areas": null,
      "grid_template_columns": null,
      "grid_template_rows": null,
      "height": null,
      "justify_content": null,
      "justify_items": null,
      "left": null,
      "margin": null,
      "max_height": null,
      "max_width": null,
      "min_height": null,
      "min_width": null,
      "object_fit": null,
      "object_position": null,
      "order": null,
      "overflow": null,
      "overflow_x": null,
      "overflow_y": null,
      "padding": null,
      "right": null,
      "top": null,
      "visibility": null,
      "width": null
     }
    },
    "e68e7f0f22b34ea8ab2fc7d50a0a7062": {
     "model_module": "@jupyter-widgets/base",
     "model_name": "LayoutModel",
     "model_module_version": "1.2.0",
     "state": {
      "_model_module": "@jupyter-widgets/base",
      "_model_module_version": "1.2.0",
      "_model_name": "LayoutModel",
      "_view_count": null,
      "_view_module": "@jupyter-widgets/base",
      "_view_module_version": "1.2.0",
      "_view_name": "LayoutView",
      "align_content": null,
      "align_items": null,
      "align_self": null,
      "border": null,
      "bottom": null,
      "display": null,
      "flex": null,
      "flex_flow": null,
      "grid_area": null,
      "grid_auto_columns": null,
      "grid_auto_flow": null,
      "grid_auto_rows": null,
      "grid_column": null,
      "grid_gap": null,
      "grid_row": null,
      "grid_template_areas": null,
      "grid_template_columns": null,
      "grid_template_rows": null,
      "height": null,
      "justify_content": null,
      "justify_items": null,
      "left": null,
      "margin": null,
      "max_height": null,
      "max_width": null,
      "min_height": null,
      "min_width": null,
      "object_fit": null,
      "object_position": null,
      "order": null,
      "overflow": null,
      "overflow_x": null,
      "overflow_y": null,
      "padding": null,
      "right": null,
      "top": null,
      "visibility": null,
      "width": null
     }
    },
    "29f0d2c92b414a4499868c4487812455": {
     "model_module": "@jupyter-widgets/controls",
     "model_name": "DescriptionStyleModel",
     "model_module_version": "1.5.0",
     "state": {
      "_model_module": "@jupyter-widgets/controls",
      "_model_module_version": "1.5.0",
      "_model_name": "DescriptionStyleModel",
      "_view_count": null,
      "_view_module": "@jupyter-widgets/base",
      "_view_module_version": "1.2.0",
      "_view_name": "StyleView",
      "description_width": ""
     }
    },
    "252a235b0c6943ebab21c7cb0fa722fd": {
     "model_module": "@jupyter-widgets/base",
     "model_name": "LayoutModel",
     "model_module_version": "1.2.0",
     "state": {
      "_model_module": "@jupyter-widgets/base",
      "_model_module_version": "1.2.0",
      "_model_name": "LayoutModel",
      "_view_count": null,
      "_view_module": "@jupyter-widgets/base",
      "_view_module_version": "1.2.0",
      "_view_name": "LayoutView",
      "align_content": null,
      "align_items": null,
      "align_self": null,
      "border": null,
      "bottom": null,
      "display": null,
      "flex": null,
      "flex_flow": null,
      "grid_area": null,
      "grid_auto_columns": null,
      "grid_auto_flow": null,
      "grid_auto_rows": null,
      "grid_column": null,
      "grid_gap": null,
      "grid_row": null,
      "grid_template_areas": null,
      "grid_template_columns": null,
      "grid_template_rows": null,
      "height": null,
      "justify_content": null,
      "justify_items": null,
      "left": null,
      "margin": null,
      "max_height": null,
      "max_width": null,
      "min_height": null,
      "min_width": null,
      "object_fit": null,
      "object_position": null,
      "order": null,
      "overflow": null,
      "overflow_x": null,
      "overflow_y": null,
      "padding": null,
      "right": null,
      "top": null,
      "visibility": null,
      "width": null
     }
    },
    "e5e5e87b1d9f4e72882e9338d7540f6f": {
     "model_module": "@jupyter-widgets/controls",
     "model_name": "ProgressStyleModel",
     "model_module_version": "1.5.0",
     "state": {
      "_model_module": "@jupyter-widgets/controls",
      "_model_module_version": "1.5.0",
      "_model_name": "ProgressStyleModel",
      "_view_count": null,
      "_view_module": "@jupyter-widgets/base",
      "_view_module_version": "1.2.0",
      "_view_name": "StyleView",
      "bar_color": null,
      "description_width": ""
     }
    }
   }
  }
 },
 "nbformat_minor": 0,
 "nbformat": 4,
 "cells": [
  {
   "cell_type": "code",
   "source": [
    "from google.colab import drive\n",
    "drive.mount('/content/drive')\n",
    "\n",
    "!unzip drive/MyDrive/MURA-v1.1.zip"
   ],
   "metadata": {
    "id": "C75MrytN0LY1",
    "colab": {
     "base_uri": "https://localhost:8080/"
    },
    "outputId": "adb2f7b9-fb27-4c28-e9bb-c6c9a15d9d3a"
   },
   "execution_count": null,
   "outputs": [
    {
     "output_type": "stream",
     "name": "stdout",
     "text": [
      "Drive already mounted at /content/drive; to attempt to forcibly remount, call drive.mount(\"/content/drive\", force_remount=True).\n",
      "Archive:  drive/MyDrive/MURA-v1.1.zip\n",
      "replace MURA-v1.1/train_labeled_studies.csv? [y]es, [n]o, [A]ll, [N]one, [r]ename: n\n",
      "replace MURA-v1.1/valid_labeled_studies.csv? [y]es, [n]o, [A]ll, [N]one, [r]ename: N\n",
      "N\n",
      "N\n"
     ]
    }
   ]
  },
  {
   "cell_type": "code",
   "source": [
    "!pip install wandb\n",
    "!pip install tensorflow-addons"
   ],
   "metadata": {
    "id": "D0TIdYkm1XkW",
    "colab": {
     "base_uri": "https://localhost:8080/"
    },
    "outputId": "d5155708-e77b-4f0c-d537-07ab75da9c36"
   },
   "execution_count": null,
   "outputs": [
    {
     "output_type": "stream",
     "name": "stdout",
     "text": [
      "Looking in indexes: https://pypi.org/simple, https://us-python.pkg.dev/colab-wheels/public/simple/\n",
      "Requirement already satisfied: wandb in /usr/local/lib/python3.9/dist-packages (0.14.0)\n",
      "Requirement already satisfied: PyYAML in /usr/local/lib/python3.9/dist-packages (from wandb) (6.0)\n",
      "Requirement already satisfied: requests<3,>=2.0.0 in /usr/local/lib/python3.9/dist-packages (from wandb) (2.27.1)\n",
      "Requirement already satisfied: protobuf!=4.21.0,<5,>=3.15.0 in /usr/local/lib/python3.9/dist-packages (from wandb) (3.19.6)\n",
      "Requirement already satisfied: appdirs>=1.4.3 in /usr/local/lib/python3.9/dist-packages (from wandb) (1.4.4)\n",
      "Requirement already satisfied: pathtools in /usr/local/lib/python3.9/dist-packages (from wandb) (0.1.2)\n",
      "Requirement already satisfied: sentry-sdk>=1.0.0 in /usr/local/lib/python3.9/dist-packages (from wandb) (1.17.0)\n",
      "Requirement already satisfied: setuptools in /usr/local/lib/python3.9/dist-packages (from wandb) (67.6.0)\n",
      "Requirement already satisfied: Click!=8.0.0,>=7.0 in /usr/local/lib/python3.9/dist-packages (from wandb) (8.1.3)\n",
      "Requirement already satisfied: setproctitle in /usr/local/lib/python3.9/dist-packages (from wandb) (1.3.2)\n",
      "Requirement already satisfied: psutil>=5.0.0 in /usr/local/lib/python3.9/dist-packages (from wandb) (5.9.4)\n",
      "Requirement already satisfied: docker-pycreds>=0.4.0 in /usr/local/lib/python3.9/dist-packages (from wandb) (0.4.0)\n",
      "Requirement already satisfied: GitPython!=3.1.29,>=1.0.0 in /usr/local/lib/python3.9/dist-packages (from wandb) (3.1.31)\n",
      "Requirement already satisfied: typing-extensions in /usr/local/lib/python3.9/dist-packages (from wandb) (4.5.0)\n",
      "Requirement already satisfied: six>=1.4.0 in /usr/local/lib/python3.9/dist-packages (from docker-pycreds>=0.4.0->wandb) (1.16.0)\n",
      "Requirement already satisfied: gitdb<5,>=4.0.1 in /usr/local/lib/python3.9/dist-packages (from GitPython!=3.1.29,>=1.0.0->wandb) (4.0.10)\n",
      "Requirement already satisfied: charset-normalizer~=2.0.0 in /usr/local/lib/python3.9/dist-packages (from requests<3,>=2.0.0->wandb) (2.0.12)\n",
      "Requirement already satisfied: certifi>=2017.4.17 in /usr/local/lib/python3.9/dist-packages (from requests<3,>=2.0.0->wandb) (2022.12.7)\n",
      "Requirement already satisfied: idna<4,>=2.5 in /usr/local/lib/python3.9/dist-packages (from requests<3,>=2.0.0->wandb) (3.4)\n",
      "Requirement already satisfied: urllib3<1.27,>=1.21.1 in /usr/local/lib/python3.9/dist-packages (from requests<3,>=2.0.0->wandb) (1.26.15)\n",
      "Requirement already satisfied: smmap<6,>=3.0.1 in /usr/local/lib/python3.9/dist-packages (from gitdb<5,>=4.0.1->GitPython!=3.1.29,>=1.0.0->wandb) (5.0.0)\n",
      "Looking in indexes: https://pypi.org/simple, https://us-python.pkg.dev/colab-wheels/public/simple/\n",
      "Requirement already satisfied: tensorflow-addons in /usr/local/lib/python3.9/dist-packages (0.19.0)\n",
      "Requirement already satisfied: typeguard>=2.7 in /usr/local/lib/python3.9/dist-packages (from tensorflow-addons) (3.0.2)\n",
      "Requirement already satisfied: packaging in /usr/local/lib/python3.9/dist-packages (from tensorflow-addons) (23.0)\n",
      "Requirement already satisfied: importlib-metadata>=3.6 in /usr/local/lib/python3.9/dist-packages (from typeguard>=2.7->tensorflow-addons) (6.1.0)\n",
      "Requirement already satisfied: typing-extensions>=4.4.0 in /usr/local/lib/python3.9/dist-packages (from typeguard>=2.7->tensorflow-addons) (4.5.0)\n",
      "Requirement already satisfied: zipp>=0.5 in /usr/local/lib/python3.9/dist-packages (from importlib-metadata>=3.6->typeguard>=2.7->tensorflow-addons) (3.15.0)\n"
     ]
    }
   ]
  },
  {
   "cell_type": "markdown",
   "source": [
    "# Imports"
   ],
   "metadata": {
    "id": "9JrUkv5xzx23"
   }
  },
  {
   "cell_type": "code",
   "source": [
    "import gc\n",
    "import re\n",
    "import os\n",
    "\n",
    "import numpy as np\n",
    "import matplotlib.pyplot as plt\n",
    "from sklearn.metrics import confusion_matrix\n",
    "import pandas as pd\n",
    "pd.set_option('display.max_columns', None)\n",
    "import cv2\n",
    "\n",
    "import tensorflow as tf\n",
    "from tensorflow.keras.datasets import fashion_mnist\n",
    "from tensorflow.keras.utils import to_categorical\n",
    "from tensorflow.keras.layers import Input, Conv2D, Dense, Dropout, Flatten, MaxPool2D, BatchNormalization, GlobalAveragePooling2D # Layers to be used for building our model\n",
    "from tensorflow.keras.models import Model # The class used to create a model\n",
    "from tensorflow.keras.optimizers import SGD, Adam\n",
    "from tensorflow.keras import backend as K\n",
    "from tensorflow.random import set_seed\n",
    "from tensorflow.keras.callbacks import EarlyStopping, ReduceLROnPlateau\n",
    "from tensorflow.keras.preprocessing.image import ImageDataGenerator\n",
    "from keras.layers import concatenate\n",
    "from tensorflow.keras.applications.densenet import DenseNet169\n",
    "from tensorflow.keras.applications.mobilenet_v2 import MobileNetV2\n",
    "\n",
    "from typing import List, Dict, Optional, Tuple, Any, Union\n",
    "\n",
    "import wandb\n",
    "from wandb.keras import WandbCallback"
   ],
   "metadata": {
    "_uuid": "8f2839f25d086af736a60e9eeb907d3b93b6e0e5",
    "_cell_guid": "b1076dfc-b9ad-4769-8c92-a6c4dae69d19",
    "execution": {
     "iopub.status.busy": "2023-03-25T12:35:51.797917Z",
     "iopub.execute_input": "2023-03-25T12:35:51.798643Z",
     "iopub.status.idle": "2023-03-25T12:35:55.215141Z",
     "shell.execute_reply.started": "2023-03-25T12:35:51.798603Z",
     "shell.execute_reply": "2023-03-25T12:35:55.211143Z"
    },
    "trusted": true,
    "id": "xT3Pr-d4zx23"
   },
   "execution_count": null,
   "outputs": []
  },
  {
   "cell_type": "code",
   "source": [
    "# NEW on TPU in TensorFlow 24: shorter cross-compatible TPU/GPU/multi-GPU/cluster-GPU detection code\n",
    "\n",
    "try: # detect TPUs\n",
    "    tpu = tf.distribute.cluster_resolver.TPUClusterResolver.connect() # TPU detection\n",
    "    strategy = tf.distribute.TPUStrategy(tpu)\n",
    "except ValueError: # detect GPUs\n",
    "    strategy = tf.distribute.MirroredStrategy() # for GPU or multi-GPU machines\n",
    "    print(\"Num GPUs Available: \", len(tf.config.list_physical_devices('GPU')))\n",
    "    #strategy = tf.distribute.get_strategy() # default strategy that works on CPU and single GPU\n",
    "    #strategy = tf.distribute.experimental.MultiWorkerMirroredStrategy() # for clusters of multi-GPU machines\n",
    "\n",
    "print(\"Number of accelerators: \", strategy.num_replicas_in_sync)"
   ],
   "metadata": {
    "execution": {
     "iopub.status.busy": "2023-03-25T12:35:55.218218Z",
     "iopub.execute_input": "2023-03-25T12:35:55.218600Z",
     "iopub.status.idle": "2023-03-25T12:35:58.029356Z",
     "shell.execute_reply.started": "2023-03-25T12:35:55.218555Z",
     "shell.execute_reply": "2023-03-25T12:35:58.028257Z"
    },
    "trusted": true,
    "colab": {
     "base_uri": "https://localhost:8080/"
    },
    "id": "CjJn_EsGzx25",
    "outputId": "f1f96df0-7b35-4efc-fa38-f17f099a1752"
   },
   "execution_count": null,
   "outputs": [
    {
     "output_type": "stream",
     "name": "stdout",
     "text": [
      "Num GPUs Available:  1\n",
      "Number of accelerators:  1\n"
     ]
    }
   ]
  },
  {
   "cell_type": "markdown",
   "source": [
    "# Globals"
   ],
   "metadata": {
    "execution": {
     "iopub.status.busy": "2023-03-23T20:53:30.840859Z",
     "iopub.execute_input": "2023-03-23T20:53:30.841911Z",
     "iopub.status.idle": "2023-03-23T20:53:30.847193Z",
     "shell.execute_reply.started": "2023-03-23T20:53:30.841859Z",
     "shell.execute_reply": "2023-03-23T20:53:30.845886Z"
    },
    "id": "5DMGqDktzx26"
   }
  },
  {
   "cell_type": "code",
   "source": [
    "# define path under which MURA-v1.1/ is located:\n",
    "print(os.getcwd())\n",
    "root_path: str = os.getcwd()"
   ],
   "metadata": {
    "execution": {
     "iopub.status.busy": "2023-03-25T12:35:58.032641Z",
     "iopub.execute_input": "2023-03-25T12:35:58.033359Z",
     "iopub.status.idle": "2023-03-25T12:35:58.045422Z",
     "shell.execute_reply.started": "2023-03-25T12:35:58.033325Z",
     "shell.execute_reply": "2023-03-25T12:35:58.044227Z"
    },
    "trusted": true,
    "colab": {
     "base_uri": "https://localhost:8080/"
    },
    "id": "wtAENz_tzx26",
    "outputId": "12e602e9-507c-44c1-c001-b837812555f9"
   },
   "execution_count": null,
   "outputs": [
    {
     "output_type": "stream",
     "name": "stdout",
     "text": [
      "/content\n"
     ]
    }
   ]
  },
  {
   "cell_type": "markdown",
   "source": [
    "# Weights & Biases\n",
    "\n",
    "In order to make experiment tracking easier we will use [Weights & Biases](wandb.ai/home), which offers a free lisence for academic purposes. For the sake of this assignment a team has been created:https://wandb.ai/aueb. Access can be granted by contacting the authors.\n",
    "\n",
    "* Note that this code assumes that you have already set up a Wandb account and API key. If you haven't done so yet, you will need to sign up for a free account at https://wandb.ai/ and follow the instructions there to obtain your API key.\n",
    "\n"
   ],
   "metadata": {
    "id": "t6lYkKxkzx27"
   }
  },
  {
   "cell_type": "code",
   "source": [
    "wandb.login()"
   ],
   "metadata": {
    "execution": {
     "iopub.status.busy": "2023-03-25T12:35:58.047751Z",
     "iopub.execute_input": "2023-03-25T12:35:58.048050Z",
     "iopub.status.idle": "2023-03-25T12:36:00.066084Z",
     "shell.execute_reply.started": "2023-03-25T12:35:58.048024Z",
     "shell.execute_reply": "2023-03-25T12:36:00.064895Z"
    },
    "trusted": true,
    "colab": {
     "base_uri": "https://localhost:8080/",
     "height": 121
    },
    "id": "UOPG9hStzx28",
    "outputId": "05663ec7-ec3b-456e-a40e-c9a50e3beb24"
   },
   "execution_count": null,
   "outputs": [
    {
     "output_type": "display_data",
     "data": {
      "text/plain": [
       "<IPython.core.display.Javascript object>"
      ],
      "application/javascript": [
       "\n",
       "        window._wandbApiKey = new Promise((resolve, reject) => {\n",
       "            function loadScript(url) {\n",
       "            return new Promise(function(resolve, reject) {\n",
       "                let newScript = document.createElement(\"script\");\n",
       "                newScript.onerror = reject;\n",
       "                newScript.onload = resolve;\n",
       "                document.body.appendChild(newScript);\n",
       "                newScript.src = url;\n",
       "            });\n",
       "            }\n",
       "            loadScript(\"https://cdn.jsdelivr.net/npm/postmate/build/postmate.min.js\").then(() => {\n",
       "            const iframe = document.createElement('iframe')\n",
       "            iframe.style.cssText = \"width:0;height:0;border:none\"\n",
       "            document.body.appendChild(iframe)\n",
       "            const handshake = new Postmate({\n",
       "                container: iframe,\n",
       "                url: 'https://wandb.ai/authorize'\n",
       "            });\n",
       "            const timeout = setTimeout(() => reject(\"Couldn't auto authenticate\"), 5000)\n",
       "            handshake.then(function(child) {\n",
       "                child.on('authorize', data => {\n",
       "                    clearTimeout(timeout)\n",
       "                    resolve(data)\n",
       "                });\n",
       "            });\n",
       "            })\n",
       "        });\n",
       "    "
      ]
     },
     "metadata": {}
    },
    {
     "output_type": "stream",
     "name": "stderr",
     "text": [
      "\u001B[34m\u001B[1mwandb\u001B[0m: Logging into wandb.ai. (Learn how to deploy a W&B server locally: https://wandb.me/wandb-server)\n",
      "\u001B[34m\u001B[1mwandb\u001B[0m: You can find your API key in your browser here: https://wandb.ai/authorize\n",
      "wandb: Paste an API key from your profile and hit enter, or press ctrl+c to quit:"
     ]
    },
    {
     "name": "stdout",
     "output_type": "stream",
     "text": [
      " ··········\n"
     ]
    },
    {
     "output_type": "stream",
     "name": "stderr",
     "text": [
      "\u001B[34m\u001B[1mwandb\u001B[0m: Appending key for api.wandb.ai to your netrc file: /root/.netrc\n"
     ]
    },
    {
     "output_type": "execute_result",
     "data": {
      "text/plain": [
       "True"
      ]
     },
     "metadata": {},
     "execution_count": 6
    }
   ]
  },
  {
   "cell_type": "markdown",
   "source": [
    "# Load Data\n",
    "\n",
    "Data has the following structure:\n",
    "\n",
    "```\n",
    "├──MURA\n",
    "  ├──train_image_paths.csv\n",
    "  ├──train_labeled_studies.csv\n",
    "  ├──valid_image_paths.csv\n",
    "  ├──valid_labeled_studies.csv\n",
    "  ├──train\n",
    "  │   └─ BODY PART\n",
    "  │       └─ patientxxx\n",
    "  │          .\n",
    "  │          .\n",
    "  │          .\n",
    "  │    .\n",
    "  │    .\n",
    "  │    .\n",
    "  └──test\n",
    "      └─ BODY PART\n",
    "          └─ patientxxx\n",
    "             .\n",
    "             .\n",
    "             .\n",
    "       .\n",
    "       .\n",
    "       .  \n",
    "```\n",
    "\n",
    "We will create a dataframe that uses these paths as rows and extract any information needed."
   ],
   "metadata": {
    "id": "LQTA-JJQzx29"
   }
  },
  {
   "cell_type": "code",
   "source": [
    "def extract_set_category(string: str) -> dict:\n",
    "    \"\"\"\n",
    "    Extracts the 'set_type' and 'category' from a given string using regular expressions.\n",
    "\n",
    "    Parameters:\n",
    "        string (str): A string containing the 'set' and 'category' information.\n",
    "\n",
    "    Returns:\n",
    "        dict: A dictionary containing the 'set' and 'category' information.\n",
    "    \"\"\"\n",
    "\n",
    "    pattern = r\".*(?P<set_type>train|valid)/(?P<category>XR_[A-Z]+)/(?P<patient_id>patient\\d+)/study.*\"\n",
    "    match = re.match(pattern, string)\n",
    "    if match:\n",
    "        return {'set_type': match.group('set_type'), 'category': match.group('category'), 'patient_id': match.group('patient_id')}\n",
    "    else:\n",
    "        return None\n",
    "    \n",
    "def generate_path_df(dataset_type: str, dataset_path: str = root_path) -> pd.DataFrame:\n",
    "    \"\"\"\n",
    "    Reads in the image paths and labels for a given dataset type (train or valid) from the MURA dataset.\n",
    "    Returns a pandas DataFrame containing the image paths, labels, and the dataset type.\n",
    "    \n",
    "    Parameters:\n",
    "        dataset_type (str): The type of dataset to read in (train or valid)\n",
    "        dataset_path (str): The path to the MURA dataset folder (default: '/content')\n",
    "    \n",
    "    Returns:\n",
    "        pd.DataFrame: A pandas DataFrame containing the image paths, labels, and dataset type.\n",
    "    \"\"\"\n",
    "        \n",
    "    # Read in the image paths csv file and assign the column name 'image_path'\n",
    "    train_label_paths = pd.read_csv(f\"{dataset_path}/MURA-v1.1/{dataset_type}_image_paths.csv\", header=None, names=['image_path'])\n",
    "    \n",
    "    # Extract the path to the folder containing the image file and create a new column 'path'\n",
    "    train_label_paths[\"path\"] = train_label_paths.apply(lambda x: \"/\".join(x['image_path'].split(\"/\")[:-1]) + \"/\", axis=1)\n",
    "    \n",
    "    # Read in the labeled studies csv file and assign column names 'path' and 'label'\n",
    "    train_labels = pd.read_csv(f\"{dataset_path}/MURA-v1.1/{dataset_type}_labeled_studies.csv\", header=None, names=['path', 'label'])\n",
    "    \n",
    "    # Merge the two DataFrames on the 'path' column and create a new column 'image_type'\n",
    "    _df = train_labels.merge(train_label_paths, on='path', how='left')\n",
    "    \n",
    "    # Check that the length of the two DataFrames match\n",
    "    assert len(train_label_paths) == len(_df)\n",
    "    \n",
    "    return _df\n",
    "\n",
    "def generate_dataframes(dataset_path: str = root_path) -> pd.DataFrame:\n",
    "    \"\"\"Perfoms actions needed to load the dataset with image paths and additional info\"\"\"\n",
    "    \n",
    "    # read train test_dataframe\n",
    "    train: pd.DataFrame = generate_path_df(dataset_type=\"train\")\n",
    "    test: pd.DataFrame = generate_path_df(dataset_type=\"valid\")\n",
    "\n",
    "    # join dataframes\n",
    "    _df = pd.concat([train, test]).reset_index()\n",
    "\n",
    "    # Apply the extract_set_category function to each row of the DataFrame.\n",
    "    _df = pd.concat([_df, pd.DataFrame(_df['path'].apply(lambda x: extract_set_category(x)).tolist())], axis=1)\n",
    "    mapping: dict = {1: \"abnormal\", 0: \"normal\"}\n",
    "    _df['label_type'] = _df['label'].apply(lambda x: mapping[x])\n",
    "    \n",
    "    \n",
    "    # re-order columns\n",
    "    cols = list(_df.columns)\n",
    "    cols.remove(\"label\")\n",
    "    cols.append(\"label\")\n",
    "    _df = _df[cols]\n",
    "    \n",
    "    _df.drop([\"index\"], axis=1, inplace=True)\n",
    "    \n",
    "    return _df"
   ],
   "metadata": {
    "execution": {
     "iopub.status.busy": "2023-03-25T12:36:04.380038Z",
     "iopub.execute_input": "2023-03-25T12:36:04.380926Z",
     "iopub.status.idle": "2023-03-25T12:36:04.396296Z",
     "shell.execute_reply.started": "2023-03-25T12:36:04.380880Z",
     "shell.execute_reply": "2023-03-25T12:36:04.395297Z"
    },
    "trusted": true,
    "id": "OWwm9_yWzx3H"
   },
   "execution_count": null,
   "outputs": []
  },
  {
   "cell_type": "code",
   "source": [
    "data = generate_dataframes()\n",
    "data.head()"
   ],
   "metadata": {
    "execution": {
     "iopub.status.busy": "2023-03-25T12:36:04.977599Z",
     "iopub.execute_input": "2023-03-25T12:36:04.977960Z",
     "iopub.status.idle": "2023-03-25T12:36:05.611943Z",
     "shell.execute_reply.started": "2023-03-25T12:36:04.977927Z",
     "shell.execute_reply": "2023-03-25T12:36:05.610785Z"
    },
    "trusted": true,
    "colab": {
     "base_uri": "https://localhost:8080/",
     "height": 357
    },
    "id": "FD7f19nbzx3H",
    "outputId": "7767b1db-731c-45ea-af8e-2847f888da2f"
   },
   "execution_count": null,
   "outputs": [
    {
     "output_type": "execute_result",
     "data": {
      "text/plain": [
       "                                                path  \\\n",
       "0  MURA-v1.1/train/XR_SHOULDER/patient00001/study...   \n",
       "1  MURA-v1.1/train/XR_SHOULDER/patient00001/study...   \n",
       "2  MURA-v1.1/train/XR_SHOULDER/patient00001/study...   \n",
       "3  MURA-v1.1/train/XR_SHOULDER/patient00002/study...   \n",
       "4  MURA-v1.1/train/XR_SHOULDER/patient00002/study...   \n",
       "\n",
       "                                          image_path set_type     category  \\\n",
       "0  MURA-v1.1/train/XR_SHOULDER/patient00001/study...    train  XR_SHOULDER   \n",
       "1  MURA-v1.1/train/XR_SHOULDER/patient00001/study...    train  XR_SHOULDER   \n",
       "2  MURA-v1.1/train/XR_SHOULDER/patient00001/study...    train  XR_SHOULDER   \n",
       "3  MURA-v1.1/train/XR_SHOULDER/patient00002/study...    train  XR_SHOULDER   \n",
       "4  MURA-v1.1/train/XR_SHOULDER/patient00002/study...    train  XR_SHOULDER   \n",
       "\n",
       "     patient_id label_type  label  \n",
       "0  patient00001   abnormal      1  \n",
       "1  patient00001   abnormal      1  \n",
       "2  patient00001   abnormal      1  \n",
       "3  patient00002   abnormal      1  \n",
       "4  patient00002   abnormal      1  "
      ],
      "text/html": [
       "\n",
       "  <div id=\"df-f65a5e61-18e7-40e7-b012-28efdfb85218\">\n",
       "    <div class=\"colab-df-container\">\n",
       "      <div>\n",
       "<style scoped>\n",
       "    .dataframe tbody tr th:only-of-type {\n",
       "        vertical-align: middle;\n",
       "    }\n",
       "\n",
       "    .dataframe tbody tr th {\n",
       "        vertical-align: top;\n",
       "    }\n",
       "\n",
       "    .dataframe thead th {\n",
       "        text-align: right;\n",
       "    }\n",
       "</style>\n",
       "<table border=\"1\" class=\"dataframe\">\n",
       "  <thead>\n",
       "    <tr style=\"text-align: right;\">\n",
       "      <th></th>\n",
       "      <th>path</th>\n",
       "      <th>image_path</th>\n",
       "      <th>set_type</th>\n",
       "      <th>category</th>\n",
       "      <th>patient_id</th>\n",
       "      <th>label_type</th>\n",
       "      <th>label</th>\n",
       "    </tr>\n",
       "  </thead>\n",
       "  <tbody>\n",
       "    <tr>\n",
       "      <th>0</th>\n",
       "      <td>MURA-v1.1/train/XR_SHOULDER/patient00001/study...</td>\n",
       "      <td>MURA-v1.1/train/XR_SHOULDER/patient00001/study...</td>\n",
       "      <td>train</td>\n",
       "      <td>XR_SHOULDER</td>\n",
       "      <td>patient00001</td>\n",
       "      <td>abnormal</td>\n",
       "      <td>1</td>\n",
       "    </tr>\n",
       "    <tr>\n",
       "      <th>1</th>\n",
       "      <td>MURA-v1.1/train/XR_SHOULDER/patient00001/study...</td>\n",
       "      <td>MURA-v1.1/train/XR_SHOULDER/patient00001/study...</td>\n",
       "      <td>train</td>\n",
       "      <td>XR_SHOULDER</td>\n",
       "      <td>patient00001</td>\n",
       "      <td>abnormal</td>\n",
       "      <td>1</td>\n",
       "    </tr>\n",
       "    <tr>\n",
       "      <th>2</th>\n",
       "      <td>MURA-v1.1/train/XR_SHOULDER/patient00001/study...</td>\n",
       "      <td>MURA-v1.1/train/XR_SHOULDER/patient00001/study...</td>\n",
       "      <td>train</td>\n",
       "      <td>XR_SHOULDER</td>\n",
       "      <td>patient00001</td>\n",
       "      <td>abnormal</td>\n",
       "      <td>1</td>\n",
       "    </tr>\n",
       "    <tr>\n",
       "      <th>3</th>\n",
       "      <td>MURA-v1.1/train/XR_SHOULDER/patient00002/study...</td>\n",
       "      <td>MURA-v1.1/train/XR_SHOULDER/patient00002/study...</td>\n",
       "      <td>train</td>\n",
       "      <td>XR_SHOULDER</td>\n",
       "      <td>patient00002</td>\n",
       "      <td>abnormal</td>\n",
       "      <td>1</td>\n",
       "    </tr>\n",
       "    <tr>\n",
       "      <th>4</th>\n",
       "      <td>MURA-v1.1/train/XR_SHOULDER/patient00002/study...</td>\n",
       "      <td>MURA-v1.1/train/XR_SHOULDER/patient00002/study...</td>\n",
       "      <td>train</td>\n",
       "      <td>XR_SHOULDER</td>\n",
       "      <td>patient00002</td>\n",
       "      <td>abnormal</td>\n",
       "      <td>1</td>\n",
       "    </tr>\n",
       "  </tbody>\n",
       "</table>\n",
       "</div>\n",
       "      <button class=\"colab-df-convert\" onclick=\"convertToInteractive('df-f65a5e61-18e7-40e7-b012-28efdfb85218')\"\n",
       "              title=\"Convert this dataframe to an interactive table.\"\n",
       "              style=\"display:none;\">\n",
       "        \n",
       "  <svg xmlns=\"http://www.w3.org/2000/svg\" height=\"24px\"viewBox=\"0 0 24 24\"\n",
       "       width=\"24px\">\n",
       "    <path d=\"M0 0h24v24H0V0z\" fill=\"none\"/>\n",
       "    <path d=\"M18.56 5.44l.94 2.06.94-2.06 2.06-.94-2.06-.94-.94-2.06-.94 2.06-2.06.94zm-11 1L8.5 8.5l.94-2.06 2.06-.94-2.06-.94L8.5 2.5l-.94 2.06-2.06.94zm10 10l.94 2.06.94-2.06 2.06-.94-2.06-.94-.94-2.06-.94 2.06-2.06.94z\"/><path d=\"M17.41 7.96l-1.37-1.37c-.4-.4-.92-.59-1.43-.59-.52 0-1.04.2-1.43.59L10.3 9.45l-7.72 7.72c-.78.78-.78 2.05 0 2.83L4 21.41c.39.39.9.59 1.41.59.51 0 1.02-.2 1.41-.59l7.78-7.78 2.81-2.81c.8-.78.8-2.07 0-2.86zM5.41 20L4 18.59l7.72-7.72 1.47 1.35L5.41 20z\"/>\n",
       "  </svg>\n",
       "      </button>\n",
       "      \n",
       "  <style>\n",
       "    .colab-df-container {\n",
       "      display:flex;\n",
       "      flex-wrap:wrap;\n",
       "      gap: 12px;\n",
       "    }\n",
       "\n",
       "    .colab-df-convert {\n",
       "      background-color: #E8F0FE;\n",
       "      border: none;\n",
       "      border-radius: 50%;\n",
       "      cursor: pointer;\n",
       "      display: none;\n",
       "      fill: #1967D2;\n",
       "      height: 32px;\n",
       "      padding: 0 0 0 0;\n",
       "      width: 32px;\n",
       "    }\n",
       "\n",
       "    .colab-df-convert:hover {\n",
       "      background-color: #E2EBFA;\n",
       "      box-shadow: 0px 1px 2px rgba(60, 64, 67, 0.3), 0px 1px 3px 1px rgba(60, 64, 67, 0.15);\n",
       "      fill: #174EA6;\n",
       "    }\n",
       "\n",
       "    [theme=dark] .colab-df-convert {\n",
       "      background-color: #3B4455;\n",
       "      fill: #D2E3FC;\n",
       "    }\n",
       "\n",
       "    [theme=dark] .colab-df-convert:hover {\n",
       "      background-color: #434B5C;\n",
       "      box-shadow: 0px 1px 3px 1px rgba(0, 0, 0, 0.15);\n",
       "      filter: drop-shadow(0px 1px 2px rgba(0, 0, 0, 0.3));\n",
       "      fill: #FFFFFF;\n",
       "    }\n",
       "  </style>\n",
       "\n",
       "      <script>\n",
       "        const buttonEl =\n",
       "          document.querySelector('#df-f65a5e61-18e7-40e7-b012-28efdfb85218 button.colab-df-convert');\n",
       "        buttonEl.style.display =\n",
       "          google.colab.kernel.accessAllowed ? 'block' : 'none';\n",
       "\n",
       "        async function convertToInteractive(key) {\n",
       "          const element = document.querySelector('#df-f65a5e61-18e7-40e7-b012-28efdfb85218');\n",
       "          const dataTable =\n",
       "            await google.colab.kernel.invokeFunction('convertToInteractive',\n",
       "                                                     [key], {});\n",
       "          if (!dataTable) return;\n",
       "\n",
       "          const docLinkHtml = 'Like what you see? Visit the ' +\n",
       "            '<a target=\"_blank\" href=https://colab.research.google.com/notebooks/data_table.ipynb>data table notebook</a>'\n",
       "            + ' to learn more about interactive tables.';\n",
       "          element.innerHTML = '';\n",
       "          dataTable['output_type'] = 'display_data';\n",
       "          await google.colab.output.renderOutput(dataTable, element);\n",
       "          const docLink = document.createElement('div');\n",
       "          docLink.innerHTML = docLinkHtml;\n",
       "          element.appendChild(docLink);\n",
       "        }\n",
       "      </script>\n",
       "    </div>\n",
       "  </div>\n",
       "  "
      ]
     },
     "metadata": {},
     "execution_count": 8
    }
   ]
  },
  {
   "cell_type": "markdown",
   "source": [
    "# Train Dev Test (valid) split\n",
    "\n",
    "* in order not to have any dependencies on the order of the data, we will shuffle the data. Moreover, 10% of the input data will be used as validation and 10% as test.\n",
    "\n",
    "As described in the Paper we will make sure not to have overlap between patients in the various sets. We shuffle the patients, and then split the dataset  "
   ],
   "metadata": {
    "id": "O-JvB2Gjzx3J"
   }
  },
  {
   "cell_type": "code",
   "source": [
    "# take unique patient_ids and shuffle\n",
    "patients = data.patient_id.unique()\n",
    "np.random.seed(41)\n",
    "np.random.shuffle(patients)\n",
    "\n",
    "# split three list of patient_ids\n",
    "length_80 = patients[:int(len(patients)*0.83)]\n",
    "length_80_90 = patients[int(len(patients)*0.83):int(len(patients)*0.90)]\n",
    "length_90_100 = patients[int(len(patients)*0.90):]\n",
    "\n",
    "# sanity check\n",
    "data.loc[data.patient_id.isin(length_80)].describe()\\\n",
    ".join(data.loc[data.patient_id.isin(length_80_90)].describe(),rsuffix=\"_Validation\")\\\n",
    ".join(data.loc[data.patient_id.isin(length_90_100)].describe(), rsuffix=\"_Test\")"
   ],
   "metadata": {
    "execution": {
     "iopub.status.busy": "2023-03-25T12:36:14.701898Z",
     "iopub.execute_input": "2023-03-25T12:36:14.702638Z",
     "iopub.status.idle": "2023-03-25T12:36:14.753477Z",
     "shell.execute_reply.started": "2023-03-25T12:36:14.702596Z",
     "shell.execute_reply": "2023-03-25T12:36:14.752268Z"
    },
    "trusted": true,
    "colab": {
     "base_uri": "https://localhost:8080/",
     "height": 300
    },
    "id": "EfzwC4cXzx3K",
    "outputId": "9fca8f1f-b728-4b61-ea41-a6ad0223abd2"
   },
   "execution_count": null,
   "outputs": [
    {
     "output_type": "execute_result",
     "data": {
      "text/plain": [
       "              label  label_Validation   label_Test\n",
       "count  33209.000000       2815.000000  3981.000000\n",
       "mean       0.411334          0.395027     0.409696\n",
       "std        0.492083          0.488943     0.491839\n",
       "min        0.000000          0.000000     0.000000\n",
       "25%        0.000000          0.000000     0.000000\n",
       "50%        0.000000          0.000000     0.000000\n",
       "75%        1.000000          1.000000     1.000000\n",
       "max        1.000000          1.000000     1.000000"
      ],
      "text/html": [
       "\n",
       "  <div id=\"df-695445ca-0f6b-4e14-aa21-45f46f2c4d46\">\n",
       "    <div class=\"colab-df-container\">\n",
       "      <div>\n",
       "<style scoped>\n",
       "    .dataframe tbody tr th:only-of-type {\n",
       "        vertical-align: middle;\n",
       "    }\n",
       "\n",
       "    .dataframe tbody tr th {\n",
       "        vertical-align: top;\n",
       "    }\n",
       "\n",
       "    .dataframe thead th {\n",
       "        text-align: right;\n",
       "    }\n",
       "</style>\n",
       "<table border=\"1\" class=\"dataframe\">\n",
       "  <thead>\n",
       "    <tr style=\"text-align: right;\">\n",
       "      <th></th>\n",
       "      <th>label</th>\n",
       "      <th>label_Validation</th>\n",
       "      <th>label_Test</th>\n",
       "    </tr>\n",
       "  </thead>\n",
       "  <tbody>\n",
       "    <tr>\n",
       "      <th>count</th>\n",
       "      <td>33209.000000</td>\n",
       "      <td>2815.000000</td>\n",
       "      <td>3981.000000</td>\n",
       "    </tr>\n",
       "    <tr>\n",
       "      <th>mean</th>\n",
       "      <td>0.411334</td>\n",
       "      <td>0.395027</td>\n",
       "      <td>0.409696</td>\n",
       "    </tr>\n",
       "    <tr>\n",
       "      <th>std</th>\n",
       "      <td>0.492083</td>\n",
       "      <td>0.488943</td>\n",
       "      <td>0.491839</td>\n",
       "    </tr>\n",
       "    <tr>\n",
       "      <th>min</th>\n",
       "      <td>0.000000</td>\n",
       "      <td>0.000000</td>\n",
       "      <td>0.000000</td>\n",
       "    </tr>\n",
       "    <tr>\n",
       "      <th>25%</th>\n",
       "      <td>0.000000</td>\n",
       "      <td>0.000000</td>\n",
       "      <td>0.000000</td>\n",
       "    </tr>\n",
       "    <tr>\n",
       "      <th>50%</th>\n",
       "      <td>0.000000</td>\n",
       "      <td>0.000000</td>\n",
       "      <td>0.000000</td>\n",
       "    </tr>\n",
       "    <tr>\n",
       "      <th>75%</th>\n",
       "      <td>1.000000</td>\n",
       "      <td>1.000000</td>\n",
       "      <td>1.000000</td>\n",
       "    </tr>\n",
       "    <tr>\n",
       "      <th>max</th>\n",
       "      <td>1.000000</td>\n",
       "      <td>1.000000</td>\n",
       "      <td>1.000000</td>\n",
       "    </tr>\n",
       "  </tbody>\n",
       "</table>\n",
       "</div>\n",
       "      <button class=\"colab-df-convert\" onclick=\"convertToInteractive('df-695445ca-0f6b-4e14-aa21-45f46f2c4d46')\"\n",
       "              title=\"Convert this dataframe to an interactive table.\"\n",
       "              style=\"display:none;\">\n",
       "        \n",
       "  <svg xmlns=\"http://www.w3.org/2000/svg\" height=\"24px\"viewBox=\"0 0 24 24\"\n",
       "       width=\"24px\">\n",
       "    <path d=\"M0 0h24v24H0V0z\" fill=\"none\"/>\n",
       "    <path d=\"M18.56 5.44l.94 2.06.94-2.06 2.06-.94-2.06-.94-.94-2.06-.94 2.06-2.06.94zm-11 1L8.5 8.5l.94-2.06 2.06-.94-2.06-.94L8.5 2.5l-.94 2.06-2.06.94zm10 10l.94 2.06.94-2.06 2.06-.94-2.06-.94-.94-2.06-.94 2.06-2.06.94z\"/><path d=\"M17.41 7.96l-1.37-1.37c-.4-.4-.92-.59-1.43-.59-.52 0-1.04.2-1.43.59L10.3 9.45l-7.72 7.72c-.78.78-.78 2.05 0 2.83L4 21.41c.39.39.9.59 1.41.59.51 0 1.02-.2 1.41-.59l7.78-7.78 2.81-2.81c.8-.78.8-2.07 0-2.86zM5.41 20L4 18.59l7.72-7.72 1.47 1.35L5.41 20z\"/>\n",
       "  </svg>\n",
       "      </button>\n",
       "      \n",
       "  <style>\n",
       "    .colab-df-container {\n",
       "      display:flex;\n",
       "      flex-wrap:wrap;\n",
       "      gap: 12px;\n",
       "    }\n",
       "\n",
       "    .colab-df-convert {\n",
       "      background-color: #E8F0FE;\n",
       "      border: none;\n",
       "      border-radius: 50%;\n",
       "      cursor: pointer;\n",
       "      display: none;\n",
       "      fill: #1967D2;\n",
       "      height: 32px;\n",
       "      padding: 0 0 0 0;\n",
       "      width: 32px;\n",
       "    }\n",
       "\n",
       "    .colab-df-convert:hover {\n",
       "      background-color: #E2EBFA;\n",
       "      box-shadow: 0px 1px 2px rgba(60, 64, 67, 0.3), 0px 1px 3px 1px rgba(60, 64, 67, 0.15);\n",
       "      fill: #174EA6;\n",
       "    }\n",
       "\n",
       "    [theme=dark] .colab-df-convert {\n",
       "      background-color: #3B4455;\n",
       "      fill: #D2E3FC;\n",
       "    }\n",
       "\n",
       "    [theme=dark] .colab-df-convert:hover {\n",
       "      background-color: #434B5C;\n",
       "      box-shadow: 0px 1px 3px 1px rgba(0, 0, 0, 0.15);\n",
       "      filter: drop-shadow(0px 1px 2px rgba(0, 0, 0, 0.3));\n",
       "      fill: #FFFFFF;\n",
       "    }\n",
       "  </style>\n",
       "\n",
       "      <script>\n",
       "        const buttonEl =\n",
       "          document.querySelector('#df-695445ca-0f6b-4e14-aa21-45f46f2c4d46 button.colab-df-convert');\n",
       "        buttonEl.style.display =\n",
       "          google.colab.kernel.accessAllowed ? 'block' : 'none';\n",
       "\n",
       "        async function convertToInteractive(key) {\n",
       "          const element = document.querySelector('#df-695445ca-0f6b-4e14-aa21-45f46f2c4d46');\n",
       "          const dataTable =\n",
       "            await google.colab.kernel.invokeFunction('convertToInteractive',\n",
       "                                                     [key], {});\n",
       "          if (!dataTable) return;\n",
       "\n",
       "          const docLinkHtml = 'Like what you see? Visit the ' +\n",
       "            '<a target=\"_blank\" href=https://colab.research.google.com/notebooks/data_table.ipynb>data table notebook</a>'\n",
       "            + ' to learn more about interactive tables.';\n",
       "          element.innerHTML = '';\n",
       "          dataTable['output_type'] = 'display_data';\n",
       "          await google.colab.output.renderOutput(dataTable, element);\n",
       "          const docLink = document.createElement('div');\n",
       "          docLink.innerHTML = docLinkHtml;\n",
       "          element.appendChild(docLink);\n",
       "        }\n",
       "      </script>\n",
       "    </div>\n",
       "  </div>\n",
       "  "
      ]
     },
     "metadata": {},
     "execution_count": 12
    }
   ]
  },
  {
   "cell_type": "markdown",
   "source": [
    "* Update the labels for each set & save dataframes to variables"
   ],
   "metadata": {
    "id": "OVrOBDQszx3K"
   }
  },
  {
   "cell_type": "code",
   "source": [
    "# update labels\n",
    "data.loc[data.patient_id.isin(length_80), \"set_type\"] = \"train\"\n",
    "data.loc[data.patient_id.isin(length_80_90), \"set_type\"] = \"validation\"\n",
    "data.loc[data.patient_id.isin(length_90_100), \"set_type\"] = \"test\"\n",
    "\n",
    "# Convert to sstring\n",
    "data[\"label\"] = data[\"label\"].astype(str)\n",
    "\n",
    "train: pd.DataFrame = data.loc[data.set_type == 'train']\n",
    "valid: pd.DataFrame = data.loc[data.set_type == 'validation']\n",
    "test: pd.DataFrame = data.loc[data.set_type == 'test']\n",
    "    \n",
    "train.head()"
   ],
   "metadata": {
    "execution": {
     "iopub.status.busy": "2023-03-25T12:36:30.676303Z",
     "iopub.execute_input": "2023-03-25T12:36:30.677306Z",
     "iopub.status.idle": "2023-03-25T12:36:30.746187Z",
     "shell.execute_reply.started": "2023-03-25T12:36:30.677267Z",
     "shell.execute_reply": "2023-03-25T12:36:30.745031Z"
    },
    "trusted": true,
    "colab": {
     "base_uri": "https://localhost:8080/",
     "height": 357
    },
    "id": "5gMgVrRczx3K",
    "outputId": "db23dd26-26f6-4f3e-dbc8-6b58e0b5a549"
   },
   "execution_count": null,
   "outputs": [
    {
     "output_type": "execute_result",
     "data": {
      "text/plain": [
       "                                                path  \\\n",
       "3  MURA-v1.1/train/XR_SHOULDER/patient00002/study...   \n",
       "4  MURA-v1.1/train/XR_SHOULDER/patient00002/study...   \n",
       "5  MURA-v1.1/train/XR_SHOULDER/patient00002/study...   \n",
       "6  MURA-v1.1/train/XR_SHOULDER/patient00003/study...   \n",
       "7  MURA-v1.1/train/XR_SHOULDER/patient00003/study...   \n",
       "\n",
       "                                          image_path set_type     category  \\\n",
       "3  MURA-v1.1/train/XR_SHOULDER/patient00002/study...    train  XR_SHOULDER   \n",
       "4  MURA-v1.1/train/XR_SHOULDER/patient00002/study...    train  XR_SHOULDER   \n",
       "5  MURA-v1.1/train/XR_SHOULDER/patient00002/study...    train  XR_SHOULDER   \n",
       "6  MURA-v1.1/train/XR_SHOULDER/patient00003/study...    train  XR_SHOULDER   \n",
       "7  MURA-v1.1/train/XR_SHOULDER/patient00003/study...    train  XR_SHOULDER   \n",
       "\n",
       "     patient_id label_type label  \n",
       "3  patient00002   abnormal     1  \n",
       "4  patient00002   abnormal     1  \n",
       "5  patient00002   abnormal     1  \n",
       "6  patient00003   abnormal     1  \n",
       "7  patient00003   abnormal     1  "
      ],
      "text/html": [
       "\n",
       "  <div id=\"df-a6959ed0-148f-4874-8b82-a860ce043859\">\n",
       "    <div class=\"colab-df-container\">\n",
       "      <div>\n",
       "<style scoped>\n",
       "    .dataframe tbody tr th:only-of-type {\n",
       "        vertical-align: middle;\n",
       "    }\n",
       "\n",
       "    .dataframe tbody tr th {\n",
       "        vertical-align: top;\n",
       "    }\n",
       "\n",
       "    .dataframe thead th {\n",
       "        text-align: right;\n",
       "    }\n",
       "</style>\n",
       "<table border=\"1\" class=\"dataframe\">\n",
       "  <thead>\n",
       "    <tr style=\"text-align: right;\">\n",
       "      <th></th>\n",
       "      <th>path</th>\n",
       "      <th>image_path</th>\n",
       "      <th>set_type</th>\n",
       "      <th>category</th>\n",
       "      <th>patient_id</th>\n",
       "      <th>label_type</th>\n",
       "      <th>label</th>\n",
       "    </tr>\n",
       "  </thead>\n",
       "  <tbody>\n",
       "    <tr>\n",
       "      <th>3</th>\n",
       "      <td>MURA-v1.1/train/XR_SHOULDER/patient00002/study...</td>\n",
       "      <td>MURA-v1.1/train/XR_SHOULDER/patient00002/study...</td>\n",
       "      <td>train</td>\n",
       "      <td>XR_SHOULDER</td>\n",
       "      <td>patient00002</td>\n",
       "      <td>abnormal</td>\n",
       "      <td>1</td>\n",
       "    </tr>\n",
       "    <tr>\n",
       "      <th>4</th>\n",
       "      <td>MURA-v1.1/train/XR_SHOULDER/patient00002/study...</td>\n",
       "      <td>MURA-v1.1/train/XR_SHOULDER/patient00002/study...</td>\n",
       "      <td>train</td>\n",
       "      <td>XR_SHOULDER</td>\n",
       "      <td>patient00002</td>\n",
       "      <td>abnormal</td>\n",
       "      <td>1</td>\n",
       "    </tr>\n",
       "    <tr>\n",
       "      <th>5</th>\n",
       "      <td>MURA-v1.1/train/XR_SHOULDER/patient00002/study...</td>\n",
       "      <td>MURA-v1.1/train/XR_SHOULDER/patient00002/study...</td>\n",
       "      <td>train</td>\n",
       "      <td>XR_SHOULDER</td>\n",
       "      <td>patient00002</td>\n",
       "      <td>abnormal</td>\n",
       "      <td>1</td>\n",
       "    </tr>\n",
       "    <tr>\n",
       "      <th>6</th>\n",
       "      <td>MURA-v1.1/train/XR_SHOULDER/patient00003/study...</td>\n",
       "      <td>MURA-v1.1/train/XR_SHOULDER/patient00003/study...</td>\n",
       "      <td>train</td>\n",
       "      <td>XR_SHOULDER</td>\n",
       "      <td>patient00003</td>\n",
       "      <td>abnormal</td>\n",
       "      <td>1</td>\n",
       "    </tr>\n",
       "    <tr>\n",
       "      <th>7</th>\n",
       "      <td>MURA-v1.1/train/XR_SHOULDER/patient00003/study...</td>\n",
       "      <td>MURA-v1.1/train/XR_SHOULDER/patient00003/study...</td>\n",
       "      <td>train</td>\n",
       "      <td>XR_SHOULDER</td>\n",
       "      <td>patient00003</td>\n",
       "      <td>abnormal</td>\n",
       "      <td>1</td>\n",
       "    </tr>\n",
       "  </tbody>\n",
       "</table>\n",
       "</div>\n",
       "      <button class=\"colab-df-convert\" onclick=\"convertToInteractive('df-a6959ed0-148f-4874-8b82-a860ce043859')\"\n",
       "              title=\"Convert this dataframe to an interactive table.\"\n",
       "              style=\"display:none;\">\n",
       "        \n",
       "  <svg xmlns=\"http://www.w3.org/2000/svg\" height=\"24px\"viewBox=\"0 0 24 24\"\n",
       "       width=\"24px\">\n",
       "    <path d=\"M0 0h24v24H0V0z\" fill=\"none\"/>\n",
       "    <path d=\"M18.56 5.44l.94 2.06.94-2.06 2.06-.94-2.06-.94-.94-2.06-.94 2.06-2.06.94zm-11 1L8.5 8.5l.94-2.06 2.06-.94-2.06-.94L8.5 2.5l-.94 2.06-2.06.94zm10 10l.94 2.06.94-2.06 2.06-.94-2.06-.94-.94-2.06-.94 2.06-2.06.94z\"/><path d=\"M17.41 7.96l-1.37-1.37c-.4-.4-.92-.59-1.43-.59-.52 0-1.04.2-1.43.59L10.3 9.45l-7.72 7.72c-.78.78-.78 2.05 0 2.83L4 21.41c.39.39.9.59 1.41.59.51 0 1.02-.2 1.41-.59l7.78-7.78 2.81-2.81c.8-.78.8-2.07 0-2.86zM5.41 20L4 18.59l7.72-7.72 1.47 1.35L5.41 20z\"/>\n",
       "  </svg>\n",
       "      </button>\n",
       "      \n",
       "  <style>\n",
       "    .colab-df-container {\n",
       "      display:flex;\n",
       "      flex-wrap:wrap;\n",
       "      gap: 12px;\n",
       "    }\n",
       "\n",
       "    .colab-df-convert {\n",
       "      background-color: #E8F0FE;\n",
       "      border: none;\n",
       "      border-radius: 50%;\n",
       "      cursor: pointer;\n",
       "      display: none;\n",
       "      fill: #1967D2;\n",
       "      height: 32px;\n",
       "      padding: 0 0 0 0;\n",
       "      width: 32px;\n",
       "    }\n",
       "\n",
       "    .colab-df-convert:hover {\n",
       "      background-color: #E2EBFA;\n",
       "      box-shadow: 0px 1px 2px rgba(60, 64, 67, 0.3), 0px 1px 3px 1px rgba(60, 64, 67, 0.15);\n",
       "      fill: #174EA6;\n",
       "    }\n",
       "\n",
       "    [theme=dark] .colab-df-convert {\n",
       "      background-color: #3B4455;\n",
       "      fill: #D2E3FC;\n",
       "    }\n",
       "\n",
       "    [theme=dark] .colab-df-convert:hover {\n",
       "      background-color: #434B5C;\n",
       "      box-shadow: 0px 1px 3px 1px rgba(0, 0, 0, 0.15);\n",
       "      filter: drop-shadow(0px 1px 2px rgba(0, 0, 0, 0.3));\n",
       "      fill: #FFFFFF;\n",
       "    }\n",
       "  </style>\n",
       "\n",
       "      <script>\n",
       "        const buttonEl =\n",
       "          document.querySelector('#df-a6959ed0-148f-4874-8b82-a860ce043859 button.colab-df-convert');\n",
       "        buttonEl.style.display =\n",
       "          google.colab.kernel.accessAllowed ? 'block' : 'none';\n",
       "\n",
       "        async function convertToInteractive(key) {\n",
       "          const element = document.querySelector('#df-a6959ed0-148f-4874-8b82-a860ce043859');\n",
       "          const dataTable =\n",
       "            await google.colab.kernel.invokeFunction('convertToInteractive',\n",
       "                                                     [key], {});\n",
       "          if (!dataTable) return;\n",
       "\n",
       "          const docLinkHtml = 'Like what you see? Visit the ' +\n",
       "            '<a target=\"_blank\" href=https://colab.research.google.com/notebooks/data_table.ipynb>data table notebook</a>'\n",
       "            + ' to learn more about interactive tables.';\n",
       "          element.innerHTML = '';\n",
       "          dataTable['output_type'] = 'display_data';\n",
       "          await google.colab.output.renderOutput(dataTable, element);\n",
       "          const docLink = document.createElement('div');\n",
       "          docLink.innerHTML = docLinkHtml;\n",
       "          element.appendChild(docLink);\n",
       "        }\n",
       "      </script>\n",
       "    </div>\n",
       "  </div>\n",
       "  "
      ]
     },
     "metadata": {},
     "execution_count": 13
    }
   ]
  },
  {
   "cell_type": "markdown",
   "source": [
    "* visualize new class distribution. It seems that the selected seed provides a balanced set to train."
   ],
   "metadata": {
    "id": "n7NAwajwzx3L"
   }
  },
  {
   "cell_type": "markdown",
   "source": [
    "# Data Augmentation\n",
    "\n",
    "* As mentioned in the introductions, some pre-processing steps will take place, similar to the ones used in the paper."
   ],
   "metadata": {
    "id": "fChOtneyzx3N"
   }
  },
  {
   "cell_type": "code",
   "source": [
    "from PIL import ImageEnhance, Image\n",
    "# Define the preprocessing function\n",
    "def normalize(x):\n",
    "    x /= 255.0  # Scale pixel values to [0, 1]\n",
    "    \n",
    "    # normalize to imagenet mean and std\n",
    "    x -= [0.485, 0.456, 0.406]    \n",
    "    x /= [0.229, 0.224, 0.225]     \n",
    "    \n",
    "    return x\n",
    "\n",
    "def augment_image(image):\n",
    "    image = Image.fromarray(np.uint8(image))\n",
    "    image = ImageEnhance.Brightness(image).enhance(np.random.uniform(0.8, 1.2))\n",
    "    image = ImageEnhance.Contrast(image).enhance(np.random.uniform(0.8, 1.2))\n",
    "    image = np.array(image)/255.0  # normalize\n",
    "    return image"
   ],
   "metadata": {
    "execution": {
     "iopub.status.busy": "2023-03-25T12:36:48.303997Z",
     "iopub.execute_input": "2023-03-25T12:36:48.304710Z",
     "iopub.status.idle": "2023-03-25T12:36:48.311818Z",
     "shell.execute_reply.started": "2023-03-25T12:36:48.304670Z",
     "shell.execute_reply": "2023-03-25T12:36:48.310656Z"
    },
    "trusted": true,
    "id": "vsGdTwaQzx3N"
   },
   "execution_count": null,
   "outputs": []
  },
  {
   "cell_type": "code",
   "source": [
    "x_col='image_path'\n",
    "y_col='label'\n",
    "batch_size=128\n",
    "seed=42\n",
    "shuffle=True\n",
    "class_mode='binary'\n",
    "target_size=(224,224)\n",
    "\n",
    "# create Data generators\n",
    "train_datagen = ImageDataGenerator(\n",
    "    rotation_range=30,\n",
    "    horizontal_flip=True,\n",
    "    preprocessing_function=augment_image\n",
    ")\n",
    "\n",
    "\n",
    "valid_test_datagen = ImageDataGenerator(\n",
    "    rescale=1.0/255.0\n",
    ")\n",
    "\n",
    "\n",
    "# prepare iterators\n",
    "train_iterator = train_datagen.flow_from_dataframe(\n",
    "    dataframe=train,\n",
    "    x_col=x_col,\n",
    "    y_col=y_col,\n",
    "    batch_size=batch_size,\n",
    "    seed=seed,\n",
    "    shuffle=shuffle,\n",
    "    class_mode='binary',\n",
    "    target_size=target_size\n",
    ")\n",
    "\n",
    "valid_iterator = valid_test_datagen.flow_from_dataframe(\n",
    "    dataframe=valid,\n",
    "    x_col=x_col,\n",
    "    y_col=y_col,\n",
    "    batch_size=batch_size,\n",
    "    seed=42,\n",
    "    shuffle=True,\n",
    "    class_mode='binary',\n",
    "    target_size=target_size\n",
    ")\n",
    "\n",
    "test_iterator = valid_test_datagen.flow_from_dataframe(\n",
    "    dataframe=test,\n",
    "    x_col=x_col,\n",
    "    y_col=y_col,\n",
    "    batch_size=batch_size,\n",
    "    seed=42,\n",
    "    shuffle=False,\n",
    "    class_mode='binary',\n",
    "    target_size=target_size\n",
    ")"
   ],
   "metadata": {
    "execution": {
     "iopub.status.busy": "2023-03-25T12:41:54.216786Z",
     "iopub.execute_input": "2023-03-25T12:41:54.217405Z",
     "iopub.status.idle": "2023-03-25T12:42:25.369640Z",
     "shell.execute_reply.started": "2023-03-25T12:41:54.217358Z",
     "shell.execute_reply": "2023-03-25T12:42:25.368476Z"
    },
    "trusted": true,
    "colab": {
     "base_uri": "https://localhost:8080/"
    },
    "id": "XRjWY95Mzx3O",
    "outputId": "7a23027a-6f17-4c41-d99e-6f06709ed267"
   },
   "execution_count": null,
   "outputs": [
    {
     "output_type": "stream",
     "name": "stdout",
     "text": [
      "Found 33209 validated image filenames belonging to 2 classes.\n",
      "Found 2815 validated image filenames belonging to 2 classes.\n",
      "Found 3981 validated image filenames belonging to 2 classes.\n"
     ]
    }
   ]
  },
  {
   "cell_type": "code",
   "source": [
    "import tensorflow_addons as tfa\n",
    "def opt_es(learning_rate=0.0001, monitor='val_loss', patience=10) -> tuple:\n",
    "    \"\"\"return the Adam optimizer and the readly stopping\"\"\"\n",
    "    optimizer = Adam(learning_rate=learning_rate)\n",
    "    early_stopping = EarlyStopping(\n",
    "            monitor=monitor,\n",
    "            patience=patience,\n",
    "            verbose=1,\n",
    "            restore_best_weights=True\n",
    "        )\n",
    "    reduceLR = ReduceLROnPlateau(monitor='val_loss', factor=0.5, patience=5, min_lr=1e-6)\n",
    "    return optimizer, early_stopping, reduceLR\n",
    "\n",
    "def clean_up(model):\n",
    "    K.clear_session()\n",
    "    del model\n",
    "    gc.collect()\n",
    "\n",
    "def print_eval(hs, _eval) -> None:\n",
    "    \"\"\"Prints Train, validation and test metrics for an input hs object\"\"\"\n",
    "\n",
    "    print(\"Train Loss     : {0:.5f}\".format(hs.history['loss'][-1]))\n",
    "    print(\"Validation Loss: {0:.5f}\".format(hs.history['val_loss'][-1]))\n",
    "    print(\"Test Loss      : {0:.5f}\".format(_eval[0]))\n",
    "    print(\"---\")\n",
    "    print(\"Train Accuracy     : {0:.5f}\".format(hs.history['accuracy'][-1]))\n",
    "    print(\"Validation Accuracy: {0:.5f}\".format(hs.history['val_accuracy'][-1]))\n",
    "    print(\"Test Accuracy      : {0:.5f}\".format(_eval[1]))"
   ],
   "metadata": {
    "execution": {
     "iopub.status.busy": "2023-03-25T12:42:25.372308Z",
     "iopub.execute_input": "2023-03-25T12:42:25.373150Z",
     "iopub.status.idle": "2023-03-25T12:42:25.382005Z",
     "shell.execute_reply.started": "2023-03-25T12:42:25.373106Z",
     "shell.execute_reply": "2023-03-25T12:42:25.380793Z"
    },
    "trusted": true,
    "id": "SPbu4Wn-zx3O"
   },
   "execution_count": null,
   "outputs": []
  },
  {
   "cell_type": "code",
   "source": [
    "def train_model_stacked(\n",
    "        train_iterator,\n",
    "        valid_iterator,\n",
    "        optimizer: tf.keras.optimizers,\n",
    "        metrics: list,\n",
    "        callbacks: Optional[List[Any]] = None, \n",
    "        verbose: int = 0,\n",
    "        epochs: int = 20,\n",
    "        input_shape: tuple = (224, 224, 3),\n",
    "        train: bool = True) -> tuple:\n",
    "    \n",
    "    \n",
    "    np.random.seed(42) # Define the seed for numpy to have reproducible experiments.\n",
    "    set_seed(42) # Define the seed for Tensorflow to have reproducible experiments.\n",
    "    \n",
    "    mobilenet_base = MobileNetV2(weights = 'imagenet',\n",
    "                                 input_shape = input_shape,\n",
    "                                 include_top = False)\n",
    "\n",
    "    densenet_base = DenseNet169(weights = 'imagenet', \n",
    "                                input_shape = input_shape,\n",
    "                                include_top = False)\n",
    "    \n",
    "    for layer in mobilenet_base.layers:\n",
    "        layer.trainable =  False\n",
    "    for layer in densenet_base.layers:\n",
    "        layer.trainable = False\n",
    "\n",
    "    # Define the input layer.\n",
    "    _input = Input(\n",
    "        shape=input_shape,\n",
    "        name='Input'\n",
    "    )\n",
    "    model_mobilenet = mobilenet_base(_input)\n",
    "    model_mobilenet = GlobalAveragePooling2D(\n",
    "        name=\"Pooling2D-Mobilenet\"\n",
    "        )(model_mobilenet)\n",
    "    output_mobilenet = Flatten(\n",
    "        name='Flatten-Mobilenet'\n",
    "        )(model_mobilenet)\n",
    "\n",
    "    model_densenet = densenet_base(_input)\n",
    "    model_densenet = GlobalAveragePooling2D(\n",
    "        name=\"Pooling2D-Densenet\"\n",
    "        )(model_densenet)\n",
    "    output_densenet = Flatten(\n",
    "        name='Flatten-Densenet'\n",
    "        )(model_densenet)\n",
    "\n",
    "    merged = tf.keras.layers.Concatenate(\n",
    "        name='Concat'\n",
    "        )([output_mobilenet, output_densenet])\n",
    "\n",
    "    x = BatchNormalization(\n",
    "        name='BatchNormalization-Merged'\n",
    "        )(merged)\n",
    "    x = Dense(units=256,\n",
    "              activation = 'relu'\n",
    "              )(x)\n",
    "    x = Dropout(0.5)(x)\n",
    "    x = BatchNormalization(\n",
    "        name='BatchNormalization-out1'\n",
    "        )(x)\n",
    "    x = Dense(\n",
    "        units=128,\n",
    "        activation = 'relu'\n",
    "        )(x)\n",
    "    x = Dropout(0.5)(x)\n",
    "    output = Dense(\n",
    "        units=1, \n",
    "        activation = 'sigmoid'\n",
    "        )(x)\n",
    "\n",
    "    # Define the model and train it.\n",
    "    model = Model(inputs=_input, outputs=output)\n",
    "    model.compile(optimizer=optimizer, loss='binary_crossentropy', metrics=metrics)\n",
    "    model.summary() # Print a description of the model.\n",
    "    if train:\n",
    "        hs = model.fit(\n",
    "            train_iterator,\n",
    "            validation_data=valid_iterator,\n",
    "            epochs=epochs,\n",
    "            verbose=verbose,\n",
    "            callbacks=callbacks,\n",
    "            shuffle=True\n",
    "        )\n",
    "        print('Finished training.')\n",
    "        print('------------------')\n",
    "        \n",
    "        return model, hs\n",
    "    else:\n",
    "        return model, None"
   ],
   "metadata": {
    "execution": {
     "iopub.status.busy": "2023-03-25T12:42:25.413172Z",
     "iopub.execute_input": "2023-03-25T12:42:25.413798Z",
     "iopub.status.idle": "2023-03-25T12:42:25.430964Z",
     "shell.execute_reply.started": "2023-03-25T12:42:25.413741Z",
     "shell.execute_reply": "2023-03-25T12:42:25.429852Z"
    },
    "trusted": true,
    "id": "tTVVjIjRzx3O"
   },
   "execution_count": null,
   "outputs": []
  },
  {
   "cell_type": "code",
   "source": [
    "# init wandb\n",
    "wandb.init(project=\"Deep_Learning_2\", \n",
    "           name=\"Stacked_frozen\")\n",
    "\n",
    "\n",
    "# Metrics and optimizer\n",
    "metrics = [tfa.metrics.CohenKappa(name=\"cohen_kappa\", num_classes=2),\n",
    "           'accuracy']\n",
    "optimizer, early_stopping, reduceLR = opt_es(0.0001)\n",
    "\n",
    "model, hs = train_model_stacked(train_iterator=train_iterator,\n",
    "    valid_iterator=valid_iterator,\n",
    "    optimizer=optimizer,\n",
    "    epochs=20,\n",
    "    callbacks=[WandbCallback(), early_stopping, reduceLR],\n",
    "    metrics=metrics,\n",
    "    verbose=1)\n",
    "\n",
    "\n",
    "# evaluate\n",
    "# Evaluate on test data and show all the results.\n",
    "_eval = model.evaluate(test_iterator, verbose=1)\n",
    "print_eval(hs, _eval)\n",
    "clean_up(model=model)\n",
    "wandb.finish()"
   ],
   "metadata": {
    "colab": {
     "base_uri": "https://localhost:8080/",
     "height": 1000,
     "referenced_widgets": [
      "d04787a20e0d4571b10fe1397bfb1a3a",
      "cd312787a0aa410a86db559c1ddb1f05",
      "0324aa6901be4edeaca1dd635a96fac5",
      "b06042cac0954e0d9d75c9a590b23d46",
      "e68e7f0f22b34ea8ab2fc7d50a0a7062",
      "29f0d2c92b414a4499868c4487812455",
      "252a235b0c6943ebab21c7cb0fa722fd",
      "e5e5e87b1d9f4e72882e9338d7540f6f"
     ]
    },
    "id": "7VFmpPyKEnEz",
    "outputId": "089d16c1-5b93-4a71-d6f4-9fbd20ae7c15"
   },
   "execution_count": null,
   "outputs": [
    {
     "data": {
      "text/html": [
       "Finishing last run (ID:i0ucgl1q) before initializing another..."
      ],
      "text/plain": [
       "<IPython.core.display.HTML object>"
      ]
     },
     "metadata": {},
     "output_type": "display_data"
    },
    {
     "data": {
      "text/html": [
       "Waiting for W&B process to finish... <strong style=\"color:green\">(success).</strong>"
      ],
      "text/plain": [
       "<IPython.core.display.HTML object>"
      ]
     },
     "metadata": {},
     "output_type": "display_data"
    },
    {
     "data": {
      "text/html": [
       "<style>\n",
       "    table.wandb td:nth-child(1) { padding: 0 10px; text-align: left ; width: auto;} td:nth-child(2) {text-align: left ; width: 100%}\n",
       "    .wandb-row { display: flex; flex-direction: row; flex-wrap: wrap; justify-content: flex-start; width: 100% }\n",
       "    .wandb-col { display: flex; flex-direction: column; flex-basis: 100%; flex: 1; padding: 10px; }\n",
       "    </style>\n",
       "<div class=\"wandb-row\"><div class=\"wandb-col\"><h3>Run history:</h3><br/><table class=\"wandb\"><tr><td>accuracy</td><td>▁</td></tr><tr><td>cohen_kappa</td><td>▁</td></tr><tr><td>epoch</td><td>▁</td></tr><tr><td>loss</td><td>▁</td></tr><tr><td>val_accuracy</td><td>▁</td></tr><tr><td>val_cohen_kappa</td><td>▁</td></tr><tr><td>val_loss</td><td>▁</td></tr></table><br/></div><div class=\"wandb-col\"><h3>Run summary:</h3><br/><table class=\"wandb\"><tr><td>accuracy</td><td>0.69773</td></tr><tr><td>best_epoch</td><td>0</td></tr><tr><td>best_val_loss</td><td>0.48698</td></tr><tr><td>cohen_kappa</td><td>0.36204</td></tr><tr><td>epoch</td><td>0</td></tr><tr><td>loss</td><td>0.59141</td></tr><tr><td>val_accuracy</td><td>0.76909</td></tr><tr><td>val_cohen_kappa</td><td>0.49433</td></tr><tr><td>val_loss</td><td>0.48698</td></tr></table><br/></div></div>"
      ],
      "text/plain": [
       "<IPython.core.display.HTML object>"
      ]
     },
     "metadata": {},
     "output_type": "display_data"
    },
    {
     "data": {
      "text/html": [
       " View run <strong style=\"color:#cdcd00\">Stacked_frozen_resume</strong> at: <a href='https://wandb.ai/aueb/Deep_Learning_2/runs/i0ucgl1q' target=\"_blank\">https://wandb.ai/aueb/Deep_Learning_2/runs/i0ucgl1q</a><br/>Synced 5 W&B file(s), 1 media file(s), 5 artifact file(s) and 1 other file(s)"
      ],
      "text/plain": [
       "<IPython.core.display.HTML object>"
      ]
     },
     "metadata": {},
     "output_type": "display_data"
    },
    {
     "data": {
      "text/html": [
       "Find logs at: <code>./wandb/run-20230325_174912-i0ucgl1q/logs</code>"
      ],
      "text/plain": [
       "<IPython.core.display.HTML object>"
      ]
     },
     "metadata": {},
     "output_type": "display_data"
    },
    {
     "data": {
      "text/html": [
       "Successfully finished last run (ID:i0ucgl1q). Initializing new run:<br/>"
      ],
      "text/plain": [
       "<IPython.core.display.HTML object>"
      ]
     },
     "metadata": {},
     "output_type": "display_data"
    },
    {
     "data": {
      "text/html": [
       "Tracking run with wandb version 0.14.0"
      ],
      "text/plain": [
       "<IPython.core.display.HTML object>"
      ]
     },
     "metadata": {},
     "output_type": "display_data"
    },
    {
     "data": {
      "text/html": [
       "Run data is saved locally in <code>/content/wandb/run-20230325_180431-wz51cumy</code>"
      ],
      "text/plain": [
       "<IPython.core.display.HTML object>"
      ]
     },
     "metadata": {},
     "output_type": "display_data"
    },
    {
     "data": {
      "text/html": [
       "Syncing run <strong><a href='https://wandb.ai/aueb/Deep_Learning_2/runs/wz51cumy' target=\"_blank\">Stacked_frozen</a></strong> to <a href='https://wandb.ai/aueb/Deep_Learning_2' target=\"_blank\">Weights & Biases</a> (<a href='https://wandb.me/run' target=\"_blank\">docs</a>)<br/>"
      ],
      "text/plain": [
       "<IPython.core.display.HTML object>"
      ]
     },
     "metadata": {},
     "output_type": "display_data"
    },
    {
     "data": {
      "text/html": [
       " View project at <a href='https://wandb.ai/aueb/Deep_Learning_2' target=\"_blank\">https://wandb.ai/aueb/Deep_Learning_2</a>"
      ],
      "text/plain": [
       "<IPython.core.display.HTML object>"
      ]
     },
     "metadata": {},
     "output_type": "display_data"
    },
    {
     "data": {
      "text/html": [
       " View run at <a href='https://wandb.ai/aueb/Deep_Learning_2/runs/wz51cumy' target=\"_blank\">https://wandb.ai/aueb/Deep_Learning_2/runs/wz51cumy</a>"
      ],
      "text/plain": [
       "<IPython.core.display.HTML object>"
      ]
     },
     "metadata": {},
     "output_type": "display_data"
    },
    {
     "metadata": {
      "tags": null
     },
     "name": "stdout",
     "output_type": "stream",
     "text": [
      "Model: \"model\"\n",
      "__________________________________________________________________________________________________\n",
      " Layer (type)                   Output Shape         Param #     Connected to                     \n",
      "==================================================================================================\n",
      " Input (InputLayer)             [(None, 224, 224, 3  0           []                               \n",
      "                                )]                                                                \n",
      "                                                                                                  \n",
      " mobilenetv2_1.00_224 (Function  (None, 7, 7, 1280)  2257984     ['Input[0][0]']                  \n",
      " al)                                                                                              \n",
      "                                                                                                  \n",
      " densenet169 (Functional)       (None, 7, 7, 1664)   12642880    ['Input[0][0]']                  \n",
      "                                                                                                  \n",
      " Pooling2D-Mobilenet (GlobalAve  (None, 1280)        0           ['mobilenetv2_1.00_224[0][0]']   \n",
      " ragePooling2D)                                                                                   \n",
      "                                                                                                  \n",
      " Pooling2D-Densenet (GlobalAver  (None, 1664)        0           ['densenet169[0][0]']            \n",
      " agePooling2D)                                                                                    \n",
      "                                                                                                  \n",
      " Flatten-Mobilenet (Flatten)    (None, 1280)         0           ['Pooling2D-Mobilenet[0][0]']    \n",
      "                                                                                                  \n",
      " Flatten-Densenet (Flatten)     (None, 1664)         0           ['Pooling2D-Densenet[0][0]']     \n",
      "                                                                                                  \n",
      " Concat (Concatenate)           (None, 2944)         0           ['Flatten-Mobilenet[0][0]',      \n",
      "                                                                  'Flatten-Densenet[0][0]']       \n",
      "                                                                                                  \n",
      " BatchNormalization-Merged (Bat  (None, 2944)        11776       ['Concat[0][0]']                 \n",
      " chNormalization)                                                                                 \n",
      "                                                                                                  \n",
      " dense (Dense)                  (None, 256)          753920      ['BatchNormalization-Merged[0][0]\n",
      "                                                                 ']                               \n",
      "                                                                                                  \n",
      " dropout (Dropout)              (None, 256)          0           ['dense[0][0]']                  \n",
      "                                                                                                  \n",
      " BatchNormalization-out1 (Batch  (None, 256)         1024        ['dropout[0][0]']                \n",
      " Normalization)                                                                                   \n",
      "                                                                                                  \n",
      " dense_1 (Dense)                (None, 128)          32896       ['BatchNormalization-out1[0][0]']\n",
      "                                                                                                  \n",
      " dropout_1 (Dropout)            (None, 128)          0           ['dense_1[0][0]']                \n",
      "                                                                                                  \n",
      " dense_2 (Dense)                (None, 1)            129         ['dropout_1[0][0]']              \n",
      "                                                                                                  \n",
      "==================================================================================================\n",
      "Total params: 15,700,609\n",
      "Trainable params: 793,345\n",
      "Non-trainable params: 14,907,264\n",
      "__________________________________________________________________________________________________\n",
      "Epoch 1/20\n",
      "260/260 [==============================] - ETA: 0s - loss: 0.7611 - cohen_kappa: 0.1649 - accuracy: 0.5909"
     ]
    },
    {
     "metadata": {
      "tags": null
     },
     "name": "stderr",
     "output_type": "stream",
     "text": [
      "WARNING:absl:Function `_wrapped_model` contains input name(s) Input with unsupported characters which will be renamed to input in the SavedModel.\n",
      "WARNING:absl:Found untraced functions such as _jit_compiled_convolution_op, _jit_compiled_convolution_op, _jit_compiled_convolution_op, _jit_compiled_convolution_op, _jit_compiled_convolution_op while saving (showing 5 of 222). These functions will not be directly callable after loading.\n",
      "\u001B[34m\u001B[1mwandb\u001B[0m: Adding directory to artifact (/content/wandb/run-20230325_180431-wz51cumy/files/model-best)... Done. 0.3s\n"
     ]
    },
    {
     "metadata": {
      "tags": null
     },
     "name": "stdout",
     "output_type": "stream",
     "text": [
      "260/260 [==============================] - 613s 2s/step - loss: 0.7611 - cohen_kappa: 0.1649 - accuracy: 0.5909 - val_loss: 0.5491 - val_cohen_kappa: 0.4378 - val_accuracy: 0.7382 - lr: 1.0000e-04\n",
      "Epoch 2/20\n",
      "260/260 [==============================] - ETA: 0s - loss: 0.6731 - cohen_kappa: 0.2680 - accuracy: 0.6496"
     ]
    },
    {
     "metadata": {
      "tags": null
     },
     "name": "stderr",
     "output_type": "stream",
     "text": [
      "WARNING:absl:Function `_wrapped_model` contains input name(s) Input with unsupported characters which will be renamed to input in the SavedModel.\n",
      "WARNING:absl:Found untraced functions such as _jit_compiled_convolution_op, _jit_compiled_convolution_op, _jit_compiled_convolution_op, _jit_compiled_convolution_op, _jit_compiled_convolution_op while saving (showing 5 of 222). These functions will not be directly callable after loading.\n",
      "\u001B[34m\u001B[1mwandb\u001B[0m: Adding directory to artifact (/content/wandb/run-20230325_180431-wz51cumy/files/model-best)... Done. 0.2s\n"
     ]
    },
    {
     "metadata": {
      "tags": null
     },
     "name": "stdout",
     "output_type": "stream",
     "text": [
      "260/260 [==============================] - 599s 2s/step - loss: 0.6731 - cohen_kappa: 0.2680 - accuracy: 0.6496 - val_loss: 0.5263 - val_cohen_kappa: 0.4571 - val_accuracy: 0.7499 - lr: 1.0000e-04\n",
      "Epoch 3/20\n",
      "260/260 [==============================] - ETA: 0s - loss: 0.6473 - cohen_kappa: 0.2985 - accuracy: 0.6650"
     ]
    },
    {
     "metadata": {
      "tags": null
     },
     "name": "stderr",
     "output_type": "stream",
     "text": [
      "WARNING:absl:Function `_wrapped_model` contains input name(s) Input with unsupported characters which will be renamed to input in the SavedModel.\n",
      "WARNING:absl:Found untraced functions such as _jit_compiled_convolution_op, _jit_compiled_convolution_op, _jit_compiled_convolution_op, _jit_compiled_convolution_op, _jit_compiled_convolution_op while saving (showing 5 of 222). These functions will not be directly callable after loading.\n",
      "\u001B[34m\u001B[1mwandb\u001B[0m: Adding directory to artifact (/content/wandb/run-20230325_180431-wz51cumy/files/model-best)... Done. 0.2s\n"
     ]
    },
    {
     "metadata": {
      "tags": null
     },
     "name": "stdout",
     "output_type": "stream",
     "text": [
      "260/260 [==============================] - 602s 2s/step - loss: 0.6473 - cohen_kappa: 0.2985 - accuracy: 0.6650 - val_loss: 0.5123 - val_cohen_kappa: 0.4729 - val_accuracy: 0.7595 - lr: 1.0000e-04\n",
      "Epoch 4/20\n",
      "260/260 [==============================] - ETA: 0s - loss: 0.6148 - cohen_kappa: 0.3321 - accuracy: 0.6825"
     ]
    },
    {
     "metadata": {
      "tags": null
     },
     "name": "stderr",
     "output_type": "stream",
     "text": [
      "WARNING:absl:Function `_wrapped_model` contains input name(s) Input with unsupported characters which will be renamed to input in the SavedModel.\n",
      "WARNING:absl:Found untraced functions such as _jit_compiled_convolution_op, _jit_compiled_convolution_op, _jit_compiled_convolution_op, _jit_compiled_convolution_op, _jit_compiled_convolution_op while saving (showing 5 of 222). These functions will not be directly callable after loading.\n",
      "\u001B[34m\u001B[1mwandb\u001B[0m: Adding directory to artifact (/content/wandb/run-20230325_180431-wz51cumy/files/model-best)... Done. 0.4s\n"
     ]
    },
    {
     "metadata": {
      "tags": null
     },
     "name": "stdout",
     "output_type": "stream",
     "text": [
      "260/260 [==============================] - 601s 2s/step - loss: 0.6148 - cohen_kappa: 0.3321 - accuracy: 0.6825 - val_loss: 0.5014 - val_cohen_kappa: 0.4820 - val_accuracy: 0.7631 - lr: 1.0000e-04\n",
      "Epoch 5/20\n",
      "260/260 [==============================] - ETA: 0s - loss: 0.6016 - cohen_kappa: 0.3578 - accuracy: 0.6947"
     ]
    },
    {
     "metadata": {
      "tags": null
     },
     "name": "stderr",
     "output_type": "stream",
     "text": [
      "WARNING:absl:Function `_wrapped_model` contains input name(s) Input with unsupported characters which will be renamed to input in the SavedModel.\n",
      "WARNING:absl:Found untraced functions such as _jit_compiled_convolution_op, _jit_compiled_convolution_op, _jit_compiled_convolution_op, _jit_compiled_convolution_op, _jit_compiled_convolution_op while saving (showing 5 of 222). These functions will not be directly callable after loading.\n",
      "\u001B[34m\u001B[1mwandb\u001B[0m: Adding directory to artifact (/content/wandb/run-20230325_180431-wz51cumy/files/model-best)... Done. 0.2s\n"
     ]
    },
    {
     "metadata": {
      "tags": null
     },
     "name": "stdout",
     "output_type": "stream",
     "text": [
      "260/260 [==============================] - 599s 2s/step - loss: 0.6016 - cohen_kappa: 0.3578 - accuracy: 0.6947 - val_loss: 0.5009 - val_cohen_kappa: 0.4831 - val_accuracy: 0.7648 - lr: 1.0000e-04\n",
      "Epoch 6/20\n",
      "260/260 [==============================] - ETA: 0s - loss: 0.5850 - cohen_kappa: 0.3730 - accuracy: 0.7028"
     ]
    },
    {
     "metadata": {
      "tags": null
     },
     "name": "stderr",
     "output_type": "stream",
     "text": [
      "WARNING:absl:Function `_wrapped_model` contains input name(s) Input with unsupported characters which will be renamed to input in the SavedModel.\n",
      "WARNING:absl:Found untraced functions such as _jit_compiled_convolution_op, _jit_compiled_convolution_op, _jit_compiled_convolution_op, _jit_compiled_convolution_op, _jit_compiled_convolution_op while saving (showing 5 of 222). These functions will not be directly callable after loading.\n",
      "\u001B[34m\u001B[1mwandb\u001B[0m: Adding directory to artifact (/content/wandb/run-20230325_180431-wz51cumy/files/model-best)... Done. 0.2s\n"
     ]
    },
    {
     "metadata": {
      "tags": null
     },
     "name": "stdout",
     "output_type": "stream",
     "text": [
      "260/260 [==============================] - 600s 2s/step - loss: 0.5850 - cohen_kappa: 0.3730 - accuracy: 0.7028 - val_loss: 0.4934 - val_cohen_kappa: 0.4988 - val_accuracy: 0.7709 - lr: 1.0000e-04\n",
      "Epoch 7/20\n",
      "260/260 [==============================] - ETA: 0s - loss: 0.5727 - cohen_kappa: 0.3901 - accuracy: 0.7116"
     ]
    },
    {
     "metadata": {
      "tags": null
     },
     "name": "stderr",
     "output_type": "stream",
     "text": [
      "WARNING:absl:Function `_wrapped_model` contains input name(s) Input with unsupported characters which will be renamed to input in the SavedModel.\n",
      "WARNING:absl:Found untraced functions such as _jit_compiled_convolution_op, _jit_compiled_convolution_op, _jit_compiled_convolution_op, _jit_compiled_convolution_op, _jit_compiled_convolution_op while saving (showing 5 of 222). These functions will not be directly callable after loading.\n",
      "\u001B[34m\u001B[1mwandb\u001B[0m: Adding directory to artifact (/content/wandb/run-20230325_180431-wz51cumy/files/model-best)... Done. 0.2s\n"
     ]
    },
    {
     "metadata": {
      "tags": null
     },
     "name": "stdout",
     "output_type": "stream",
     "text": [
      "260/260 [==============================] - 601s 2s/step - loss: 0.5727 - cohen_kappa: 0.3901 - accuracy: 0.7116 - val_loss: 0.4886 - val_cohen_kappa: 0.5062 - val_accuracy: 0.7730 - lr: 1.0000e-04\n",
      "Epoch 8/20\n",
      "260/260 [==============================] - ETA: 0s - loss: 0.5657 - cohen_kappa: 0.3912 - accuracy: 0.7120"
     ]
    },
    {
     "metadata": {
      "tags": null
     },
     "name": "stderr",
     "output_type": "stream",
     "text": [
      "WARNING:absl:Function `_wrapped_model` contains input name(s) Input with unsupported characters which will be renamed to input in the SavedModel.\n",
      "WARNING:absl:Found untraced functions such as _jit_compiled_convolution_op, _jit_compiled_convolution_op, _jit_compiled_convolution_op, _jit_compiled_convolution_op, _jit_compiled_convolution_op while saving (showing 5 of 222). These functions will not be directly callable after loading.\n",
      "\u001B[34m\u001B[1mwandb\u001B[0m: Adding directory to artifact (/content/wandb/run-20230325_180431-wz51cumy/files/model-best)... Done. 0.2s\n"
     ]
    },
    {
     "metadata": {
      "tags": null
     },
     "name": "stdout",
     "output_type": "stream",
     "text": [
      "260/260 [==============================] - 600s 2s/step - loss: 0.5657 - cohen_kappa: 0.3912 - accuracy: 0.7120 - val_loss: 0.4864 - val_cohen_kappa: 0.4945 - val_accuracy: 0.7694 - lr: 1.0000e-04\n",
      "Epoch 9/20\n",
      "260/260 [==============================] - ETA: 0s - loss: 0.5554 - cohen_kappa: 0.4088 - accuracy: 0.7205"
     ]
    },
    {
     "metadata": {
      "tags": null
     },
     "name": "stderr",
     "output_type": "stream",
     "text": [
      "WARNING:absl:Function `_wrapped_model` contains input name(s) Input with unsupported characters which will be renamed to input in the SavedModel.\n",
      "WARNING:absl:Found untraced functions such as _jit_compiled_convolution_op, _jit_compiled_convolution_op, _jit_compiled_convolution_op, _jit_compiled_convolution_op, _jit_compiled_convolution_op while saving (showing 5 of 222). These functions will not be directly callable after loading.\n",
      "\u001B[34m\u001B[1mwandb\u001B[0m: Adding directory to artifact (/content/wandb/run-20230325_180431-wz51cumy/files/model-best)... Done. 0.2s\n"
     ]
    },
    {
     "metadata": {
      "tags": null
     },
     "name": "stdout",
     "output_type": "stream",
     "text": [
      "260/260 [==============================] - 599s 2s/step - loss: 0.5554 - cohen_kappa: 0.4088 - accuracy: 0.7205 - val_loss: 0.4852 - val_cohen_kappa: 0.5022 - val_accuracy: 0.7719 - lr: 1.0000e-04\n",
      "Epoch 10/20\n",
      "260/260 [==============================] - ETA: 0s - loss: 0.5520 - cohen_kappa: 0.4166 - accuracy: 0.7249"
     ]
    },
    {
     "metadata": {
      "tags": null
     },
     "name": "stderr",
     "output_type": "stream",
     "text": [
      "WARNING:absl:Function `_wrapped_model` contains input name(s) Input with unsupported characters which will be renamed to input in the SavedModel.\n",
      "WARNING:absl:Found untraced functions such as _jit_compiled_convolution_op, _jit_compiled_convolution_op, _jit_compiled_convolution_op, _jit_compiled_convolution_op, _jit_compiled_convolution_op while saving (showing 5 of 222). These functions will not be directly callable after loading.\n",
      "\u001B[34m\u001B[1mwandb\u001B[0m: Adding directory to artifact (/content/wandb/run-20230325_180431-wz51cumy/files/model-best)... Done. 0.2s\n"
     ]
    },
    {
     "metadata": {
      "tags": null
     },
     "name": "stdout",
     "output_type": "stream",
     "text": [
      "260/260 [==============================] - 599s 2s/step - loss: 0.5520 - cohen_kappa: 0.4166 - accuracy: 0.7249 - val_loss: 0.4820 - val_cohen_kappa: 0.5104 - val_accuracy: 0.7766 - lr: 1.0000e-04\n",
      "Epoch 11/20\n",
      "260/260 [==============================] - ETA: 0s - loss: 0.5437 - cohen_kappa: 0.4296 - accuracy: 0.7313"
     ]
    },
    {
     "metadata": {
      "tags": null
     },
     "name": "stderr",
     "output_type": "stream",
     "text": [
      "WARNING:absl:Function `_wrapped_model` contains input name(s) Input with unsupported characters which will be renamed to input in the SavedModel.\n",
      "WARNING:absl:Found untraced functions such as _jit_compiled_convolution_op, _jit_compiled_convolution_op, _jit_compiled_convolution_op, _jit_compiled_convolution_op, _jit_compiled_convolution_op while saving (showing 5 of 222). These functions will not be directly callable after loading.\n",
      "\u001B[34m\u001B[1mwandb\u001B[0m: Adding directory to artifact (/content/wandb/run-20230325_180431-wz51cumy/files/model-best)... Done. 0.2s\n"
     ]
    },
    {
     "metadata": {
      "tags": null
     },
     "name": "stdout",
     "output_type": "stream",
     "text": [
      "260/260 [==============================] - 599s 2s/step - loss: 0.5437 - cohen_kappa: 0.4296 - accuracy: 0.7313 - val_loss: 0.4800 - val_cohen_kappa: 0.5104 - val_accuracy: 0.7762 - lr: 1.0000e-04\n",
      "Epoch 12/20\n",
      "260/260 [==============================] - 512s 2s/step - loss: 0.5357 - cohen_kappa: 0.4388 - accuracy: 0.7357 - val_loss: 0.4817 - val_cohen_kappa: 0.5060 - val_accuracy: 0.7741 - lr: 1.0000e-04\n",
      "Epoch 13/20\n",
      "260/260 [==============================] - ETA: 0s - loss: 0.5326 - cohen_kappa: 0.4416 - accuracy: 0.7371"
     ]
    },
    {
     "metadata": {
      "tags": null
     },
     "name": "stderr",
     "output_type": "stream",
     "text": [
      "WARNING:absl:Function `_wrapped_model` contains input name(s) Input with unsupported characters which will be renamed to input in the SavedModel.\n",
      "WARNING:absl:Found untraced functions such as _jit_compiled_convolution_op, _jit_compiled_convolution_op, _jit_compiled_convolution_op, _jit_compiled_convolution_op, _jit_compiled_convolution_op while saving (showing 5 of 222). These functions will not be directly callable after loading.\n",
      "\u001B[34m\u001B[1mwandb\u001B[0m: Adding directory to artifact (/content/wandb/run-20230325_180431-wz51cumy/files/model-best)... Done. 0.2s\n"
     ]
    },
    {
     "metadata": {
      "tags": null
     },
     "name": "stdout",
     "output_type": "stream",
     "text": [
      "260/260 [==============================] - 598s 2s/step - loss: 0.5326 - cohen_kappa: 0.4416 - accuracy: 0.7371 - val_loss: 0.4782 - val_cohen_kappa: 0.5140 - val_accuracy: 0.7780 - lr: 1.0000e-04\n",
      "Epoch 14/20\n",
      "260/260 [==============================] - 512s 2s/step - loss: 0.5305 - cohen_kappa: 0.4477 - accuracy: 0.7403 - val_loss: 0.4806 - val_cohen_kappa: 0.5020 - val_accuracy: 0.7730 - lr: 1.0000e-04\n",
      "Epoch 15/20\n",
      "260/260 [==============================] - 511s 2s/step - loss: 0.5268 - cohen_kappa: 0.4508 - accuracy: 0.7415 - val_loss: 0.4815 - val_cohen_kappa: 0.5090 - val_accuracy: 0.7758 - lr: 1.0000e-04\n",
      "Epoch 16/20\n",
      "260/260 [==============================] - ETA: 0s - loss: 0.5189 - cohen_kappa: 0.4566 - accuracy: 0.7447"
     ]
    },
    {
     "metadata": {
      "tags": null
     },
     "name": "stderr",
     "output_type": "stream",
     "text": [
      "WARNING:absl:Function `_wrapped_model` contains input name(s) Input with unsupported characters which will be renamed to input in the SavedModel.\n",
      "WARNING:absl:Found untraced functions such as _jit_compiled_convolution_op, _jit_compiled_convolution_op, _jit_compiled_convolution_op, _jit_compiled_convolution_op, _jit_compiled_convolution_op while saving (showing 5 of 222). These functions will not be directly callable after loading.\n",
      "\u001B[34m\u001B[1mwandb\u001B[0m: Adding directory to artifact (/content/wandb/run-20230325_180431-wz51cumy/files/model-best)... Done. 0.2s\n"
     ]
    },
    {
     "metadata": {
      "tags": null
     },
     "name": "stdout",
     "output_type": "stream",
     "text": [
      "260/260 [==============================] - 598s 2s/step - loss: 0.5189 - cohen_kappa: 0.4566 - accuracy: 0.7447 - val_loss: 0.4767 - val_cohen_kappa: 0.5120 - val_accuracy: 0.7773 - lr: 1.0000e-04\n",
      "Epoch 17/20\n",
      "260/260 [==============================] - ETA: 0s - loss: 0.5148 - cohen_kappa: 0.4684 - accuracy: 0.7500"
     ]
    },
    {
     "metadata": {
      "tags": null
     },
     "name": "stderr",
     "output_type": "stream",
     "text": [
      "WARNING:absl:Function `_wrapped_model` contains input name(s) Input with unsupported characters which will be renamed to input in the SavedModel.\n",
      "WARNING:absl:Found untraced functions such as _jit_compiled_convolution_op, _jit_compiled_convolution_op, _jit_compiled_convolution_op, _jit_compiled_convolution_op, _jit_compiled_convolution_op while saving (showing 5 of 222). These functions will not be directly callable after loading.\n",
      "\u001B[34m\u001B[1mwandb\u001B[0m: Adding directory to artifact (/content/wandb/run-20230325_180431-wz51cumy/files/model-best)... Done. 0.2s\n"
     ]
    },
    {
     "output_type": "stream",
     "name": "stdout",
     "text": [
      "260/260 [==============================] - 601s 2s/step - loss: 0.5148 - cohen_kappa: 0.4684 - accuracy: 0.7500 - val_loss: 0.4737 - val_cohen_kappa: 0.5135 - val_accuracy: 0.7787 - lr: 1.0000e-04\n",
      "Epoch 18/20\n",
      "260/260 [==============================] - 512s 2s/step - loss: 0.5092 - cohen_kappa: 0.4741 - accuracy: 0.7529 - val_loss: 0.4749 - val_cohen_kappa: 0.5064 - val_accuracy: 0.7755 - lr: 1.0000e-04\n",
      "Epoch 19/20\n",
      "260/260 [==============================] - 512s 2s/step - loss: 0.5112 - cohen_kappa: 0.4786 - accuracy: 0.7549 - val_loss: 0.4744 - val_cohen_kappa: 0.5173 - val_accuracy: 0.7801 - lr: 1.0000e-04\n",
      "Epoch 20/20\n",
      "260/260 [==============================] - 512s 2s/step - loss: 0.5082 - cohen_kappa: 0.4774 - accuracy: 0.7545 - val_loss: 0.4741 - val_cohen_kappa: 0.5103 - val_accuracy: 0.7769 - lr: 1.0000e-04\n",
      "Finished training.\n",
      "------------------\n",
      "32/32 [==============================] - 22s 687ms/step - loss: 0.5093 - cohen_kappa: 0.5034 - accuracy: 0.7704\n",
      "Train Loss     : 0.50820\n",
      "Validation Loss: 0.47409\n",
      "Test Loss      : 0.50932\n",
      "---\n",
      "Train Accuracy     : 0.75446\n",
      "Validation Accuracy: 0.77691\n",
      "Test Accuracy      : 0.50345\n"
     ]
    },
    {
     "output_type": "display_data",
     "data": {
      "text/plain": [
       "<IPython.core.display.HTML object>"
      ],
      "text/html": [
       "Waiting for W&B process to finish... <strong style=\"color:green\">(success).</strong>"
      ]
     },
     "metadata": {}
    },
    {
     "output_type": "display_data",
     "data": {
      "text/plain": [
       "VBox(children=(Label(value='1224.466 MB of 1224.466 MB uploaded (30.095 MB deduped)\\r'), FloatProgress(value=1…"
      ],
      "application/vnd.jupyter.widget-view+json": {
       "version_major": 2,
       "version_minor": 0,
       "model_id": "d04787a20e0d4571b10fe1397bfb1a3a"
      }
     },
     "metadata": {}
    },
    {
     "output_type": "display_data",
     "data": {
      "text/plain": [
       "<IPython.core.display.HTML object>"
      ],
      "text/html": [
       "<style>\n",
       "    table.wandb td:nth-child(1) { padding: 0 10px; text-align: left ; width: auto;} td:nth-child(2) {text-align: left ; width: 100%}\n",
       "    .wandb-row { display: flex; flex-direction: row; flex-wrap: wrap; justify-content: flex-start; width: 100% }\n",
       "    .wandb-col { display: flex; flex-direction: column; flex-basis: 100%; flex: 1; padding: 10px; }\n",
       "    </style>\n",
       "<div class=\"wandb-row\"><div class=\"wandb-col\"><h3>Run history:</h3><br/><table class=\"wandb\"><tr><td>accuracy</td><td>▁▄▄▅▅▆▆▆▇▇▇▇▇▇▇█████</td></tr><tr><td>cohen_kappa</td><td>▁▃▄▅▅▆▆▆▆▇▇▇▇▇▇█████</td></tr><tr><td>epoch</td><td>▁▁▂▂▂▃▃▄▄▄▅▅▅▆▆▇▇▇██</td></tr><tr><td>loss</td><td>█▆▅▄▄▃▃▃▂▂▂▂▂▂▂▁▁▁▁▁</td></tr><tr><td>val_accuracy</td><td>▁▃▅▅▅▆▇▆▇▇▇▇█▇▇██▇█▇</td></tr><tr><td>val_cohen_kappa</td><td>▁▃▄▅▅▆▇▆▇▇▇▇█▇▇██▇█▇</td></tr><tr><td>val_loss</td><td>█▆▅▄▄▃▂▂▂▂▂▂▁▂▂▁▁▁▁▁</td></tr></table><br/></div><div class=\"wandb-col\"><h3>Run summary:</h3><br/><table class=\"wandb\"><tr><td>accuracy</td><td>0.75446</td></tr><tr><td>best_epoch</td><td>16</td></tr><tr><td>best_val_loss</td><td>0.47367</td></tr><tr><td>cohen_kappa</td><td>0.47739</td></tr><tr><td>epoch</td><td>19</td></tr><tr><td>loss</td><td>0.5082</td></tr><tr><td>val_accuracy</td><td>0.77691</td></tr><tr><td>val_cohen_kappa</td><td>0.51032</td></tr><tr><td>val_loss</td><td>0.47409</td></tr></table><br/></div></div>"
      ]
     },
     "metadata": {}
    },
    {
     "output_type": "display_data",
     "data": {
      "text/plain": [
       "<IPython.core.display.HTML object>"
      ],
      "text/html": [
       " View run <strong style=\"color:#cdcd00\">Stacked_frozen</strong> at: <a href='https://wandb.ai/aueb/Deep_Learning_2/runs/wz51cumy' target=\"_blank\">https://wandb.ai/aueb/Deep_Learning_2/runs/wz51cumy</a><br/>Synced 5 W&B file(s), 1 media file(s), 70 artifact file(s) and 1 other file(s)"
      ]
     },
     "metadata": {}
    },
    {
     "output_type": "display_data",
     "data": {
      "text/plain": [
       "<IPython.core.display.HTML object>"
      ],
      "text/html": [
       "Find logs at: <code>./wandb/run-20230325_180431-wz51cumy/logs</code>"
      ]
     },
     "metadata": {}
    }
   ]
  },
  {
   "cell_type": "code",
   "source": [
    "import tensorflow_addons as tfa\n",
    "# load the best model\n",
    "wandb.init(mode=\"disabled\")\n",
    "api = wandb.Api()\n",
    "artifact = api.artifact('aueb/Deep_Learning_2/model-Stacked_frozen:v18', type='model')\n",
    "artifact.download()\n",
    "\n",
    "metrics = [tfa.metrics.CohenKappa(name=\"cohen_kappa\", num_classes=2),\n",
    "           'accuracy']\n",
    "\n",
    "artifact_model = tf.keras.models.load_model(\"./artifacts/model-Stacked_frozen:v18\", custom_objects={\"cohen_kappa\": metrics[0]})\n",
    "\n",
    "print(artifact_model.summary())"
   ],
   "metadata": {
    "colab": {
     "base_uri": "https://localhost:8080/",
     "height": 902
    },
    "id": "Rg9EIbn0x8_5",
    "outputId": "52d93480-b815-44c0-9e72-7b01be639812"
   },
   "execution_count": null,
   "outputs": [
    {
     "output_type": "stream",
     "name": "stderr",
     "text": [
      "\u001B[34m\u001B[1mwandb\u001B[0m: Downloading large artifact model-Stacked_frozen:v18, 82.66MB. 5 files... \n",
      "\u001B[34m\u001B[1mwandb\u001B[0m:   5 of 5 files downloaded.  \n",
      "Done. 0:0:1.3\n"
     ]
    },
    {
     "output_type": "stream",
     "name": "stdout",
     "text": [
      "Model: \"model\"\n",
      "__________________________________________________________________________________________________\n",
      " Layer (type)                   Output Shape         Param #     Connected to                     \n",
      "==================================================================================================\n",
      " Input (InputLayer)             [(None, 224, 224, 3  0           []                               \n",
      "                                )]                                                                \n",
      "                                                                                                  \n",
      " mobilenetv2_1.00_224 (Function  (None, 7, 7, 1280)  2257984     ['Input[0][0]']                  \n",
      " al)                                                                                              \n",
      "                                                                                                  \n",
      " densenet169 (Functional)       (None, 7, 7, 1664)   12642880    ['Input[0][0]']                  \n",
      "                                                                                                  \n",
      " Pooling2D-Mobilenet (GlobalAve  (None, 1280)        0           ['mobilenetv2_1.00_224[0][0]']   \n",
      " ragePooling2D)                                                                                   \n",
      "                                                                                                  \n",
      " Pooling2D-Densenet (GlobalAver  (None, 1664)        0           ['densenet169[0][0]']            \n",
      " agePooling2D)                                                                                    \n",
      "                                                                                                  \n",
      " Flatten-Mobilenet (Flatten)    (None, 1280)         0           ['Pooling2D-Mobilenet[0][0]']    \n",
      "                                                                                                  \n",
      " Flatten-Densenet (Flatten)     (None, 1664)         0           ['Pooling2D-Densenet[0][0]']     \n",
      "                                                                                                  \n",
      " Concat (Concatenate)           (None, 2944)         0           ['Flatten-Mobilenet[0][0]',      \n",
      "                                                                  'Flatten-Densenet[0][0]']       \n",
      "                                                                                                  \n",
      " BatchNormalization-Merged (Bat  (None, 2944)        11776       ['Concat[0][0]']                 \n",
      " chNormalization)                                                                                 \n",
      "                                                                                                  \n",
      " dense (Dense)                  (None, 256)          753920      ['BatchNormalization-Merged[0][0]\n",
      "                                                                 ']                               \n",
      "                                                                                                  \n",
      " dropout (Dropout)              (None, 256)          0           ['dense[0][0]']                  \n",
      "                                                                                                  \n",
      " BatchNormalization-out1 (Batch  (None, 256)         1024        ['dropout[0][0]']                \n",
      " Normalization)                                                                                   \n",
      "                                                                                                  \n",
      " dense_1 (Dense)                (None, 128)          32896       ['BatchNormalization-out1[0][0]']\n",
      "                                                                                                  \n",
      " dropout_1 (Dropout)            (None, 128)          0           ['dense_1[0][0]']                \n",
      "                                                                                                  \n",
      " dense_2 (Dense)                (None, 1)            129         ['dropout_1[0][0]']              \n",
      "                                                                                                  \n",
      "==================================================================================================\n",
      "Total params: 15,700,609\n",
      "Trainable params: 793,345\n",
      "Non-trainable params: 14,907,264\n",
      "__________________________________________________________________________________________________\n",
      "None\n"
     ]
    }
   ]
  },
  {
   "cell_type": "code",
   "source": [
    "test_iterator.reset\n",
    "_eval = artifact_model.evaluate(test_iterator)\n",
    "_eval"
   ],
   "metadata": {
    "colab": {
     "base_uri": "https://localhost:8080/"
    },
    "id": "cRNuBwenyHX7",
    "outputId": "6eac691c-d312-49d2-93a7-32f57ca25cbf"
   },
   "execution_count": null,
   "outputs": [
    {
     "output_type": "stream",
     "name": "stdout",
     "text": [
      "32/32 [==============================] - 36s 1s/step - loss: 0.5120 - cohen_kappa: 0.4945 - accuracy: 0.7661\n"
     ]
    },
    {
     "output_type": "execute_result",
     "data": {
      "text/plain": [
       "[0.5119682550430298, 0.49445825815200806, 0.7661391496658325]"
      ]
     },
     "metadata": {},
     "execution_count": 24
    }
   ]
  },
  {
   "cell_type": "code",
   "source": [],
   "metadata": {
    "id": "VcqOrZzozx3Q"
   },
   "execution_count": null,
   "outputs": []
  }
 ]
}
