{
 "cells": [
  {
   "cell_type": "markdown",
   "source": [
    "# Review Summarization\n",
    "\n",
    "1. Select an English-speaking website that hosts customer reviews on products (or services, businesses, movies, events, etc).\n",
    "\n",
    "2. Make sure that the website includes a free-text search box that users can use to search for products.\n",
    "\n",
    "3. Email me your selection at ted@aueb.gr. Each student should work on a different website, so I will maintain the list of selected websites at the top of our Wiki. First come, first served.\n",
    "\n",
    "4. Create a first Python Notebook with a function called scrape( ). The function should accept as a parameter a query (a word or short phrase).  The function should then use selenium to:\n",
    "\n",
    "   * submit the query to the website's search box and retrieve the list of matching products.\n",
    "   * access the first product on the list and download all its reviews into a csv file. For each review, the function should get the text, the rating, and the date. One line per review, 3 fields per line.\n",
    "\n",
    "5. Create a second Python Notebook with a function called summarize( ). The function should accept as a parameter the path to a csv file created by the first Notebook. It should then create a 1-page pdf file that includes a summary of all the reviews in the csv.\n",
    "\n",
    "The nature of the summary is entirely up to you. It can be text-based, visual-based, or a combination of both.\n",
    "It is also up to you to define what is important enough to be included in the summary.\n",
    "Focus on creating a summary that you think would be the most informative for customers.\n",
    "The creation of the pdf should be done through the notebook.\n",
    "You can use whatever Python-based library that you want.\n",
    "\n",
    "\n",
    "---\n",
    "\n",
    "> Chalkiopoulos Georgios, Electrical and Computer Engineer NTUA <br />\n",
    "> Data Science postgraduate Student <br />\n",
    "> gchalkiopoulos@aueb.gr"
   ],
   "metadata": {
    "collapsed": false
   },
   "outputs": [
    {
     "ename": "SyntaxError",
     "evalue": "invalid syntax (Temp/ipykernel_22760/2783894318.py, line 3)",
     "output_type": "error",
     "traceback": [
      "\u001B[1;36m  File \u001B[1;32m\"C:\\Users\\JOJOSH~1\\AppData\\Local\\Temp/ipykernel_22760/2783894318.py\"\u001B[1;36m, line \u001B[1;32m3\u001B[0m\n\u001B[1;33m    ---\u001B[0m\n\u001B[1;37m       ^\u001B[0m\n\u001B[1;31mSyntaxError\u001B[0m\u001B[1;31m:\u001B[0m invalid syntax\n"
     ]
    }
   ],
   "execution_count": 1
  },
  {
   "cell_type": "markdown",
   "source": [
    "## Install Libraries"
   ],
   "metadata": {
    "collapsed": false
   }
  },
  {
   "cell_type": "code",
   "execution_count": null,
   "outputs": [],
   "source": [
    "\"\"\"\n",
    "!pip install -U selenium\n",
    "!pip install webdriver-manager\n",
    "\"\"\""
   ],
   "metadata": {
    "collapsed": false
   }
  },
  {
   "cell_type": "markdown",
   "source": [
    "## Imports"
   ],
   "metadata": {
    "collapsed": false
   }
  },
  {
   "cell_type": "code",
   "execution_count": 36,
   "outputs": [],
   "source": [
    "from selenium import webdriver\n",
    "from selenium.webdriver.chrome.service import Service\n",
    "from webdriver_manager.chrome import ChromeDriverManager\n",
    "from selenium.webdriver.chrome.webdriver import WebDriver\n",
    "from selenium.webdriver.common.by import By\n",
    "from selenium.webdriver.support.ui import WebDriverWait\n",
    "from selenium.common import NoSuchElementException\n",
    "from selenium.webdriver.support import expected_conditions as EC\n",
    "\n",
    "from pathlib import Path\n",
    "import csv\n",
    "from typing import List, TextIO"
   ],
   "metadata": {
    "collapsed": false
   }
  },
  {
   "cell_type": "code",
   "execution_count": 55,
   "outputs": [],
   "source": [
    "\n",
    "\n",
    "\n",
    "class AmazonScrapper:\n",
    "    \"\"\"Class that scrapes amazon reviews. Searches for the first product (user defined) and saves the rating text, the rating score and the date\"\"\"\n",
    "    website: str = \"https://www.amazon.co.uk/\"\n",
    "\n",
    "\n",
    "    def __init__(self,\n",
    "                 query: str,\n",
    "                 driver: WebDriver,\n",
    "                 output_file: str = \"amazon_reviews.csv\",\n",
    "                 wait: int = 5\n",
    "                 ):\n",
    "        self.query = query\n",
    "        self.driver = driver\n",
    "        self.output_file: Path = Path(output_file)\n",
    "        self.wait = wait\n",
    "\n",
    "    def _writer(self) -> csv.writer:\n",
    "        \"\"\"Initiates a csv.writer method and returns it\"\"\"\n",
    "\n",
    "        # open a new csv writer\n",
    "        fw: TextIO = self.output_file.open(mode=\"w\",encoding=\"utf8\")\n",
    "        writer = csv.writer(fw,lineterminator=\"\\n\")\n",
    "        writer.writerow([\"text\", \"rating\", \"date\"])\n",
    "        return writer\n",
    "\n",
    "\n",
    "    def get_reviews(self) -> None:\n",
    "        \"\"\"Main method that performs needed steps to get the reviews\"\"\"\n",
    "        self._load_main_page()\n",
    "        self._accept_cookies()\n",
    "        self._apply_query()\n",
    "\n",
    "        self._find_product()\n",
    "\n",
    "        # self.driver.quit()\n",
    "\n",
    "\n",
    "    def _load_main_page(self) -> None:\n",
    "        \"\"\"Loads main page\"\"\"\n",
    "        print(f\"Initialize website: {self.website}.\")\n",
    "        self.driver.maximize_window()\n",
    "        self.driver.get(self.website)\n",
    "\n",
    "\n",
    "    def _accept_cookies(self) -> None:\n",
    "        \"\"\"Try to accept cookies\"\"\"\n",
    "        WebDriverWait(WebDriver, self.wait)\n",
    "        accept_box = self.driver.find_element(by=By.ID, value=\"sp-cc-accept\")\n",
    "        accept_box.click()\n",
    "\n",
    "\n",
    "    def _apply_query(self) -> None:\n",
    "        \"\"\"Find the search box and apply the query\"\"\"\n",
    "\n",
    "        # find search box\n",
    "        search_box = self.driver.find_element(by=By.ID, value=\"twotabsearchtextbox\")\n",
    "        search_box.send_keys(self.query)\n",
    "\n",
    "        # press search button\n",
    "        search = self.driver.find_element(by=By.ID, value=\"nav-search-submit-button\")\n",
    "        search.click()\n",
    "\n",
    "    def _find_product(self) -> None:\n",
    "        \"\"\"finds the first non-sponsored product\"\"\"\n",
    "        items = WebDriverWait(driver,self.wait).until(EC.presence_of_all_elements_located((By.XPATH, '//div[contains(@class, \"s-result-item s-asin\")]')))\n",
    "        # products = self.driver.find_elements(by=By.CSS_SELECTOR, value=\"[data-component-type='s-search-result']\")\n",
    "        for product in items:\n",
    "\n",
    "            try:\n",
    "                product.find_element(by=By.XPATH, value='//div/div/div/div/div/div/div/div/div/h2/a/span[1]')\n",
    "                print(product.text)\n",
    "            except NoSuchElementException:\n",
    "                print(\"not found class_name\")\n",
    "                pass\n",
    "\n",
    "\n",
    "\n"
   ],
   "metadata": {
    "collapsed": false
   }
  },
  {
   "cell_type": "code",
   "execution_count": null,
   "outputs": [
    {
     "name": "stdout",
     "output_type": "stream",
     "text": [
      "Initialize website: https://www.amazon.co.uk/.\n"
     ]
    }
   ],
   "source": [
    "query: str = \"adidas\"\n",
    "driver: WebDriver = webdriver.Chrome(service=Service(ChromeDriverManager().install()))\n",
    "\n",
    "AmazonScrapper(query=query, driver=driver).get_reviews()"
   ],
   "metadata": {
    "collapsed": false,
    "pycharm": {
     "is_executing": true
    }
   }
  },
  {
   "cell_type": "code",
   "execution_count": null,
   "outputs": [],
   "source": [],
   "metadata": {
    "collapsed": false
   }
  }
 ],
 "metadata": {
  "kernelspec": {
   "display_name": "Python 3",
   "language": "python",
   "name": "python3"
  },
  "language_info": {
   "codemirror_mode": {
    "name": "ipython",
    "version": 2
   },
   "file_extension": ".py",
   "mimetype": "text/x-python",
   "name": "python",
   "nbconvert_exporter": "python",
   "pygments_lexer": "ipython2",
   "version": "2.7.6"
  }
 },
 "nbformat": 4,
 "nbformat_minor": 0
}
