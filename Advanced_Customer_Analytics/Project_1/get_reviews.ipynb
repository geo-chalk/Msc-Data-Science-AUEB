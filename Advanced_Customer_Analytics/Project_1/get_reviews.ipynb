{
 "cells": [
  {
   "cell_type": "markdown",
   "source": [
    "# Review Summarization\n",
    "\n",
    "1. Select an English-speaking website that hosts customer reviews on products (or services, businesses, movies, events, etc).\n",
    "\n",
    "2. Make sure that the website includes a free-text search box that users can use to search for products.\n",
    "\n",
    "3. Email me your selection at ted@aueb.gr. Each student should work on a different website, so I will maintain the list of selected websites at the top of our Wiki. First come, first served.\n",
    "\n",
    "4. Create a first Python Notebook with a function called scrape( ). The function should accept as a parameter a query (a word or short phrase).  The function should then use selenium to:\n",
    "\n",
    "   * submit the query to the website's search box and retrieve the list of matching products.\n",
    "   * access the first product on the list and download all its reviews into a csv file. For each review, the function should get the text, the rating, and the date. One line per review, 3 fields per line.\n",
    "\n",
    "5. Create a second Python Notebook with a function called summarize( ). The function should accept as a parameter the path to a csv file created by the first Notebook. It should then create a 1-page pdf file that includes a summary of all the reviews in the csv.\n",
    "\n",
    "The nature of the summary is entirely up to you. It can be text-based, visual-based, or a combination of both.\n",
    "It is also up to you to define what is important enough to be included in the summary.\n",
    "Focus on creating a summary that you think would be the most informative for customers.\n",
    "The creation of the pdf should be done through the notebook.\n",
    "You can use whatever Python-based library that you want.\n",
    "\n",
    "\n",
    "---\n",
    "\n",
    "> Chalkiopoulos Georgios, Electrical and Computer Engineer NTUA <br />\n",
    "> Data Science postgraduate Student <br />\n",
    "> gchalkiopoulos@aueb.gr"
   ],
   "metadata": {
    "collapsed": false
   },
   "outputs": [
    {
     "ename": "SyntaxError",
     "evalue": "invalid syntax (Temp/ipykernel_22760/2783894318.py, line 3)",
     "output_type": "error",
     "traceback": [
      "\u001B[1;36m  File \u001B[1;32m\"C:\\Users\\JOJOSH~1\\AppData\\Local\\Temp/ipykernel_22760/2783894318.py\"\u001B[1;36m, line \u001B[1;32m3\u001B[0m\n\u001B[1;33m    ---\u001B[0m\n\u001B[1;37m       ^\u001B[0m\n\u001B[1;31mSyntaxError\u001B[0m\u001B[1;31m:\u001B[0m invalid syntax\n"
     ]
    }
   ],
   "execution_count": 1
  },
  {
   "cell_type": "markdown",
   "source": [
    "## Install Libraries"
   ],
   "metadata": {
    "collapsed": false
   }
  },
  {
   "cell_type": "code",
   "execution_count": 2,
   "outputs": [
    {
     "data": {
      "text/plain": "'\\n!pip install -U selenium\\n!pip install webdriver-manager\\n'"
     },
     "execution_count": 2,
     "metadata": {},
     "output_type": "execute_result"
    }
   ],
   "source": [
    "\"\"\"\n",
    "!pip install -U selenium\n",
    "!pip install webdriver-manager\n",
    "\"\"\""
   ],
   "metadata": {
    "collapsed": false
   }
  },
  {
   "cell_type": "markdown",
   "source": [
    "## Imports"
   ],
   "metadata": {
    "collapsed": false
   }
  },
  {
   "cell_type": "code",
   "execution_count": 3,
   "outputs": [],
   "source": [
    "from selenium import webdriver\n",
    "from selenium.webdriver.chrome.service import Service\n",
    "from webdriver_manager.chrome import ChromeDriverManager\n",
    "from selenium.webdriver.chrome.webdriver import WebDriver\n",
    "from selenium.webdriver.common.by import By\n",
    "from selenium.webdriver.support.ui import WebDriverWait\n",
    "from selenium.common import NoSuchElementException\n",
    "from selenium.webdriver.support import expected_conditions as EC\n",
    "from selenium.webdriver.remote import webelement\n",
    "\n",
    "from pathlib import Path\n",
    "import csv, time\n",
    "from typing import TextIO\n",
    "import logging"
   ],
   "metadata": {
    "collapsed": false
   }
  },
  {
   "cell_type": "code",
   "execution_count": 23,
   "outputs": [],
   "source": [
    "\n",
    "class AmazonScrapper:\n",
    "    \"\"\"Class that scrapes amazon reviews. Searches for the first product (user defined) and saves the rating text, the rating score and the date\"\"\"\n",
    "    website: str = \"https://www.amazon.co.uk/\"\n",
    "    logger = logging.getLogger(\"AmazonLogger\")\n",
    "\n",
    "\n",
    "    def __init__(self,\n",
    "                 query: str,\n",
    "                 driver: WebDriver,\n",
    "                 output_file: str = \"amazon_reviews.csv\",\n",
    "                 wait: int = 5\n",
    "                 ):\n",
    "        self.query = query\n",
    "        self.driver = driver\n",
    "        self.output_file: Path = Path(output_file)\n",
    "        self.wait = wait\n",
    "        self.logger = self._setup_logger()\n",
    "\n",
    "\n",
    "    def _setup_logger(self):\n",
    "        \"\"\"Setup up logger\"\"\"\n",
    "\n",
    "        # Create logger\n",
    "        logger = logging.getLogger(self.__class__.__name__)\n",
    "        logger.setLevel(logging.INFO)\n",
    "\n",
    "        if not logger.handlers:\n",
    "            # Create console handler and set level to debug\n",
    "            ch = logging.StreamHandler()\n",
    "            ch.setLevel(logging.INFO)\n",
    "\n",
    "            # Create formatter\n",
    "            formatter = logging.Formatter('[%(asctime)s] %(levelname)s [%(name)s] - %(message)s')\n",
    "\n",
    "            # Add formatter to ch\n",
    "            ch.setFormatter(formatter)\n",
    "\n",
    "            # Add ch to logger\n",
    "            logger.addHandler(ch)\n",
    "\n",
    "        return logger\n",
    "\n",
    "    def _writer(self) -> csv.writer:\n",
    "        \"\"\"Initiates a csv.writer method and returns it\"\"\"\n",
    "\n",
    "        # open a new csv writer\n",
    "        fw: TextIO = self.output_file.open(mode=\"w\",encoding=\"utf8\")\n",
    "        writer = csv.writer(fw,lineterminator=\"\\n\")\n",
    "        writer.writerow([\"text\", \"rating\", \"date\"])\n",
    "        return writer\n",
    "\n",
    "\n",
    "    def get_reviews(self) -> None:\n",
    "        \"\"\"Main method that performs needed steps to get the reviews\"\"\"\n",
    "        self._load_main_page()\n",
    "        self._accept_cookies()\n",
    "        self._apply_query()\n",
    "\n",
    "        product, product_name = self._find_product()\n",
    "        self._click_product(product, product_name)\n",
    "\n",
    "        self._see_all_reviews()\n",
    "        # self.driver.quit()\n",
    "\n",
    "\n",
    "    def _load_main_page(self) -> None:\n",
    "        \"\"\"Loads main page\"\"\"\n",
    "        self.logger.info(f\"Initialize website: {self.website}.\")\n",
    "        self.driver.maximize_window()\n",
    "        self.driver.get(self.website)\n",
    "\n",
    "\n",
    "    def _accept_cookies(self) -> None:\n",
    "        \"\"\"Try to accept cookies\"\"\"\n",
    "        WebDriverWait(WebDriver, self.wait)\n",
    "        accept_box = self.driver.find_element(by=By.ID, value=\"sp-cc-accept\")\n",
    "        try:\n",
    "            accept_box.click()\n",
    "            self.logger.info(\"Cookies accepted\")\n",
    "        except NoSuchElementException:\n",
    "            self.logger.warning(\"Cookies element not found.\")\n",
    "\n",
    "\n",
    "\n",
    "    def _apply_query(self) -> None:\n",
    "        \"\"\"Find the search box and apply the query\"\"\"\n",
    "\n",
    "        # find search box\n",
    "        search_box = self.driver.find_element(by=By.ID, value=\"twotabsearchtextbox\")\n",
    "        search_box.send_keys(self.query)\n",
    "\n",
    "        # press search button\n",
    "        search = self.driver.find_element(by=By.ID, value=\"nav-search-submit-button\")\n",
    "        search.click()\n",
    "        self.logger.info(f\"Search for {self.query} submitted.\")\n",
    "        time.sleep(self.wait)\n",
    "\n",
    "    def _find_product(self) -> webelement:\n",
    "        \"\"\"finds the first non-sponsored product\"\"\"\n",
    "        items =  WebDriverWait(driver,self.wait).until(EC.presence_of_all_elements_located((By.CSS_SELECTOR, \"[data-component-type='s-search-result']\")))\n",
    "\n",
    "        for product in items:\n",
    "\n",
    "            # Find product name\n",
    "            try:\n",
    "                product_name = product.find_element(by=By.XPATH, value=\".//h2/a/span[contains(@class,'text')]\").text\n",
    "            except NoSuchElementException:\n",
    "                self.logger.warning(\"Class name 'a-size-base-plus a-color-base a-text-normal' (Product Name) not found.\")\n",
    "                continue\n",
    "\n",
    "            # return first non-sponsored product\n",
    "            if self._is_sponsored(product):\n",
    "                self.logger.info(f\"Skipping sponsored product: {product_name}.\")\n",
    "                continue\n",
    "            else:\n",
    "                self.logger.info(f\"Found not sponsored product: {product_name}\")\n",
    "                return product, product_name\n",
    "\n",
    "\n",
    "    @staticmethod\n",
    "    def _is_sponsored(_product) -> bool:\n",
    "        \"\"\"Checks if a listed product is a sponsored one\"\"\"\n",
    "        # skip sponsored\n",
    "        try:\n",
    "            _product.find_element(by=By.CSS_SELECTOR, value=\"[aria-label='View Sponsored information or leave ad feedback']\")\n",
    "            return True\n",
    "        except NoSuchElementException:\n",
    "            return False\n",
    "\n",
    "    def _click_product(self, product: webelement, product_name: str) -> None:\n",
    "        \"\"\"click on product\"\"\"\n",
    "        # try to find the clickable link\n",
    "        try:\n",
    "            link = product.find_element(by=By.XPATH, value=\".//h2/a[contains(@class,'a-link-normal')]\")\n",
    "            link.click()\n",
    "            self.logger.info(f\"Clicked on product: {product_name}.\")\n",
    "            time.sleep(self.wait)\n",
    "        except NoSuchElementException:\n",
    "            self.logger.error(f\"Could not find clickable link for the product: {product_name}.\")\n",
    "            raise ValueError(f\"Clickable link not found for the product {product_name}. Please check!\")\n",
    "\n",
    "\n",
    "    def _see_all_reviews(self) -> None:\n",
    "        \"\"\"Click on the see all reviews button\"\"\"\n",
    "\n",
    "                # skip sponsored\n",
    "        try:\n",
    "            local_reviews = WebDriverWait(self.driver, self.wait).until(EC.element_to_be_clickable((By.CLASS_NAME, \"cr-widget-FocalReviews\")))\n",
    "            all_reviews = local_reviews.find_element(by=By.CSS_SELECTOR, value=\"[data-hook='see-all-reviews-link-foot']\")\n",
    "            all_reviews.click()\n",
    "            self.logger.info(\"Clicked See all Reviews (Local Reviews).\")\n",
    "            time.sleep(self.wait)\n",
    "\n",
    "        except NoSuchElementException:\n",
    "            self.logger.watning(\"Could not find Local review element.\")\n",
    "\n"
   ],
   "metadata": {
    "collapsed": false
   }
  },
  {
   "cell_type": "code",
   "execution_count": 25,
   "outputs": [
    {
     "name": "stderr",
     "output_type": "stream",
     "text": [
      "[2022-12-04 19:24:23,016] INFO [AmazonScrapper] -Initialize website: https://www.amazon.co.uk/.\n",
      "[2022-12-04 19:24:24,886] INFO [AmazonScrapper] -Cookies accepted\n",
      "[2022-12-04 19:24:46,324] INFO [AmazonScrapper] -Search for adidas submitted.\n",
      "[2022-12-04 19:24:51,423] INFO [AmazonScrapper] -Skipping sponsored product: ODLO Men's Suw Boxer Natural + Light Men's Panty.\n",
      "[2022-12-04 19:24:51,461] INFO [AmazonScrapper] -Skipping sponsored product: adidas Unisex-Youth Adidas Judo Gi Kids Uniform White Blue 250g Gb Stripes Suit 110 120 130 140 150 160 adidas Judo Gi Kids Uniform White Blue 250g GB Stripes Suit 110 120 130 140 150 160.\n",
      "[2022-12-04 19:24:51,500] INFO [AmazonScrapper] -Skipping sponsored product: adidas Men's Ld Wntr Hd Sweatshirt.\n",
      "[2022-12-04 19:24:51,539] INFO [AmazonScrapper] -Skipping sponsored product: 55 Sport X-Type Replacement Studs for adidas Football & Rugby Boots.\n",
      "[2022-12-04 19:24:51,578] INFO [AmazonScrapper] -Found not sponsored product: adidas Men's Core18 Hoody HOODED SWEAT\n",
      "[2022-12-04 19:24:54,832] INFO [AmazonScrapper] -Clicked on product: adidas Men's Core18 Hoody HOODED SWEAT.\n",
      "[2022-12-04 19:25:01,314] INFO [AmazonScrapper] -Clicked See all Reviews (Local Reviews).\n"
     ]
    }
   ],
   "source": [
    "query: str = \"adidas\"\n",
    "driver: WebDriver = webdriver.Chrome(service=Service(ChromeDriverManager().install()))\n",
    "\n",
    "AmazonScrapper(query=query, driver=driver).get_reviews()"
   ],
   "metadata": {
    "collapsed": false
   }
  },
  {
   "cell_type": "code",
   "execution_count": 5,
   "outputs": [],
   "source": [],
   "metadata": {
    "collapsed": false
   }
  }
 ],
 "metadata": {
  "kernelspec": {
   "display_name": "Python 3",
   "language": "python",
   "name": "python3"
  },
  "language_info": {
   "codemirror_mode": {
    "name": "ipython",
    "version": 2
   },
   "file_extension": ".py",
   "mimetype": "text/x-python",
   "name": "python",
   "nbconvert_exporter": "python",
   "pygments_lexer": "ipython2",
   "version": "2.7.6"
  }
 },
 "nbformat": 4,
 "nbformat_minor": 0
}
