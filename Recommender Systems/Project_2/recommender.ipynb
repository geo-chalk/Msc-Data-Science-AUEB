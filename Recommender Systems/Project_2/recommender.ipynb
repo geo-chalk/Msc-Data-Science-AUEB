{
 "cells": [
  {
   "cell_type": "code",
   "execution_count": 1,
   "outputs": [],
   "source": [
    "# python\n",
    "import csv\n",
    "import pickle\n",
    "from pathlib import Path\n",
    "from random import random,sample,shuffle\n",
    "from dataclasses import dataclass\n",
    "\n",
    "from itertools import combinations\n",
    "import random\n",
    "\n",
    "# numpy stack\n",
    "import pandas as pd\n",
    "import numpy as np\n",
    "\n",
    "# custom\n",
    "from utils.helper_functions import *"
   ],
   "metadata": {
    "collapsed": false
   }
  },
  {
   "cell_type": "markdown",
   "source": [
    "# Load Data"
   ],
   "metadata": {
    "collapsed": false
   }
  },
  {
   "cell_type": "markdown",
   "source": [
    "## Load beer reviews"
   ],
   "metadata": {
    "collapsed": false
   }
  },
  {
   "cell_type": "code",
   "execution_count": 31,
   "outputs": [
    {
     "data": {
      "text/plain": "                  brewery_name  brewery_id  beer_id  \\\n0  Harpoon Brewery & Beer Hall       10097      313   \n1  Harpoon Brewery & Beer Hall       10097      314   \n2  Harpoon Brewery & Beer Hall       10097      318   \n3   Dogfish Head Craft Brewery       10099     1079   \n4   Dogfish Head Craft Brewery       10099     1161   \n\n                       beer_name  beer_abv                       country  \\\n0       Harpoon Octoberfest Beer       5.5  Massachusetts, United States   \n1  Harpoon Munich Type Dark Beer       5.5  Massachusetts, United States   \n2                 UFO Hefeweizen       5.0  Massachusetts, United States   \n3               Shelter Pale Ale       5.0       Delaware, United States   \n4               Indian Brown Ale       7.0       Delaware, United States   \n\n                 beer_style  score  rating_mean  rating_std  \n0                    Märzen     83     3.689777    0.389692  \n1             Munich Dunkel     85     3.793952    0.365884  \n2  American Pale Wheat Beer     78     3.411102    0.473329  \n3         American Pale Ale     77     3.386411    0.452167  \n4        American Brown Ale     91     4.095819    0.387483  ",
      "text/html": "<div>\n<style scoped>\n    .dataframe tbody tr th:only-of-type {\n        vertical-align: middle;\n    }\n\n    .dataframe tbody tr th {\n        vertical-align: top;\n    }\n\n    .dataframe thead th {\n        text-align: right;\n    }\n</style>\n<table border=\"1\" class=\"dataframe\">\n  <thead>\n    <tr style=\"text-align: right;\">\n      <th></th>\n      <th>brewery_name</th>\n      <th>brewery_id</th>\n      <th>beer_id</th>\n      <th>beer_name</th>\n      <th>beer_abv</th>\n      <th>country</th>\n      <th>beer_style</th>\n      <th>score</th>\n      <th>rating_mean</th>\n      <th>rating_std</th>\n    </tr>\n  </thead>\n  <tbody>\n    <tr>\n      <th>0</th>\n      <td>Harpoon Brewery &amp; Beer Hall</td>\n      <td>10097</td>\n      <td>313</td>\n      <td>Harpoon Octoberfest Beer</td>\n      <td>5.5</td>\n      <td>Massachusetts, United States</td>\n      <td>Märzen</td>\n      <td>83</td>\n      <td>3.689777</td>\n      <td>0.389692</td>\n    </tr>\n    <tr>\n      <th>1</th>\n      <td>Harpoon Brewery &amp; Beer Hall</td>\n      <td>10097</td>\n      <td>314</td>\n      <td>Harpoon Munich Type Dark Beer</td>\n      <td>5.5</td>\n      <td>Massachusetts, United States</td>\n      <td>Munich Dunkel</td>\n      <td>85</td>\n      <td>3.793952</td>\n      <td>0.365884</td>\n    </tr>\n    <tr>\n      <th>2</th>\n      <td>Harpoon Brewery &amp; Beer Hall</td>\n      <td>10097</td>\n      <td>318</td>\n      <td>UFO Hefeweizen</td>\n      <td>5.0</td>\n      <td>Massachusetts, United States</td>\n      <td>American Pale Wheat Beer</td>\n      <td>78</td>\n      <td>3.411102</td>\n      <td>0.473329</td>\n    </tr>\n    <tr>\n      <th>3</th>\n      <td>Dogfish Head Craft Brewery</td>\n      <td>10099</td>\n      <td>1079</td>\n      <td>Shelter Pale Ale</td>\n      <td>5.0</td>\n      <td>Delaware, United States</td>\n      <td>American Pale Ale</td>\n      <td>77</td>\n      <td>3.386411</td>\n      <td>0.452167</td>\n    </tr>\n    <tr>\n      <th>4</th>\n      <td>Dogfish Head Craft Brewery</td>\n      <td>10099</td>\n      <td>1161</td>\n      <td>Indian Brown Ale</td>\n      <td>7.0</td>\n      <td>Delaware, United States</td>\n      <td>American Brown Ale</td>\n      <td>91</td>\n      <td>4.095819</td>\n      <td>0.387483</td>\n    </tr>\n  </tbody>\n</table>\n</div>"
     },
     "execution_count": 31,
     "metadata": {},
     "output_type": "execute_result"
    }
   ],
   "source": [
    "df = pd.read_csv(\"aggregated_reviews_small.csv\",\n",
    "                 usecols = ['brewery_id', 'brewery_name',\n",
    "                            'beer_id', 'beer_name', 'beer_abv',\n",
    "                            'country', 'style', 'score',\n",
    "                            'rating_mean', 'rating_std'])\n",
    "\n",
    "# handle missing scores\n",
    "df.score = df.score.apply(lambda x: np.nan if \"Needs more ratings\" in x else x)\n",
    "score_mean: int = int(df.score.astype(float).mean())\n",
    "df.score = df.score.fillna(score_mean).astype(int)\n",
    "\n",
    "# round abv\n",
    "df.beer_abv = df.beer_abv.apply(lambda x: round_off_rating(x))\n",
    "\n",
    "# rename style column\n",
    "df.rename(columns={'style': 'beer_style'}, inplace=True)\n",
    "\n",
    "df.head()"
   ],
   "metadata": {
    "collapsed": false
   }
  },
  {
   "cell_type": "markdown",
   "source": [
    "## Load similarity matrix"
   ],
   "metadata": {
    "collapsed": false
   }
  },
  {
   "cell_type": "code",
   "execution_count": 3,
   "metadata": {
    "collapsed": true
   },
   "outputs": [
    {
     "name": "stdout",
     "output_type": "stream",
     "text": [
      "tensor([[1.0000, 0.2134, 0.0819, 0.1599, 0.1010],\n",
      "        [0.2134, 1.0000, 0.2251, 0.3023, 0.2801],\n",
      "        [0.0819, 0.2251, 1.0000, 0.7587, 0.5862],\n",
      "        [0.1599, 0.3023, 0.7587, 1.0000, 0.7911],\n",
      "        [0.1010, 0.2801, 0.5862, 0.7911, 1.0000]])\n"
     ]
    }
   ],
   "source": [
    "# load sim_matrix path\n",
    "sim_matrix_path: Path = Path('pkl_files') / \"sim_matrix.pkl\"\n",
    "\n",
    "# Load pkl sim_matrix file\n",
    "with sim_matrix_path.open('rb') as f:\n",
    "    sim_matrix = pickle.load(f)\n",
    "\n",
    "# print the first rows of the loaded data\n",
    "print(sim_matrix[:5, :5])"
   ]
  },
  {
   "cell_type": "markdown",
   "source": [
    "## Load initial Beer reviews file"
   ],
   "metadata": {
    "collapsed": false
   }
  },
  {
   "cell_type": "code",
   "execution_count": 5,
   "outputs": [
    {
     "data": {
      "text/plain": "     brewery_id             brewery_name  review_overall review_profilename  \\\n10          163   Amstel Brouwerij B. V.             3.0            fodeeoz   \n18          163   Amstel Brouwerij B. V.             2.5             jdhilt   \n30          163   Amstel Brouwerij B. V.             3.0          xXTequila   \n40          163   Amstel Brouwerij B. V.             3.0              Brent   \n257        1075  Caldera Brewing Company             4.0              Akfan   \n\n       beer_style     beer_name  beer_abv  beer_beerid  \n10    Light Lager  Amstel Light       3.5          436  \n18    Light Lager  Amstel Light       3.5          436  \n30    Light Lager  Amstel Light       3.5          436  \n40    Light Lager  Amstel Light       3.5          436  \n257  American IPA   Caldera IPA       6.1        10784  ",
      "text/html": "<div>\n<style scoped>\n    .dataframe tbody tr th:only-of-type {\n        vertical-align: middle;\n    }\n\n    .dataframe tbody tr th {\n        vertical-align: top;\n    }\n\n    .dataframe thead th {\n        text-align: right;\n    }\n</style>\n<table border=\"1\" class=\"dataframe\">\n  <thead>\n    <tr style=\"text-align: right;\">\n      <th></th>\n      <th>brewery_id</th>\n      <th>brewery_name</th>\n      <th>review_overall</th>\n      <th>review_profilename</th>\n      <th>beer_style</th>\n      <th>beer_name</th>\n      <th>beer_abv</th>\n      <th>beer_beerid</th>\n    </tr>\n  </thead>\n  <tbody>\n    <tr>\n      <th>10</th>\n      <td>163</td>\n      <td>Amstel Brouwerij B. V.</td>\n      <td>3.0</td>\n      <td>fodeeoz</td>\n      <td>Light Lager</td>\n      <td>Amstel Light</td>\n      <td>3.5</td>\n      <td>436</td>\n    </tr>\n    <tr>\n      <th>18</th>\n      <td>163</td>\n      <td>Amstel Brouwerij B. V.</td>\n      <td>2.5</td>\n      <td>jdhilt</td>\n      <td>Light Lager</td>\n      <td>Amstel Light</td>\n      <td>3.5</td>\n      <td>436</td>\n    </tr>\n    <tr>\n      <th>30</th>\n      <td>163</td>\n      <td>Amstel Brouwerij B. V.</td>\n      <td>3.0</td>\n      <td>xXTequila</td>\n      <td>Light Lager</td>\n      <td>Amstel Light</td>\n      <td>3.5</td>\n      <td>436</td>\n    </tr>\n    <tr>\n      <th>40</th>\n      <td>163</td>\n      <td>Amstel Brouwerij B. V.</td>\n      <td>3.0</td>\n      <td>Brent</td>\n      <td>Light Lager</td>\n      <td>Amstel Light</td>\n      <td>3.5</td>\n      <td>436</td>\n    </tr>\n    <tr>\n      <th>257</th>\n      <td>1075</td>\n      <td>Caldera Brewing Company</td>\n      <td>4.0</td>\n      <td>Akfan</td>\n      <td>American IPA</td>\n      <td>Caldera IPA</td>\n      <td>6.1</td>\n      <td>10784</td>\n    </tr>\n  </tbody>\n</table>\n</div>"
     },
     "execution_count": 5,
     "metadata": {},
     "output_type": "execute_result"
    }
   ],
   "source": [
    "reviews_df = pd.read_csv(\"beer_reviews.csv\", usecols = ['review_profilename', 'brewery_id', 'brewery_name',\n",
    "                            'review_overall', 'beer_style', 'beer_name',\n",
    "                            'beer_abv', 'beer_beerid'])\n",
    "\n",
    "# only keep scrapped beers\n",
    "reviews_df = reviews_df.loc[reviews_df.beer_beerid.isin(df.beer_id.drop_duplicates().values)]\n",
    "reviews_df.head()"
   ],
   "metadata": {
    "collapsed": false
   }
  },
  {
   "cell_type": "markdown",
   "source": [
    "# Run a test similarity between two beers"
   ],
   "metadata": {
    "collapsed": false
   }
  },
  {
   "cell_type": "code",
   "execution_count": 6,
   "outputs": [
    {
     "data": {
      "text/plain": "(4.24,\n [('score', 1.0),\n  ('rating_mean', 0.91),\n  ('beer_abv', 0.9),\n  ('reviews', 0.85),\n  ('beer_style', 0.5),\n  ('country', 0.08)])"
     },
     "execution_count": 6,
     "metadata": {},
     "output_type": "execute_result"
    }
   ],
   "source": [
    "weights={'brewery_name': 0.5, 'beer_abv': 1, 'country': 0.2, 'beer_style': 1, 'score': 1, 'rating_mean': 1, 'reviews': 1}\n",
    "\n",
    "sim_v2('Founders KBS (Kentucky Breakfast Stout)',\n",
    "       'Portsmouth Kate The Great',\n",
    "       df,\n",
    "       weights,\n",
    "       sim_matrix)"
   ],
   "metadata": {
    "collapsed": false
   }
  },
  {
   "cell_type": "markdown",
   "source": [
    "# Make 50 suggestions for two beers"
   ],
   "metadata": {
    "collapsed": false
   }
  },
  {
   "cell_type": "code",
   "execution_count": 7,
   "outputs": [
    {
     "data": {
      "text/plain": "[(\"Hunahpu's Imperial Stout\",\n  (4.95,\n   [('beer_style', 1.0),\n    ('score', 1.0),\n    ('reviews', 1.0),\n    ('beer_abv', 0.95),\n    ('rating_mean', 0.9),\n    ('country', 0.1)])),\n ('Ten FIDY',\n  (4.89,\n   [('beer_style', 1.0),\n    ('reviews', 1.0),\n    ('score', 0.97),\n    ('beer_abv', 0.95),\n    ('rating_mean', 0.87),\n    ('country', 0.1)])),\n (\"Serpent's Stout\",\n  (4.88,\n   [('beer_abv', 1.0),\n    ('beer_style', 1.0),\n    ('reviews', 1.0),\n    ('score', 0.94),\n    ('rating_mean', 0.84),\n    ('country', 0.1)])),\n ('Mokah',\n  (4.85,\n   [('beer_abv', 1.0),\n    ('beer_style', 1.0),\n    ('reviews', 1.0),\n    ('score', 0.94),\n    ('rating_mean', 0.83),\n    ('country', 0.08)])),\n ('Beer Geek Brunch Weasel',\n  (4.82,\n   [('beer_abv', 1.0),\n    ('beer_style', 1.0),\n    ('reviews', 1.0),\n    ('score', 0.96),\n    ('rating_mean', 0.86)])),\n ('Bourbon County Brand Coffee Stout',\n  (4.82,\n   [('beer_style', 1.0),\n    ('score', 1.0),\n    ('reviews', 1.0),\n    ('rating_mean', 0.91),\n    ('beer_abv', 0.81),\n    ('country', 0.1)])),\n ('Older Viscosity',\n  (4.82,\n   [('beer_style', 1.0),\n    ('reviews', 1.0),\n    ('score', 0.96),\n    ('beer_abv', 0.9),\n    ('rating_mean', 0.86),\n    ('country', 0.1)])),\n ('Oat (Imperial Oatmeal Stout)',\n  (4.8,\n   [('beer_abv', 1.0),\n    ('beer_style', 1.0),\n    ('reviews', 1.0),\n    ('score', 0.91),\n    ('rating_mean', 0.81),\n    ('country', 0.08)])),\n ('Chocolate Oak Aged Yeti',\n  (4.73,\n   [('beer_style', 1.0),\n    ('reviews', 1.0),\n    ('score', 0.94),\n    ('beer_abv', 0.86),\n    ('rating_mean', 0.83),\n    ('country', 0.1)])),\n ('Péché Mortel (Imperial Stout Au Cafe)',\n  (4.72,\n   [('beer_style', 1.0),\n    ('reviews', 1.0),\n    ('score', 0.98),\n    ('rating_mean', 0.88),\n    ('beer_abv', 0.86)])),\n ('Bourbon County Brand Stout',\n  (4.71,\n   [('beer_style', 1.0),\n    ('score', 1.0),\n    ('reviews', 1.0),\n    ('rating_mean', 0.9),\n    ('beer_abv', 0.71),\n    ('country', 0.1)])),\n ('Black Tuesday',\n  (4.7,\n   [('beer_style', 1.0),\n    ('score', 1.0),\n    ('reviews', 1.0),\n    ('rating_mean', 0.89),\n    ('beer_abv', 0.71),\n    ('country', 0.1)])),\n ('Double Stout',\n  (4.64,\n   [('beer_style', 1.0),\n    ('reviews', 1.0),\n    ('score', 0.91),\n    ('rating_mean', 0.82),\n    ('beer_abv', 0.81),\n    ('country', 0.1)])),\n ('Dark Truth Stout',\n  (4.64,\n   [('beer_style', 1.0),\n    ('reviews', 1.0),\n    ('score', 0.89),\n    ('beer_abv', 0.86),\n    ('rating_mean', 0.79),\n    ('country', 0.1)])),\n ('Storm King Stout',\n  (4.63,\n   [('beer_style', 1.0),\n    ('reviews', 1.0),\n    ('score', 0.9),\n    ('rating_mean', 0.82),\n    ('beer_abv', 0.81),\n    ('country', 0.1)])),\n ('World Wide Stout',\n  (4.57,\n   [('beer_style', 1.0),\n    ('reviews', 1.0),\n    ('score', 0.94),\n    ('rating_mean', 0.82),\n    ('beer_abv', 0.71),\n    ('country', 0.1)])),\n ('Buried Hatchet Stout',\n  (4.49,\n   [('beer_style', 1.0),\n    ('reviews', 1.0),\n    ('score', 0.89),\n    ('rating_mean', 0.79),\n    ('beer_abv', 0.71),\n    ('country', 0.1)])),\n ('Founders Breakfast Stout',\n  (4.29,\n   [('score', 1.0),\n    ('rating_mean', 0.89),\n    ('beer_abv', 0.76),\n    ('reviews', 0.69),\n    ('brewery_name', 0.5),\n    ('beer_style', 0.25),\n    ('country', 0.2)])),\n (\"Bell's Expedition Stout\",\n  (4.29,\n   [('beer_abv', 0.95),\n    ('score', 0.95),\n    ('reviews', 0.85),\n    ('rating_mean', 0.84),\n    ('beer_style', 0.5),\n    ('country', 0.2)])),\n ('Old Rasputin XII',\n  (4.27,\n   [('beer_abv', 1.0),\n    ('score', 0.96),\n    ('rating_mean', 0.86),\n    ('reviews', 0.85),\n    ('beer_style', 0.5),\n    ('country', 0.1)])),\n ('Plead The 5th Imperial Stout',\n  (4.24,\n   [('score', 0.95),\n    ('beer_abv', 0.9),\n    ('reviews', 0.85),\n    ('rating_mean', 0.84),\n    ('beer_style', 0.5),\n    ('country', 0.2)])),\n ('Stone Imperial Russian Stout',\n  (4.23,\n   [('score', 0.96),\n    ('beer_abv', 0.95),\n    ('rating_mean', 0.87),\n    ('reviews', 0.85),\n    ('beer_style', 0.5),\n    ('country', 0.1)])),\n ('Portsmouth Kate The Great',\n  (4.23,\n   [('score', 1.0),\n    ('beer_abv', 0.9),\n    ('rating_mean', 0.9),\n    ('reviews', 0.85),\n    ('beer_style', 0.5),\n    ('country', 0.08)])),\n ('Parabola',\n  (4.22,\n   [('score', 1.0),\n    ('rating_mean', 0.91),\n    ('beer_abv', 0.86),\n    ('reviews', 0.85),\n    ('beer_style', 0.5),\n    ('country', 0.1)])),\n ('Founders Nemesis 2010',\n  (4.2,\n   [('score', 0.93),\n    ('beer_abv', 0.9),\n    ('rating_mean', 0.81),\n    ('reviews', 0.61),\n    ('brewery_name', 0.5),\n    ('beer_style', 0.25),\n    ('country', 0.2)])),\n ('Dark Horse Tres Blueberry Stout',\n  (4.16,\n   [('reviews', 0.93),\n    ('score', 0.89),\n    ('rating_mean', 0.8),\n    ('beer_abv', 0.67),\n    ('beer_style', 0.67),\n    ('country', 0.2)])),\n ('Brooklyn Black OPS',\n  (4.12,\n   [('beer_abv', 0.95),\n    ('score', 0.92),\n    ('reviews', 0.85),\n    ('rating_mean', 0.82),\n    ('beer_style', 0.5),\n    ('country', 0.08)])),\n ('Brooklyn Black Chocolate Stout',\n  (4.08,\n   [('score', 0.92),\n    ('beer_abv', 0.9),\n    ('reviews', 0.85),\n    ('rating_mean', 0.83),\n    ('beer_style', 0.5),\n    ('country', 0.08)])),\n ('Sexual Chocolate',\n  (4.07,\n   [('score', 0.92),\n    ('beer_abv', 0.9),\n    ('reviews', 0.85),\n    ('rating_mean', 0.82),\n    ('beer_style', 0.5),\n    ('country', 0.08)])),\n ('Old Rasputin Russian Imperial Stout',\n  (4.07,\n   [('score', 0.95),\n    ('rating_mean', 0.86),\n    ('reviews', 0.85),\n    ('beer_abv', 0.81),\n    ('beer_style', 0.5),\n    ('country', 0.1)])),\n (\"Santa's Little Helper\",\n  (4.05,\n   [('beer_abv', 0.9),\n    ('score', 0.9),\n    ('reviews', 0.85),\n    ('rating_mean', 0.8),\n    ('beer_style', 0.5),\n    ('country', 0.1)])),\n ('Imperial Stout Trooper',\n  (4.04,\n   [('score', 0.94),\n    ('reviews', 0.85),\n    ('rating_mean', 0.84),\n    ('beer_abv', 0.81),\n    ('beer_style', 0.5),\n    ('country', 0.1)])),\n ('Left Hand Imperial Stout',\n  (4.02,\n   [('beer_abv', 0.95),\n    ('score', 0.86),\n    ('reviews', 0.85),\n    ('rating_mean', 0.76),\n    ('beer_style', 0.5),\n    ('country', 0.1)])),\n ('Dragonslayer',\n  (4.0,\n   [('score', 0.9),\n    ('beer_abv', 0.86),\n    ('reviews', 0.85),\n    ('rating_mean', 0.81),\n    ('beer_style', 0.5),\n    ('country', 0.08)])),\n ('Duck-Rabbit Rabid Duck',\n  (4.0,\n   [('beer_abv', 0.9),\n    ('score', 0.88),\n    ('reviews', 0.85),\n    ('rating_mean', 0.79),\n    ('beer_style', 0.5),\n    ('country', 0.08)])),\n ('Chocolate Stout',\n  (3.98,\n   [('reviews', 0.93),\n    ('score', 0.92),\n    ('rating_mean', 0.84),\n    ('beer_style', 0.67),\n    ('beer_abv', 0.52),\n    ('country', 0.1)])),\n ('Lagunitas Imperial Stout',\n  (3.96,\n   [('beer_abv', 0.9),\n    ('score', 0.86),\n    ('reviews', 0.85),\n    ('rating_mean', 0.75),\n    ('beer_style', 0.5),\n    ('country', 0.1)])),\n ('Aphrodisiaque',\n  (3.94,\n   [('score', 0.93),\n    ('reviews', 0.93),\n    ('rating_mean', 0.84),\n    ('beer_style', 0.67),\n    ('beer_abv', 0.57)])),\n ('Liberty Stout (LB No. 50)',\n  (3.91,\n   [('reviews', 0.93),\n    ('score', 0.91),\n    ('rating_mean', 0.82),\n    ('beer_style', 0.67),\n    ('beer_abv', 0.48),\n    ('country', 0.1)])),\n (\"Bell's Hopslam Ale\",\n  (3.91,\n   [('score', 0.98),\n    ('beer_abv', 0.9),\n    ('rating_mean', 0.88),\n    ('reviews', 0.7),\n    ('beer_style', 0.25),\n    ('country', 0.2)])),\n ('Imperial Stout',\n  (3.91,\n   [('score', 0.92),\n    ('reviews', 0.85),\n    ('rating_mean', 0.83),\n    ('beer_abv', 0.81),\n    ('beer_style', 0.5)])),\n ('Stone Belgo Anise Imperial Russian Stout',\n  (3.9,\n   [('beer_abv', 0.95),\n    ('reviews', 0.85),\n    ('score', 0.8),\n    ('rating_mean', 0.7),\n    ('beer_style', 0.5),\n    ('country', 0.1)])),\n ('Out Of Bounds Stout',\n  (3.88,\n   [('reviews', 0.93),\n    ('score', 0.85),\n    ('rating_mean', 0.76),\n    ('beer_style', 0.67),\n    ('beer_abv', 0.57),\n    ('country', 0.1)])),\n ('Dominion Oak Barrel Stout',\n  (3.88,\n   [('reviews', 0.93),\n    ('score', 0.88),\n    ('rating_mean', 0.78),\n    ('beer_style', 0.67),\n    ('beer_abv', 0.52),\n    ('country', 0.1)])),\n ('Smokestack Stout',\n  (3.85,\n   [('reviews', 0.93),\n    ('score', 0.85),\n    ('rating_mean', 0.78),\n    ('beer_style', 0.67),\n    ('beer_abv', 0.52),\n    ('country', 0.1)])),\n ('Barrel Aged Hickory Stick Stout',\n  (3.85,\n   [('reviews', 0.93),\n    ('score', 0.85),\n    ('rating_mean', 0.84),\n    ('beer_style', 0.67),\n    ('beer_abv', 0.48),\n    ('country', 0.08)])),\n ('Apocalypse Cow',\n  (3.82,\n   [('beer_abv', 1.0),\n    ('score', 0.94),\n    ('rating_mean', 0.83),\n    ('reviews', 0.7),\n    ('beer_style', 0.25),\n    ('country', 0.1)])),\n ('Black Butte XXI',\n  (3.82,\n   [('beer_abv', 1.0),\n    ('score', 0.97),\n    ('rating_mean', 0.87),\n    ('reviews', 0.63),\n    ('beer_style', 0.25),\n    ('country', 0.1)])),\n ('The Oracle',\n  (3.81,\n   [('score', 0.93),\n    ('beer_abv', 0.9),\n    ('rating_mean', 0.83),\n    ('reviews', 0.7),\n    ('beer_style', 0.25),\n    ('country', 0.2)])),\n ('Highland Black Mocha Stout',\n  (3.81,\n   [('reviews', 0.93),\n    ('score', 0.87),\n    ('rating_mean', 0.78),\n    ('beer_style', 0.67),\n    ('beer_abv', 0.48),\n    ('country', 0.08)]))]"
     },
     "execution_count": 7,
     "metadata": {},
     "output_type": "execute_result"
    }
   ],
   "source": [
    "recommend('Founders KBS (Kentucky Breakfast Stout)',50,df,weights,sim_matrix)"
   ],
   "metadata": {
    "collapsed": false
   }
  },
  {
   "cell_type": "markdown",
   "source": [
    "# Make simulation using actual users\n",
    "\n",
    "We will make predictions on actual users. We will select users that have a high number of reviews, since the data is sparse, in order to get higher probabilities of find a beer the user has rated."
   ],
   "metadata": {
    "collapsed": false
   }
  },
  {
   "cell_type": "code",
   "execution_count": 9,
   "outputs": [
    {
     "name": "stdout",
     "output_type": "stream",
     "text": [
      "Calculating user threshold for user: BuckeyeNation\n",
      "Threshold is: 3.6449134046231144\n",
      "YES Smokestack Stout Random Recommendation\n",
      "YES Chocolate Stout (Already Rated: P) \n",
      "YES Liberty Stout (LB No. 50) \n",
      "YES Dominion Oak Barrel Stout (Already Rated: P) \n",
      "YES Barrel Aged Hickory Stick Stout \n",
      "NO Whiskey Malt Random Recommendation\n",
      "YES Highland Black Mocha Stout (Already Rated: P) \n",
      "YES Aphrodisiaque (Already Rated: P) \n",
      "YES Triple 7 Black Cherry Stout \n",
      "NO Out Of Bounds Stout (Already Rated: N) \n",
      "YES Hofbräu Original (Already Rated: P) Random Recommendation\n",
      "YES Dark Horse Tres Blueberry Stout (Already Rated: P) \n",
      "NO Fuel Cafe (Coffee Flavored Stout) (Already Rated: N) \n",
      "YES Péché Mortel (Imperial Stout Au Cafe) (Already Rated: P) \n",
      "YES Paulaner Original Münchner (Already Rated: P) \n",
      "YES Downtown Brown (Already Rated: P) Random Recommendation\n",
      "YES Spaten Münchner Hell (Premium Lager) (Already Rated: P) \n",
      "NO Löwenbräu Original (Already Rated: N) \n",
      "YES Franziskaner Hefe-Weisse (Already Rated: P) \n",
      "YES Weihenstephaner Hefeweissbier (Already Rated: P) \n",
      "\n",
      "\n",
      "Total Likes out of 20: 16 \n",
      "\n",
      "-----------------------\n",
      "\n",
      "Calculating user threshold for user: Foxman\n",
      "Threshold is: 3.7165729150345475\n",
      "YES Estate Homegrown Wet Hop Ale Random Recommendation\n",
      "YES Sierra Nevada Celebration Ale (Already Rated: P) \n",
      "YES Sierra Nevada Torpedo Extra IPA (Already Rated: P) \n",
      "YES Nelson \n",
      "YES Duet IPA \n",
      "YES Monk's Blood Random Recommendation\n",
      "YES Stone IPA (India Pale Ale) (Already Rated: P) \n",
      "YES Racer 5 India Pale Ale (Already Rated: P) \n",
      "YES Odell IPA \n",
      "YES Two Hearted Ale (Already Rated: P) \n",
      "YES Porter Random Recommendation\n",
      "YES Wet \n",
      "YES High Tide Fresh Hop IPA \n",
      "YES Modus Hoperandi \n",
      "YES Indica India Pale Ale (Already Rated: P) \n",
      "NO Cantillon Kriek 100% Lambic Random Recommendation\n",
      "YES Smuttynose IPA \"Finest Kind\" (Already Rated: P) \n",
      "YES Stone 09.09.09 Vertical Epic Ale \n",
      "YES Trappistes Rochefort 8 (Already Rated: P) \n",
      "YES Chimay Grande Réserve (Blue) (Already Rated: P) \n",
      "\n",
      "\n",
      "Total Likes out of 20: 19 \n",
      "\n",
      "-----------------------\n",
      "\n",
      "Calculating user threshold for user: mikesgroove\n",
      "Threshold is: 3.7545580412787385\n",
      "YES Girardin Gueuze 1882 (Black Label) (Already Rated: P) Random Recommendation\n",
      "YES Cantillon Gueuze 100% Lambic (Already Rated: P) \n",
      "YES Drie Fonteinen Oude Geuze (Already Rated: P) \n",
      "YES Oude Gueuze (Already Rated: P) \n",
      "YES Cantillon Saint Lamvinus (Already Rated: P) \n",
      "YES Sierra Nevada Celebration Ale (Already Rated: P) Random Recommendation\n",
      "YES Cantillon Iris (Already Rated: P) \n",
      "YES Cantillon Kriek 100% Lambic (Already Rated: P) \n",
      "YES Cantillon Rosé De Gambrinus (Already Rated: P) \n",
      "YES Timmermans Oude Kriek Limited Edition \n",
      "YES B-Line Barley Wine Random Recommendation\n",
      "YES Lindemans Pêche (Already Rated: P) \n",
      "YES Lindemans Kriek \n",
      "YES St. Bernardus Witbier (Already Rated: P) \n",
      "YES Trappist Westvleteren Blonde (Already Rated: P) \n",
      "NO Brooklyn Winter Ale (Already Rated: N) Random Recommendation\n",
      "YES Weihenstephaner Hefeweissbier (Already Rated: P) \n",
      "YES Hoegaarden Original White Ale \n",
      "YES Hitachino Nest White Ale \n",
      "YES Wittekerke (Already Rated: P) \n",
      "\n",
      "\n",
      "Total Likes out of 20: 19 \n",
      "\n",
      "-----------------------\n",
      "\n",
      "Calculating user threshold for user: northyorksammy\n",
      "Threshold is: 3.7215671685379244\n",
      "YES Blind Faith (Already Rated: P) Random Recommendation\n",
      "NO IPA (Already Rated: N) \n",
      "NO Sierra Nevada India Pale Ale (Already Rated: N) \n",
      "YES 400 Pound Monkey (Already Rated: P) \n",
      "YES Corne Du Diable (Already Rated: P) \n",
      "YES Modelo Especial Random Recommendation\n",
      "NO Shipyard IPA (Already Rated: N) \n",
      "YES Nelson (Already Rated: P) \n",
      "YES Duet IPA (Already Rated: P) \n",
      "YES Odell IPA \n",
      "YES Moylander Double IPA (Already Rated: P) Random Recommendation\n",
      "NO Stone IPA (India Pale Ale) (Already Rated: N) \n",
      "YES Racer 5 India Pale Ale (Already Rated: P) \n",
      "YES Sierra Nevada Celebration Ale (Already Rated: P) \n",
      "NO Sierra Nevada Torpedo Extra IPA (Already Rated: N) \n",
      "YES St. Pauli Girl Random Recommendation\n",
      "YES Two Hearted Ale (Already Rated: P) \n",
      "YES Wet \n",
      "YES Estate Homegrown Wet Hop Ale (Already Rated: P) \n",
      "YES High Tide Fresh Hop IPA \n",
      "\n",
      "\n",
      "Total Likes out of 20: 15 \n",
      "\n",
      "-----------------------\n",
      "\n",
      "Calculating user threshold for user: OtherShoe2\n",
      "Threshold is: 3.5538585198083887\n",
      "YES Sunshine Wheat Beer Random Recommendation\n",
      "YES Hop Sun (Summer Wheat Beer) \n",
      "YES Bell's Oberon Ale \n",
      "YES Bell's Oarsman \n",
      "YES Unfiltered Wheat \n",
      "YES Apocalypse Cow Random Recommendation\n",
      "YES Sierra Nevada Wheat Beer \n",
      "YES Anchor Summer Beer (Already Rated: P) \n",
      "YES UFO Hefeweizen (Already Rated: P) \n",
      "NO Samuel Adams Summer Ale (Already Rated: N) \n",
      "NO Session Ale #10: Grisette Random Recommendation\n",
      "YES Seneca Golden Wheat \n",
      "YES Maclir \n",
      "NO Samuel Adams Coastal Wheat (Already Rated: N) \n",
      "YES Dreadnaught IPA \n",
      "NO Oro De Calabaza (Already Rated: N) Random Recommendation\n",
      "YES Arctic Panzer Wolf \n",
      "YES Abrasive Ale \n",
      "YES Bell's Hopslam Ale \n",
      "YES Heady Topper \n",
      "\n",
      "\n",
      "Total Likes out of 20: 16 \n",
      "\n",
      "-----------------------\n",
      "\n"
     ]
    }
   ],
   "source": [
    "users = [\"BuckeyeNation\",\n",
    "\"Foxman\",\n",
    "\"mikesgroove\",\n",
    "\"northyorksammy\",\n",
    "\"OtherShoe2\"]\n",
    "\n",
    "for user in users:\n",
    "    recommend_beers(weights = weights,\n",
    "                    user = user,\n",
    "                    recnum_per_user = 20,\n",
    "                    beer_df=df,\n",
    "                    neighbor_num = 10,\n",
    "                    liked_sample_size = 10,\n",
    "                    sim_matrix = sim_matrix,\n",
    "                    reviews_df= reviews_df)"
   ],
   "metadata": {
    "collapsed": false
   }
  },
  {
   "cell_type": "markdown",
   "source": [
    "# Appendix"
   ],
   "metadata": {
    "collapsed": false
   }
  },
  {
   "cell_type": "code",
   "execution_count": null,
   "outputs": [],
   "source": [
    "# get sample users\n",
    "reviews_df.groupby(['review_profilename']).size().reset_index(name='count').sort_values(by=['count'], ascending=False).head()"
   ],
   "metadata": {
    "collapsed": false
   }
  },
  {
   "cell_type": "code",
   "execution_count": 30,
   "outputs": [
    {
     "name": "stdout",
     "output_type": "stream",
     "text": [
      "0\n",
      "1\n",
      "25\n",
      "44\n",
      "144\n",
      "248\n",
      "356\n",
      "568\n"
     ]
    }
   ],
   "source": [
    "from sentence_transformers import SentenceTransformer, util\n",
    "\n",
    "# load sim_matrix path\n",
    "embeddings_path: Path = Path('pkl_files') / \"embeddings.pkl\"\n",
    "\n",
    "# Load pkl embeddings file\n",
    "with embeddings_path.open('rb') as f:\n",
    "    embeddings = pickle.load(f)\n",
    "\n",
    "# print the first rows of the loaded data\n",
    "_index = df.loc[(df.brewery_id == 4) & (df.beer_id == 40051)].index[0]\n",
    "\n",
    "model = SentenceTransformer('sentence-transformers/all-MiniLM-L6-v2')\n",
    "\n",
    "text = \"Visual: dark brown, almost rootbeerish red tinge. no lingering head. Aroma: roasted malts, bitter chocolate, burnt sugar, vsl vanilla Taste: best part of the beer - nice burnt caramel, toasted marshmallow, roasted coffee, somehow the IAA still comes through. Overall: if tasted blind i would've thought belgian strong, definitely not typical stout mouthfeel or aroma, especially with the lightness of the body and strong IAA. Another great beer from Allagash.\"\n",
    "candidate = model.encode(text)\n",
    "\n",
    "max = 0\n",
    "index_loc = 0\n",
    "for i in range(len(embeddings)):\n",
    "    sim = util.cos_sim(embeddings[i], candidate)[0][0]\n",
    "    if sim > max:\n",
    "        max = sim\n",
    "        index_loc = i"
   ],
   "metadata": {
    "collapsed": false
   }
  },
  {
   "cell_type": "markdown",
   "source": [],
   "metadata": {
    "collapsed": false
   }
  },
  {
   "cell_type": "code",
   "execution_count": null,
   "outputs": [],
   "source": [],
   "metadata": {
    "collapsed": false
   }
  }
 ],
 "metadata": {
  "kernelspec": {
   "display_name": "Python 3",
   "language": "python",
   "name": "python3"
  },
  "language_info": {
   "codemirror_mode": {
    "name": "ipython",
    "version": 2
   },
   "file_extension": ".py",
   "mimetype": "text/x-python",
   "name": "python",
   "nbconvert_exporter": "python",
   "pygments_lexer": "ipython2",
   "version": "2.7.6"
  }
 },
 "nbformat": 4,
 "nbformat_minor": 0
}
