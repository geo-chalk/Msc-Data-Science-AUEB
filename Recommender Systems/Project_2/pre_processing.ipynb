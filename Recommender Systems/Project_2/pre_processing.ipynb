{
 "cells": [
  {
   "cell_type": "code",
   "execution_count": 1,
   "metadata": {
    "collapsed": true
   },
   "outputs": [
    {
     "name": "stderr",
     "output_type": "stream",
     "text": [
      "[nltk_data] Downloading package wordnet to\n",
      "[nltk_data]     C:\\Users\\jojoshulk\\AppData\\Roaming\\nltk_data...\n",
      "[nltk_data]   Package wordnet is already up-to-date!\n",
      "[nltk_data] Downloading package stopwords to\n",
      "[nltk_data]     C:\\Users\\jojoshulk\\AppData\\Roaming\\nltk_data...\n",
      "[nltk_data]   Package stopwords is already up-to-date!\n"
     ]
    }
   ],
   "source": [
    "import pandas as pd\n",
    "import csv\n",
    "from pathlib import Path\n",
    "import numpy as np\n",
    "import pickle\n",
    "\n",
    "# general\n",
    "from typing import TextIO, List, Tuple, Optional, Any\n",
    "from dataclasses import dataclass\n",
    "\n",
    "# Custom\n",
    "from utils.Loggers import BaseLogger\n",
    "from utils import helper_functions\n",
    "\n"
   ]
  },
  {
   "cell_type": "markdown",
   "source": [
    "# Load reviews\n",
    "\n",
    "The reviews will be loaded from the `reviews` folder. Each csv file consists of a beer/brewery which is unique."
   ],
   "metadata": {
    "collapsed": false
   }
  },
  {
   "cell_type": "code",
   "execution_count": 22,
   "outputs": [],
   "source": [
    "# load the kaggle file to get the beer name\n",
    "beers_df = pd.read_csv(\"beer_reviews.csv\")\n",
    "mapping: dict = beers_df[['beer_beerid', 'beer_name']].drop_duplicates().to_dict('list')\n",
    "abv: dict = beers_df[['brewery_id', 'beer_beerid', 'beer_abv']].drop_duplicates().to_dict('list')\n",
    "\n",
    "# generate dict with {beer_id: beer_name}\n",
    "beer_mapping: dict = dict(zip(mapping.get(\"beer_beerid\"), mapping.get(\"beer_name\")))\n",
    "abv_mapping: dict = dict(zip(zip(abv.get(\"brewery_id\"),abv.get(\"beer_beerid\")),abv.get(\"beer_abv\")))\n",
    "\n",
    "beers_df\n",
    "# cleanup\n",
    "del beers_df"
   ],
   "metadata": {
    "collapsed": false
   }
  },
  {
   "cell_type": "code",
   "execution_count": 28,
   "outputs": [],
   "source": [
    "from pprint import pprint"
   ],
   "metadata": {
    "collapsed": false
   }
  },
  {
   "cell_type": "code",
   "execution_count": 47,
   "outputs": [],
   "source": [
    "@dataclass\n",
    "class BeerReview(object):\n",
    "    rating: float\n",
    "    text: str\n",
    "\n",
    "\n",
    "class ReviewReader(BaseLogger):\n",
    "    \"\"\"Read reviews based on an input file\"\"\"\n",
    "\n",
    "    def __init__(self, input_folder: str,\n",
    "                 beer_mapping: dict,\n",
    "                 abv_mapping: dict,\n",
    "                 output_file: str = \"beer_reviews_aggregated.csv\",\n",
    "                 *args, **kwargs):\n",
    "        super().__init__(*args, **kwargs)\n",
    "        self.input_folder: Path = Path(input_folder)\n",
    "        self.beer_mapping: dict = beer_mapping\n",
    "        self.abv_mapping: dict = abv_mapping\n",
    "        self.output_file: Path = Path(output_file)\n",
    "        self.writer: Optional[csv.writer] = None\n",
    "        self.fw: Optional[TextIO] = None\n",
    "\n",
    "    @property\n",
    "    def header(self) -> List[str]:\n",
    "        return [\"brewery_name\", \"brewery_id\",\n",
    "                \"beer_id\", \"beer_name\", \"beer_abv\",\n",
    "                \"country\", \"style\", \"score\",\n",
    "                \"rating_mean\", \"rating_std\",\n",
    "                \"text\"]\n",
    "\n",
    "    def process_file(self, file_path: Path) ->  List[Any]:\n",
    "        \"\"\"\n",
    "        Read the reviews based on the input file. Returns a list of reviews.     \"\"\"\n",
    "        with file_path.open(encoding=\"utf8\") as f:\n",
    "\n",
    "            rating = []\n",
    "            text: str = \"\"\n",
    "\n",
    "            for i, row in enumerate(csv.DictReader(f)):\n",
    "\n",
    "                # create a review object and append info\n",
    "                review: BeerReview = BeerReview(float(row[\"rating\"]), row[\"text\"])\n",
    "\n",
    "                rating.append(review.rating)\n",
    "                text +=  helper_functions.preprocess(review.text)\n",
    "\n",
    "        # create a review with all info\n",
    "        total_review = [row[\"brewery_name\"], row[\"brewery_id\"],\n",
    "                        row[\"beer_id\"], self.beer_mapping.get(int(row[\"beer_id\"])),\n",
    "                        self.abv_mapping.get((int(row[\"brewery_id\"]), int(row[\"beer_id\"]))),\n",
    "                         row[\"Country\"], row[\"Style\"], row[\"Score\"],\n",
    "                         np.mean(rating), np.std(rating), text]\n",
    "        f.close()\n",
    "\n",
    "        return total_review\n",
    "\n",
    "    def _writer(self) -> tuple:\n",
    "        \"\"\"Initiates a csv.writer method and returns it\"\"\"\n",
    "\n",
    "        # open a new csv writer\n",
    "        output_path: Path = self.output_file\n",
    "        fw: TextIO = output_path.open(mode=\"w\",encoding=\"utf8\")\n",
    "        writer = csv.writer(fw,lineterminator=\"\\n\")\n",
    "\n",
    "        self.logger.info(f\"Writer Created..\")\n",
    "        return writer, fw\n",
    "\n",
    "    def aggregate_reviews(self) -> None:\n",
    "        \"\"\"Iterate over the folder and load the reviews\"\"\"\n",
    "\n",
    "        # init writer & write header\n",
    "        self.writer, self.fw = self._writer()\n",
    "        self.writer.writerow(self.header)\n",
    "\n",
    "        # iterate files\n",
    "        self.logger.info(f\"Started reading reviews.\")\n",
    "        for i, file in enumerate(self.input_folder.iterdir()):\n",
    "            try:\n",
    "                _reviews: List[Any] = self.process_file(file)\n",
    "                self.writer.writerow(_reviews)\n",
    "\n",
    "                if (i+1) % 50 == 0 and i > 0:\n",
    "                    self.logger.info(f\"{i+1} beers processed\")\n",
    "\n",
    "            except UnboundLocalError:\n",
    "                continue\n",
    "\n",
    "        self.logger.info(f\"Total Beers: {i+1}\")\n",
    "        self.fw.close()\n",
    "        self.logger.info(f\"{self.output_file} closed.\")\n",
    "\n",
    "\n",
    "        return None\n"
   ],
   "metadata": {
    "collapsed": false
   }
  },
  {
   "cell_type": "code",
   "execution_count": 48,
   "outputs": [
    {
     "name": "stderr",
     "output_type": "stream",
     "text": [
      "[2023-04-02 09:12:36,318] INFO [ReviewReader] - Writer Created..\n",
      "[2023-04-02 09:12:36,320] INFO [ReviewReader] - Started reading reviews.\n",
      "[2023-04-02 09:13:47,703] INFO [ReviewReader] - 100 beers processed\n",
      "[2023-04-02 09:14:28,331] INFO [ReviewReader] - 150 beers processed\n",
      "[2023-04-02 09:14:59,171] INFO [ReviewReader] - 200 beers processed\n",
      "[2023-04-02 09:15:23,725] INFO [ReviewReader] - 250 beers processed\n",
      "[2023-04-02 09:16:03,499] INFO [ReviewReader] - 300 beers processed\n",
      "[2023-04-02 09:16:39,945] INFO [ReviewReader] - 350 beers processed\n",
      "[2023-04-02 09:17:12,218] INFO [ReviewReader] - 400 beers processed\n",
      "[2023-04-02 09:17:40,811] INFO [ReviewReader] - 450 beers processed\n",
      "[2023-04-02 09:18:12,377] INFO [ReviewReader] - 500 beers processed\n",
      "[2023-04-02 09:18:36,779] INFO [ReviewReader] - 550 beers processed\n",
      "[2023-04-02 09:18:56,552] INFO [ReviewReader] - 600 beers processed\n",
      "[2023-04-02 09:19:23,048] INFO [ReviewReader] - 650 beers processed\n",
      "[2023-04-02 09:19:45,637] INFO [ReviewReader] - 700 beers processed\n",
      "[2023-04-02 09:20:07,388] INFO [ReviewReader] - Total Beers: 746\n",
      "[2023-04-02 09:20:07,390] INFO [ReviewReader] - aggregated_reviews_test.csv closed.\n"
     ]
    }
   ],
   "source": [
    "ReviewReader(input_folder=\"reviews\",\n",
    "             beer_mapping=beer_mapping,\n",
    "             abv_mapping=abv_mapping,\n",
    "             output_file=\"aggregated_reviews_test.csv\").aggregate_reviews()"
   ],
   "metadata": {
    "collapsed": false
   }
  },
  {
   "cell_type": "code",
   "execution_count": 45,
   "outputs": [
    {
     "name": "stderr",
     "output_type": "stream",
     "text": [
      "C:\\Users\\jojoshulk\\AppData\\Roaming\\Python\\Python37\\site-packages\\pandas\\util\\_decorators.py:311: ParserWarning: Length of header or names does not match length of data. This leads to a loss of data with index_col=False.\n",
      "  return func(*args, **kwargs)\n"
     ]
    },
    {
     "data": {
      "text/plain": "Index(['brewery_name', 'brewery_id', 'beer_id', 'beer_name', 'beer_abvcountry',\n       'style', 'score', 'rating_mean', 'rating_std', 'text'],\n      dtype='object')"
     },
     "execution_count": 45,
     "metadata": {},
     "output_type": "execute_result"
    }
   ],
   "source": [
    "df1 = pd.read_csv(\"aggregated_reviews_test.csv\",\n",
    "                 usecols = ['brewery_id', 'brewery_name',\n",
    "                            'beer_id', 'beer_name', 'beer_abv',\n",
    "                            'country', 'style', 'score',\n",
    "                            'rating_mean', 'rating_std'])\n",
    "df1.to_csv(\"aggregated_reviews_small.csv\")"
   ],
   "metadata": {
    "collapsed": false
   }
  },
  {
   "cell_type": "markdown",
   "source": [
    "# Generate Embeddings"
   ],
   "metadata": {
    "collapsed": false
   }
  },
  {
   "cell_type": "code",
   "execution_count": 1,
   "outputs": [
    {
     "output_type": "stream",
     "name": "stdout",
     "text": [
      "Looking in indexes: https://pypi.org/simple, https://us-python.pkg.dev/colab-wheels/public/simple/\n",
      "Collecting sentence-transformers\n",
      "  Downloading sentence-transformers-2.2.2.tar.gz (85 kB)\n",
      "\u001B[2K     \u001B[90m━━━━━━━━━━━━━━━━━━━━━━━━━━━━━━━━━━━━━━━━\u001B[0m \u001B[32m86.0/86.0 KB\u001B[0m \u001B[31m2.8 MB/s\u001B[0m eta \u001B[36m0:00:00\u001B[0m\n",
      "\u001B[?25h  Preparing metadata (setup.py) ... \u001B[?25l\u001B[?25hdone\n",
      "Collecting transformers<5.0.0,>=4.6.0\n",
      "  Downloading transformers-4.27.4-py3-none-any.whl (6.8 MB)\n",
      "\u001B[2K     \u001B[90m━━━━━━━━━━━━━━━━━━━━━━━━━━━━━━━━━━━━━━━━\u001B[0m \u001B[32m6.8/6.8 MB\u001B[0m \u001B[31m51.7 MB/s\u001B[0m eta \u001B[36m0:00:00\u001B[0m\n",
      "\u001B[?25hRequirement already satisfied: tqdm in /usr/local/lib/python3.9/dist-packages (from sentence-transformers) (4.65.0)\n",
      "Requirement already satisfied: torch>=1.6.0 in /usr/local/lib/python3.9/dist-packages (from sentence-transformers) (1.13.1+cu116)\n",
      "Requirement already satisfied: torchvision in /usr/local/lib/python3.9/dist-packages (from sentence-transformers) (0.14.1+cu116)\n",
      "Requirement already satisfied: numpy in /usr/local/lib/python3.9/dist-packages (from sentence-transformers) (1.22.4)\n",
      "Requirement already satisfied: scikit-learn in /usr/local/lib/python3.9/dist-packages (from sentence-transformers) (1.2.2)\n",
      "Requirement already satisfied: scipy in /usr/local/lib/python3.9/dist-packages (from sentence-transformers) (1.10.1)\n",
      "Requirement already satisfied: nltk in /usr/local/lib/python3.9/dist-packages (from sentence-transformers) (3.8.1)\n",
      "Collecting sentencepiece\n",
      "  Downloading sentencepiece-0.1.97-cp39-cp39-manylinux_2_17_x86_64.manylinux2014_x86_64.whl (1.3 MB)\n",
      "\u001B[2K     \u001B[90m━━━━━━━━━━━━━━━━━━━━━━━━━━━━━━━━━━━━━━━━\u001B[0m \u001B[32m1.3/1.3 MB\u001B[0m \u001B[31m47.5 MB/s\u001B[0m eta \u001B[36m0:00:00\u001B[0m\n",
      "\u001B[?25hCollecting huggingface-hub>=0.4.0\n",
      "  Downloading huggingface_hub-0.13.3-py3-none-any.whl (199 kB)\n",
      "\u001B[2K     \u001B[90m━━━━━━━━━━━━━━━━━━━━━━━━━━━━━━━━━━━━━━\u001B[0m \u001B[32m199.8/199.8 KB\u001B[0m \u001B[31m14.4 MB/s\u001B[0m eta \u001B[36m0:00:00\u001B[0m\n",
      "\u001B[?25hRequirement already satisfied: requests in /usr/local/lib/python3.9/dist-packages (from huggingface-hub>=0.4.0->sentence-transformers) (2.27.1)\n",
      "Requirement already satisfied: pyyaml>=5.1 in /usr/local/lib/python3.9/dist-packages (from huggingface-hub>=0.4.0->sentence-transformers) (6.0)\n",
      "Requirement already satisfied: typing-extensions>=3.7.4.3 in /usr/local/lib/python3.9/dist-packages (from huggingface-hub>=0.4.0->sentence-transformers) (4.5.0)\n",
      "Requirement already satisfied: filelock in /usr/local/lib/python3.9/dist-packages (from huggingface-hub>=0.4.0->sentence-transformers) (3.10.7)\n",
      "Requirement already satisfied: packaging>=20.9 in /usr/local/lib/python3.9/dist-packages (from huggingface-hub>=0.4.0->sentence-transformers) (23.0)\n",
      "Requirement already satisfied: regex!=2019.12.17 in /usr/local/lib/python3.9/dist-packages (from transformers<5.0.0,>=4.6.0->sentence-transformers) (2022.10.31)\n",
      "Collecting tokenizers!=0.11.3,<0.14,>=0.11.1\n",
      "  Downloading tokenizers-0.13.2-cp39-cp39-manylinux_2_17_x86_64.manylinux2014_x86_64.whl (7.6 MB)\n",
      "\u001B[2K     \u001B[90m━━━━━━━━━━━━━━━━━━━━━━━━━━━━━━━━━━━━━━━━\u001B[0m \u001B[32m7.6/7.6 MB\u001B[0m \u001B[31m31.5 MB/s\u001B[0m eta \u001B[36m0:00:00\u001B[0m\n",
      "\u001B[?25hRequirement already satisfied: joblib in /usr/local/lib/python3.9/dist-packages (from nltk->sentence-transformers) (1.1.1)\n",
      "Requirement already satisfied: click in /usr/local/lib/python3.9/dist-packages (from nltk->sentence-transformers) (8.1.3)\n",
      "Requirement already satisfied: threadpoolctl>=2.0.0 in /usr/local/lib/python3.9/dist-packages (from scikit-learn->sentence-transformers) (3.1.0)\n",
      "Requirement already satisfied: pillow!=8.3.*,>=5.3.0 in /usr/local/lib/python3.9/dist-packages (from torchvision->sentence-transformers) (8.4.0)\n",
      "Requirement already satisfied: certifi>=2017.4.17 in /usr/local/lib/python3.9/dist-packages (from requests->huggingface-hub>=0.4.0->sentence-transformers) (2022.12.7)\n",
      "Requirement already satisfied: idna<4,>=2.5 in /usr/local/lib/python3.9/dist-packages (from requests->huggingface-hub>=0.4.0->sentence-transformers) (3.4)\n",
      "Requirement already satisfied: charset-normalizer~=2.0.0 in /usr/local/lib/python3.9/dist-packages (from requests->huggingface-hub>=0.4.0->sentence-transformers) (2.0.12)\n",
      "Requirement already satisfied: urllib3<1.27,>=1.21.1 in /usr/local/lib/python3.9/dist-packages (from requests->huggingface-hub>=0.4.0->sentence-transformers) (1.26.15)\n",
      "Building wheels for collected packages: sentence-transformers\n",
      "  Building wheel for sentence-transformers (setup.py) ... \u001B[?25l\u001B[?25hdone\n",
      "  Created wheel for sentence-transformers: filename=sentence_transformers-2.2.2-py3-none-any.whl size=125942 sha256=c4ab54e62d4ee2cb1ac4d9aeb4aaef400dbedee816df08bcf838a4e18f518bfa\n",
      "  Stored in directory: /root/.cache/pip/wheels/71/67/06/162a3760c40d74dd40bc855d527008d26341c2b0ecf3e8e11f\n",
      "Successfully built sentence-transformers\n",
      "Installing collected packages: tokenizers, sentencepiece, huggingface-hub, transformers, sentence-transformers\n",
      "Successfully installed huggingface-hub-0.13.3 sentence-transformers-2.2.2 sentencepiece-0.1.97 tokenizers-0.13.2 transformers-4.27.4\n"
     ]
    }
   ],
   "source": [
    "!pip install -U sentence-transformers"
   ],
   "metadata": {
    "collapsed": false
   }
  },
  {
   "cell_type": "code",
   "execution_count": 5,
   "outputs": [
    {
     "output_type": "display_data",
     "data": {
      "text/plain": [
       "Downloading (…)e9125/.gitattributes:   0%|          | 0.00/1.18k [00:00<?, ?B/s]"
      ],
      "application/vnd.jupyter.widget-view+json": {
       "version_major": 2,
       "version_minor": 0,
       "model_id": "4eba8561ca8342a59b5b295406770c22"
      }
     },
     "metadata": {}
    },
    {
     "output_type": "display_data",
     "data": {
      "text/plain": [
       "Downloading (…)_Pooling/config.json:   0%|          | 0.00/190 [00:00<?, ?B/s]"
      ],
      "application/vnd.jupyter.widget-view+json": {
       "version_major": 2,
       "version_minor": 0,
       "model_id": "19abf203fc43434e8b8efe0b76733dfc"
      }
     },
     "metadata": {}
    },
    {
     "output_type": "display_data",
     "data": {
      "text/plain": [
       "Downloading (…)7e55de9125/README.md:   0%|          | 0.00/10.6k [00:00<?, ?B/s]"
      ],
      "application/vnd.jupyter.widget-view+json": {
       "version_major": 2,
       "version_minor": 0,
       "model_id": "c3f2506b474544d09b4c4ead32724e5c"
      }
     },
     "metadata": {}
    },
    {
     "output_type": "display_data",
     "data": {
      "text/plain": [
       "Downloading (…)55de9125/config.json:   0%|          | 0.00/612 [00:00<?, ?B/s]"
      ],
      "application/vnd.jupyter.widget-view+json": {
       "version_major": 2,
       "version_minor": 0,
       "model_id": "60fcdf5fd167471eb818d2bb8943f1b7"
      }
     },
     "metadata": {}
    },
    {
     "output_type": "display_data",
     "data": {
      "text/plain": [
       "Downloading (…)ce_transformers.json:   0%|          | 0.00/116 [00:00<?, ?B/s]"
      ],
      "application/vnd.jupyter.widget-view+json": {
       "version_major": 2,
       "version_minor": 0,
       "model_id": "99045bd6ade2451d917549a4340abff8"
      }
     },
     "metadata": {}
    },
    {
     "output_type": "display_data",
     "data": {
      "text/plain": [
       "Downloading (…)125/data_config.json:   0%|          | 0.00/39.3k [00:00<?, ?B/s]"
      ],
      "application/vnd.jupyter.widget-view+json": {
       "version_major": 2,
       "version_minor": 0,
       "model_id": "7fac70a2e00946d8a52a527c9a177769"
      }
     },
     "metadata": {}
    },
    {
     "output_type": "display_data",
     "data": {
      "text/plain": [
       "Downloading pytorch_model.bin:   0%|          | 0.00/90.9M [00:00<?, ?B/s]"
      ],
      "application/vnd.jupyter.widget-view+json": {
       "version_major": 2,
       "version_minor": 0,
       "model_id": "146481103e35439b9e7149b67e873da3"
      }
     },
     "metadata": {}
    },
    {
     "output_type": "display_data",
     "data": {
      "text/plain": [
       "Downloading (…)nce_bert_config.json:   0%|          | 0.00/53.0 [00:00<?, ?B/s]"
      ],
      "application/vnd.jupyter.widget-view+json": {
       "version_major": 2,
       "version_minor": 0,
       "model_id": "e7cce89209c7449d8db16612edbd847e"
      }
     },
     "metadata": {}
    },
    {
     "output_type": "display_data",
     "data": {
      "text/plain": [
       "Downloading (…)cial_tokens_map.json:   0%|          | 0.00/112 [00:00<?, ?B/s]"
      ],
      "application/vnd.jupyter.widget-view+json": {
       "version_major": 2,
       "version_minor": 0,
       "model_id": "923fd60cbdc6471e9d5cb6c33898a40f"
      }
     },
     "metadata": {}
    },
    {
     "output_type": "display_data",
     "data": {
      "text/plain": [
       "Downloading (…)e9125/tokenizer.json:   0%|          | 0.00/466k [00:00<?, ?B/s]"
      ],
      "application/vnd.jupyter.widget-view+json": {
       "version_major": 2,
       "version_minor": 0,
       "model_id": "dda250e1674f49439526f4f8c826d875"
      }
     },
     "metadata": {}
    },
    {
     "output_type": "display_data",
     "data": {
      "text/plain": [
       "Downloading (…)okenizer_config.json:   0%|          | 0.00/350 [00:00<?, ?B/s]"
      ],
      "application/vnd.jupyter.widget-view+json": {
       "version_major": 2,
       "version_minor": 0,
       "model_id": "e0fe4176cb5e4c23bc1602ce84ddc087"
      }
     },
     "metadata": {}
    },
    {
     "output_type": "display_data",
     "data": {
      "text/plain": [
       "Downloading (…)9125/train_script.py:   0%|          | 0.00/13.2k [00:00<?, ?B/s]"
      ],
      "application/vnd.jupyter.widget-view+json": {
       "version_major": 2,
       "version_minor": 0,
       "model_id": "e4935712de5c4f698f0cb6fdab5d3ba9"
      }
     },
     "metadata": {}
    },
    {
     "output_type": "display_data",
     "data": {
      "text/plain": [
       "Downloading (…)7e55de9125/vocab.txt:   0%|          | 0.00/232k [00:00<?, ?B/s]"
      ],
      "application/vnd.jupyter.widget-view+json": {
       "version_major": 2,
       "version_minor": 0,
       "model_id": "b3d4c9ab086e4a6dbc78ee99ec2c1272"
      }
     },
     "metadata": {}
    },
    {
     "output_type": "display_data",
     "data": {
      "text/plain": [
       "Downloading (…)5de9125/modules.json:   0%|          | 0.00/349 [00:00<?, ?B/s]"
      ],
      "application/vnd.jupyter.widget-view+json": {
       "version_major": 2,
       "version_minor": 0,
       "model_id": "8f31171793564934b542f0fcfef64495"
      }
     },
     "metadata": {}
    }
   ],
   "source": [
    "import pandas as pd\n",
    "import csv\n",
    "from pathlib import Path\n",
    "import numpy as np\n",
    "\n",
    "# general\n",
    "\n",
    "from typing import TextIO, List, Optional, Any\n",
    "\n",
    "\n",
    "from sentence_transformers import SentenceTransformer, util\n",
    "\n",
    "sbert = SentenceTransformer('all-MiniLM-L6-v2')# load the pretrained model.\n"
   ],
   "metadata": {
    "collapsed": false
   }
  },
  {
   "cell_type": "code",
   "execution_count": 145,
   "outputs": [],
   "source": [
    "def calculate_embedding(review_list):\n",
    "  \"\"\"Calculates the sentence embedding for a reviews.\"\"\"\n",
    "  emb = []\n",
    "  for r in review_list:\n",
    "    emb.append(sbert.encode(r))\n",
    "\n",
    "  return np.array(emb).mean(axis=0)\n",
    "\n",
    "def calculate_embedding_style(style):\n",
    "  \"\"\"Calculates the sentence embedding of the beer style.\"\"\"\n",
    "  return sbert.encode(style)\n",
    "\n",
    "\n",
    "def return_chunks(reviews):\n",
    "  \"\"\"\n",
    "  Splits a long string of text into smaller chunks.\n",
    "\n",
    "  Args:\n",
    "    reviews (str): A long string of text.\n",
    "\n",
    "  Returns:\n",
    "    list of str: A list of smaller chunks of the original string, with a maximum length of 250 words and an overlap of 50 words.\n",
    "  \"\"\"\n",
    "  target: int = len(reviews.split())\n",
    "  reviews_list = []\n",
    "  i = 0\n",
    "  while i < target:\n",
    "    reviews_list.append(\" \".join(reviews.split()[i:i+250]))\n",
    "    i+= 200\n",
    "\n",
    "  return reviews_list\n"
   ],
   "metadata": {
    "collapsed": false
   }
  },
  {
   "cell_type": "code",
   "execution_count": null,
   "outputs": [],
   "source": [
    "df = pd.read_csv(\"aggreated_reviews.csv\")\n",
    "df[\"review_list\"] = df.text.apply(lambda x: return_chunks(x))\n",
    "df[\"embedding\"] = df.review_list.apply(lambda x: calculate_embedding(x))"
   ],
   "metadata": {
    "collapsed": false
   }
  },
  {
   "cell_type": "code",
   "execution_count": 155,
   "outputs": [],
   "source": [
    "# open a file for writing binary data\n",
    "with open('emdeddings.pkl', 'wb') as f:\n",
    "    # use pickle.dump to save the data to the file\n",
    "    pickle.dump(df[\"embedding\"], f)"
   ],
   "metadata": {
    "collapsed": false
   }
  },
  {
   "cell_type": "markdown",
   "source": [
    "## Visualize embeddings\n",
    "\n",
    "* We will use the embeddings generated in a 2-d space based on the beer style. Although this might not make sense,"
   ],
   "metadata": {
    "collapsed": false
   }
  },
  {
   "cell_type": "code",
   "execution_count": 136,
   "outputs": [
    {
     "output_type": "execute_result",
     "data": {
      "text/plain": [
       "array([[-0.00770661, -0.03570786],\n",
       "       [ 0.17925052, -0.02064081],\n",
       "       [-0.10693823,  0.21297038],\n",
       "       ...,\n",
       "       [ 0.20311466, -0.04039518],\n",
       "       [-0.05857297, -0.10982767],\n",
       "       [ 0.30600354, -0.01535639]], dtype=float32)"
      ]
     },
     "metadata": {},
     "execution_count": 136
    }
   ],
   "source": [
    "from sklearn.decomposition import PCA\n",
    "\n",
    "two_dim = PCA(random_state=0).fit_transform(pd.DataFrame(df[\"embedding\"].to_list()))[:,:2]\n",
    "two_dim"
   ],
   "metadata": {
    "collapsed": false
   }
  },
  {
   "cell_type": "code",
   "execution_count": 214,
   "outputs": [
    {
     "output_type": "stream",
     "name": "stderr",
     "text": [
      "/usr/local/lib/python3.9/dist-packages/sklearn/cluster/_kmeans.py:870: FutureWarning: The default value of `n_init` will change from 10 to 'auto' in 1.4. Set the value of `n_init` explicitly to suppress the warning\n",
      "  warnings.warn(\n"
     ]
    },
    {
     "output_type": "execute_result",
     "data": {
      "text/plain": [
       "KMeans(n_clusters=6, random_state=42)"
      ],
      "text/html": [
       "<style>#sk-container-id-2 {color: black;background-color: white;}#sk-container-id-2 pre{padding: 0;}#sk-container-id-2 div.sk-toggleable {background-color: white;}#sk-container-id-2 label.sk-toggleable__label {cursor: pointer;display: block;width: 100%;margin-bottom: 0;padding: 0.3em;box-sizing: border-box;text-align: center;}#sk-container-id-2 label.sk-toggleable__label-arrow:before {content: \"▸\";float: left;margin-right: 0.25em;color: #696969;}#sk-container-id-2 label.sk-toggleable__label-arrow:hover:before {color: black;}#sk-container-id-2 div.sk-estimator:hover label.sk-toggleable__label-arrow:before {color: black;}#sk-container-id-2 div.sk-toggleable__content {max-height: 0;max-width: 0;overflow: hidden;text-align: left;background-color: #f0f8ff;}#sk-container-id-2 div.sk-toggleable__content pre {margin: 0.2em;color: black;border-radius: 0.25em;background-color: #f0f8ff;}#sk-container-id-2 input.sk-toggleable__control:checked~div.sk-toggleable__content {max-height: 200px;max-width: 100%;overflow: auto;}#sk-container-id-2 input.sk-toggleable__control:checked~label.sk-toggleable__label-arrow:before {content: \"▾\";}#sk-container-id-2 div.sk-estimator input.sk-toggleable__control:checked~label.sk-toggleable__label {background-color: #d4ebff;}#sk-container-id-2 div.sk-label input.sk-toggleable__control:checked~label.sk-toggleable__label {background-color: #d4ebff;}#sk-container-id-2 input.sk-hidden--visually {border: 0;clip: rect(1px 1px 1px 1px);clip: rect(1px, 1px, 1px, 1px);height: 1px;margin: -1px;overflow: hidden;padding: 0;position: absolute;width: 1px;}#sk-container-id-2 div.sk-estimator {font-family: monospace;background-color: #f0f8ff;border: 1px dotted black;border-radius: 0.25em;box-sizing: border-box;margin-bottom: 0.5em;}#sk-container-id-2 div.sk-estimator:hover {background-color: #d4ebff;}#sk-container-id-2 div.sk-parallel-item::after {content: \"\";width: 100%;border-bottom: 1px solid gray;flex-grow: 1;}#sk-container-id-2 div.sk-label:hover label.sk-toggleable__label {background-color: #d4ebff;}#sk-container-id-2 div.sk-serial::before {content: \"\";position: absolute;border-left: 1px solid gray;box-sizing: border-box;top: 0;bottom: 0;left: 50%;z-index: 0;}#sk-container-id-2 div.sk-serial {display: flex;flex-direction: column;align-items: center;background-color: white;padding-right: 0.2em;padding-left: 0.2em;position: relative;}#sk-container-id-2 div.sk-item {position: relative;z-index: 1;}#sk-container-id-2 div.sk-parallel {display: flex;align-items: stretch;justify-content: center;background-color: white;position: relative;}#sk-container-id-2 div.sk-item::before, #sk-container-id-2 div.sk-parallel-item::before {content: \"\";position: absolute;border-left: 1px solid gray;box-sizing: border-box;top: 0;bottom: 0;left: 50%;z-index: -1;}#sk-container-id-2 div.sk-parallel-item {display: flex;flex-direction: column;z-index: 1;position: relative;background-color: white;}#sk-container-id-2 div.sk-parallel-item:first-child::after {align-self: flex-end;width: 50%;}#sk-container-id-2 div.sk-parallel-item:last-child::after {align-self: flex-start;width: 50%;}#sk-container-id-2 div.sk-parallel-item:only-child::after {width: 0;}#sk-container-id-2 div.sk-dashed-wrapped {border: 1px dashed gray;margin: 0 0.4em 0.5em 0.4em;box-sizing: border-box;padding-bottom: 0.4em;background-color: white;}#sk-container-id-2 div.sk-label label {font-family: monospace;font-weight: bold;display: inline-block;line-height: 1.2em;}#sk-container-id-2 div.sk-label-container {text-align: center;}#sk-container-id-2 div.sk-container {/* jupyter's `normalize.less` sets `[hidden] { display: none; }` but bootstrap.min.css set `[hidden] { display: none !important; }` so we also need the `!important` here to be able to override the default hidden behavior on the sphinx rendered scikit-learn.org. See: https://github.com/scikit-learn/scikit-learn/issues/21755 */display: inline-block !important;position: relative;}#sk-container-id-2 div.sk-text-repr-fallback {display: none;}</style><div id=\"sk-container-id-2\" class=\"sk-top-container\"><div class=\"sk-text-repr-fallback\"><pre>KMeans(n_clusters=6, random_state=42)</pre><b>In a Jupyter environment, please rerun this cell to show the HTML representation or trust the notebook. <br />On GitHub, the HTML representation is unable to render, please try loading this page with nbviewer.org.</b></div><div class=\"sk-container\" hidden><div class=\"sk-item\"><div class=\"sk-estimator sk-toggleable\"><input class=\"sk-toggleable__control sk-hidden--visually\" id=\"sk-estimator-id-2\" type=\"checkbox\" checked><label for=\"sk-estimator-id-2\" class=\"sk-toggleable__label sk-toggleable__label-arrow\">KMeans</label><div class=\"sk-toggleable__content\"><pre>KMeans(n_clusters=6, random_state=42)</pre></div></div></div></div></div>"
      ]
     },
     "metadata": {},
     "execution_count": 214
    }
   ],
   "source": [
    "\n",
    "\n",
    "from sklearn.cluster import KMeans\n",
    "import matplotlib.pyplot as plt\n",
    "\n",
    "\n",
    "# example training data\n",
    "train_data = df['style'].apply(lambda x : calculate_embedding_style(x)).to_list()\n",
    "\n",
    "# create KMeans clustering model\n",
    "kmeans = KMeans(n_clusters=6, random_state=42)\n",
    "kmeans.fit(train_data)"
   ],
   "metadata": {
    "collapsed": false
   }
  },
  {
   "cell_type": "code",
   "execution_count": 217,
   "outputs": [],
   "source": [
    "# find a representative for each embedding\n",
    "styles = df['style'].apply(lambda x : calculate_embedding_style(x))\n",
    "labels = []\n",
    "\n",
    "for centroid, label in zip(kmeans.cluster_centers_, kmeans.labels_):\n",
    "  _max = 0\n",
    "  for i, style in enumerate(styles):\n",
    "    sim = util.cos_sim(centroid.astype(float), style.astype(float))\n",
    "\n",
    "    if sim > _max:\n",
    "      _max = sim\n",
    "      _index = i\n",
    "  labels.append(df['style'].iloc[_index])\n"
   ],
   "metadata": {
    "collapsed": false
   }
  },
  {
   "cell_type": "code",
   "execution_count": 219,
   "outputs": [
    {
     "output_type": "display_data",
     "data": {
      "text/plain": [
       "<Figure size 640x480 with 1 Axes>"
      ],
      "image/png": "[encoded data removed]"
     },
     "metadata": {}
    }
   ],
   "source": [
    "import matplotlib.pyplot as plt\n",
    "import numpy as np\n",
    "from sklearn.cluster import KMeans\n",
    "\n",
    "\n",
    "# Create a scatter plot for each cluster\n",
    "fig, ax = plt.subplots()\n",
    "for i in range(kmeans.n_clusters):\n",
    "    mask = kmeans.labels_ == i\n",
    "    plt.scatter(two_dim[mask, 0], two_dim[mask, 1],label=f'{labels[i]}')\n",
    "\n",
    "\n",
    "# Set axis labels and title\n",
    "ax.set_xlabel('X-axis')\n",
    "ax.set_ylabel('Y-axis')\n",
    "ax.set_title('K-means clustering')\n",
    "\n",
    "# Add legend\n",
    "ax.legend()\n",
    "\n",
    "plt.show()"
   ],
   "metadata": {
    "collapsed": false
   }
  },
  {
   "cell_type": "code",
   "execution_count": null,
   "outputs": [],
   "source": [],
   "metadata": {
    "collapsed": false
   }
  }
 ],
 "metadata": {
  "kernelspec": {
   "display_name": "Python 3",
   "language": "python",
   "name": "python3"
  },
  "language_info": {
   "codemirror_mode": {
    "name": "ipython",
    "version": 2
   },
   "file_extension": ".py",
   "mimetype": "text/x-python",
   "name": "python",
   "nbconvert_exporter": "python",
   "pygments_lexer": "ipython2",
   "version": "2.7.6"
  }
 },
 "nbformat": 4,
 "nbformat_minor": 0
}
