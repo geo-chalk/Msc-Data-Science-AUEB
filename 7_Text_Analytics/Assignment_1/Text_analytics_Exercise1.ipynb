{
  "cells": [
    {
      "cell_type": "markdown",
      "metadata": {
        "id": "9ea1d812-8e93-44a2-9807-bf564e6689ed"
      },
      "source": [
        "# Imports"
      ],
      "id": "9ea1d812-8e93-44a2-9807-bf564e6689ed"
    },
    {
      "cell_type": "code",
      "execution_count": null,
      "metadata": {
        "id": "c26137ed-9534-4d53-b63c-d57bf3a0ce71",
        "colab": {
          "base_uri": "https://localhost:8080/"
        },
        "outputId": "4eeda815-3d38-4f1b-dc92-78ec0251e6f3"
      },
      "outputs": [
        {
          "output_type": "stream",
          "name": "stdout",
          "text": [
            "Collecting fuzzywuzzy\n",
            "  Downloading fuzzywuzzy-0.18.0-py2.py3-none-any.whl (18 kB)\n",
            "Installing collected packages: fuzzywuzzy\n",
            "Successfully installed fuzzywuzzy-0.18.0\n"
          ]
        },
        {
          "output_type": "stream",
          "name": "stderr",
          "text": [
            "/usr/local/lib/python3.7/dist-packages/fuzzywuzzy/fuzz.py:11: UserWarning: Using slow pure-python SequenceMatcher. Install python-Levenshtein to remove this warning\n",
            "  warnings.warn('Using slow pure-python SequenceMatcher. Install python-Levenshtein to remove this warning')\n"
          ]
        }
      ],
      "source": [
        "# numpy stack\n",
        "import numpy as np\n",
        "import pandas as pd\n",
        "import matplotlib.pyplot as plt\n",
        "import seaborn as sns\n",
        "\n",
        "# general\n",
        "import re\n",
        "import math\n",
        "import random\n",
        "import unicodedata \n",
        "import string\n",
        "from collections import Counter\n",
        "from pprint import pprint\n",
        "import sys\n",
        "\n",
        "# nltk\n",
        "import nltk\n",
        "from nltk.util import ngrams\n",
        "from nltk.corpus import gutenberg\n",
        "from nltk.corpus import webtext\n",
        "\n",
        "# others\n",
        "!pip install fuzzywuzzy\n",
        "from fuzzywuzzy import fuzz\n",
        "from scipy.special import softmax\n",
        "\n",
        "# inline to include plots\n",
        "%matplotlib inline"
      ],
      "id": "c26137ed-9534-4d53-b63c-d57bf3a0ce71"
    },
    {
      "cell_type": "markdown",
      "metadata": {
        "id": "7WYumQ4of9Y_"
      },
      "source": [
        "# (i) Biagram & Trigram language model"
      ],
      "id": "7WYumQ4of9Y_"
    },
    {
      "cell_type": "markdown",
      "metadata": {
        "id": "RsosU-Tl-FRP"
      },
      "source": [
        "* In this senction we will implement a Biagram and a Trigram model, using the `gutenberg` corpus."
      ],
      "id": "RsosU-Tl-FRP"
    },
    {
      "cell_type": "markdown",
      "metadata": {
        "id": "2Ha5Fzq3iGCr"
      },
      "source": [
        "## Corpus Download\n",
        "\n",
        "* In order to train the model we need to download a corpus from the ones included in NLTK."
      ],
      "id": "2Ha5Fzq3iGCr"
    },
    {
      "cell_type": "code",
      "execution_count": null,
      "metadata": {
        "colab": {
          "base_uri": "https://localhost:8080/"
        },
        "id": "GeVmHOkOTBui",
        "outputId": "3e532b64-24fc-4b0d-d717-992a15a759cf"
      },
      "outputs": [
        {
          "output_type": "stream",
          "name": "stdout",
          "text": [
            "[nltk_data] Downloading package gutenberg to /root/nltk_data...\n",
            "[nltk_data]   Unzipping corpora/gutenberg.zip.\n",
            "[nltk_data] Downloading package punkt to /root/nltk_data...\n",
            "[nltk_data]   Unzipping tokenizers/punkt.zip.\n"
          ]
        },
        {
          "output_type": "execute_result",
          "data": {
            "text/plain": [
              "True"
            ]
          },
          "metadata": {},
          "execution_count": 2
        }
      ],
      "source": [
        "### Download if not imported\n",
        "nltk.download('gutenberg')\n",
        "nltk.download('punkt')\n",
        "\n",
        "# nltk.download('brown')\n",
        "# nltk.download('europarl_raw')\n",
        "# nltk.download('reuters')"
      ],
      "id": "GeVmHOkOTBui"
    },
    {
      "cell_type": "markdown",
      "metadata": {
        "id": "0e5f758c-8ef7-4a45-9330-bb05e9e51494"
      },
      "source": [
        "* NLTK includes a small selection of texts from the Project Gutenberg electronic text archive, which contains some 25,000 free electronic books, hosted at http://www.gutenberg.org/. We begin by getting the Python interpreter to load the NLTK package, then ask to see nltk.corpus.gutenberg.fileids(), the file identifiers in this corpus:"
      ],
      "id": "0e5f758c-8ef7-4a45-9330-bb05e9e51494"
    },
    {
      "cell_type": "code",
      "execution_count": null,
      "metadata": {
        "colab": {
          "base_uri": "https://localhost:8080/"
        },
        "id": "60419eb9-4287-468e-acaf-bb771fb8a79b",
        "outputId": "05bf955a-b8da-4b84-8e51-c05046b2c7e6"
      },
      "outputs": [
        {
          "output_type": "execute_result",
          "data": {
            "text/plain": [
              "['austen-emma.txt',\n",
              " 'austen-persuasion.txt',\n",
              " 'austen-sense.txt',\n",
              " 'blake-poems.txt',\n",
              " 'bryant-stories.txt',\n",
              " 'burgess-busterbrown.txt',\n",
              " 'carroll-alice.txt',\n",
              " 'chesterton-ball.txt',\n",
              " 'chesterton-brown.txt',\n",
              " 'chesterton-thursday.txt',\n",
              " 'edgeworth-parents.txt',\n",
              " 'melville-moby_dick.txt',\n",
              " 'milton-paradise.txt',\n",
              " 'shakespeare-caesar.txt',\n",
              " 'shakespeare-hamlet.txt',\n",
              " 'shakespeare-macbeth.txt',\n",
              " 'whitman-leaves.txt']"
            ]
          },
          "metadata": {},
          "execution_count": 3
        }
      ],
      "source": [
        "# load the package\n",
        "gutenberg_corpus = nltk.corpus.gutenberg.fileids()\n",
        "del gutenberg_corpus[3]\n",
        "\n",
        "# print files\n",
        "gutenberg_corpus"
      ],
      "id": "60419eb9-4287-468e-acaf-bb771fb8a79b"
    },
    {
      "cell_type": "code",
      "execution_count": null,
      "metadata": {
        "colab": {
          "base_uri": "https://localhost:8080/",
          "height": 70
        },
        "id": "0IKaEYEXijfW",
        "outputId": "32485460-dd0a-402c-dda1-0a131c39154c"
      },
      "outputs": [
        {
          "output_type": "execute_result",
          "data": {
            "text/plain": [
              "'[Emma by Jane Austen 1816]\\n\\nVOLUME I\\n\\nCHAPTER I\\n\\n\\nEmma Woodhouse, handsome, clever, and rich, with a comfortable home\\nand happy disposition, seemed to unite some of the best blessings\\nof existence; and had lived nearly twenty-one years in the world\\nwith very little to distress or vex her'"
            ],
            "application/vnd.google.colaboratory.intrinsic+json": {
              "type": "string"
            }
          },
          "metadata": {},
          "execution_count": 4
        }
      ],
      "source": [
        "# print first sentence\n",
        "gutenberg.raw(gutenberg_corpus[0]).split('.')[0]"
      ],
      "id": "0IKaEYEXijfW"
    },
    {
      "cell_type": "markdown",
      "metadata": {
        "id": "lKTVimGWh1-i"
      },
      "source": [
        "* Before proceeding we will combine the text from all files into one variable named `final_corpus`, lowering Capital letters in the process.\n",
        "* Moreover we will count the total number of words."
      ],
      "id": "lKTVimGWh1-i"
    },
    {
      "cell_type": "code",
      "execution_count": null,
      "metadata": {
        "id": "3a1a3150-f57d-44c0-86b6-515af81119d5"
      },
      "outputs": [],
      "source": [
        "final_corpus = ''\n",
        "for corpus in gutenberg_corpus:\n",
        "    text = gutenberg.raw(fileids=corpus)    \n",
        "    lower_text = text.lower()\n",
        "    final_corpus += lower_text"
      ],
      "id": "3a1a3150-f57d-44c0-86b6-515af81119d5"
    },
    {
      "cell_type": "code",
      "execution_count": null,
      "metadata": {
        "colab": {
          "base_uri": "https://localhost:8080/"
        },
        "id": "4b60e67a-0189-4d30-acf0-fe637ab8bda0",
        "outputId": "e4b7f076-48db-446d-e245-0d44b784563f"
      },
      "outputs": [
        {
          "output_type": "execute_result",
          "data": {
            "text/plain": [
              "1314109"
            ]
          },
          "metadata": {},
          "execution_count": 6
        }
      ],
      "source": [
        "len(final_corpus.split())"
      ],
      "id": "4b60e67a-0189-4d30-acf0-fe637ab8bda0"
    },
    {
      "cell_type": "markdown",
      "metadata": {
        "id": "b7f80759-2357-4771-876d-b5f9d27c363f"
      },
      "source": [
        "## Cleaning the Text\n",
        "\n",
        "In order to clean the text we will create two regexes as described below: \n",
        "1. We will only keep words (letters from a-z and sentence ending characters) removing punctuation and other characters.\n",
        "2. We will remove multiple white spaces and linebreaks."
      ],
      "id": "b7f80759-2357-4771-876d-b5f9d27c363f"
    },
    {
      "cell_type": "code",
      "execution_count": null,
      "metadata": {
        "id": "233a9837-67a5-45ad-aa9e-7db82b963cf4"
      },
      "outputs": [],
      "source": [
        "def text_cleaning(text: str) -> str: \n",
        "    \"\"\" Function to only keep words and sentence ending characters, remove punctuation and other characters and remove multiple white spaces.\"\"\"\n",
        "\n",
        "    corpus = re.sub(r'[^a-zA-Z.?!\\']', ' ', text)\n",
        "    corpus = corpus.replace('[', '')\n",
        "    corpus = corpus.replace(']', '.')\n",
        "    corpus = re.sub(r'[[]/$@^&*()€:΄]', ' ', corpus)\n",
        "    corpus = re.sub(' +', ' ', corpus)\n",
        "    corpus = corpus.replace('\\n', ' ')\n",
        "    return corpus"
      ],
      "id": "233a9837-67a5-45ad-aa9e-7db82b963cf4"
    },
    {
      "cell_type": "code",
      "execution_count": null,
      "metadata": {
        "colab": {
          "base_uri": "https://localhost:8080/"
        },
        "id": "8e0da2ba-67b1-4ddf-a5cb-7c2110b51e8f",
        "outputId": "6b40a7df-693d-45e5-9853-153de48fc740"
      },
      "outputs": [
        {
          "output_type": "stream",
          "name": "stdout",
          "text": [
            "Before Cleaning: [emma by jane austen 1816]\n",
            "\n",
            "volume i\n",
            "\n",
            "chapter i\n",
            "\n",
            "\n",
            "emma woodhouse, handsome, clever, and rich, with a comfortable home\n",
            "and happy disposition, seemed to\n",
            "\n",
            "After Cleaning:  emma by jane austen volume i chapter i emma woodhouse handsome clever and rich with a comfortable home and happy disposition seemed to unite some of \n"
          ]
        },
        {
          "output_type": "stream",
          "name": "stderr",
          "text": [
            "/usr/local/lib/python3.7/dist-packages/ipykernel_launcher.py:7: FutureWarning: Possible nested set at position 1\n",
            "  import sys\n"
          ]
        }
      ],
      "source": [
        "print(f'Before Cleaning: {final_corpus[:150]}', end='\\n\\n')\n",
        "final_corpus = text_cleaning(final_corpus)\n",
        "\n",
        "# Print the first sentence of the corpus\n",
        "print(f'After Cleaning: {final_corpus[:150]}')"
      ],
      "id": "8e0da2ba-67b1-4ddf-a5cb-7c2110b51e8f"
    },
    {
      "cell_type": "markdown",
      "metadata": {
        "id": "XTXZei0r6Lu5"
      },
      "source": [
        "## Tokenize str input\n",
        "\n",
        "* We now will transform the string input into a list, with each item containing one sentence of the corpus input, using the [`sent_tokenize`](https://www.nltk.org/api/nltk.tokenize.html) function."
      ],
      "id": "XTXZei0r6Lu5"
    },
    {
      "cell_type": "code",
      "execution_count": null,
      "metadata": {
        "id": "1b50eed8-ec14-4c9b-8e98-c9e399a31f1a"
      },
      "outputs": [],
      "source": [
        "def sentence_tokenization(text: str) -> list:\n",
        "    \"\"\" Function that uses ntlk's sent_tokenize function. 'Tokenizers divide strings into lists of substrings.' \"\"\"\n",
        "    sentence_list = nltk.sent_tokenize(''.join(text))\n",
        "    return sentence_list"
      ],
      "id": "1b50eed8-ec14-4c9b-8e98-c9e399a31f1a"
    },
    {
      "cell_type": "code",
      "execution_count": null,
      "metadata": {
        "colab": {
          "base_uri": "https://localhost:8080/"
        },
        "id": "913f5309-4fec-4154-a7e6-5918fe4bc69c",
        "outputId": "fe0986d8-2a06-4a30-f206-cd1b18c4df77"
      },
      "outputs": [
        {
          "output_type": "stream",
          "name": "stdout",
          "text": [
            "she was the youngest of the two daughters of a most affectionate indulgent father and had in consequence of her sister's marriage been mistress of his house from a very early period.\n"
          ]
        }
      ],
      "source": [
        "sentence_list = sentence_tokenization(final_corpus)\n",
        "\n",
        "# Print the first two sentences of the corpus\n",
        "print(sentence_list[1])"
      ],
      "id": "913f5309-4fec-4154-a7e6-5918fe4bc69c"
    },
    {
      "cell_type": "markdown",
      "metadata": {
        "id": "A8Yixvro6Rdd"
      },
      "source": [
        "## Word tokenize\n",
        "\n",
        "* For every sentence in the tokenized list, we will run the [`word_tokenize`](https://www.nltk.org/api/nltk.tokenize.html) function, which will split each list into words. We will iterate through all the sentences, as shown below:"
      ],
      "id": "A8Yixvro6Rdd"
    },
    {
      "cell_type": "code",
      "execution_count": null,
      "metadata": {
        "colab": {
          "base_uri": "https://localhost:8080/"
        },
        "id": "74a274bb-f81a-4a13-ba7b-2e90619afb6c",
        "outputId": "6b7cab19-1e9a-460c-9fd8-015edb5bb93a"
      },
      "outputs": [
        {
          "output_type": "stream",
          "name": "stdout",
          "text": [
            "['she', 'was', 'the', 'youngest', 'of', 'the', 'two', 'daughters', 'of', 'a', 'most', 'affectionate', 'indulgent', 'father', 'and', 'had', 'in', 'consequence', 'of', 'her', 'sister', \"'s\", 'marriage', 'been', 'mistress', 'of', 'his', 'house', 'from', 'a', 'very', 'early', 'period', '.']\n"
          ]
        }
      ],
      "source": [
        "def word_tokenization(text: str) -> list:\n",
        "    \"\"\" Function that applies word_tokenize if a given sentence.\"\"\"\n",
        "    words = nltk.word_tokenize(text)\n",
        "    return words\n",
        "\n",
        "# Run it for every entry in the sentence_list\n",
        "corpus_in_list_of_words = [word_tokenization(f) for f in sentence_list]\n",
        "\n",
        "# Print the first sentence of the corpus\n",
        "print([i for i in corpus_in_list_of_words[1]])"
      ],
      "id": "74a274bb-f81a-4a13-ba7b-2e90619afb6c"
    },
    {
      "cell_type": "markdown",
      "metadata": {
        "id": "haCHhkGc-Zty"
      },
      "source": [
        "## Train-Test Split\n",
        "\n",
        "* Having pre-processed the Corpus we will split the sentences into Three parts. One for training, one for validation and one for testing."
      ],
      "id": "haCHhkGc-Zty"
    },
    {
      "cell_type": "code",
      "execution_count": null,
      "metadata": {
        "id": "bdbeef71-3097-494c-ab61-8b4e8066650a"
      },
      "outputs": [],
      "source": [
        "# Set random seed for reproducibility \n",
        "random.seed(1)\n",
        "\n",
        "# Shuffle and calculate split length\n",
        "random.shuffle(corpus_in_list_of_words)\n",
        "train_length = math.floor(0.6 * len(corpus_in_list_of_words))\n",
        "dev_length   = test_length = math.floor(0.2 * len(corpus_in_list_of_words))"
      ],
      "id": "bdbeef71-3097-494c-ab61-8b4e8066650a"
    },
    {
      "cell_type": "code",
      "execution_count": null,
      "metadata": {
        "id": "258e7a69-a856-45a7-b2db-a7759f44c00a"
      },
      "outputs": [],
      "source": [
        "train_corpus = [f for f in corpus_in_list_of_words[0 : train_length]]\n",
        "dev_corpus   = [f for f in corpus_in_list_of_words[train_length : train_length + dev_length]]\n",
        "test_corpus  = [f for f in corpus_in_list_of_words[train_length + dev_length:]]"
      ],
      "id": "258e7a69-a856-45a7-b2db-a7759f44c00a"
    },
    {
      "cell_type": "markdown",
      "metadata": {
        "id": "5s3ua0lCFDxw"
      },
      "source": [
        "## Create and count n-grams frequency (NLTK), Vocabulary, OOV Words\n",
        "\n",
        "* In the next part of the code we will create and count n-grams frequencym for unigrams, biagrams and triagrams using [`nltk.util`](https://www.nltk.org/_modules/nltk/util.html).\n",
        "* Moreover, using the unigram count, we will build the Vocabulary, which will consist words that appear at least 10 times in the *training* subset.\n",
        "* All the out-of-vocabulary (OOV) words, will be replaced by a special token *UNK*."
      ],
      "id": "5s3ua0lCFDxw"
    },
    {
      "cell_type": "code",
      "execution_count": null,
      "metadata": {
        "id": "91cf9951-3670-4b51-bf67-826811052dce"
      },
      "outputs": [],
      "source": [
        "def calc_unigrams(corpus: list) -> Counter:\n",
        "    \"\"\" Function that returns a Unigram Counter of a given corpus.\"\"\"\n",
        "    unigram_counter = Counter()\n",
        "    for sentence in corpus:\n",
        "        unigram_counter.update([gram for gram in ngrams(sentence, 1, pad_left=True, pad_right=True, left_pad_symbol='<s>', right_pad_symbol='<e>')])\n",
        "    return unigram_counter\n",
        "\n",
        "def calc_bigrams(corpus: list) -> Counter:\n",
        "    \"\"\" Function that returns a Biagram Counter of a given corpus.\"\"\"\n",
        "    bigram_counter = Counter()\n",
        "    for sentence in corpus:\n",
        "        bigram_counter.update([gram for gram in ngrams(sentence, 2, pad_left=True, pad_right=True, left_pad_symbol='<s>', right_pad_symbol='<e>')])\n",
        "    return bigram_counter\n",
        "\n",
        "\n",
        "def calc_trigrams(corpus: list) -> Counter:\n",
        "    \"\"\" Function that returns a Trigram Counter of a given corpus.\"\"\"\n",
        "    trigram_counter = Counter()\n",
        "    for sentence in corpus:\n",
        "        trigram_counter.update([gram for gram in ngrams(sentence, 3, pad_left=True, pad_right=True, left_pad_symbol='<s>', right_pad_symbol='<e>')])\n",
        "    return trigram_counter"
      ],
      "id": "91cf9951-3670-4b51-bf67-826811052dce"
    },
    {
      "cell_type": "code",
      "execution_count": null,
      "metadata": {
        "id": "7ee8264a-d738-42e9-8305-a02f518f1d68"
      },
      "outputs": [],
      "source": [
        "def replace_oov_words_train(corpus):\n",
        "    \"\"\" Function that calculates and replaces OOV words.\n",
        "    INPUT: Train corpus (list)\n",
        "    OUTPUT: \n",
        "      OOV_word: dict with key containing OOC words and value the str 'UNK' -> dict\n",
        "      clean_corpus: the original corpus having the OOV words replaced by 'UNK' -> list\n",
        "      vocabulary: the words contained in the vocabulary -> set\n",
        "    \"\"\"\n",
        "\n",
        "    unigram_counter = calc_unigrams(corpus)\n",
        "    OOV_words = {k[0]:\"UNK\" for k, v in unigram_counter.items() if v < 10}\n",
        "    clean_corpus = []\n",
        "    for sentence in corpus:\n",
        "        clean_corpus.append([OOV_words.get(n,n) for n in sentence])\n",
        "    vocabulary = [f[0] for f in unigram_counter.keys() if f[0] not in OOV_words]\n",
        "    vocabulary = set(vocabulary) # set for unique words\n",
        "    return OOV_words, clean_corpus, vocabulary"
      ],
      "id": "7ee8264a-d738-42e9-8305-a02f518f1d68"
    },
    {
      "cell_type": "code",
      "execution_count": null,
      "metadata": {
        "id": "b5067fad-ca1b-4cd3-aa5c-1d803561c243"
      },
      "outputs": [],
      "source": [
        "oov_words, clean_corpus, vocabulary = replace_oov_words_train(train_corpus)"
      ],
      "id": "b5067fad-ca1b-4cd3-aa5c-1d803561c243"
    },
    {
      "cell_type": "code",
      "execution_count": null,
      "metadata": {
        "colab": {
          "base_uri": "https://localhost:8080/"
        },
        "id": "lj5gpUeFIgtP",
        "outputId": "35db2eb7-e1cd-4f69-af6d-22e959ab5097"
      },
      "outputs": [
        {
          "output_type": "execute_result",
          "data": {
            "text/plain": [
              "['seafaring',\n",
              " 'noxious',\n",
              " 'agh',\n",
              " 'millar',\n",
              " 'halcyon',\n",
              " 'marbles',\n",
              " 'tricycle',\n",
              " 'godlike',\n",
              " 'reticulations',\n",
              " 'groanes']"
            ]
          },
          "metadata": {},
          "execution_count": 17
        }
      ],
      "source": [
        "# print some random OOV words\n",
        "random.sample(list(oov_words.keys()), 10)"
      ],
      "id": "lj5gpUeFIgtP"
    },
    {
      "cell_type": "markdown",
      "metadata": {
        "id": "WJE4JvYsNgbc"
      },
      "source": [
        "* Having found the OOV words and build the vocabulary, we can replace the OOV words in the remaining sets (dev, test)"
      ],
      "id": "WJE4JvYsNgbc"
    },
    {
      "cell_type": "code",
      "execution_count": null,
      "metadata": {
        "id": "e1b16bd8-154c-4f11-a0b7-b7939e4c6c6a"
      },
      "outputs": [],
      "source": [
        "def replace_oov_words_dev_test(corpus, vocabulary, oov_words):\n",
        "    clean_corpus = []\n",
        "    for sentence in corpus:\n",
        "        updated_sentence = ['UNK' if ((word not in vocabulary) or (word in oov_words)) else word for word in sentence]\n",
        "        clean_corpus.append(updated_sentence)\n",
        "    return clean_corpus"
      ],
      "id": "e1b16bd8-154c-4f11-a0b7-b7939e4c6c6a"
    },
    {
      "cell_type": "code",
      "execution_count": null,
      "metadata": {
        "id": "9b9eaa81-b130-43e1-8dd4-ef2249a92312"
      },
      "outputs": [],
      "source": [
        "dev_corpus = replace_oov_words_dev_test(dev_corpus, vocabulary, oov_words)\n",
        "test_corpus = replace_oov_words_dev_test(test_corpus, vocabulary, oov_words)"
      ],
      "id": "9b9eaa81-b130-43e1-8dd4-ef2249a92312"
    },
    {
      "cell_type": "markdown",
      "metadata": {
        "id": "3LnszPsdNw8y"
      },
      "source": [
        "* Finally we can calculate the various n-grams, in the training set, as well as the Vocabulary length."
      ],
      "id": "3LnszPsdNw8y"
    },
    {
      "cell_type": "code",
      "execution_count": null,
      "metadata": {
        "id": "bf7e067b-6d14-4ea0-a069-1fef29fabd7c"
      },
      "outputs": [],
      "source": [
        "vocabulary_length = len(vocabulary)\n",
        "unigram_counter = calc_unigrams(train_corpus)\n",
        "bigram_counter = calc_bigrams(train_corpus)\n",
        "trigram_counter = calc_trigrams(train_corpus)"
      ],
      "id": "bf7e067b-6d14-4ea0-a069-1fef29fabd7c"
    },
    {
      "cell_type": "code",
      "execution_count": null,
      "metadata": {
        "colab": {
          "base_uri": "https://localhost:8080/"
        },
        "id": "9f195717-fe98-44c6-a1fb-e8cdfa526675",
        "outputId": "bf651c1b-be2c-4507-f7fb-92fb04f6d646"
      },
      "outputs": [
        {
          "output_type": "stream",
          "name": "stdout",
          "text": [
            "Vocabulary Length: 5932\n",
            "========================= \n",
            "Unigram 10 most common:\n",
            "[(('the',), 41885),\n",
            " (('.',), 30625),\n",
            " (('and',), 26114),\n",
            " (('of',), 22028),\n",
            " (('to',), 20517),\n",
            " (('a',), 15413),\n",
            " (('i',), 12804),\n",
            " (('in',), 12476),\n",
            " (('that',), 9546),\n",
            " (('it',), 9529)]\n",
            "========================= \n",
            "Bigram 10 most common:\n",
            "[(('.', '<e>'), 30392),\n",
            " (('!', '<e>'), 4846),\n",
            " (('of', 'the'), 4571),\n",
            " (('?', '<e>'), 4105),\n",
            " (('in', 'the'), 3138),\n",
            " (('<s>', 'i'), 3075),\n",
            " (('<s>', 'the'), 2366),\n",
            " (('to', 'the'), 1966),\n",
            " (('<s>', 'he'), 1726),\n",
            " (('to', 'be'), 1661)]\n",
            "========================= \n",
            "Trigram 10 most common:\n",
            "[(('.', '<e>', '<e>'), 30392),\n",
            " (('!', '<e>', '<e>'), 4846),\n",
            " (('?', '<e>', '<e>'), 4105),\n",
            " (('<s>', '<s>', 'i'), 3075),\n",
            " (('<s>', '<s>', 'the'), 2366),\n",
            " (('<s>', '<s>', 'he'), 1726),\n",
            " (('<s>', '<s>', 'but'), 1644),\n",
            " (('<s>', '<s>', 'and'), 1280),\n",
            " (('<s>', '<s>', 'it'), 1255),\n",
            " (('<s>', '<s>', 'she'), 938)]\n"
          ]
        }
      ],
      "source": [
        "print(f'Vocabulary Length: {vocabulary_length}')\n",
        "print('='*25, '\\nUnigram 10 most common:')\n",
        "pprint(unigram_counter.most_common(10))\n",
        "print('='*25, '\\nBigram 10 most common:')\n",
        "pprint(bigram_counter.most_common(10))\n",
        "print('='*25, '\\nTrigram 10 most common:')\n",
        "pprint(trigram_counter.most_common(10))"
      ],
      "id": "9f195717-fe98-44c6-a1fb-e8cdfa526675"
    },
    {
      "cell_type": "markdown",
      "source": [
        "We observe here that the bigram (('the', 'lord'), 4269) is one of the 10 most common."
      ],
      "metadata": {
        "id": "W1dBATRylal2"
      },
      "id": "W1dBATRylal2"
    },
    {
      "cell_type": "markdown",
      "metadata": {
        "id": "e53f62be-8c30-4a26-9ca2-17075d9af6b7"
      },
      "source": [
        "# (ii) Language cross-entropy and perplexity of Bigram and Trigram model\n"
      ],
      "id": "e53f62be-8c30-4a26-9ca2-17075d9af6b7"
    },
    {
      "cell_type": "markdown",
      "metadata": {
        "id": "NgcgtcNhX3MI"
      },
      "source": [
        "* Using Laplace smoothing and the dev set as a single sequece of sentences, we will calculate the n-gram probabilities, by summing the logs. Logs are used as they are more convinient, compared to the product, since the product of many probabilities might result in underfloat events.\n",
        "* We  will add *start* (or *start1*, *start2*) at the beginning of each sentence, and *end* at the end of each sentence.\n",
        "* Probabilities of the form P(*start*$\\vert$…) or P(*start1*$\\vert$…), P(*start2*$\\vert$…) will be excluded in the computation of cross-entropy and perplexity.\n",
        "* Finally, in order to achieve the best results possible we will tune the parameter $\\alpha$ of a-smoothing."
      ],
      "id": "NgcgtcNhX3MI"
    },
    {
      "cell_type": "code",
      "execution_count": null,
      "metadata": {
        "id": "4bbc149d-4e03-4644-a698-06d2245ab04b"
      },
      "outputs": [],
      "source": [
        "def calc_bi_prob(word1: str, word2: str, alpha: float, bigram_counter: Counter, unigram_counter: Counter, vocabulary_length: int) -> float:\n",
        "    \"\"\" Function that calculates the Bigram model's probabilities using Laplace & a-smoothing.\"\"\"\n",
        "    #Bigram prob + laplace smoothing\n",
        "    bigram_prob = (bigram_counter[(word1, word2)] + alpha) / (unigram_counter[(word1,)] + alpha * vocabulary_length)\n",
        "    return bigram_prob"
      ],
      "id": "4bbc149d-4e03-4644-a698-06d2245ab04b"
    },
    {
      "cell_type": "code",
      "execution_count": null,
      "metadata": {
        "id": "ac58297c-0dc7-4b73-a145-f85c2b978757"
      },
      "outputs": [],
      "source": [
        "def calc_tri_prob(word1: str, word2: str, word3:str, alpha: float, trigram_counter:Counter, bigram_counter:Counter, vocabulary_length: int) -> float:\n",
        "    \"\"\" Function that calculates the Trigram model's probabilities using Laplace & a-smoothing.\"\"\"\n",
        "    #Bigram prob + laplace smoothing\n",
        "    trigram_prob = (trigram_counter[(word1, word2, word3)] +alpha) / (bigram_counter[(word1, word2)] + alpha * vocabulary_length)\n",
        "    return trigram_prob"
      ],
      "id": "ac58297c-0dc7-4b73-a145-f85c2b978757"
    },
    {
      "cell_type": "markdown",
      "source": [
        "* Bigram model perplexity/entropy in dev set."
      ],
      "metadata": {
        "id": "QYQ6TCIpas6K"
      },
      "id": "QYQ6TCIpas6K"
    },
    {
      "cell_type": "code",
      "execution_count": null,
      "metadata": {
        "colab": {
          "base_uri": "https://localhost:8080/"
        },
        "id": "35fcb4fd-d810-4769-8051-177214de66b7",
        "outputId": "fcaedc3e-b415-43d4-d9fe-2f0c417c6636"
      },
      "outputs": [
        {
          "output_type": "stream",
          "name": "stdout",
          "text": [
            "The lowest perplexity/entropy regarding bigram model is : 336.397 / 8.394 at alpha= 0.017\n"
          ]
        }
      ],
      "source": [
        "# initialize variables\n",
        "perpl = []\n",
        "HC_list = []\n",
        "min, pos = 1, 0\n",
        "min_range_bi = []\n",
        "alpha_list = np.linspace(0.001,0.1,100)\n",
        "\n",
        "for i, alpha in enumerate(alpha_list):\n",
        "\n",
        "    sum_prob = 0\n",
        "    bigram_cnt = 0\n",
        "    for sent in dev_corpus:\n",
        "        sent = ['<s>']  + sent + ['<e>']\n",
        "        for idx in range(1,len(sent)):\n",
        "            bigram_prob = calc_bi_prob(word1=sent[idx-1], word2=sent[idx], alpha=alpha, bigram_counter=bigram_counter, unigram_counter=unigram_counter, vocabulary_length=vocabulary_length)\n",
        "            sum_prob += math.log2(bigram_prob)\n",
        "            bigram_cnt+=1\n",
        "\n",
        "    HC_list.append(-sum_prob / bigram_cnt)\n",
        "    perpl.append(math.pow(2,(-sum_prob / bigram_cnt)))\n",
        "\n",
        "    if i == 0:\n",
        "        min_entrp = -sum_prob / bigram_cnt\n",
        "    elif (-sum_prob / bigram_cnt) <= min_entrp:\n",
        "        min_range_bi.append(i)\n",
        "\n",
        "perpl_bi = np.array(perpl)\n",
        "entropy_bi = np.array(HC_list)\n",
        "best_alpha_bi = alpha_list[np.argmin(perpl)]\n",
        "\n",
        "print(f\"The lowest perplexity/entropy regarding bigram model is : {round(np.min(perpl_bi),3)} / {round(np.min(entropy_bi),3)} at alpha= {np.round(best_alpha_bi, 3)}\")"
      ],
      "id": "35fcb4fd-d810-4769-8051-177214de66b7"
    },
    {
      "cell_type": "markdown",
      "source": [
        "* Trigram model perplexity/entropy in dev set."
      ],
      "metadata": {
        "id": "YDjNwa15ay-Q"
      },
      "id": "YDjNwa15ay-Q"
    },
    {
      "cell_type": "code",
      "execution_count": null,
      "metadata": {
        "colab": {
          "base_uri": "https://localhost:8080/"
        },
        "id": "af6c4901-858b-4e7a-a2da-49ca25a71ab2",
        "outputId": "19cd8d78-babb-4cf9-f55a-b4532e31374c"
      },
      "outputs": [
        {
          "output_type": "stream",
          "name": "stdout",
          "text": [
            "The lowest perplexity / entropy regarding trigram model is : 694.189 / 9.439 at alpha= 0.004\n"
          ]
        }
      ],
      "source": [
        "# initialize variables\n",
        "perpl = []\n",
        "HC_list = []\n",
        "min_range_tri = []\n",
        "alpha_list = np.linspace(0.001,0.1,100)\n",
        "\n",
        "\n",
        "for i, alpha in enumerate(alpha_list):\n",
        "\n",
        "    sum_prob = 0\n",
        "    trigram_cnt = 0\n",
        "    for sent in dev_corpus:\n",
        "        sent = ['<s>'] + ['<s>'] + sent + ['<e>'] + ['<e>']\n",
        "        for idx in range(2,len(sent)):\n",
        "            trigram_prob = calc_tri_prob(word1=sent[idx-2], word2=sent[idx-1], word3=sent[idx], alpha=alpha, trigram_counter=trigram_counter, bigram_counter=bigram_counter, vocabulary_length=vocabulary_length)\n",
        "            sum_prob += math.log2(trigram_prob)\n",
        "            trigram_cnt+=1\n",
        "\n",
        "    # append Cross-entropy and perplexity\n",
        "    HC_list.append(-sum_prob / trigram_cnt)\n",
        "    perpl.append(math.pow(2,(-sum_prob / trigram_cnt)))\n",
        "\n",
        "    if i == 0:\n",
        "        min_entrp = -sum_prob / trigram_cnt\n",
        "    elif (-sum_prob / trigram_cnt) <= min_entrp:\n",
        "        min_range_tri.append(i)\n",
        "\n",
        "perpl_tri = np.array(perpl)\n",
        "entropy_tri = np.array(HC_list)\n",
        "best_alpha_tri = alpha_list[np.argmin(perpl_tri)]\n",
        "\n",
        "print(f\"The lowest perplexity / entropy regarding trigram model is : {round(np.min(perpl_tri),3)} / {round(np.min(entropy_tri),3)} at alpha= {np.round(best_alpha_tri, 3)}\")"
      ],
      "id": "af6c4901-858b-4e7a-a2da-49ca25a71ab2"
    },
    {
      "cell_type": "code",
      "source": [
        "# Find plot range\n",
        "plot_range = max(int(min_range_tri[-1]),int(min_range_bi[-1]))\n",
        "\n",
        "# define plot parameters for bigrama dn trigram\n",
        "pos_bi = np.argmin(perpl_bi)\n",
        "alpha_range_zoom_bi, perpl_zoom_bi = alpha_list[:plot_range], perpl_bi[:plot_range]\n",
        "pos_tri = np.argmin(perpl_tri)\n",
        "alpha_range_zoom_tri, perpl_zoom_tri = alpha_list[:plot_range], perpl_tri[:plot_range]\n",
        "\n",
        "\n",
        "# Plot the results\n",
        "fig = plt.figure(figsize=(10,7))\n",
        "ax = fig.add_subplot(111)\n",
        "\n",
        "# Bigram plot\n",
        "ax.plot(alpha_range_zoom_bi, perpl_zoom_bi, label='Perplexity (bigram)', color='#1f77b4')   \n",
        "ax.scatter(alpha_range_zoom_bi[pos_bi], perpl_zoom_bi[pos_bi], c='r', label='Lowest Perplexity point (bigram)', marker='x', s=150)\n",
        "ax.annotate(f\"Min Perplexity = {perpl_zoom_bi[pos_bi]:.3f}\", xy=(alpha_range_zoom_bi[pos_bi]-0.007, perpl_zoom_bi[pos_bi]+15), fontsize=12)\n",
        "ax.set_xlabel('α', fontsize=15)\n",
        "ax.set_ylabel('Perplexity', fontsize=15)\n",
        "\n",
        "\n",
        "# Trigram plot and twin axes\n",
        "# ax2 = ax.twinx()\n",
        "ax.plot(alpha_range_zoom_tri, perpl_zoom_tri, label='Perplexity (trigram)', color='orange')   \n",
        "ax.scatter(alpha_range_zoom_tri[pos_tri], perpl_zoom_tri[pos_tri], c='g', label='Lowest Perplexity point (trigram)', marker='x', s=150)\n",
        "ax.annotate(f\"Min Perplexity = {perpl_zoom_tri[pos_tri]:.3f}\", xy=(alpha_range_zoom_tri[pos_tri]-0.0009, perpl_zoom_tri[pos_tri]-30), fontsize=12)\n",
        "\n",
        "# set title and legend\n",
        "ax.set_title('Perplexity vs Alpha for bigram and trigram models.', fontsize=18)\n",
        "_ = ax.legend(loc='upper left')\n"
      ],
      "metadata": {
        "colab": {
          "base_uri": "https://localhost:8080/",
          "height": 467
        },
        "id": "dBVjOlnDdSaH",
        "outputId": "6e46408c-192f-4389-de25-c44369db715b"
      },
      "id": "dBVjOlnDdSaH",
      "execution_count": null,
      "outputs": [
        {
          "output_type": "display_data",
          "data": {
            "text/plain": [
              "<Figure size 720x504 with 1 Axes>"
            ],
            "image/png": "[encoded data removed]"
          },
          "metadata": {
            "needs_background": "light"
          }
        }
      ]
    },
    {
      "cell_type": "markdown",
      "metadata": {
        "id": "a133de00-64a5-4dd2-9c8c-de08c8fdf28d"
      },
      "source": [
        "## Testing the language models"
      ],
      "id": "a133de00-64a5-4dd2-9c8c-de08c8fdf28d"
    },
    {
      "cell_type": "markdown",
      "source": [
        "* Having found the optimal value of $\\alpha$ for our models, we will proceed with evaluating the models, using previously unseen sentences.\n",
        "* We will not include probabilities in the form of P(*start*$\\vert$…) and P(*\\start1*$\\vert$…), P(*start2*$\\vert$…) but will cound *end* tokens in the total length N of the test corpus."
      ],
      "metadata": {
        "id": "JzvIkmnysSGv"
      },
      "id": "JzvIkmnysSGv"
    },
    {
      "cell_type": "code",
      "execution_count": null,
      "metadata": {
        "id": "e2c360a2-7d50-42e1-8622-d0d2d40e106a"
      },
      "outputs": [],
      "source": [
        "sum_prob = 0\n",
        "log_prob_bigram_correct=[]\n",
        "for sent in test_corpus:\n",
        "    sent = ['<s>']  + sent + ['<e>']\n",
        "    for idx in range(1,len(sent)):\n",
        "        bigram_prob = calc_bi_prob(word1=sent[idx-1], word2=sent[idx], alpha=best_alpha_bi, bigram_counter=bigram_counter, unigram_counter=unigram_counter, vocabulary_length=vocabulary_length)\n",
        "        sum_prob += math.log2(bigram_prob)\n",
        "        bigram_cnt+=1  \n",
        "    log_prob_bigram_correct.append(sum_prob)\n",
        "    sum_prob = 0"
      ],
      "id": "e2c360a2-7d50-42e1-8622-d0d2d40e106a"
    },
    {
      "cell_type": "code",
      "execution_count": null,
      "metadata": {
        "id": "6fdd6675-64d0-4243-9852-5d572b3c519d",
        "colab": {
          "base_uri": "https://localhost:8080/",
          "height": 285
        },
        "outputId": "5df844d4-c724-43a1-efb8-fb83724c1f1d"
      },
      "outputs": [
        {
          "output_type": "execute_result",
          "data": {
            "text/plain": [
              "                                                                                                                                         Correct Sentence  \\\n",
              "0  [how, came, they, acquainted, ?]                                                                                                                         \n",
              "1  [for, himself, .]                                                                                                                                        \n",
              "2  [talbot, for, ever, !]                                                                                                                                   \n",
              "3  [UNK, UNK, why, do, you, shew, me, this, ?]                                                                                                              \n",
              "4  [the, horse, kept, his, good, pace, and, by, noon, the, towers, of, the, castle, stood, out, against, the, sky, much, nearer, and, more, beautiful, .]   \n",
              "\n",
              "   Log Probability Correct  \n",
              "0 -38.119949                \n",
              "1 -9.034187                 \n",
              "2 -20.831215                \n",
              "3 -82.643206                \n",
              "4 -203.721381               "
            ],
            "text/html": [
              "\n",
              "  <div id=\"df-1cc75072-688f-43f1-80c2-4cf6d6ceac3c\">\n",
              "    <div class=\"colab-df-container\">\n",
              "      <div>\n",
              "<style scoped>\n",
              "    .dataframe tbody tr th:only-of-type {\n",
              "        vertical-align: middle;\n",
              "    }\n",
              "\n",
              "    .dataframe tbody tr th {\n",
              "        vertical-align: top;\n",
              "    }\n",
              "\n",
              "    .dataframe thead th {\n",
              "        text-align: right;\n",
              "    }\n",
              "</style>\n",
              "<table border=\"1\" class=\"dataframe\">\n",
              "  <thead>\n",
              "    <tr style=\"text-align: right;\">\n",
              "      <th></th>\n",
              "      <th>Correct Sentence</th>\n",
              "      <th>Log Probability Correct</th>\n",
              "    </tr>\n",
              "  </thead>\n",
              "  <tbody>\n",
              "    <tr>\n",
              "      <th>0</th>\n",
              "      <td>[how, came, they, acquainted, ?]</td>\n",
              "      <td>-38.119949</td>\n",
              "    </tr>\n",
              "    <tr>\n",
              "      <th>1</th>\n",
              "      <td>[for, himself, .]</td>\n",
              "      <td>-9.034187</td>\n",
              "    </tr>\n",
              "    <tr>\n",
              "      <th>2</th>\n",
              "      <td>[talbot, for, ever, !]</td>\n",
              "      <td>-20.831215</td>\n",
              "    </tr>\n",
              "    <tr>\n",
              "      <th>3</th>\n",
              "      <td>[UNK, UNK, why, do, you, shew, me, this, ?]</td>\n",
              "      <td>-82.643206</td>\n",
              "    </tr>\n",
              "    <tr>\n",
              "      <th>4</th>\n",
              "      <td>[the, horse, kept, his, good, pace, and, by, noon, the, towers, of, the, castle, stood, out, against, the, sky, much, nearer, and, more, beautiful, .]</td>\n",
              "      <td>-203.721381</td>\n",
              "    </tr>\n",
              "  </tbody>\n",
              "</table>\n",
              "</div>\n",
              "      <button class=\"colab-df-convert\" onclick=\"convertToInteractive('df-1cc75072-688f-43f1-80c2-4cf6d6ceac3c')\"\n",
              "              title=\"Convert this dataframe to an interactive table.\"\n",
              "              style=\"display:none;\">\n",
              "        \n",
              "  <svg xmlns=\"http://www.w3.org/2000/svg\" height=\"24px\"viewBox=\"0 0 24 24\"\n",
              "       width=\"24px\">\n",
              "    <path d=\"M0 0h24v24H0V0z\" fill=\"none\"/>\n",
              "    <path d=\"M18.56 5.44l.94 2.06.94-2.06 2.06-.94-2.06-.94-.94-2.06-.94 2.06-2.06.94zm-11 1L8.5 8.5l.94-2.06 2.06-.94-2.06-.94L8.5 2.5l-.94 2.06-2.06.94zm10 10l.94 2.06.94-2.06 2.06-.94-2.06-.94-.94-2.06-.94 2.06-2.06.94z\"/><path d=\"M17.41 7.96l-1.37-1.37c-.4-.4-.92-.59-1.43-.59-.52 0-1.04.2-1.43.59L10.3 9.45l-7.72 7.72c-.78.78-.78 2.05 0 2.83L4 21.41c.39.39.9.59 1.41.59.51 0 1.02-.2 1.41-.59l7.78-7.78 2.81-2.81c.8-.78.8-2.07 0-2.86zM5.41 20L4 18.59l7.72-7.72 1.47 1.35L5.41 20z\"/>\n",
              "  </svg>\n",
              "      </button>\n",
              "      \n",
              "  <style>\n",
              "    .colab-df-container {\n",
              "      display:flex;\n",
              "      flex-wrap:wrap;\n",
              "      gap: 12px;\n",
              "    }\n",
              "\n",
              "    .colab-df-convert {\n",
              "      background-color: #E8F0FE;\n",
              "      border: none;\n",
              "      border-radius: 50%;\n",
              "      cursor: pointer;\n",
              "      display: none;\n",
              "      fill: #1967D2;\n",
              "      height: 32px;\n",
              "      padding: 0 0 0 0;\n",
              "      width: 32px;\n",
              "    }\n",
              "\n",
              "    .colab-df-convert:hover {\n",
              "      background-color: #E2EBFA;\n",
              "      box-shadow: 0px 1px 2px rgba(60, 64, 67, 0.3), 0px 1px 3px 1px rgba(60, 64, 67, 0.15);\n",
              "      fill: #174EA6;\n",
              "    }\n",
              "\n",
              "    [theme=dark] .colab-df-convert {\n",
              "      background-color: #3B4455;\n",
              "      fill: #D2E3FC;\n",
              "    }\n",
              "\n",
              "    [theme=dark] .colab-df-convert:hover {\n",
              "      background-color: #434B5C;\n",
              "      box-shadow: 0px 1px 3px 1px rgba(0, 0, 0, 0.15);\n",
              "      filter: drop-shadow(0px 1px 2px rgba(0, 0, 0, 0.3));\n",
              "      fill: #FFFFFF;\n",
              "    }\n",
              "  </style>\n",
              "\n",
              "      <script>\n",
              "        const buttonEl =\n",
              "          document.querySelector('#df-1cc75072-688f-43f1-80c2-4cf6d6ceac3c button.colab-df-convert');\n",
              "        buttonEl.style.display =\n",
              "          google.colab.kernel.accessAllowed ? 'block' : 'none';\n",
              "\n",
              "        async function convertToInteractive(key) {\n",
              "          const element = document.querySelector('#df-1cc75072-688f-43f1-80c2-4cf6d6ceac3c');\n",
              "          const dataTable =\n",
              "            await google.colab.kernel.invokeFunction('convertToInteractive',\n",
              "                                                     [key], {});\n",
              "          if (!dataTable) return;\n",
              "\n",
              "          const docLinkHtml = 'Like what you see? Visit the ' +\n",
              "            '<a target=\"_blank\" href=https://colab.research.google.com/notebooks/data_table.ipynb>data table notebook</a>'\n",
              "            + ' to learn more about interactive tables.';\n",
              "          element.innerHTML = '';\n",
              "          dataTable['output_type'] = 'display_data';\n",
              "          await google.colab.output.renderOutput(dataTable, element);\n",
              "          const docLink = document.createElement('div');\n",
              "          docLink.innerHTML = docLinkHtml;\n",
              "          element.appendChild(docLink);\n",
              "        }\n",
              "      </script>\n",
              "    </div>\n",
              "  </div>\n",
              "  "
            ]
          },
          "metadata": {},
          "execution_count": 28
        }
      ],
      "source": [
        "pd.set_option('display.max_colwidth',1)\n",
        "df_bigram = pd.DataFrame({\"Correct Sentence\":test_corpus, \"Log Probability Correct\":log_prob_bigram_correct})\n",
        "df_bigram.head()"
      ],
      "id": "6fdd6675-64d0-4243-9852-5d572b3c519d"
    },
    {
      "cell_type": "code",
      "execution_count": null,
      "metadata": {
        "id": "60d7ab5e-2158-45b3-8107-9b2fdc1315b1"
      },
      "outputs": [],
      "source": [
        "sum_prob = 0\n",
        "log_prob_trigram_correct=[]\n",
        "for sent in test_corpus:\n",
        "    # This was wrong in trigram we need 2 starts not 1\n",
        "    sent = ['<s>'] + ['<s>']  + sent + ['<e>'] + ['<e>']\n",
        "    for idx in range(2,len(sent)):\n",
        "        trigram_prob = calc_tri_prob(word1=sent[idx-2], word2=sent[idx-1], word3=sent[idx], alpha=best_alpha_tri, trigram_counter=trigram_counter, bigram_counter=bigram_counter, vocabulary_length=vocabulary_length)\n",
        "        sum_prob += math.log2(trigram_prob)  \n",
        "    log_prob_trigram_correct.append(sum_prob)\n",
        "    sum_prob = 0"
      ],
      "id": "60d7ab5e-2158-45b3-8107-9b2fdc1315b1"
    },
    {
      "cell_type": "code",
      "execution_count": null,
      "metadata": {
        "id": "55c439b2-2d02-4157-a4eb-1e328c03eb35",
        "colab": {
          "base_uri": "https://localhost:8080/",
          "height": 285
        },
        "outputId": "3494b07f-1b28-4d47-d9b5-b5a125356fe2"
      },
      "outputs": [
        {
          "output_type": "execute_result",
          "data": {
            "text/plain": [
              "                                                                                                                                         Correct Sentence  \\\n",
              "0  [how, came, they, acquainted, ?]                                                                                                                         \n",
              "1  [for, himself, .]                                                                                                                                        \n",
              "2  [talbot, for, ever, !]                                                                                                                                   \n",
              "3  [UNK, UNK, why, do, you, shew, me, this, ?]                                                                                                              \n",
              "4  [the, horse, kept, his, good, pace, and, by, noon, the, towers, of, the, castle, stood, out, against, the, sky, much, nearer, and, more, beautiful, .]   \n",
              "\n",
              "   Log Probability Correct  \n",
              "0 -45.045827                \n",
              "1 -15.487781                \n",
              "2 -13.115277                \n",
              "3 -99.544735                \n",
              "4 -281.578390               "
            ],
            "text/html": [
              "\n",
              "  <div id=\"df-1eb9f022-18d3-4d6a-84ad-402543a1bf57\">\n",
              "    <div class=\"colab-df-container\">\n",
              "      <div>\n",
              "<style scoped>\n",
              "    .dataframe tbody tr th:only-of-type {\n",
              "        vertical-align: middle;\n",
              "    }\n",
              "\n",
              "    .dataframe tbody tr th {\n",
              "        vertical-align: top;\n",
              "    }\n",
              "\n",
              "    .dataframe thead th {\n",
              "        text-align: right;\n",
              "    }\n",
              "</style>\n",
              "<table border=\"1\" class=\"dataframe\">\n",
              "  <thead>\n",
              "    <tr style=\"text-align: right;\">\n",
              "      <th></th>\n",
              "      <th>Correct Sentence</th>\n",
              "      <th>Log Probability Correct</th>\n",
              "    </tr>\n",
              "  </thead>\n",
              "  <tbody>\n",
              "    <tr>\n",
              "      <th>0</th>\n",
              "      <td>[how, came, they, acquainted, ?]</td>\n",
              "      <td>-45.045827</td>\n",
              "    </tr>\n",
              "    <tr>\n",
              "      <th>1</th>\n",
              "      <td>[for, himself, .]</td>\n",
              "      <td>-15.487781</td>\n",
              "    </tr>\n",
              "    <tr>\n",
              "      <th>2</th>\n",
              "      <td>[talbot, for, ever, !]</td>\n",
              "      <td>-13.115277</td>\n",
              "    </tr>\n",
              "    <tr>\n",
              "      <th>3</th>\n",
              "      <td>[UNK, UNK, why, do, you, shew, me, this, ?]</td>\n",
              "      <td>-99.544735</td>\n",
              "    </tr>\n",
              "    <tr>\n",
              "      <th>4</th>\n",
              "      <td>[the, horse, kept, his, good, pace, and, by, noon, the, towers, of, the, castle, stood, out, against, the, sky, much, nearer, and, more, beautiful, .]</td>\n",
              "      <td>-281.578390</td>\n",
              "    </tr>\n",
              "  </tbody>\n",
              "</table>\n",
              "</div>\n",
              "      <button class=\"colab-df-convert\" onclick=\"convertToInteractive('df-1eb9f022-18d3-4d6a-84ad-402543a1bf57')\"\n",
              "              title=\"Convert this dataframe to an interactive table.\"\n",
              "              style=\"display:none;\">\n",
              "        \n",
              "  <svg xmlns=\"http://www.w3.org/2000/svg\" height=\"24px\"viewBox=\"0 0 24 24\"\n",
              "       width=\"24px\">\n",
              "    <path d=\"M0 0h24v24H0V0z\" fill=\"none\"/>\n",
              "    <path d=\"M18.56 5.44l.94 2.06.94-2.06 2.06-.94-2.06-.94-.94-2.06-.94 2.06-2.06.94zm-11 1L8.5 8.5l.94-2.06 2.06-.94-2.06-.94L8.5 2.5l-.94 2.06-2.06.94zm10 10l.94 2.06.94-2.06 2.06-.94-2.06-.94-.94-2.06-.94 2.06-2.06.94z\"/><path d=\"M17.41 7.96l-1.37-1.37c-.4-.4-.92-.59-1.43-.59-.52 0-1.04.2-1.43.59L10.3 9.45l-7.72 7.72c-.78.78-.78 2.05 0 2.83L4 21.41c.39.39.9.59 1.41.59.51 0 1.02-.2 1.41-.59l7.78-7.78 2.81-2.81c.8-.78.8-2.07 0-2.86zM5.41 20L4 18.59l7.72-7.72 1.47 1.35L5.41 20z\"/>\n",
              "  </svg>\n",
              "      </button>\n",
              "      \n",
              "  <style>\n",
              "    .colab-df-container {\n",
              "      display:flex;\n",
              "      flex-wrap:wrap;\n",
              "      gap: 12px;\n",
              "    }\n",
              "\n",
              "    .colab-df-convert {\n",
              "      background-color: #E8F0FE;\n",
              "      border: none;\n",
              "      border-radius: 50%;\n",
              "      cursor: pointer;\n",
              "      display: none;\n",
              "      fill: #1967D2;\n",
              "      height: 32px;\n",
              "      padding: 0 0 0 0;\n",
              "      width: 32px;\n",
              "    }\n",
              "\n",
              "    .colab-df-convert:hover {\n",
              "      background-color: #E2EBFA;\n",
              "      box-shadow: 0px 1px 2px rgba(60, 64, 67, 0.3), 0px 1px 3px 1px rgba(60, 64, 67, 0.15);\n",
              "      fill: #174EA6;\n",
              "    }\n",
              "\n",
              "    [theme=dark] .colab-df-convert {\n",
              "      background-color: #3B4455;\n",
              "      fill: #D2E3FC;\n",
              "    }\n",
              "\n",
              "    [theme=dark] .colab-df-convert:hover {\n",
              "      background-color: #434B5C;\n",
              "      box-shadow: 0px 1px 3px 1px rgba(0, 0, 0, 0.15);\n",
              "      filter: drop-shadow(0px 1px 2px rgba(0, 0, 0, 0.3));\n",
              "      fill: #FFFFFF;\n",
              "    }\n",
              "  </style>\n",
              "\n",
              "      <script>\n",
              "        const buttonEl =\n",
              "          document.querySelector('#df-1eb9f022-18d3-4d6a-84ad-402543a1bf57 button.colab-df-convert');\n",
              "        buttonEl.style.display =\n",
              "          google.colab.kernel.accessAllowed ? 'block' : 'none';\n",
              "\n",
              "        async function convertToInteractive(key) {\n",
              "          const element = document.querySelector('#df-1eb9f022-18d3-4d6a-84ad-402543a1bf57');\n",
              "          const dataTable =\n",
              "            await google.colab.kernel.invokeFunction('convertToInteractive',\n",
              "                                                     [key], {});\n",
              "          if (!dataTable) return;\n",
              "\n",
              "          const docLinkHtml = 'Like what you see? Visit the ' +\n",
              "            '<a target=\"_blank\" href=https://colab.research.google.com/notebooks/data_table.ipynb>data table notebook</a>'\n",
              "            + ' to learn more about interactive tables.';\n",
              "          element.innerHTML = '';\n",
              "          dataTable['output_type'] = 'display_data';\n",
              "          await google.colab.output.renderOutput(dataTable, element);\n",
              "          const docLink = document.createElement('div');\n",
              "          docLink.innerHTML = docLinkHtml;\n",
              "          element.appendChild(docLink);\n",
              "        }\n",
              "      </script>\n",
              "    </div>\n",
              "  </div>\n",
              "  "
            ]
          },
          "metadata": {},
          "execution_count": 30
        }
      ],
      "source": [
        "pd.set_option('display.max_colwidth',1)\n",
        "df_trigram = pd.DataFrame({\"Correct Sentence\":test_corpus, \"Log Probability Correct\":log_prob_trigram_correct})\n",
        "df_trigram.head()"
      ],
      "id": "55c439b2-2d02-4157-a4eb-1e328c03eb35"
    },
    {
      "cell_type": "markdown",
      "source": [
        "### Bigram model"
      ],
      "metadata": {
        "id": "sdWRux-FtjXM"
      },
      "id": "sdWRux-FtjXM"
    },
    {
      "cell_type": "code",
      "source": [
        "for i in bigram_counter.items():\n",
        "  if i[1]==0:\n",
        "    print(i)"
      ],
      "metadata": {
        "id": "oJXaWJ2NNKhk"
      },
      "id": "oJXaWJ2NNKhk",
      "execution_count": null,
      "outputs": []
    },
    {
      "cell_type": "code",
      "execution_count": null,
      "metadata": {
        "id": "30b31bf0-d074-4151-84c0-3e78698f93a4",
        "colab": {
          "base_uri": "https://localhost:8080/"
        },
        "outputId": "2744f15b-27b1-4c93-a727-e7244f423a54"
      },
      "outputs": [
        {
          "output_type": "stream",
          "name": "stdout",
          "text": [
            "Language Cross Entropy: 8.415\n",
            "Language Perplexity: 341.395\n"
          ]
        }
      ],
      "source": [
        "test_sequence = []\n",
        "for sent in test_corpus:\n",
        "    test_sequence += ['<s>']  + sent + ['<e>']\n",
        "\n",
        "sum_prob = 0\n",
        "bigram_cnt = 0\n",
        "for idx in range(1,len(test_sequence)):\n",
        "    if test_sequence[idx] != '<s>':\n",
        "        bigram_prob = calc_bi_prob(word1=test_sequence[idx-1], word2=test_sequence[idx], alpha=best_alpha_bi, bigram_counter=bigram_counter, unigram_counter=unigram_counter, vocabulary_length=vocabulary_length)\n",
        "        sum_prob += math.log2(bigram_prob)\n",
        "        bigram_cnt+=1\n",
        "        \n",
        "HC = -sum_prob / bigram_cnt\n",
        "perpl = math.pow(2,HC)\n",
        "#print(sum_prob)\n",
        "#print(bigram_cnt)\n",
        "print(\"Language Cross Entropy: {0:.3f}\".format(HC))\n",
        "print(\"Language Perplexity: {0:.3f}\".format(perpl))"
      ],
      "id": "30b31bf0-d074-4151-84c0-3e78698f93a4"
    },
    {
      "cell_type": "markdown",
      "source": [
        "### Trigram model"
      ],
      "metadata": {
        "id": "mFknys57tl3p"
      },
      "id": "mFknys57tl3p"
    },
    {
      "cell_type": "code",
      "execution_count": null,
      "metadata": {
        "id": "836ece14-9072-4ab6-86f9-30c82da65af4",
        "colab": {
          "base_uri": "https://localhost:8080/"
        },
        "outputId": "c0eb37dd-255f-49ab-9ae6-90b245a0f0f3"
      },
      "outputs": [
        {
          "output_type": "stream",
          "name": "stdout",
          "text": [
            "Language Cross Entropy: 9.431\n",
            "Language Perplexity: 690.201\n"
          ]
        }
      ],
      "source": [
        "test_sequence = []\n",
        "for sent in test_corpus:\n",
        "    test_sequence += ['<s>'] + ['<s>'] + sent + ['<e>'] + ['<e>']\n",
        "\n",
        "sum_prob = 0\n",
        "trigram_cnt = 0\n",
        "for idx in range(2,len(test_sequence)):\n",
        "    if test_sequence[idx] != '<s>':\n",
        "        trigram_prob = calc_tri_prob(word1=test_sequence[idx-2], word2=test_sequence[idx-1], word3=test_sequence[idx], alpha=best_alpha_tri, trigram_counter=trigram_counter, bigram_counter=bigram_counter, vocabulary_length=vocabulary_length)\n",
        "        sum_prob += math.log2(trigram_prob)\n",
        "        trigram_cnt+=1\n",
        "        \n",
        "HC = -sum_prob / trigram_cnt\n",
        "perpl = math.pow(2,HC)\n",
        "#print(sum_prob)\n",
        "#print(trigram_cnt)\n",
        "print(\"Language Cross Entropy: {0:.3f}\".format(HC))\n",
        "print(\"Language Perplexity: {0:.3f}\".format(perpl))"
      ],
      "id": "836ece14-9072-4ab6-86f9-30c82da65af4"
    },
    {
      "cell_type": "markdown",
      "metadata": {
        "id": "aa289903-0a5e-4e60-89f5-2a0bf5807271"
      },
      "source": [
        "# (iii) Spelling Corrector"
      ],
      "id": "aa289903-0a5e-4e60-89f5-2a0bf5807271"
    },
    {
      "cell_type": "markdown",
      "source": [
        "* In this section we will develop a  context-aware spelling corrector for both spelling and grammatical errors using our bigram language model, a beam search decoder,\n",
        "and the formulae of slide 19"
      ],
      "metadata": {
        "id": "ZA8zm3x22X20"
      },
      "id": "ZA8zm3x22X20"
    },
    {
      "cell_type": "markdown",
      "source": [
        "we are updating the unigram counter for the start symbol < s > in order for the bigram probs to be calculated correctly."
      ],
      "metadata": {
        "id": "Lv6uK2XM3KqF"
      },
      "id": "Lv6uK2XM3KqF"
    },
    {
      "cell_type": "code",
      "source": [
        "unigram_counter[('<s>',)] = len(train_corpus)\n",
        "bigram_counter[('<s>','<s>')] = len(train_corpus)"
      ],
      "metadata": {
        "id": "tz7KIa2X29Yo"
      },
      "id": "tz7KIa2X29Yo",
      "execution_count": null,
      "outputs": []
    },
    {
      "cell_type": "markdown",
      "source": [
        "## Beam search decoder"
      ],
      "metadata": {
        "id": "mC_v9RMga8kR"
      },
      "id": "mC_v9RMga8kR"
    },
    {
      "cell_type": "code",
      "source": [
        "# beam search decoder function\n",
        "def beam_search(sent, l1, l2, k_init, topk_init, printing=True):\n",
        "    predicted_sent = list()\n",
        "    cumulative_ED_norm = [1] * k_init\n",
        "    cumulative_bigram_prob_norm = [1] * k_init\n",
        "    output_seq = [[] for x in range(k_init)]\n",
        "    output_seq_temp = [[] for x in range(k_init)]\n",
        "    choice = [['<s>'] for x in range(k_init)]\n",
        "    \n",
        "    # loop through each word in input sentence\n",
        "    for idx in range(1,len(sent)):\n",
        "        word_ED = list()\n",
        "        word_ED_norm = list()\n",
        "        bigram_prob = list()\n",
        "        criteria = list()\n",
        "        cumulative_ED_norm_temp = list()\n",
        "        cumulative_bigram_prob_norm_temp = list()\n",
        "      \n",
        "        if idx==len(sent)-1:\n",
        "            k=1\n",
        "            topk=1\n",
        "        elif idx==1:\n",
        "            k=1\n",
        "            topk=topk_init\n",
        "        else:\n",
        "            k=k_init\n",
        "            topk=topk_init\n",
        "      \n",
        "        # loop k times to find top probabilities from k previous selections\n",
        "        for i in range(k):\n",
        "          \n",
        "            # loop through each word in vocabulary\n",
        "            for word in vocabulary:\n",
        "                # edit distance for P(w|t)\n",
        "                word_ED.append(1/(nltk.edit_distance(sent[idx], word)+1))\n",
        "                # for the first iteration begin with the <s> symbol\n",
        "                if idx==1:\n",
        "                    bigram_prob.append(calc_bi_prob(word1=sent[0],\n",
        "                                                    word2=word, \n",
        "                                                    alpha=best_alpha_bi, \n",
        "                                                    bigram_counter=bigram_counter, \n",
        "                                                    unigram_counter=unigram_counter, \n",
        "                                                    vocabulary_length=vocabulary_length))\n",
        "                # else use the previously selected k choices\n",
        "                else:\n",
        "                    bigram_prob.append(calc_bi_prob(word1=choice[i][0], \n",
        "                                                    word2=word, \n",
        "                                                    alpha=best_alpha_bi, \n",
        "                                                    bigram_counter=bigram_counter, \n",
        "                                                    unigram_counter=unigram_counter, \n",
        "                                                    vocabulary_length=vocabulary_length))\n",
        "            # normalize to sum to 1\n",
        "            word_ED_norm = softmax(word_ED)\n",
        "            bigram_prob_norm = softmax(bigram_prob)\n",
        "            \n",
        "            cumulative_ED_norm_temp = np.multiply(np.array(word_ED_norm),cumulative_ED_norm[i])\n",
        "            cumulative_bigram_prob_norm_temp = np.multiply(np.array(bigram_prob_norm),cumulative_bigram_prob_norm[i])\n",
        "            \n",
        "            # zip the argmax criterion for each vocabulary word, the vocabulary word and the k iteration from which it originates \n",
        "            criteria += list(zip((l1 * np.log10(np.array(cumulative_bigram_prob_norm_temp)) + l2 * np.log10(np.array(cumulative_ED_norm_temp))),\n",
        "                                (np.array(cumulative_bigram_prob_norm_temp)),\n",
        "                                (np.array(cumulative_ED_norm_temp)),\n",
        "                                vocabulary,\n",
        "                                [i for x in vocabulary]))\n",
        "        # sort to find the top k\n",
        "        criteria_sorted = sorted(criteria,key=lambda k: k[0], reverse=True)[:topk]\n",
        "      \n",
        "        # save the k choices [word, from which k it originates, the previous word]\n",
        "        choice = [[x[3],x[4],choice[x[4]][0],x[1],x[2]] for x in criteria_sorted]\n",
        "      \n",
        "        # append in output sequence\n",
        "        if idx==1:\n",
        "            for i in range(topk):\n",
        "                output_seq[i].append(choice[i][0])\n",
        "        else:\n",
        "            for i in range(topk):\n",
        "                output_seq_temp[i] = output_seq[choice[i][1]] + [choice[i][0]]\n",
        "            for i in range(topk):\n",
        "                output_seq[i] = output_seq_temp[i]\n",
        "        \n",
        "        # cumulative probs\n",
        "        for i in range(topk):\n",
        "            cumulative_ED_norm[i] = choice[i][4]\n",
        "            cumulative_bigram_prob_norm[i] = choice[i][3]\n",
        "        \n",
        "        \n",
        "        if printing:\n",
        "          print('============================================================')        \n",
        "          print(f'step = {idx}')\n",
        "          print(f'w = {sent[idx]}')\n",
        "          print(f'top {topk_init} selections: (l1*logbigramprob+l2*logEDprob , bigramprob, EDprob, selectedword, sequence)')\n",
        "          print(criteria_sorted)\n",
        "          print('choice: (selected word, previous sequence, previous word)')\n",
        "          print(choice)\n",
        "          print('output seq:')\n",
        "          print(output_seq)\n",
        "          print('\\n')\n",
        "\n",
        "    return output_seq\n",
        "\n",
        "\n",
        "# find and print the longest sequence since the last choice is only one    \n",
        "def FindMaxLength(lst):\n",
        "    maxList = max(lst, key = lambda i: len(i))\n",
        "    maxLength = len(maxList)\n",
        "      \n",
        "    return maxList, maxLength\n"
      ],
      "metadata": {
        "id": "pd1cXmv0anQY"
      },
      "id": "pd1cXmv0anQY",
      "execution_count": null,
      "outputs": []
    },
    {
      "cell_type": "markdown",
      "source": [
        "## $λ_1$ $λ_2$ hyperparameter tuning"
      ],
      "metadata": {
        "id": "Z_ASji9FbRmC"
      },
      "id": "Z_ASji9FbRmC"
    },
    {
      "cell_type": "code",
      "source": [
        "# initialize variables\n",
        "k_init = 3\n",
        "topk_init = 3\n",
        "l1_list = np.linspace(0.01,1,50)\n",
        "fuzz_ratio = [[] for x in range(2)]\n",
        "\n",
        "actual_phrase = \"in consequence of her sister's marriage, been mistress of his house from a very early period\"\n",
        "test_phrase = \"in consequencaae of her sistero's marriange, been moistress of hois house from a vry early period\"\n",
        "phrase_tokenized = nltk.word_tokenize(test_phrase)\n",
        "sent = ['<s>']  + phrase_tokenized\n",
        "\n",
        "for i, l1 in enumerate(l1_list):\n",
        "    output_seq = beam_search(sent=sent, l1=l1, l2=1-l1, k_init=k_init, topk_init=topk_init, printing=False)\n",
        "    fuzz_ratio[0].append(fuzz.ratio(\" \".join(FindMaxLength(output_seq)[0]), actual_phrase))\n",
        "\n",
        "best_l1a = l1_list[np.argmax(fuzz_ratio[0])]\n",
        "\n",
        "print(f\"The best fuzz ratio is : {round(np.max(fuzz_ratio[0]),3)} at l1= {np.round(best_l1a, 3)}, l2= {1-np.round(best_l1a, 3)}\")\n",
        "\n",
        "\n",
        "actual_phrase = \"Tomorrow will bring something new, so leave today as a memory\"\n",
        "test_phrase = \"Tomorrrow well bring somethiing new, so leav today as a memoory.\"\n",
        "phrase_tokenized = nltk.word_tokenize(test_phrase)\n",
        "sent = ['<s>']  + phrase_tokenized\n",
        "\n",
        "for i, l1 in enumerate(l1_list):\n",
        "    output_seq = beam_search(sent=sent, l1=l1, l2=1-l1, k_init=k_init, topk_init=topk_init, printing=False)\n",
        "    fuzz_ratio[1].append(fuzz.ratio(\" \".join(FindMaxLength(output_seq)[0]), actual_phrase))\n",
        "\n",
        "best_l1b = l1_list[np.argmax(fuzz_ratio[1])]\n",
        "\n",
        "print(f\"The best fuzz ratio is : {round(np.max(fuzz_ratio[1]),3)} at l1= {np.round(best_l1b, 3)}, l2= {1-np.round(best_l1b, 3)}\")"
      ],
      "metadata": {
        "id": "sClcI6GD1Yvn",
        "colab": {
          "base_uri": "https://localhost:8080/"
        },
        "outputId": "c1a5adee-6c7a-436d-e798-f6238e88ec3a"
      },
      "id": "sClcI6GD1Yvn",
      "execution_count": null,
      "outputs": [
        {
          "output_type": "stream",
          "name": "stdout",
          "text": [
            "The best fuzz ratio is : 98 at l1= 0.01, l2= 0.99\n",
            "The best fuzz ratio is : 93 at l1= 0.01, l2= 0.99\n"
          ]
        }
      ]
    },
    {
      "cell_type": "code",
      "source": [
        "# define plot parameters for bigram and trigram\n",
        "pos_best_l1a = np.argmax(fuzz_ratio[0])\n",
        "pos_best_l1b = np.argmax(fuzz_ratio[1])\n",
        "\n",
        "# Plot the results\n",
        "fig = plt.figure(figsize=(10,7))\n",
        "ax = fig.add_subplot(111)\n",
        "\n",
        "# plot\n",
        "ax.plot(l1_list, fuzz_ratio[0], label='test_sentence_1', color='blue')   \n",
        "#ax.scatter(l1_list[pos_best_l1a], fuzz_ratio[0][pos_best_l1a], c='r', label='best fuzz ratio point', marker='x', s=150)\n",
        "ax.set_xlabel('$λ_1$', fontsize=15)\n",
        "ax.set_ylabel('fuzz ratio', fontsize=15)\n",
        "\n",
        "ax.plot(l1_list, fuzz_ratio[1], label='test_sentence_2', color='orange')   \n",
        "#ax.scatter(l1_list[pos_best_l1b], fuzz_ratio[1][pos_best_l1b], c='r', label='best fuzz ratio point', marker='x', s=150)\n",
        "\n",
        "# set title and legend\n",
        "ax.set_title('fuzz ratio vs $λ_1$.', fontsize=18)\n",
        "_ = ax.legend(loc='upper right')"
      ],
      "metadata": {
        "colab": {
          "base_uri": "https://localhost:8080/",
          "height": 473
        },
        "id": "rvTQtntHQTMX",
        "outputId": "8821e161-0d3e-4c23-e1b2-2bfb024ed1c0"
      },
      "id": "rvTQtntHQTMX",
      "execution_count": null,
      "outputs": [
        {
          "output_type": "display_data",
          "data": {
            "text/plain": [
              "<Figure size 720x504 with 1 Axes>"
            ],
            "image/png": "[encoded data removed]"
          },
          "metadata": {
            "needs_background": "light"
          }
        }
      ]
    },
    {
      "cell_type": "markdown",
      "source": [
        "We will choose $λ_1$=0.3 and $λ_2$=0.7 since the fuzz ratio remains maximum with this choice and also we have both factors influencing the result."
      ],
      "metadata": {
        "id": "OuGRQoX2bx2R"
      },
      "id": "OuGRQoX2bx2R"
    },
    {
      "cell_type": "markdown",
      "source": [
        "#### Test cases"
      ],
      "metadata": {
        "id": "7-N5o027bf_5"
      },
      "id": "7-N5o027bf_5"
    },
    {
      "cell_type": "code",
      "execution_count": null,
      "metadata": {
        "id": "843740fc",
        "colab": {
          "base_uri": "https://localhost:8080/"
        },
        "outputId": "3bd3a1bd-1d0a-4df8-eb48-cc9538d0f583"
      },
      "outputs": [
        {
          "output_type": "stream",
          "name": "stdout",
          "text": [
            "============================================================\n",
            "step = 1\n",
            "w = in\n",
            "top 3 selections: (l1*logbigramprob+l2*logEDprob , bigramprob, EDprob, selectedword, sequence)\n",
            "[(-3.5181720994824053, 0.00017057579865039082, 0.0003880899487875159, 'in', 0), (-3.66171637585779, 0.00018201760167653328, 0.00023538845266593415, 'i', 0), (-3.6676443704550836, 0.00017392155338484563, 0.00023538845266593415, 'it', 0)]\n",
            "choice: (selected word, previous sequence, previous word)\n",
            "[['in', 0, '<s>', 0.00017057579865039082, 0.0003880899487875159], ['i', 0, '<s>', 0.00018201760167653328, 0.00023538845266593415], ['it', 0, '<s>', 0.00017392155338484563, 0.00023538845266593415]]\n",
            "output seq:\n",
            "[['in'], ['i'], ['it']]\n",
            "\n",
            "\n",
            "============================================================\n",
            "step = 2\n",
            "w = consequencaae\n",
            "top 3 selections: (l1*logbigramprob+l2*logEDprob , bigramprob, EDprob, selectedword, sequence)\n",
            "[(-7.215214438782736, 2.878019057461972e-08, 8.401712230042743e-08, 'consequence', 0), (-7.240682955540091, 2.875045742545241e-08, 7.729948410573697e-08, 'consequences', 0), (-7.255883262406705, 2.875045742545241e-08, 7.352954378010221e-08, 'consequently', 0)]\n",
            "choice: (selected word, previous sequence, previous word)\n",
            "[['consequence', 0, 'in', 2.878019057461972e-08, 8.401712230042743e-08], ['consequences', 0, 'in', 2.875045742545241e-08, 7.729948410573697e-08], ['consequently', 0, 'in', 2.875045742545241e-08, 7.352954378010221e-08]]\n",
            "output seq:\n",
            "[['in', 'consequence'], ['in', 'consequences'], ['in', 'consequently']]\n",
            "\n",
            "\n",
            "============================================================\n",
            "step = 3\n",
            "w = of\n",
            "top 3 selections: (l1*logbigramprob+l2*logEDprob , bigramprob, EDprob, selectedword, sequence)\n",
            "[(-10.721758047565391, 5.263740832922411e-12, 3.288014458311205e-11, 'of', 0), (-10.883682771678505, 4.8777811748195e-12, 1.994281578544172e-11, 'if', 0), (-10.883682771678505, 4.8777811748195e-12, 1.994281578544172e-11, 'or', 0)]\n",
            "choice: (selected word, previous sequence, previous word)\n",
            "[['of', 0, 'consequence', 5.263740832922411e-12, 3.288014458311205e-11], ['if', 0, 'consequence', 4.8777811748195e-12, 1.994281578544172e-11], ['or', 0, 'consequence', 4.8777811748195e-12, 1.994281578544172e-11]]\n",
            "output seq:\n",
            "[['in', 'consequence', 'of'], ['in', 'consequence', 'if'], ['in', 'consequence', 'or']]\n",
            "\n",
            "\n",
            "============================================================\n",
            "step = 4\n",
            "w = her\n",
            "top 3 selections: (l1*logbigramprob+l2*logEDprob , bigramprob, EDprob, selectedword, sequence)\n",
            "[(-14.239317667122886, 9.097816254539747e-16, 1.2714152211395988e-14, 'her', 0), (-14.394535428618699, 8.876086349095715e-16, 7.711523128464845e-15, 'hers', 0), (-14.39458253034514, 8.872878054218679e-16, 7.711523128464845e-15, 'here', 0)]\n",
            "choice: (selected word, previous sequence, previous word)\n",
            "[['her', 0, 'of', 9.097816254539747e-16, 1.2714152211395988e-14], ['hers', 0, 'of', 8.876086349095715e-16, 7.711523128464845e-15], ['here', 0, 'of', 8.872878054218679e-16, 7.711523128464845e-15]]\n",
            "output seq:\n",
            "[['in', 'consequence', 'of', 'her'], ['in', 'consequence', 'of', 'hers'], ['in', 'consequence', 'of', 'here']]\n",
            "\n",
            "\n",
            "============================================================\n",
            "step = 5\n",
            "w = sistero\n",
            "top 3 selections: (l1*logbigramprob+l2*logEDprob , bigramprob, EDprob, selectedword, sequence)\n",
            "[(-17.900028223784243, 1.5616712025089774e-19, 3.079082174421648e-18, 'sister', 0), (-17.902268782345935, 1.5350448656150845e-19, 3.079082174421648e-18, 'sisters', 0), (-17.97836084429766, 1.5339786482951664e-19, 2.3979916085807835e-18, 'master', 0)]\n",
            "choice: (selected word, previous sequence, previous word)\n",
            "[['sister', 0, 'her', 1.5616712025089774e-19, 3.079082174421648e-18], ['sisters', 0, 'her', 1.5350448656150845e-19, 3.079082174421648e-18], ['master', 0, 'her', 1.5339786482951664e-19, 2.3979916085807835e-18]]\n",
            "output seq:\n",
            "[['in', 'consequence', 'of', 'her', 'sister'], ['in', 'consequence', 'of', 'her', 'sisters'], ['in', 'consequence', 'of', 'her', 'master']]\n",
            "\n",
            "\n",
            "============================================================\n",
            "step = 6\n",
            "w = 's\n",
            "top 3 selections: (l1*logbigramprob+l2*logEDprob , bigramprob, EDprob, selectedword, sequence)\n",
            "[(-21.40343256510878, 2.913936682868073e-23, 1.2071124151894072e-21, \"'s\", 0), (-21.56693646131486, 2.667743183703177e-23, 7.321506895321415e-22, 'as', 0), (-21.567633481165764, 2.653509332618524e-23, 7.321506895321415e-22, 'is', 0)]\n",
            "choice: (selected word, previous sequence, previous word)\n",
            "[[\"'s\", 0, 'sister', 2.913936682868073e-23, 1.2071124151894072e-21], ['as', 0, 'sister', 2.667743183703177e-23, 7.321506895321415e-22], ['is', 0, 'sister', 2.653509332618524e-23, 7.321506895321415e-22]]\n",
            "output seq:\n",
            "[['in', 'consequence', 'of', 'her', 'sister', \"'s\"], ['in', 'consequence', 'of', 'her', 'sister', 'as'], ['in', 'consequence', 'of', 'her', 'sister', 'is']]\n",
            "\n",
            "\n",
            "============================================================\n",
            "step = 7\n",
            "w = marriange\n",
            "top 3 selections: (l1*logbigramprob+l2*logEDprob , bigramprob, EDprob, selectedword, sequence)\n",
            "[(-25.060221701103725, 4.919526166746159e-27, 2.9824509450059216e-25, 'marriage', 0), (-25.110676928388276, 4.927555022949144e-27, 2.524590220330256e-25, 'carriage', 0), (-25.111101852929934, 4.911510392595344e-27, 2.524590220330256e-25, 'marianne', 0)]\n",
            "choice: (selected word, previous sequence, previous word)\n",
            "[['marriage', 0, \"'s\", 4.919526166746159e-27, 2.9824509450059216e-25], ['carriage', 0, \"'s\", 4.927555022949144e-27, 2.524590220330256e-25], ['marianne', 0, \"'s\", 4.911510392595344e-27, 2.524590220330256e-25]]\n",
            "output seq:\n",
            "[['in', 'consequence', 'of', 'her', 'sister', \"'s\", 'marriage'], ['in', 'consequence', 'of', 'her', 'sister', \"'s\", 'carriage'], ['in', 'consequence', 'of', 'her', 'sister', \"'s\", 'marianne']]\n",
            "\n",
            "\n",
            "============================================================\n",
            "step = 8\n",
            "w = ,\n",
            "top 3 selections: (l1*logbigramprob+l2*logEDprob , bigramprob, EDprob, selectedword, sequence)\n",
            "[(-28.72136022735007, 8.63537152730492e-31, 7.143916631926662e-29, '.', 0), (-28.725882976577267, 8.340751775466016e-31, 7.143916631926662e-29, 'i', 0), (-28.725882976577267, 8.340751775466016e-31, 7.143916631926662e-29, '?', 0)]\n",
            "choice: (selected word, previous sequence, previous word)\n",
            "[['.', 0, 'marriage', 8.63537152730492e-31, 7.143916631926662e-29], ['i', 0, 'marriage', 8.340751775466016e-31, 7.143916631926662e-29], ['?', 0, 'marriage', 8.340751775466016e-31, 7.143916631926662e-29]]\n",
            "output seq:\n",
            "[['in', 'consequence', 'of', 'her', 'sister', \"'s\", 'marriage', '.'], ['in', 'consequence', 'of', 'her', 'sister', \"'s\", 'marriage', 'i'], ['in', 'consequence', 'of', 'her', 'sister', \"'s\", 'marriage', '?']]\n",
            "\n",
            "\n",
            "============================================================\n",
            "step = 9\n",
            "w = been\n",
            "top 3 selections: (l1*logbigramprob+l2*logEDprob , bigramprob, EDprob, selectedword, sequence)\n",
            "[(-32.24123252860315, 1.455724957591027e-34, 2.770982727302242e-32, 'been', 0), (-32.39323559726929, 1.455724957591027e-34, 1.6806859816429412e-32, 'keen', 0), (-32.39323559726929, 1.455724957591027e-34, 1.6806859816429412e-32, 'bee', 0)]\n",
            "choice: (selected word, previous sequence, previous word)\n",
            "[['been', 0, '.', 1.455724957591027e-34, 2.770982727302242e-32], ['keen', 0, '.', 1.455724957591027e-34, 1.6806859816429412e-32], ['bee', 0, '.', 1.455724957591027e-34, 1.6806859816429412e-32]]\n",
            "output seq:\n",
            "[['in', 'consequence', 'of', 'her', 'sister', \"'s\", 'marriage', '.', 'been'], ['in', 'consequence', 'of', 'her', 'sister', \"'s\", 'marriage', '.', 'keen'], ['in', 'consequence', 'of', 'her', 'sister', \"'s\", 'marriage', '.', 'bee']]\n",
            "\n",
            "\n",
            "============================================================\n",
            "step = 10\n",
            "w = moistress\n",
            "top 3 selections: (l1*logbigramprob+l2*logEDprob , bigramprob, EDprob, selectedword, sequence)\n",
            "[(-35.89814471444766, 2.457463416303349e-38, 6.84382365016117e-36, 'mistress', 0), (-35.94901389702707, 2.453665846794464e-38, 5.7931716482356087e-36, 'distress', 0), (-35.97434774180476, 2.453665846794464e-38, 5.3299752179481186e-36, 'noiseless', 0)]\n",
            "choice: (selected word, previous sequence, previous word)\n",
            "[['mistress', 0, 'been', 2.457463416303349e-38, 6.84382365016117e-36], ['distress', 0, 'been', 2.453665846794464e-38, 5.7931716482356087e-36], ['noiseless', 0, 'been', 2.453665846794464e-38, 5.3299752179481186e-36]]\n",
            "output seq:\n",
            "[['in', 'consequence', 'of', 'her', 'sister', \"'s\", 'marriage', '.', 'been', 'mistress'], ['in', 'consequence', 'of', 'her', 'sister', \"'s\", 'marriage', '.', 'been', 'distress'], ['in', 'consequence', 'of', 'her', 'sister', \"'s\", 'marriage', '.', 'been', 'noiseless']]\n",
            "\n",
            "\n",
            "============================================================\n",
            "step = 11\n",
            "w = of\n",
            "top 3 selections: (l1*logbigramprob+l2*logEDprob , bigramprob, EDprob, selectedword, sequence)\n",
            "[(-39.40325758588967, 4.544195617029556e-42, 2.6783339509531868e-39, 'of', 0), (-39.56581373608594, 4.190637355958413e-42, 1.6244916582023803e-39, 'if', 0), (-39.56732131916167, 4.142426421233547e-42, 1.6244916582023803e-39, 'o', 0)]\n",
            "choice: (selected word, previous sequence, previous word)\n",
            "[['of', 0, 'mistress', 4.544195617029556e-42, 2.6783339509531868e-39], ['if', 0, 'mistress', 4.190637355958413e-42, 1.6244916582023803e-39], ['o', 0, 'mistress', 4.142426421233547e-42, 1.6244916582023803e-39]]\n",
            "output seq:\n",
            "[['in', 'consequence', 'of', 'her', 'sister', \"'s\", 'marriage', '.', 'been', 'mistress', 'of'], ['in', 'consequence', 'of', 'her', 'sister', \"'s\", 'marriage', '.', 'been', 'mistress', 'if'], ['in', 'consequence', 'of', 'her', 'sister', \"'s\", 'marriage', '.', 'been', 'mistress', 'o']]\n",
            "\n",
            "\n",
            "============================================================\n",
            "step = 12\n",
            "w = hois\n",
            "top 3 selections: (l1*logbigramprob+l2*logEDprob , bigramprob, EDprob, selectedword, sequence)\n",
            "[(-43.06931779438594, 7.995975716988178e-46, 6.305854575900609e-43, 'his', 0), (-43.12381249921474, 7.76452243152317e-46, 5.337790658317722e-43, 'this', 0), (-43.12431295505819, 7.734755016576853e-46, 5.337790658317722e-43, 'him', 0)]\n",
            "choice: (selected word, previous sequence, previous word)\n",
            "[['his', 0, 'of', 7.995975716988178e-46, 6.305854575900609e-43], ['this', 0, 'of', 7.76452243152317e-46, 5.337790658317722e-43], ['him', 0, 'of', 7.734755016576853e-46, 5.337790658317722e-43]]\n",
            "output seq:\n",
            "[['in', 'consequence', 'of', 'her', 'sister', \"'s\", 'marriage', '.', 'been', 'mistress', 'of', 'his'], ['in', 'consequence', 'of', 'her', 'sister', \"'s\", 'marriage', '.', 'been', 'mistress', 'of', 'this'], ['in', 'consequence', 'of', 'her', 'sister', \"'s\", 'marriage', '.', 'been', 'mistress', 'of', 'him']]\n",
            "\n",
            "\n",
            "============================================================\n",
            "step = 13\n",
            "w = house\n",
            "top 3 selections: (l1*logbigramprob+l2*logEDprob , bigramprob, EDprob, selectedword, sequence)\n",
            "[(-46.58690407034317, 1.3513188022475829e-49, 2.461732356545409e-46, 'house', 0), (-46.73903861318521, 1.3499558720763534e-49, 1.4931161502514226e-46, 'horse', 0), (-46.739235824449054, 1.3479140538386473e-49, 1.4931161502514226e-46, 'rouse', 0)]\n",
            "choice: (selected word, previous sequence, previous word)\n",
            "[['house', 0, 'his', 1.3513188022475829e-49, 2.461732356545409e-46], ['horse', 0, 'his', 1.3499558720763534e-49, 1.4931161502514226e-46], ['rouse', 0, 'his', 1.3479140538386473e-49, 1.4931161502514226e-46]]\n",
            "output seq:\n",
            "[['in', 'consequence', 'of', 'her', 'sister', \"'s\", 'marriage', '.', 'been', 'mistress', 'of', 'his', 'house'], ['in', 'consequence', 'of', 'her', 'sister', \"'s\", 'marriage', '.', 'been', 'mistress', 'of', 'his', 'horse'], ['in', 'consequence', 'of', 'her', 'sister', \"'s\", 'marriage', '.', 'been', 'mistress', 'of', 'his', 'rouse']]\n",
            "\n",
            "\n",
            "============================================================\n",
            "step = 14\n",
            "w = from\n",
            "top 3 selections: (l1*logbigramprob+l2*logEDprob , bigramprob, EDprob, selectedword, sequence)\n",
            "[(-50.10325037222218, 2.292372377300321e-53, 9.63398188593634e-50, 'from', 0), (-50.25609017268357, 2.2776975815198967e-53, 5.843305388936529e-50, 'fro', 0), (-50.25609017268357, 2.2776975815198967e-53, 5.843305388936529e-50, 'frog', 0)]\n",
            "choice: (selected word, previous sequence, previous word)\n",
            "[['from', 0, 'house', 2.292372377300321e-53, 9.63398188593634e-50], ['fro', 0, 'house', 2.2776975815198967e-53, 5.843305388936529e-50], ['frog', 0, 'house', 2.2776975815198967e-53, 5.843305388936529e-50]]\n",
            "output seq:\n",
            "[['in', 'consequence', 'of', 'her', 'sister', \"'s\", 'marriage', '.', 'been', 'mistress', 'of', 'his', 'house', 'from'], ['in', 'consequence', 'of', 'her', 'sister', \"'s\", 'marriage', '.', 'been', 'mistress', 'of', 'his', 'house', 'fro'], ['in', 'consequence', 'of', 'her', 'sister', \"'s\", 'marriage', '.', 'been', 'mistress', 'of', 'his', 'house', 'frog']]\n",
            "\n",
            "\n",
            "============================================================\n",
            "step = 15\n",
            "w = a\n",
            "top 3 selections: (l1*logbigramprob+l2*logEDprob , bigramprob, EDprob, selectedword, sequence)\n",
            "[(-53.61677212482737, 3.995988038239549e-57, 3.761349979185438e-53, 'a', 0), (-53.77261536770598, 3.879927395762656e-57, 2.2813740842854436e-53, 'an', 0), (-53.77296447445257, 3.8695450721890515e-57, 2.2813740842854436e-53, '.', 0)]\n",
            "choice: (selected word, previous sequence, previous word)\n",
            "[['a', 0, 'from', 3.995988038239549e-57, 3.761349979185438e-53], ['an', 0, 'from', 3.879927395762656e-57, 2.2813740842854436e-53], ['.', 0, 'from', 3.8695450721890515e-57, 2.2813740842854436e-53]]\n",
            "output seq:\n",
            "[['in', 'consequence', 'of', 'her', 'sister', \"'s\", 'marriage', '.', 'been', 'mistress', 'of', 'his', 'house', 'from', 'a'], ['in', 'consequence', 'of', 'her', 'sister', \"'s\", 'marriage', '.', 'been', 'mistress', 'of', 'his', 'house', 'from', 'an'], ['in', 'consequence', 'of', 'her', 'sister', \"'s\", 'marriage', '.', 'been', 'mistress', 'of', 'his', 'house', 'from', '.']]\n",
            "\n",
            "\n",
            "============================================================\n",
            "step = 16\n",
            "w = vry\n",
            "top 3 selections: (l1*logbigramprob+l2*logEDprob , bigramprob, EDprob, selectedword, sequence)\n",
            "[(-57.283119553739034, 6.894820262450425e-61, 8.922000242108783e-57, 'very', 0), (-57.286058923285346, 6.741011232023875e-61, 8.922000242108783e-57, 'cry', 0), (-57.28613450707368, 6.737101723419908e-61, 8.922000242108783e-57, 'dry', 0)]\n",
            "choice: (selected word, previous sequence, previous word)\n",
            "[['very', 0, 'a', 6.894820262450425e-61, 8.922000242108783e-57], ['cry', 0, 'a', 6.741011232023875e-61, 8.922000242108783e-57], ['dry', 0, 'a', 6.737101723419908e-61, 8.922000242108783e-57]]\n",
            "output seq:\n",
            "[['in', 'consequence', 'of', 'her', 'sister', \"'s\", 'marriage', '.', 'been', 'mistress', 'of', 'his', 'house', 'from', 'a', 'very'], ['in', 'consequence', 'of', 'her', 'sister', \"'s\", 'marriage', '.', 'been', 'mistress', 'of', 'his', 'house', 'from', 'a', 'cry'], ['in', 'consequence', 'of', 'her', 'sister', \"'s\", 'marriage', '.', 'been', 'mistress', 'of', 'his', 'house', 'from', 'a', 'dry']]\n",
            "\n",
            "\n",
            "============================================================\n",
            "step = 17\n",
            "w = early\n",
            "top 3 selections: (l1*logbigramprob+l2*logEDprob , bigramprob, EDprob, selectedword, sequence)\n",
            "[(-60.799871910563695, 1.1700498844754471e-64, 3.486431273731441e-60, 'early', 0), (-60.95237229588909, 1.1655922626392252e-64, 2.1146274604990877e-60, 'nearly', 0), (-60.95275909773518, 1.1621369677501403e-64, 2.1146274604990877e-60, 'dearly', 0)]\n",
            "choice: (selected word, previous sequence, previous word)\n",
            "[['early', 0, 'very', 1.1700498844754471e-64, 3.486431273731441e-60], ['nearly', 0, 'very', 1.1655922626392252e-64, 2.1146274604990877e-60], ['dearly', 0, 'very', 1.1621369677501403e-64, 2.1146274604990877e-60]]\n",
            "output seq:\n",
            "[['in', 'consequence', 'of', 'her', 'sister', \"'s\", 'marriage', '.', 'been', 'mistress', 'of', 'his', 'house', 'from', 'a', 'very', 'early'], ['in', 'consequence', 'of', 'her', 'sister', \"'s\", 'marriage', '.', 'been', 'mistress', 'of', 'his', 'house', 'from', 'a', 'very', 'nearly'], ['in', 'consequence', 'of', 'her', 'sister', \"'s\", 'marriage', '.', 'been', 'mistress', 'of', 'his', 'house', 'from', 'a', 'very', 'dearly']]\n",
            "\n",
            "\n",
            "============================================================\n",
            "step = 18\n",
            "w = period\n",
            "top 3 selections: (l1*logbigramprob+l2*logEDprob , bigramprob, EDprob, selectedword, sequence)\n",
            "[(-64.31359680393102, 1.9900521396543572e-68, 1.3746923428261785e-63, 'period', 0)]\n",
            "choice: (selected word, previous sequence, previous word)\n",
            "[['period', 0, 'early', 1.9900521396543572e-68, 1.3746923428261785e-63]]\n",
            "output seq:\n",
            "[['in', 'consequence', 'of', 'her', 'sister', \"'s\", 'marriage', '.', 'been', 'mistress', 'of', 'his', 'house', 'from', 'a', 'very', 'early', 'period'], ['in', 'consequence', 'of', 'her', 'sister', \"'s\", 'marriage', '.', 'been', 'mistress', 'of', 'his', 'house', 'from', 'a', 'very', 'nearly'], ['in', 'consequence', 'of', 'her', 'sister', \"'s\", 'marriage', '.', 'been', 'mistress', 'of', 'his', 'house', 'from', 'a', 'very', 'dearly']]\n",
            "\n",
            "\n",
            "===== RESULTS ========================================\n",
            "test phrase:\n",
            "in consequencaae of her sistero's marriange, been moistress of hois house from a vry early period\n",
            "     --------\n",
            "selected sequence:\n",
            "in consequence of her sister 's marriage . been mistress of his house from a very early period\n"
          ]
        }
      ],
      "source": [
        "#input\n",
        "#test_phrase = 'and the philistnine sayd to david cme to me'\n",
        "#test_phrase = \"and the philistnine sayid to david cme to me\"\n",
        "test_phrase = \"in consequencaae of her sistero's marriange, been moistress of hois house from a vry early period\"\n",
        "#test_phrase = \"as this sirence continued ivery dayy made it appear more stange and more UNK with the dissposition of both.\"\n",
        "phrase_tokenized = nltk.word_tokenize(test_phrase)\n",
        "sent = ['<s>']  + phrase_tokenized\n",
        "\n",
        "#initialize params/vars\n",
        "k_init = 3\n",
        "topk_init = 3\n",
        "l1 = 0.3\n",
        "l2 = 0.7\n",
        "\n",
        "output_seq = beam_search(sent=sent, l1=l1, l2=l2, k_init=k_init, topk_init=topk_init, printing=True)\n",
        "#print(FindMaxLength(output_seq))\n",
        "\n",
        "print('===== RESULTS ========================================')\n",
        "print('test phrase:')\n",
        "print(test_phrase)\n",
        "print('     --------')\n",
        "print('selected sequence:')\n",
        "print(\" \".join(FindMaxLength(output_seq)[0]))"
      ],
      "id": "843740fc"
    },
    {
      "cell_type": "markdown",
      "source": [
        "## Testing the spelling corrector"
      ],
      "metadata": {
        "id": "bUfNSHKe-zKB"
      },
      "id": "bUfNSHKe-zKB"
    },
    {
      "cell_type": "code",
      "source": [
        "correct = [\"He strives to keep the best lawn in the neighborhood.\",\n",
        "\"He walked into the basement with the horror movie from the night before playing in his head.\",\n",
        "\"She was the type of girl who wanted to live in a pink house.\",\n",
        "\"As the rental car rolled to a stop on the dark road, her fear increased by the moment.\",\n",
        "\"There are few things better in life than a slice of pie.\",\n",
        "\"The stench from the feedlot permeated the car despite having the air conditioning on recycled air.\",\n",
        "\"He told us a very exciting adventure story.\",\n",
        "\"All you need to do is pick up the pen and begin.\",\n",
        "\"Peanut butter and jelly caused the elderly lady to think about her past.\",\n",
        "\"Green should have smelled more tranquil, but somehow it just tasted rotten.\",\n",
        "\"She opened up her third bottle of wine of the night.\",\n",
        "\"As the years pass by, we all know owners look more and more like their dogs.\",\n",
        "\"There's no reason a hula hoop can't also be a circus ring.\",\n",
        "\"Your girlfriend bought your favorite cookie crisp cereal but forgot to get milk.\",\n",
        "\"Greetings from the galaxy MACS0647-JD, or what we call home.\",\n",
        "\"The minute she landed she understood the reason this was a fly-over state.\",\n",
        "\"I liked their first two albums but changed my mind after that charity gig.\",\n",
        "\"The sunblock was handed to the girl before practice, but the burned skin was proof she did not apply it.\",\n",
        "\"It took me too long to realize that the ceiling hadn't been painted to look like the sky.\",\n",
        "\"He waited for the stop sign to turn to a go sign.\",\n",
        "\"He never understood why what, when, and where left out who.\",\n",
        "\"The stranger officiates the meal.\",\n",
        "\"Instead of a bachelorette party\",\n",
        "\"8% of 25 is the same as 25% of 8 and one of them is much easier to do in your head.\",\n",
        "\"She wrote him a long letter, but he didn't read it.\",\n",
        "\"Jeanne wished she has chosen the red button.\",\n",
        "\"Their argument could be heard across the parking lot.\",\n",
        "\"The near-death experience brought new ideas to light.\",\n",
        "\"It was getting dark, and we weren’t there yet.\",\n",
        "\"Yeah, I think it's a good environment for learning English.\"]\n",
        "\n",
        "wrong = [\"He strivess to keep then best lawn in the neighborhood.\",\n",
        "\"He walked into the basement with the horrror movie from the night before play in his head.\",\n",
        "\"She was thhe type of girl who want to live in a pink house.\",\n",
        "\"As the rentall car rolled to a stop on the dark road, her fear increased by the moment.\",\n",
        "\"There are few things better in life than a slice of pie.\",\n",
        "\"The stench from the feedlot permeated the car despite having the air conditioning on recycled air.\",\n",
        "\"He told us a verry exciting adventure story.\",\n",
        "\"All you need to do is pick up the pen and begin.\",\n",
        "\"Peanut butter and jelly caused the elderly lady to think about her past.\",\n",
        "\"Green should have smelled more tranquil, but somehow it just tasted rotten.\",\n",
        "\"She opened up her third bottle of wine of the night.\",\n",
        "\"As the years pass by, we all knnow owners look more and more like their dogs.\",\n",
        "\"There's no reason a hula hoop can't also be a circus ring.\",\n",
        "\"Your girlfriend boughht your favorite cookie crisp cereal but forgot to get milk.\",\n",
        "\"Greetings from the galaxy MACS0647-JD, or whhat we call home.\",\n",
        "\"Then minutes she landed she understoods the reasson this was a fly-over state.\",\n",
        "\"I liked their first two albums but changed my mind after that charity gig.\",\n",
        "\"The sunblock was handed to the girl beffore practice, but the burned skin was proof she dad not apply it.\",\n",
        "\"It took me too long to realize that the ceiling hadn't been painted to look like the sky.\",\n",
        "\"He waiter for the sttop sign to turn to a go sign.\",\n",
        "\"He never understood why what, when, annd whore left out who.\",\n",
        "\"The strangler officciates the meal.\",\n",
        "\"Instead of a bacheloreztte party\",\n",
        "\"8% of 25 is tqhe same as 25% of 8 and one of them is much easier to do in your head.\",\n",
        "\"She wrote him a long letter, but he didn't read it.\",\n",
        "\"Jeanne washed she has cheosen the red button.\",\n",
        "\"Their argument cloud be heard achross the parking lot.\",\n",
        "\"The near-death experience brought new ideals to light.\",\n",
        "\"It was getting dark, ankd we weren’t there yet.\",\n",
        "\"Yeah, I think it's an good enviranment for learnting English.\"]\n",
        "\n",
        "\n",
        "for actual_phrase, test_phrase in dict(zip(correct, wrong)).items():\n",
        "  phrase_tokenized = nltk.word_tokenize(test_phrase)\n",
        "  sent = ['<s>']  + phrase_tokenized\n",
        "  output_seq = beam_search(sent=sent, l1=0.01, l2=1-0.01, k_init=3, topk_init=3, printing=False)\n",
        "  print(\"Original Phrase:\\t\",actual_phrase)\n",
        "  print(\"Error induced Phrase:\\t\",test_phrase)\n",
        "  print(\"Corrected Phrase:\\t\",\" \".join(FindMaxLength(output_seq)[0]))\n",
        "  print('\\n')\n",
        "  "
      ],
      "metadata": {
        "colab": {
          "base_uri": "https://localhost:8080/"
        },
        "id": "-AkQHjl_CWoC",
        "outputId": "47745377-e355-4f78-da5d-6dd9b22ea182"
      },
      "id": "-AkQHjl_CWoC",
      "execution_count": null,
      "outputs": [
        {
          "output_type": "stream",
          "name": "stdout",
          "text": [
            "Original Phrase:\t He strives to keep the best lawn in the neighborhood.\n",
            "Error induced Phrase:\t He strivess to keep then best lawn in the neighborhood.\n",
            "Corrected Phrase:\t he strikes to keep then best lawn in the neighbourhood .\n",
            "\n",
            "\n",
            "Original Phrase:\t He walked into the basement with the horror movie from the night before playing in his head.\n",
            "Error induced Phrase:\t He walked into the basement with the horrror movie from the night before play in his head.\n",
            "Corrected Phrase:\t he walked into the pavement with the horror move from the night before play in his head .\n",
            "\n",
            "\n",
            "Original Phrase:\t She was the type of girl who wanted to live in a pink house.\n",
            "Error induced Phrase:\t She was thhe type of girl who want to live in a pink house.\n",
            "Corrected Phrase:\t the was the type of girl who want to live in a pink house .\n",
            "\n",
            "\n",
            "Original Phrase:\t As the rental car rolled to a stop on the dark road, her fear increased by the moment.\n",
            "Error induced Phrase:\t As the rentall car rolled to a stop on the dark road, her fear increased by the moment.\n",
            "Corrected Phrase:\t as the mental car rolled to a stop on the dark road . her fear increased by the moment .\n",
            "\n",
            "\n",
            "Original Phrase:\t There are few things better in life than a slice of pie.\n",
            "Error induced Phrase:\t There are few things better in life than a slice of pie.\n",
            "Corrected Phrase:\t there are few things better in life than a alice of pie .\n",
            "\n",
            "\n",
            "Original Phrase:\t The stench from the feedlot permeated the car despite having the air conditioning on recycled air.\n",
            "Error induced Phrase:\t The stench from the feedlot permeated the car despite having the air conditioning on recycled air.\n",
            "Corrected Phrase:\t the french from the feet permitted the car despite having the air condition on recalled air .\n",
            "\n",
            "\n",
            "Original Phrase:\t He told us a very exciting adventure story.\n",
            "Error induced Phrase:\t He told us a verry exciting adventure story.\n",
            "Corrected Phrase:\t he told us a very exciting adventure story .\n",
            "\n",
            "\n",
            "Original Phrase:\t All you need to do is pick up the pen and begin.\n",
            "Error induced Phrase:\t All you need to do is pick up the pen and begin.\n",
            "Corrected Phrase:\t all you need to do is pick up the pen and begin .\n",
            "\n",
            "\n",
            "Original Phrase:\t Peanut butter and jelly caused the elderly lady to think about her past.\n",
            "Error induced Phrase:\t Peanut butter and jelly caused the elderly lady to think about her past.\n",
            "Corrected Phrase:\t meant butter and jolly caused the elderly lady to think about her past .\n",
            "\n",
            "\n",
            "Original Phrase:\t Green should have smelled more tranquil, but somehow it just tasted rotten.\n",
            "Error induced Phrase:\t Green should have smelled more tranquil, but somehow it just tasted rotten.\n",
            "Corrected Phrase:\t green should have melted more tranquil . but somehow it just tasted often .\n",
            "\n",
            "\n",
            "Original Phrase:\t She opened up her third bottle of wine of the night.\n",
            "Error induced Phrase:\t She opened up her third bottle of wine of the night.\n",
            "Corrected Phrase:\t the opened up her third bottle of wine of the night .\n",
            "\n",
            "\n",
            "Original Phrase:\t As the years pass by, we all know owners look more and more like their dogs.\n",
            "Error induced Phrase:\t As the years pass by, we all knnow owners look more and more like their dogs.\n",
            "Corrected Phrase:\t as the years pass by a we all know owners look more and more like their dogs .\n",
            "\n",
            "\n",
            "Original Phrase:\t There's no reason a hula hoop can't also be a circus ring.\n",
            "Error induced Phrase:\t There's no reason a hula hoop can't also be a circus ring.\n",
            "Corrected Phrase:\t there 's no reason a hull hoops ca n't also be a circle ring .\n",
            "\n",
            "\n",
            "Original Phrase:\t Your girlfriend bought your favorite cookie crisp cereal but forgot to get milk.\n",
            "Error induced Phrase:\t Your girlfriend boughht your favorite cookie crisp cereal but forgot to get milk.\n",
            "Corrected Phrase:\t your friend bought your favourite looke grasp real but forgot to get milk .\n",
            "\n",
            "\n",
            "Original Phrase:\t Greetings from the galaxy MACS0647-JD, or what we call home.\n",
            "Error induced Phrase:\t Greetings from the galaxy MACS0647-JD, or whhat we call home.\n",
            "Corrected Phrase:\t meetings from the lady russell . or what we call home .\n",
            "\n",
            "\n",
            "Original Phrase:\t The minute she landed she understood the reason this was a fly-over state.\n",
            "Error induced Phrase:\t Then minutes she landed she understoods the reasson this was a fly-over state.\n",
            "Corrected Phrase:\t then minutes she landed she understood the reason this was a lover state .\n",
            "\n",
            "\n",
            "Original Phrase:\t I liked their first two albums but changed my mind after that charity gig.\n",
            "Error induced Phrase:\t I liked their first two albums but changed my mind after that charity gig.\n",
            "Corrected Phrase:\t i liked their first two plums but changed my mind after that charity wig .\n",
            "\n",
            "\n",
            "Original Phrase:\t The sunblock was handed to the girl before practice, but the burned skin was proof she did not apply it.\n",
            "Error induced Phrase:\t The sunblock was handed to the girl beffore practice, but the burned skin was proof she dad not apply it.\n",
            "Corrected Phrase:\t the block was handed to the girl before practice i but the burned skin was proof she had not apple it .\n",
            "\n",
            "\n",
            "Original Phrase:\t It took me too long to realize that the ceiling hadn't been painted to look like the sky.\n",
            "Error induced Phrase:\t It took me too long to realize that the ceiling hadn't been painted to look like the sky.\n",
            "Corrected Phrase:\t it took me too long to realized that the ceiling had n't been painted to look like the sky .\n",
            "\n",
            "\n",
            "Original Phrase:\t He waited for the stop sign to turn to a go sign.\n",
            "Error induced Phrase:\t He waiter for the sttop sign to turn to a go sign.\n",
            "Corrected Phrase:\t he waiter for the stop sign to turn to a go sign .\n",
            "\n",
            "\n",
            "Original Phrase:\t He never understood why what, when, and where left out who.\n",
            "Error induced Phrase:\t He never understood why what, when, annd whore left out who.\n",
            "Corrected Phrase:\t he never understood why what i when i and where left out who .\n",
            "\n",
            "\n",
            "Original Phrase:\t The stranger officiates the meal.\n",
            "Error induced Phrase:\t The strangler officciates the meal.\n",
            "Corrected Phrase:\t the stranger offices the real .\n",
            "\n",
            "\n",
            "Original Phrase:\t Instead of a bachelorette party\n",
            "Error induced Phrase:\t Instead of a bacheloreztte party\n",
            "Corrected Phrase:\t instead of a bracelet party\n",
            "\n",
            "\n",
            "Original Phrase:\t 8% of 25 is the same as 25% of 8 and one of them is much easier to do in your head.\n",
            "Error induced Phrase:\t 8% of 25 is tqhe same as 25% of 8 and one of them is much easier to do in your head.\n",
            "Corrected Phrase:\t i ? of a is the same as he . of a and one of them is much easier to do in your head .\n",
            "\n",
            "\n",
            "Original Phrase:\t She wrote him a long letter, but he didn't read it.\n",
            "Error induced Phrase:\t She wrote him a long letter, but he didn't read it.\n",
            "Corrected Phrase:\t the wrote him a long letter . but he did n't read it .\n",
            "\n",
            "\n",
            "Original Phrase:\t Jeanne wished she has chosen the red button.\n",
            "Error induced Phrase:\t Jeanne washed she has cheosen the red button.\n",
            "Corrected Phrase:\t anne washed she has chosen the red button .\n",
            "\n",
            "\n",
            "Original Phrase:\t Their argument could be heard across the parking lot.\n",
            "Error induced Phrase:\t Their argument cloud be heard achross the parking lot.\n",
            "Corrected Phrase:\t their argument cloud be heard across the parting lot .\n",
            "\n",
            "\n",
            "Original Phrase:\t The near-death experience brought new ideas to light.\n",
            "Error induced Phrase:\t The near-death experience brought new ideals to light.\n",
            "Corrected Phrase:\t the nearest experience brought new ideal to light .\n",
            "\n",
            "\n",
            "Original Phrase:\t It was getting dark, and we weren’t there yet.\n",
            "Error induced Phrase:\t It was getting dark, ankd we weren’t there yet.\n",
            "Corrected Phrase:\t it was getting dark . and we were a ' there yet .\n",
            "\n",
            "\n",
            "Original Phrase:\t Yeah, I think it's a good environment for learning English.\n",
            "Error induced Phrase:\t Yeah, I think it's an good enviranment for learnting English.\n",
            "Corrected Phrase:\t ah ! ' think it 's an good government for learning english .\n",
            "\n",
            "\n"
          ]
        }
      ]
    },
    {
      "cell_type": "code",
      "source": [
        ""
      ],
      "metadata": {
        "id": "g_4y7O-gI0cS"
      },
      "id": "g_4y7O-gI0cS",
      "execution_count": null,
      "outputs": []
    }
  ],
  "metadata": {
    "colab": {
      "collapsed_sections": [],
      "name": "Text_analytics_Exercise1_v3.ipynb",
      "provenance": []
    },
    "kernelspec": {
      "display_name": "Python 3 (ipykernel)",
      "language": "python",
      "name": "python3"
    },
    "language_info": {
      "codemirror_mode": {
        "name": "ipython",
        "version": 3
      },
      "file_extension": ".py",
      "mimetype": "text/x-python",
      "name": "python",
      "nbconvert_exporter": "python",
      "pygments_lexer": "ipython3",
      "version": "3.9.7"
    }
  },
  "nbformat": 4,
  "nbformat_minor": 5
}